{
  "nbformat": 4,
  "nbformat_minor": 0,
  "metadata": {
    "kernelspec": {
      "display_name": "Python 3",
      "language": "python",
      "name": "python3"
    },
    "language_info": {
      "codemirror_mode": {
        "name": "ipython",
        "version": 3
      },
      "file_extension": ".py",
      "mimetype": "text/x-python",
      "name": "python",
      "nbconvert_exporter": "python",
      "pygments_lexer": "ipython3",
      "version": "3.7.4"
    },
    "colab": {
      "name": "1.1-data_analysis.ipynb",
      "provenance": []
    }
  },
  "cells": [
    {
      "cell_type": "code",
      "metadata": {
        "id": "WyxvHPCAEUi6"
      },
      "source": [
        "import pandas as pd\n",
        "import numpy as np\n",
        "\n",
        "import matplotlib.pyplot as plt\n",
        "from matplotlib.patches import Patch\n",
        "\n",
        "import seaborn as sns\n",
        "sns.set(style=\"ticks\", context=\"talk\")\n",
        "plt.style.use(\"dark_background\")\n",
        "\n",
        "import plotly\n",
        "import plotly.express as px\n",
        "# set plotly template to dark\n",
        "plotly.io.templates.default = \"plotly_dark\"\n",
        "\n"
      ],
      "execution_count": null,
      "outputs": []
    },
    {
      "cell_type": "markdown",
      "metadata": {
        "id": "mC3GDLgsEUjG"
      },
      "source": [
        "# Data Preparation\n",
        "## Clean Data\n",
        "\n",
        "https://github.com/rfordatascience/tidytuesday"
      ]
    },
    {
      "cell_type": "markdown",
      "metadata": {
        "id": "Mt2yDQ7pEUjH"
      },
      "source": [
        "### Anime Dataset\n",
        "\n",
        "https://github.com/rfordatascience/tidytuesday/tree/master/data/2019/2019-04-23"
      ]
    },
    {
      "cell_type": "code",
      "metadata": {
        "id": "bAQm8fKdEUjH"
      },
      "source": [
        "raw_anime_df = pd.read_csv(\"https://raw.githubusercontent.com/rfordatascience/tidytuesday/master/data/2019/2019-04-23/raw_anime.csv\")"
      ],
      "execution_count": null,
      "outputs": []
    },
    {
      "cell_type": "code",
      "metadata": {
        "id": "-Xbg1CDTEUjI",
        "outputId": "02688309-018b-4bf1-f372-c6835615cabf"
      },
      "source": [
        "raw_anime_df.head()"
      ],
      "execution_count": null,
      "outputs": [
        {
          "output_type": "execute_result",
          "data": {
            "text/html": [
              "<div>\n",
              "<style scoped>\n",
              "    .dataframe tbody tr th:only-of-type {\n",
              "        vertical-align: middle;\n",
              "    }\n",
              "\n",
              "    .dataframe tbody tr th {\n",
              "        vertical-align: top;\n",
              "    }\n",
              "\n",
              "    .dataframe thead th {\n",
              "        text-align: right;\n",
              "    }\n",
              "</style>\n",
              "<table border=\"1\" class=\"dataframe\">\n",
              "  <thead>\n",
              "    <tr style=\"text-align: right;\">\n",
              "      <th></th>\n",
              "      <th>animeID</th>\n",
              "      <th>name</th>\n",
              "      <th>title_english</th>\n",
              "      <th>title_japanese</th>\n",
              "      <th>title_synonyms</th>\n",
              "      <th>type</th>\n",
              "      <th>source</th>\n",
              "      <th>producers</th>\n",
              "      <th>genre</th>\n",
              "      <th>studio</th>\n",
              "      <th>...</th>\n",
              "      <th>scored_by</th>\n",
              "      <th>rank</th>\n",
              "      <th>popularity</th>\n",
              "      <th>members</th>\n",
              "      <th>favorites</th>\n",
              "      <th>synopsis</th>\n",
              "      <th>background</th>\n",
              "      <th>premiered</th>\n",
              "      <th>broadcast</th>\n",
              "      <th>related</th>\n",
              "    </tr>\n",
              "  </thead>\n",
              "  <tbody>\n",
              "    <tr>\n",
              "      <td>0</td>\n",
              "      <td>1</td>\n",
              "      <td>Cowboy Bebop</td>\n",
              "      <td>Cowboy Bebop</td>\n",
              "      <td>カウボーイビバップ</td>\n",
              "      <td>[]</td>\n",
              "      <td>TV</td>\n",
              "      <td>Original</td>\n",
              "      <td>['Bandai Visual']</td>\n",
              "      <td>['Action', 'Adventure', 'Comedy', 'Drama', 'Sc...</td>\n",
              "      <td>['Sunrise']</td>\n",
              "      <td>...</td>\n",
              "      <td>405664.0</td>\n",
              "      <td>26.0</td>\n",
              "      <td>39.0</td>\n",
              "      <td>795733.0</td>\n",
              "      <td>43460.0</td>\n",
              "      <td>In the year 2071, humanity has colonized sever...</td>\n",
              "      <td>When Cowboy Bebop first aired in spring of 199...</td>\n",
              "      <td>Spring 1998</td>\n",
              "      <td>Saturdays at 01:00 (JST)</td>\n",
              "      <td>{'Adaptation': [{'mal_id': 173, 'type': 'manga...</td>\n",
              "    </tr>\n",
              "    <tr>\n",
              "      <td>1</td>\n",
              "      <td>5</td>\n",
              "      <td>Cowboy Bebop: Tengoku no Tobira</td>\n",
              "      <td>Cowboy Bebop: The Movie</td>\n",
              "      <td>カウボーイビバップ 天国の扉</td>\n",
              "      <td>[\"Cowboy Bebop: Knockin' on Heaven's Door\"]</td>\n",
              "      <td>Movie</td>\n",
              "      <td>Original</td>\n",
              "      <td>['Sunrise', 'Bandai Visual']</td>\n",
              "      <td>['Action', 'Drama', 'Mystery', 'Sci-Fi', 'Space']</td>\n",
              "      <td>['Bones']</td>\n",
              "      <td>...</td>\n",
              "      <td>120243.0</td>\n",
              "      <td>164.0</td>\n",
              "      <td>449.0</td>\n",
              "      <td>197791.0</td>\n",
              "      <td>776.0</td>\n",
              "      <td>Another day, another bounty—such is the life o...</td>\n",
              "      <td>NaN</td>\n",
              "      <td>NaN</td>\n",
              "      <td>NaN</td>\n",
              "      <td>{'Parent story': [{'mal_id': 1, 'type': 'anime...</td>\n",
              "    </tr>\n",
              "    <tr>\n",
              "      <td>2</td>\n",
              "      <td>6</td>\n",
              "      <td>Trigun</td>\n",
              "      <td>Trigun</td>\n",
              "      <td>トライガン</td>\n",
              "      <td>[]</td>\n",
              "      <td>TV</td>\n",
              "      <td>Manga</td>\n",
              "      <td>['Victor Entertainment']</td>\n",
              "      <td>['Action', 'Sci-Fi', 'Adventure', 'Comedy', 'D...</td>\n",
              "      <td>['Madhouse']</td>\n",
              "      <td>...</td>\n",
              "      <td>212537.0</td>\n",
              "      <td>255.0</td>\n",
              "      <td>146.0</td>\n",
              "      <td>408548.0</td>\n",
              "      <td>10432.0</td>\n",
              "      <td>Vash the Stampede is the man with a $$60,000,0...</td>\n",
              "      <td>The Japanese release by Victor Entertainment h...</td>\n",
              "      <td>Spring 1998</td>\n",
              "      <td>Thursdays at 01:15 (JST)</td>\n",
              "      <td>{'Adaptation': [{'mal_id': 703, 'type': 'manga...</td>\n",
              "    </tr>\n",
              "    <tr>\n",
              "      <td>3</td>\n",
              "      <td>7</td>\n",
              "      <td>Witch Hunter Robin</td>\n",
              "      <td>Witch Hunter Robin</td>\n",
              "      <td>Witch Hunter ROBIN</td>\n",
              "      <td>['WHR']</td>\n",
              "      <td>TV</td>\n",
              "      <td>Original</td>\n",
              "      <td>['Bandai Visual']</td>\n",
              "      <td>['Action', 'Magic', 'Police', 'Supernatural', ...</td>\n",
              "      <td>['Sunrise']</td>\n",
              "      <td>...</td>\n",
              "      <td>32837.0</td>\n",
              "      <td>2371.0</td>\n",
              "      <td>1171.0</td>\n",
              "      <td>79397.0</td>\n",
              "      <td>537.0</td>\n",
              "      <td>Witches are individuals with special powers li...</td>\n",
              "      <td>NaN</td>\n",
              "      <td>Summer 2002</td>\n",
              "      <td>Tuesdays at Unknown</td>\n",
              "      <td>{}</td>\n",
              "    </tr>\n",
              "    <tr>\n",
              "      <td>4</td>\n",
              "      <td>8</td>\n",
              "      <td>Bouken Ou Beet</td>\n",
              "      <td>Beet the Vandel Buster</td>\n",
              "      <td>冒険王ビィト</td>\n",
              "      <td>['Adventure King Beet']</td>\n",
              "      <td>TV</td>\n",
              "      <td>Manga</td>\n",
              "      <td>['TV Tokyo', 'Dentsu']</td>\n",
              "      <td>['Adventure', 'Fantasy', 'Shounen', 'Supernatu...</td>\n",
              "      <td>['Toei Animation']</td>\n",
              "      <td>...</td>\n",
              "      <td>4894.0</td>\n",
              "      <td>3544.0</td>\n",
              "      <td>3704.0</td>\n",
              "      <td>11708.0</td>\n",
              "      <td>14.0</td>\n",
              "      <td>It is the dark century and the people are suff...</td>\n",
              "      <td>NaN</td>\n",
              "      <td>Fall 2004</td>\n",
              "      <td>Thursdays at 18:30 (JST)</td>\n",
              "      <td>{'Adaptation': [{'mal_id': 1348, 'type': 'mang...</td>\n",
              "    </tr>\n",
              "  </tbody>\n",
              "</table>\n",
              "<p>5 rows × 27 columns</p>\n",
              "</div>"
            ],
            "text/plain": [
              "   animeID                             name            title_english  \\\n",
              "0        1                     Cowboy Bebop             Cowboy Bebop   \n",
              "1        5  Cowboy Bebop: Tengoku no Tobira  Cowboy Bebop: The Movie   \n",
              "2        6                           Trigun                   Trigun   \n",
              "3        7               Witch Hunter Robin       Witch Hunter Robin   \n",
              "4        8                   Bouken Ou Beet   Beet the Vandel Buster   \n",
              "\n",
              "       title_japanese                               title_synonyms   type  \\\n",
              "0           カウボーイビバップ                                           []     TV   \n",
              "1      カウボーイビバップ 天国の扉  [\"Cowboy Bebop: Knockin' on Heaven's Door\"]  Movie   \n",
              "2               トライガン                                           []     TV   \n",
              "3  Witch Hunter ROBIN                                      ['WHR']     TV   \n",
              "4              冒険王ビィト                      ['Adventure King Beet']     TV   \n",
              "\n",
              "     source                     producers  \\\n",
              "0  Original             ['Bandai Visual']   \n",
              "1  Original  ['Sunrise', 'Bandai Visual']   \n",
              "2     Manga      ['Victor Entertainment']   \n",
              "3  Original             ['Bandai Visual']   \n",
              "4     Manga        ['TV Tokyo', 'Dentsu']   \n",
              "\n",
              "                                               genre              studio  ...  \\\n",
              "0  ['Action', 'Adventure', 'Comedy', 'Drama', 'Sc...         ['Sunrise']  ...   \n",
              "1  ['Action', 'Drama', 'Mystery', 'Sci-Fi', 'Space']           ['Bones']  ...   \n",
              "2  ['Action', 'Sci-Fi', 'Adventure', 'Comedy', 'D...        ['Madhouse']  ...   \n",
              "3  ['Action', 'Magic', 'Police', 'Supernatural', ...         ['Sunrise']  ...   \n",
              "4  ['Adventure', 'Fantasy', 'Shounen', 'Supernatu...  ['Toei Animation']  ...   \n",
              "\n",
              "   scored_by    rank popularity   members favorites  \\\n",
              "0   405664.0    26.0       39.0  795733.0   43460.0   \n",
              "1   120243.0   164.0      449.0  197791.0     776.0   \n",
              "2   212537.0   255.0      146.0  408548.0   10432.0   \n",
              "3    32837.0  2371.0     1171.0   79397.0     537.0   \n",
              "4     4894.0  3544.0     3704.0   11708.0      14.0   \n",
              "\n",
              "                                            synopsis  \\\n",
              "0  In the year 2071, humanity has colonized sever...   \n",
              "1  Another day, another bounty—such is the life o...   \n",
              "2  Vash the Stampede is the man with a $$60,000,0...   \n",
              "3  Witches are individuals with special powers li...   \n",
              "4  It is the dark century and the people are suff...   \n",
              "\n",
              "                                          background    premiered  \\\n",
              "0  When Cowboy Bebop first aired in spring of 199...  Spring 1998   \n",
              "1                                                NaN          NaN   \n",
              "2  The Japanese release by Victor Entertainment h...  Spring 1998   \n",
              "3                                                NaN  Summer 2002   \n",
              "4                                                NaN    Fall 2004   \n",
              "\n",
              "                  broadcast                                            related  \n",
              "0  Saturdays at 01:00 (JST)  {'Adaptation': [{'mal_id': 173, 'type': 'manga...  \n",
              "1                       NaN  {'Parent story': [{'mal_id': 1, 'type': 'anime...  \n",
              "2  Thursdays at 01:15 (JST)  {'Adaptation': [{'mal_id': 703, 'type': 'manga...  \n",
              "3       Tuesdays at Unknown                                                 {}  \n",
              "4  Thursdays at 18:30 (JST)  {'Adaptation': [{'mal_id': 1348, 'type': 'mang...  \n",
              "\n",
              "[5 rows x 27 columns]"
            ]
          },
          "metadata": {
            "tags": []
          },
          "execution_count": 85
        }
      ]
    },
    {
      "cell_type": "code",
      "metadata": {
        "id": "-ctipRvIEUjJ",
        "outputId": "41dec0dc-7462-4741-900b-fc02d382c766"
      },
      "source": [
        "# drop NaN\n",
        "df_temp = raw_anime_df.copy()\n",
        "print(f\"Anime raw dataset shape {df_temp.shape}\")\n",
        "df_temp = raw_anime_df.dropna()\n",
        "print(f\"Anime dataset without NaN shape {df_temp.shape}\")"
      ],
      "execution_count": null,
      "outputs": [
        {
          "output_type": "stream",
          "text": [
            "Anime raw dataset shape (15278, 27)\n",
            "Anime dataset without NaN shape (456, 27)\n"
          ],
          "name": "stdout"
        }
      ]
    },
    {
      "cell_type": "code",
      "metadata": {
        "id": "hd0bhGe5EUjJ"
      },
      "source": [
        "# drop column in Japanese\n",
        "df_temp = df_temp.drop('title_japanese', axis =1)"
      ],
      "execution_count": null,
      "outputs": []
    },
    {
      "cell_type": "code",
      "metadata": {
        "id": "PQEc_QOqEUjJ",
        "outputId": "36b12a10-2018-4498-8c79-7f34d9a6cffc"
      },
      "source": [
        "# select a column to clean\n",
        "df_select = df_temp[['animeID', 'name', 'producers']]\n",
        "df_select.head(4)"
      ],
      "execution_count": null,
      "outputs": [
        {
          "output_type": "execute_result",
          "data": {
            "text/html": [
              "<div>\n",
              "<style scoped>\n",
              "    .dataframe tbody tr th:only-of-type {\n",
              "        vertical-align: middle;\n",
              "    }\n",
              "\n",
              "    .dataframe tbody tr th {\n",
              "        vertical-align: top;\n",
              "    }\n",
              "\n",
              "    .dataframe thead th {\n",
              "        text-align: right;\n",
              "    }\n",
              "</style>\n",
              "<table border=\"1\" class=\"dataframe\">\n",
              "  <thead>\n",
              "    <tr style=\"text-align: right;\">\n",
              "      <th></th>\n",
              "      <th>animeID</th>\n",
              "      <th>name</th>\n",
              "      <th>producers</th>\n",
              "    </tr>\n",
              "  </thead>\n",
              "  <tbody>\n",
              "    <tr>\n",
              "      <td>0</td>\n",
              "      <td>1</td>\n",
              "      <td>Cowboy Bebop</td>\n",
              "      <td>['Bandai Visual']</td>\n",
              "    </tr>\n",
              "    <tr>\n",
              "      <td>2</td>\n",
              "      <td>6</td>\n",
              "      <td>Trigun</td>\n",
              "      <td>['Victor Entertainment']</td>\n",
              "    </tr>\n",
              "    <tr>\n",
              "      <td>5</td>\n",
              "      <td>16</td>\n",
              "      <td>Hachimitsu to Clover</td>\n",
              "      <td>['Genco', 'Fuji TV', 'Shueisha']</td>\n",
              "    </tr>\n",
              "    <tr>\n",
              "      <td>9</td>\n",
              "      <td>20</td>\n",
              "      <td>Naruto</td>\n",
              "      <td>['TV Tokyo', 'Aniplex', 'Shueisha']</td>\n",
              "    </tr>\n",
              "  </tbody>\n",
              "</table>\n",
              "</div>"
            ],
            "text/plain": [
              "   animeID                  name                            producers\n",
              "0        1          Cowboy Bebop                    ['Bandai Visual']\n",
              "2        6                Trigun             ['Victor Entertainment']\n",
              "5       16  Hachimitsu to Clover     ['Genco', 'Fuji TV', 'Shueisha']\n",
              "9       20                Naruto  ['TV Tokyo', 'Aniplex', 'Shueisha']"
            ]
          },
          "metadata": {
            "tags": []
          },
          "execution_count": 92
        }
      ]
    },
    {
      "cell_type": "code",
      "metadata": {
        "id": "hlhA3RcdEUjK"
      },
      "source": [
        "from ast import literal_eval"
      ],
      "execution_count": null,
      "outputs": []
    },
    {
      "cell_type": "code",
      "metadata": {
        "id": "lSvpCCU1EUjK"
      },
      "source": [
        "df_select.loc[:, 'producers'] = df_select['producers'].apply(literal_eval)"
      ],
      "execution_count": null,
      "outputs": []
    },
    {
      "cell_type": "code",
      "metadata": {
        "id": "ZGNHF-5_EUjK",
        "outputId": "49cd649f-fc0c-4cb6-b4d2-4639a55f7982"
      },
      "source": [
        "df_select.explode('producers')"
      ],
      "execution_count": null,
      "outputs": [
        {
          "output_type": "execute_result",
          "data": {
            "text/html": [
              "<div>\n",
              "<style scoped>\n",
              "    .dataframe tbody tr th:only-of-type {\n",
              "        vertical-align: middle;\n",
              "    }\n",
              "\n",
              "    .dataframe tbody tr th {\n",
              "        vertical-align: top;\n",
              "    }\n",
              "\n",
              "    .dataframe thead th {\n",
              "        text-align: right;\n",
              "    }\n",
              "</style>\n",
              "<table border=\"1\" class=\"dataframe\">\n",
              "  <thead>\n",
              "    <tr style=\"text-align: right;\">\n",
              "      <th></th>\n",
              "      <th>animeID</th>\n",
              "      <th>name</th>\n",
              "      <th>producers</th>\n",
              "    </tr>\n",
              "  </thead>\n",
              "  <tbody>\n",
              "    <tr>\n",
              "      <td>0</td>\n",
              "      <td>1</td>\n",
              "      <td>Cowboy Bebop</td>\n",
              "      <td>Bandai Visual</td>\n",
              "    </tr>\n",
              "    <tr>\n",
              "      <td>2</td>\n",
              "      <td>6</td>\n",
              "      <td>Trigun</td>\n",
              "      <td>Victor Entertainment</td>\n",
              "    </tr>\n",
              "    <tr>\n",
              "      <td>5</td>\n",
              "      <td>16</td>\n",
              "      <td>Hachimitsu to Clover</td>\n",
              "      <td>Genco</td>\n",
              "    </tr>\n",
              "    <tr>\n",
              "      <td>5</td>\n",
              "      <td>16</td>\n",
              "      <td>Hachimitsu to Clover</td>\n",
              "      <td>Fuji TV</td>\n",
              "    </tr>\n",
              "    <tr>\n",
              "      <td>5</td>\n",
              "      <td>16</td>\n",
              "      <td>Hachimitsu to Clover</td>\n",
              "      <td>Shueisha</td>\n",
              "    </tr>\n",
              "    <tr>\n",
              "      <td>...</td>\n",
              "      <td>...</td>\n",
              "      <td>...</td>\n",
              "      <td>...</td>\n",
              "    </tr>\n",
              "    <tr>\n",
              "      <td>14164</td>\n",
              "      <td>37555</td>\n",
              "      <td>Hangyakusei Million Arthur</td>\n",
              "      <td>bilibili</td>\n",
              "    </tr>\n",
              "    <tr>\n",
              "      <td>14164</td>\n",
              "      <td>37555</td>\n",
              "      <td>Hangyakusei Million Arthur</td>\n",
              "      <td>Bandai Namco Arts</td>\n",
              "    </tr>\n",
              "    <tr>\n",
              "      <td>14164</td>\n",
              "      <td>37555</td>\n",
              "      <td>Hangyakusei Million Arthur</td>\n",
              "      <td>Happinet</td>\n",
              "    </tr>\n",
              "    <tr>\n",
              "      <td>14535</td>\n",
              "      <td>38083</td>\n",
              "      <td>Ken En Ken: Aoki Kagayaki</td>\n",
              "      <td>TV Tokyo</td>\n",
              "    </tr>\n",
              "    <tr>\n",
              "      <td>14535</td>\n",
              "      <td>38083</td>\n",
              "      <td>Ken En Ken: Aoki Kagayaki</td>\n",
              "      <td>Ai Addiction</td>\n",
              "    </tr>\n",
              "  </tbody>\n",
              "</table>\n",
              "<p>1790 rows × 3 columns</p>\n",
              "</div>"
            ],
            "text/plain": [
              "       animeID                        name             producers\n",
              "0            1                Cowboy Bebop         Bandai Visual\n",
              "2            6                      Trigun  Victor Entertainment\n",
              "5           16        Hachimitsu to Clover                 Genco\n",
              "5           16        Hachimitsu to Clover               Fuji TV\n",
              "5           16        Hachimitsu to Clover              Shueisha\n",
              "...        ...                         ...                   ...\n",
              "14164    37555  Hangyakusei Million Arthur              bilibili\n",
              "14164    37555  Hangyakusei Million Arthur     Bandai Namco Arts\n",
              "14164    37555  Hangyakusei Million Arthur              Happinet\n",
              "14535    38083   Ken En Ken: Aoki Kagayaki              TV Tokyo\n",
              "14535    38083   Ken En Ken: Aoki Kagayaki          Ai Addiction\n",
              "\n",
              "[1790 rows x 3 columns]"
            ]
          },
          "metadata": {
            "tags": []
          },
          "execution_count": 96
        }
      ]
    },
    {
      "cell_type": "markdown",
      "metadata": {
        "id": "MKXg9vkXEUjK"
      },
      "source": [
        "# Data Consolidation\n",
        "## Scaling a Dataset"
      ]
    },
    {
      "cell_type": "code",
      "metadata": {
        "id": "QufFRiz5EUjL"
      },
      "source": [
        "from sklearn.preprocessing import MinMaxScaler"
      ],
      "execution_count": null,
      "outputs": []
    },
    {
      "cell_type": "code",
      "metadata": {
        "id": "Lht--s4bEUjL",
        "outputId": "c6327e90-300a-4e23-9b1d-47cefafb2393"
      },
      "source": [
        "# generate 1000 data points randomly drawn from an exponential distribution\n",
        "original_exp_df = pd.DataFrame(np.random.exponential(size = 1000), columns=['x'])\n",
        "original_exp_df.head(4)"
      ],
      "execution_count": null,
      "outputs": [
        {
          "output_type": "execute_result",
          "data": {
            "text/html": [
              "<div>\n",
              "<style scoped>\n",
              "    .dataframe tbody tr th:only-of-type {\n",
              "        vertical-align: middle;\n",
              "    }\n",
              "\n",
              "    .dataframe tbody tr th {\n",
              "        vertical-align: top;\n",
              "    }\n",
              "\n",
              "    .dataframe thead th {\n",
              "        text-align: right;\n",
              "    }\n",
              "</style>\n",
              "<table border=\"1\" class=\"dataframe\">\n",
              "  <thead>\n",
              "    <tr style=\"text-align: right;\">\n",
              "      <th></th>\n",
              "      <th>x</th>\n",
              "    </tr>\n",
              "  </thead>\n",
              "  <tbody>\n",
              "    <tr>\n",
              "      <td>0</td>\n",
              "      <td>1.691681</td>\n",
              "    </tr>\n",
              "    <tr>\n",
              "      <td>1</td>\n",
              "      <td>1.129465</td>\n",
              "    </tr>\n",
              "    <tr>\n",
              "      <td>2</td>\n",
              "      <td>0.914661</td>\n",
              "    </tr>\n",
              "    <tr>\n",
              "      <td>3</td>\n",
              "      <td>0.326420</td>\n",
              "    </tr>\n",
              "  </tbody>\n",
              "</table>\n",
              "</div>"
            ],
            "text/plain": [
              "          x\n",
              "0  1.691681\n",
              "1  1.129465\n",
              "2  0.914661\n",
              "3  0.326420"
            ]
          },
          "metadata": {
            "tags": []
          },
          "execution_count": 100
        }
      ]
    },
    {
      "cell_type": "code",
      "metadata": {
        "id": "YlcjNob5EUjL",
        "outputId": "39c38340-ff51-4a9a-c2bc-ce61b993a2da"
      },
      "source": [
        "#scale \n",
        "mm_scaler = MinMaxScaler(feature_range=(0,1))\n",
        "scaled_exp_arr = mm_scaler.fit_transform(original_exp_df)\n",
        "scaled_exp_df = pd.DataFrame(scaled_exp_arr, columns=['x'])\n",
        "scaled_exp_df.head(4)"
      ],
      "execution_count": null,
      "outputs": [
        {
          "output_type": "execute_result",
          "data": {
            "text/html": [
              "<div>\n",
              "<style scoped>\n",
              "    .dataframe tbody tr th:only-of-type {\n",
              "        vertical-align: middle;\n",
              "    }\n",
              "\n",
              "    .dataframe tbody tr th {\n",
              "        vertical-align: top;\n",
              "    }\n",
              "\n",
              "    .dataframe thead th {\n",
              "        text-align: right;\n",
              "    }\n",
              "</style>\n",
              "<table border=\"1\" class=\"dataframe\">\n",
              "  <thead>\n",
              "    <tr style=\"text-align: right;\">\n",
              "      <th></th>\n",
              "      <th>x</th>\n",
              "    </tr>\n",
              "  </thead>\n",
              "  <tbody>\n",
              "    <tr>\n",
              "      <td>0</td>\n",
              "      <td>0.258657</td>\n",
              "    </tr>\n",
              "    <tr>\n",
              "      <td>1</td>\n",
              "      <td>0.172642</td>\n",
              "    </tr>\n",
              "    <tr>\n",
              "      <td>2</td>\n",
              "      <td>0.139779</td>\n",
              "    </tr>\n",
              "    <tr>\n",
              "      <td>3</td>\n",
              "      <td>0.049784</td>\n",
              "    </tr>\n",
              "  </tbody>\n",
              "</table>\n",
              "</div>"
            ],
            "text/plain": [
              "          x\n",
              "0  0.258657\n",
              "1  0.172642\n",
              "2  0.139779\n",
              "3  0.049784"
            ]
          },
          "metadata": {
            "tags": []
          },
          "execution_count": 101
        }
      ]
    },
    {
      "cell_type": "markdown",
      "metadata": {
        "id": "lVbE8n8zEUjL"
      },
      "source": [
        "**histogram**\n",
        "- great for summarising distributions\n",
        "- explore different bin widths to pull out "
      ]
    },
    {
      "cell_type": "code",
      "metadata": {
        "id": "DZ5u_b7kEUjM",
        "outputId": "c545c195-b621-4237-db29-b823b4321115"
      },
      "source": [
        "#plots\n",
        "px.histogram(original_exp_df, x=\"x\")"
      ],
      "execution_count": null,
      "outputs": [
        {
          "output_type": "display_data",
          "data": {
            "application/vnd.plotly.v1+json": {
              "config": {
                "plotlyServerURL": "https://plot.ly"
              },
              "data": [
                {
                  "alignmentgroup": "True",
                  "bingroup": "x",
                  "hoverlabel": {
                    "namelength": 0
                  },
                  "hovertemplate": "x=%{x}<br>count=%{y}",
                  "legendgroup": "",
                  "marker": {
                    "color": "#636efa"
                  },
                  "name": "",
                  "offsetgroup": "",
                  "orientation": "v",
                  "showlegend": false,
                  "type": "histogram",
                  "x": [
                    1.6916806366647068,
                    1.1294647069167092,
                    0.914661052726308,
                    0.3264201121364282,
                    0.05712731510866515,
                    1.7539862744012316,
                    1.1686650748882756,
                    1.3036518697856947,
                    0.4429006524350173,
                    1.208339343456738,
                    0.08400027939097612,
                    1.3027450095911683,
                    1.267970953044769,
                    1.769293927572244,
                    2.2068965436732952,
                    0.39613320007315245,
                    1.0122201375844264,
                    0.06442759831030437,
                    0.07099358614807799,
                    0.38650851286620824,
                    0.05384354468084124,
                    0.4348930520901541,
                    0.3543022766142268,
                    0.4652719304652106,
                    0.2773247052297912,
                    3.761965096911233,
                    0.21727497956461098,
                    0.18877506539532266,
                    0.39676577880288194,
                    0.07350199904233139,
                    3.5651743352949645,
                    0.6256700507782148,
                    0.5268061855154762,
                    0.21803409922366387,
                    2.1328675543755717,
                    1.297154353380315,
                    0.2607371282898707,
                    0.523374446799446,
                    3.6120854990989004,
                    0.8152509091648531,
                    1.1732527276987819,
                    0.30446244282733864,
                    0.11114861146143604,
                    0.9119904925589334,
                    0.24005914112663562,
                    3.55605604862984,
                    0.637682238491729,
                    3.098273802485106,
                    2.162406413275479,
                    3.148337007795239,
                    0.5350141838378965,
                    3.2642765449935722,
                    1.7426321816436579,
                    0.4137935052597322,
                    0.2054169319699026,
                    0.011894149009404784,
                    1.4226675052279423,
                    2.109396486367042,
                    1.8230209552174335,
                    0.4856937729436181,
                    0.05779675047789659,
                    0.84301248741663,
                    0.26584223744663005,
                    2.75070027703305,
                    0.4207353630436095,
                    0.5693386075371138,
                    2.8441214243102935,
                    0.5930613424650524,
                    0.7913025561405037,
                    0.5394065049956827,
                    3.2814375265342774,
                    1.554973559346428,
                    1.3335059137402518,
                    0.26718615665131157,
                    1.6119827990443896,
                    2.468510813913764,
                    0.5622450964919135,
                    0.8462973062720484,
                    0.7435010903857281,
                    2.9579959133649374,
                    0.10191413868835421,
                    3.5141627090330054,
                    0.6904415733127907,
                    1.6115948581298798,
                    2.8320804400993427,
                    1.6909174164086955,
                    5.372543533780538,
                    1.168889720834079,
                    2.7058693090052186,
                    0.39951977180753834,
                    0.05294009937843145,
                    2.67429153574414,
                    3.645741163546214,
                    3.6187496241816546,
                    0.992585201959586,
                    0.6241816091270626,
                    2.20549142127918,
                    0.41420222340762713,
                    0.3389603376081603,
                    1.4844901546947131,
                    1.1118800698921014,
                    0.7056883255307871,
                    2.3531089749645,
                    0.14662007575644273,
                    1.3172547913699275,
                    0.2626812672216398,
                    0.257137657891826,
                    0.4055774252305723,
                    0.3430976721226405,
                    0.44963232836199307,
                    0.5310360720974904,
                    1.0087482597734754,
                    0.643153155843896,
                    0.5553576554263951,
                    1.1464375277519043,
                    1.6697782067636562,
                    0.7291887283166387,
                    0.32675748845752295,
                    0.2289055127157658,
                    0.4523979380333686,
                    0.21339262272763257,
                    0.6490440555870579,
                    0.561621644131267,
                    0.29188279199078265,
                    0.35308219920048456,
                    0.2858661329887329,
                    1.3424366342009013,
                    0.4842636487895619,
                    0.348242274552098,
                    0.1783046098469703,
                    2.501429518252391,
                    0.1978236872585802,
                    0.18451512497139613,
                    2.8981916706852378,
                    0.16934183351536508,
                    1.5697122658490401,
                    0.023924922227405825,
                    0.9648284449852751,
                    1.5218182302660155,
                    0.3726572407821347,
                    2.078628111302534,
                    1.7806034164149953,
                    1.2194046972254942,
                    0.2365632062849981,
                    0.18811825580114305,
                    1.7228230938516231,
                    1.9241849903871433,
                    0.9608315309598018,
                    0.13856849742816427,
                    0.5655356657814885,
                    0.48824097973231323,
                    0.8965731357409708,
                    1.3691631972092362,
                    0.43818155417019783,
                    0.40667686027484384,
                    0.616274381903002,
                    0.04102702300944083,
                    2.623788880749689,
                    0.8745841108781074,
                    2.0946694280178835,
                    0.4179167020012666,
                    1.5219748980910124,
                    1.1111367669109942,
                    0.4672512541706383,
                    0.9417366622288987,
                    0.8332521937231208,
                    0.4564441580407277,
                    0.35143170636374316,
                    2.0421682962036827,
                    0.6916226129770247,
                    0.9436783635983421,
                    0.25636865138345066,
                    0.9795752082413957,
                    2.5019357146905987,
                    0.12007777989179665,
                    0.599432178540716,
                    0.5851329126832244,
                    0.4252008543787736,
                    0.03153816890499468,
                    1.3134976425028744,
                    1.960120682375454,
                    0.15570906204566967,
                    1.6465445078894938,
                    0.6503144018667867,
                    0.2983735946412427,
                    0.12149480940255215,
                    1.115723550647462,
                    0.19285628574685904,
                    0.20476835190224615,
                    1.7076288155537218,
                    0.3641592127022545,
                    0.9999469961364685,
                    0.056926284631934124,
                    0.7363680028664642,
                    0.10120458878920588,
                    0.3129687992167607,
                    0.0786986276039679,
                    3.690608385060545,
                    0.9706397918536915,
                    0.49544102529884165,
                    0.4384549713823019,
                    0.004236015056943301,
                    0.2307644276905509,
                    0.5182995651038329,
                    0.2058365446917411,
                    2.2480881853346064,
                    0.829040717006475,
                    2.264622423605553,
                    0.8917014577918784,
                    0.6607606982611453,
                    1.3147997496426858,
                    0.03433614153439289,
                    1.061111278034168,
                    0.9186391345043533,
                    0.5117247534579642,
                    0.8438242853090527,
                    0.2768428626288901,
                    0.6603362158518523,
                    0.29578882158305936,
                    0.5566143574973634,
                    2.88166383481326,
                    0.7401341270718452,
                    0.11577181383084276,
                    0.5276266917629017,
                    0.3254882377379859,
                    0.32064392517290335,
                    0.10556525722434323,
                    0.9399269713595093,
                    0.8286083762254124,
                    0.19964909501978811,
                    0.31261774242368,
                    0.3441603454020364,
                    0.32552705906150226,
                    1.4648342003198485,
                    0.8265420449447359,
                    0.5396104795573178,
                    0.7967396217237774,
                    1.5124537619604064,
                    0.7081137383500699,
                    0.25427309174077123,
                    1.0975492374504168,
                    0.4887099505174795,
                    0.2790460966462526,
                    0.3118583145527366,
                    0.7541935568379373,
                    0.3445581427382964,
                    0.4091442375301008,
                    0.7406708807088355,
                    0.7269895267762397,
                    0.45129094932219616,
                    0.0157286837328698,
                    0.37112334838888883,
                    0.3259228415743918,
                    0.8915080127803524,
                    0.02992313724231167,
                    0.7626465035481956,
                    0.8796836251286583,
                    0.8255592297434765,
                    1.3942459481716314,
                    2.945865727162687,
                    1.8645753026705514,
                    1.101234363687382,
                    0.29016035260291806,
                    0.5967323615953216,
                    0.8105686512881805,
                    0.6057445967837963,
                    0.6729032634088156,
                    0.9612558123101314,
                    1.6560197384208324,
                    0.3589459767083541,
                    1.8621743353019116,
                    0.4885682721909508,
                    1.7651229187801292,
                    0.143500033118148,
                    0.10271657183820937,
                    0.8022945660522561,
                    0.19812360334798432,
                    1.1088879293778247,
                    0.8726167354522295,
                    2.4498247683934187,
                    2.5402197856684636,
                    0.7667919021527888,
                    0.7312527568567907,
                    1.491212552007404,
                    4.180364334122388,
                    2.501915746540793,
                    0.018452882163054712,
                    3.8868383213392663,
                    3.9605806947329953,
                    1.7218177052890813,
                    1.2855287800011492,
                    0.3160879160824758,
                    0.41332364254444526,
                    0.028545333760862074,
                    0.3065662736283847,
                    0.23594870139135107,
                    0.8086075158335052,
                    0.42764747621893673,
                    1.4368307288987179,
                    2.4115984400044956,
                    1.425841971242085,
                    0.6725230346310396,
                    0.617202082922185,
                    1.0907709964365553,
                    3.2948444433705752,
                    1.6408228706329067,
                    3.2639549044235716,
                    0.06852958061324634,
                    0.16008742924322625,
                    0.09608249063049949,
                    0.21802152424371748,
                    3.224423485795836,
                    0.4113601174642981,
                    0.0410967729243673,
                    1.9565147435333277,
                    0.1319134885411177,
                    0.17085496714770693,
                    0.6143186449045915,
                    0.15649287568571923,
                    0.46530256649961294,
                    0.722556801849101,
                    1.121136409376868,
                    0.06797538797289483,
                    1.3936398535968804,
                    0.6663939904692936,
                    0.9156805234518015,
                    0.014539166996647906,
                    0.09617703004996403,
                    0.02946941542070624,
                    0.12949893171333204,
                    0.7555630635448822,
                    2.9527574595129322,
                    1.7866507660196675,
                    3.1210361901619725,
                    0.5009373208636064,
                    0.5423028485663209,
                    0.46698290150177724,
                    1.491102417163507,
                    1.8030060284347655,
                    5.008263175490723,
                    1.5140579082053274,
                    1.086077873753668,
                    0.012424374056040438,
                    0.05429732536634561,
                    0.07563055811813191,
                    0.41747746564008326,
                    4.01675437674596,
                    0.8483421668238244,
                    0.12587160803576783,
                    0.29330029447945044,
                    0.9864860178721256,
                    0.5951687636868578,
                    0.7922537379198218,
                    0.2911344940326592,
                    0.36148566961629147,
                    2.7955742469295335,
                    0.6041616304597031,
                    0.3676512965379161,
                    0.46075608356999204,
                    0.6629849076193116,
                    0.7666338372054489,
                    0.9423530420942791,
                    2.159231141194253,
                    0.2363671139689199,
                    0.5723567611675174,
                    0.09346041143815474,
                    0.7594041532228998,
                    1.046703327526475,
                    1.4232638994727558,
                    0.39518091362018676,
                    0.6867225379611486,
                    0.04269233068244308,
                    1.0194854492722756,
                    0.9646609092630544,
                    1.4617399131557214,
                    0.5263491560453426,
                    2.7699503547817024,
                    0.16480212144140266,
                    0.5531191400200851,
                    0.026038893513375662,
                    0.6917825493020431,
                    1.109441610203553,
                    0.6541173283591963,
                    0.4693156687521477,
                    0.5968572950181068,
                    0.6575642941278708,
                    1.3893759458924981,
                    1.9248645161767577,
                    0.39551579445441665,
                    1.5615493574743227,
                    3.2917694448843946,
                    1.1778051656188464,
                    4.048498315443086,
                    1.0477899541067448,
                    1.8198952034009315,
                    0.6391544305143603,
                    2.602663648901243,
                    0.4069522881359538,
                    1.4178998689823898,
                    0.9580915733419515,
                    0.506164089431196,
                    2.80986447900393,
                    2.6825707160306775,
                    0.8179363133045143,
                    2.8919875309560905,
                    1.2996328960805408,
                    0.6122699456307349,
                    0.17070161512824564,
                    0.023009110107456723,
                    1.241294919665126,
                    2.0527392321604743,
                    2.8245624085399768,
                    0.7271596441871847,
                    1.1879934925263171,
                    1.0404224568403502,
                    0.29997348707238863,
                    0.565841095655193,
                    1.13006042956359,
                    0.5282734304302011,
                    0.7766735218743397,
                    1.7657054334152396,
                    0.7617810684754488,
                    0.5016778001401432,
                    0.19877828064384717,
                    1.5448784625412453,
                    0.31617036381723507,
                    0.21011236414593695,
                    0.4245270688468348,
                    3.9218760671972785,
                    0.1887437494255777,
                    0.7551987311464293,
                    0.31539006861894503,
                    0.7641736319277898,
                    2.0132483350193886,
                    0.10033597980232072,
                    0.20001002112818508,
                    0.002406097751159454,
                    0.8951137307165319,
                    1.2357766454334196,
                    0.6551243642037967,
                    0.021439047717334344,
                    0.530805537426212,
                    1.9262247775733745,
                    0.6739837700054522,
                    0.9552552074031071,
                    0.2582425418194489,
                    0.22904579710279593,
                    1.444669134581001,
                    0.2303548170831961,
                    0.7966214895673795,
                    0.5289971078990275,
                    0.6307918360721868,
                    0.36480684126788004,
                    0.6641136406995783,
                    0.8470787800714931,
                    3.3808508342652677,
                    0.12062255283154986,
                    1.1057900068694189,
                    0.6170431075224869,
                    0.346320047341845,
                    0.3721693735841575,
                    0.30516678826829974,
                    0.3116289470221163,
                    0.06375172537865915,
                    2.0798059292817666,
                    0.8202276010223726,
                    2.667446264625866,
                    0.45348327839887315,
                    0.009227460986909243,
                    0.057361718758802825,
                    4.330414232934676,
                    0.9848857455949342,
                    0.4628690657091316,
                    0.044256608915894335,
                    1.5354716132291228,
                    0.24986994996242406,
                    0.008541963098581662,
                    1.2197517383253906,
                    1.167469922384238,
                    0.5945266204862147,
                    0.582186787045859,
                    0.8439038630937211,
                    0.5633377298991806,
                    0.8185652671448571,
                    0.2367086634275352,
                    0.32815401231632074,
                    0.8071203109072151,
                    4.340342756609632,
                    0.6795384114029863,
                    0.15742707738079018,
                    1.786347388248353,
                    0.12179287960876144,
                    0.018425981281027952,
                    1.9568066862128828,
                    2.9036714272640722,
                    0.35394737084177286,
                    0.4385261845527547,
                    4.080206714550195,
                    4.7002209571285185,
                    1.274001470756957,
                    0.011432586891656566,
                    0.3858236859681978,
                    0.037608185415752456,
                    1.2053909905750602,
                    1.8508329304174946,
                    0.25782567363686765,
                    1.3890247985133037,
                    0.620345552916498,
                    1.5155416094009986,
                    0.5834187277975812,
                    0.9418876304408738,
                    0.1824835428226703,
                    0.0010178941865540022,
                    0.41919733392927516,
                    1.7609692535679595,
                    0.25304876462854137,
                    0.7330859414509737,
                    0.44116925406307395,
                    0.08801070959508321,
                    0.05946158175841343,
                    0.5722567402998338,
                    1.574303169918613,
                    2.635326926751814,
                    0.8038212559134668,
                    1.4153920912619846,
                    2.41310111157825,
                    0.9012215824332558,
                    0.946535185974204,
                    0.3587407169176156,
                    0.4646452672271406,
                    0.019580702697452785,
                    2.3998537183982016,
                    1.3800817639470098,
                    0.824025438411181,
                    0.48886015577503933,
                    0.15799558141148007,
                    0.29598342323799304,
                    0.19093774735403587,
                    0.19270410521378054,
                    0.3448210475612969,
                    0.014569731628466986,
                    1.0533244295750517,
                    1.746284144779195,
                    1.529800971012688,
                    1.5741121974229162,
                    0.14615910721129527,
                    1.3508216125834478,
                    5.720808693207984,
                    0.10452307146225111,
                    0.4479639323046048,
                    0.5848923917414498,
                    0.6370566617370507,
                    0.49727473457287896,
                    0.21436477684436409,
                    0.017141812033523596,
                    1.208573971241355,
                    1.2148221903735448,
                    1.3934383075780665,
                    2.64410791636242,
                    1.740296311650814,
                    1.2734282850160914,
                    0.12014670468838112,
                    0.07032062058116574,
                    0.08560974377363396,
                    1.3907639595474817,
                    0.029284549950232962,
                    0.7852149746867255,
                    0.5693458099587017,
                    0.8313644651005504,
                    2.0012945076208184,
                    1.3708032046124938,
                    0.23369057291100084,
                    0.23133517585307445,
                    3.710916373122001,
                    0.4243574253037939,
                    0.12018512850136695,
                    0.48186189032608984,
                    1.7836001270983857,
                    0.7161118666259418,
                    0.4206535260329518,
                    0.7163926272862837,
                    1.1436125985753183,
                    0.4965050057268386,
                    1.9343332149942774,
                    0.2507763792674632,
                    0.6344985098076977,
                    0.932104281983767,
                    0.9412397057901359,
                    1.4938584327590283,
                    1.3471777333583537,
                    4.664381023081501,
                    2.503948399897284,
                    0.24811335973695073,
                    0.5200601727673304,
                    0.29211428937978207,
                    0.6931541030111671,
                    0.5231452991304356,
                    0.2117134135917129,
                    0.5281422746067523,
                    0.4086494047336075,
                    0.628356274217602,
                    1.0606925484169174,
                    1.324983501998649,
                    2.885220983814458,
                    0.21098743602252537,
                    0.43371394736650587,
                    0.9049733172769657,
                    2.2418763370213806,
                    0.8959558485315443,
                    0.4242143461139123,
                    0.18967014245689373,
                    0.1281535401502488,
                    0.8981690343964174,
                    0.17408841453039506,
                    2.108030297579643,
                    0.9974188528866352,
                    1.059640840202894,
                    0.8918796744977557,
                    0.26769634185869984,
                    0.012789302941474694,
                    0.557464555444571,
                    1.8030722684009926,
                    5.135257811485771,
                    0.01619528274273341,
                    0.3376528908788294,
                    0.9950417783321112,
                    3.800693655054273,
                    0.4635444428176683,
                    0.03433271437739157,
                    0.3366937460870216,
                    1.060839720997704,
                    0.3630535531052661,
                    0.05473276298200229,
                    0.5551433242778179,
                    0.1954932350533127,
                    0.39484141817518537,
                    0.25291912423116325,
                    0.4132272221666786,
                    1.3948054526031246,
                    0.803754341482738,
                    0.2805915203685173,
                    0.78250581426353,
                    1.0698667520483263,
                    0.774308336110709,
                    0.20290525029850584,
                    0.5170819232827308,
                    0.7055355675541908,
                    0.5757896948463405,
                    2.959781912481767,
                    1.1003509105324116,
                    0.1950416471986107,
                    0.3580371057595249,
                    0.30489329599279125,
                    0.1675577965296515,
                    0.9408807427330126,
                    0.6508544375745248,
                    0.13015342099326507,
                    0.18721407982643734,
                    1.248017734674458,
                    3.0133941202553074,
                    3.8825299825254445,
                    4.460202820860151,
                    0.23854293116172992,
                    1.5284889538189372,
                    0.4844845743708218,
                    0.9120888821823204,
                    2.1803251187272816,
                    0.3292372383519146,
                    1.110252646708088,
                    0.14415800389764394,
                    2.4696006594975657,
                    0.15839241410170138,
                    0.15067288071947274,
                    2.6927391587205163,
                    0.5955069398624615,
                    0.2549674114866006,
                    1.4345750369870798,
                    0.5877441337401654,
                    0.008921700004392056,
                    0.048201875466569635,
                    2.2020055875800497,
                    0.589582752222538,
                    0.5953732175892231,
                    0.9485004654701066,
                    2.354719421608381,
                    0.1279868444045675,
                    0.6218257883649706,
                    0.09075249997588071,
                    0.9752098185893421,
                    0.08062587954708866,
                    0.7669038647014054,
                    0.5361027698692313,
                    0.38575742801843477,
                    2.160533502198403,
                    0.3403957122426901,
                    0.5588549289593222,
                    0.6471749929803469,
                    0.17408712591420147,
                    3.1353346915705576,
                    0.08925853666774061,
                    0.23094018399536625,
                    1.682686718018583,
                    0.3622055411876867,
                    1.8815147157969903,
                    0.969683660300207,
                    0.8176437581712419,
                    0.10982706754824405,
                    0.25749836400262155,
                    1.2248669204931284,
                    0.8832477146488428,
                    3.4338426337826764,
                    3.6704939596191193,
                    0.13148400616691736,
                    0.8156033085637595,
                    0.7515048287559937,
                    0.04001758985358061,
                    1.0299833945418007,
                    0.36319576229231143,
                    0.592481376816886,
                    0.2128750937550988,
                    2.1242844651823725,
                    1.4501382279158408,
                    1.052193673834436,
                    0.687293191148102,
                    1.2404885330309559,
                    1.593752550294256,
                    0.03134293415182633,
                    0.5670404285704674,
                    0.29624929059112587,
                    0.291990330447096,
                    2.0928167203871433,
                    0.4882535885689735,
                    0.161614877240423,
                    1.300662932531092,
                    1.6427417877234771,
                    0.8127784647157162,
                    0.48227652460347703,
                    1.1913510679926556,
                    0.29254848931653404,
                    3.6287955861570174,
                    0.9992873170370048,
                    1.6552791633718806,
                    1.0303686553670373,
                    0.04045449961825638,
                    0.2685404331372957,
                    0.7140966518361386,
                    1.0561644777545034,
                    0.2887075514737418,
                    0.33309206105944694,
                    1.7731636219794655,
                    0.966306846072981,
                    3.4493946131089035,
                    2.176553538299332,
                    2.3973357094327037,
                    0.2657456185893585,
                    5.5072198521630815,
                    0.6179642428166561,
                    0.5526622241152319,
                    1.513077677713355,
                    0.2885035157903067,
                    0.5894196953914811,
                    2.986456526925943,
                    0.16959275925166914,
                    1.4159929519785295,
                    2.174047280093856,
                    2.1544707180603186,
                    0.6206610135027,
                    1.9259129279356857,
                    1.908787293861015,
                    0.21783237673771752,
                    2.7285723125204107,
                    3.3851090894007716,
                    0.7365655463070218,
                    4.133980712921019,
                    0.2639413314551724,
                    0.13280134831900278,
                    1.4254862505075772,
                    0.72542016049982,
                    0.5721924066705668,
                    0.06792062765821132,
                    1.4138446942680816,
                    0.3125302338953492,
                    0.47697334349343373,
                    0.23630659828934236,
                    0.33928893897005896,
                    1.6739829869043006,
                    0.6068314348771324,
                    0.5655789134267861,
                    0.6508832218903964,
                    2.323047616976497,
                    0.02236804682390528,
                    0.6209938397398568,
                    0.09335627702827883,
                    0.6067456196516782,
                    1.0746965238292228,
                    1.0128203607078357,
                    1.7852292283507087,
                    3.217889651958438,
                    1.5784753673102097,
                    0.898517119330662,
                    1.8973514104380682,
                    0.03551508215422342,
                    1.1509577942487867,
                    0.9728180219216054,
                    2.3642706671339093,
                    0.2529550229606536,
                    1.3336528143646724,
                    3.4297744919253037,
                    0.6905691861567365,
                    0.2776192724331766,
                    0.7839832936091825,
                    0.7828639817826539,
                    0.3969187419045334,
                    1.4086598613519428,
                    2.8953250904097563,
                    0.4497876271558713,
                    0.08304456645638204,
                    0.5527479201383191,
                    1.3492227681713778,
                    0.22399536480252866,
                    1.5664260318502412,
                    0.30661883521197447,
                    0.2294468796334667,
                    0.13029510054586987,
                    0.3910731908903076,
                    0.8835023010729277,
                    0.8385940095789622,
                    0.8441970716125923,
                    2.1665284865017735,
                    0.3123578169930662,
                    2.8473257803404404,
                    0.1762979807789653,
                    0.00469238715146074,
                    0.510221860069819,
                    0.668990060933106,
                    1.4980028703919883,
                    0.8028605080207305,
                    4.292973479741315,
                    1.7234758633781024,
                    2.2420531766012224,
                    0.6206571106877078,
                    0.40533149749460734,
                    0.31884208018755933,
                    0.9514039134563954,
                    0.7256707705063079,
                    1.4305451836956036,
                    0.440326992582996,
                    0.02499132820397373,
                    0.6816977523956462,
                    0.5475777653939751,
                    1.016376213561131,
                    4.1146923302751786,
                    3.0203842839134896,
                    0.3780343011770431,
                    1.4026763983302672,
                    0.029530574458493598,
                    6.316776313180346,
                    0.6613110348723535,
                    3.9928309826482065,
                    0.6353451041147588,
                    0.3412803914098628,
                    0.7179514749905515,
                    0.10727489173156474,
                    0.1970616681775811,
                    0.7875834415486438,
                    0.6129830721716488,
                    1.3392377403464626,
                    0.8538263512275143,
                    0.507581154183612,
                    1.963167376731948,
                    2.357814457591534,
                    0.7734421262620269,
                    2.295845770511729,
                    1.7459461186124312,
                    2.1531605383036694,
                    0.09969456906241735,
                    0.706310191757399,
                    1.7151328681246145,
                    0.04347988416735615,
                    0.5521042822734408,
                    1.8955228341222978,
                    0.9064076947288439,
                    0.7738216731920827,
                    2.4711511919973375,
                    0.3684620661963425,
                    0.38837584695141353,
                    0.5472856714468334,
                    0.4072551691177036,
                    0.6054835826724668,
                    0.3687646885343305,
                    0.46031840701208304,
                    0.975349254308334,
                    0.34149701121016224,
                    0.5307800350034532,
                    0.45907110607220947,
                    3.7774575538993993,
                    0.6801570134307922,
                    0.1147116669428663,
                    1.2735237442008653,
                    0.5558946484144193,
                    1.7680921704269723,
                    1.3025974408277312,
                    1.095265961522082,
                    0.46310512268588544,
                    0.45440529954797654,
                    0.7331245522662752,
                    0.15421461118680818,
                    1.5860407253567694,
                    0.5457049866330618,
                    0.9092704104941168,
                    1.7164434774361486,
                    0.4072328626657374,
                    0.11171904583134544,
                    0.6141960803512495,
                    0.10939938106503458,
                    0.33889627624319096,
                    1.6133520367351395,
                    1.682507585827455,
                    1.9242039713653178,
                    0.16528068077750122,
                    0.2461092887604024,
                    0.2272862178024241,
                    0.1929447814297684,
                    1.8537980539995014,
                    0.8118413677102749,
                    0.3410320190248439,
                    0.27001881331085403,
                    0.845657100989006,
                    1.3816925729892833,
                    0.09691462761026351,
                    4.00516418715028,
                    0.6766525020363411,
                    1.6252738199538321,
                    0.40737239671733955,
                    0.5281576837871597,
                    0.8655145365798941,
                    0.45195332266603216,
                    0.16219970255494742,
                    0.8691305517441335,
                    0.7979037907995185,
                    0.2802756768147099,
                    0.8722896260612988,
                    0.5454992294182399,
                    2.0895265238341802,
                    0.4152603383306317,
                    0.2728662436323848,
                    6.537341242727629,
                    0.1417770514748955,
                    0.5863376628208956,
                    0.36224781840864756,
                    0.9945408218115159,
                    0.4188116232996552,
                    1.7119443277000186,
                    0.5225859018642369,
                    0.4740789314462261,
                    0.6952776509813738,
                    2.3808286911260064,
                    2.027896726992475,
                    0.34122066228497,
                    2.98819042807286,
                    0.16754397630425288,
                    0.7262413985434706,
                    0.006404006212454609,
                    2.6561895451074053,
                    0.4192121739640292,
                    0.6572627410569855,
                    0.7890902385501525,
                    0.2617941213299443,
                    1.2395857113067925,
                    0.8672951724951149,
                    0.3164603421839957,
                    0.6070165385387006,
                    0.2860607144735922,
                    0.10315201918603437,
                    0.5717583979247609,
                    0.008196244184325078,
                    2.184342659809529,
                    0.20135175584536372,
                    1.770363043444217,
                    0.9174091802132611,
                    1.436670378228829,
                    0.7595654001734393,
                    0.12142998818032777,
                    0.6207607356758016,
                    1.0528612759470397,
                    1.2672588809270116,
                    0.008743013330994443,
                    1.0721675591333264,
                    1.1976779292613713,
                    0.15981633757561434,
                    0.5199715209604375,
                    2.2553791651637165,
                    1.070853684307588,
                    0.19337390142800745,
                    0.7242987381166821,
                    0.3519375177160678,
                    2.949152648210372,
                    0.481449655285223,
                    0.7200406847143046,
                    0.2777810930970417
                  ],
                  "xaxis": "x",
                  "yaxis": "y"
                }
              ],
              "layout": {
                "barmode": "relative",
                "legend": {
                  "tracegroupgap": 0
                },
                "margin": {
                  "t": 60
                },
                "template": {
                  "data": {
                    "bar": [
                      {
                        "error_x": {
                          "color": "#f2f5fa"
                        },
                        "error_y": {
                          "color": "#f2f5fa"
                        },
                        "marker": {
                          "line": {
                            "color": "rgb(17,17,17)",
                            "width": 0.5
                          }
                        },
                        "type": "bar"
                      }
                    ],
                    "barpolar": [
                      {
                        "marker": {
                          "line": {
                            "color": "rgb(17,17,17)",
                            "width": 0.5
                          }
                        },
                        "type": "barpolar"
                      }
                    ],
                    "carpet": [
                      {
                        "aaxis": {
                          "endlinecolor": "#A2B1C6",
                          "gridcolor": "#506784",
                          "linecolor": "#506784",
                          "minorgridcolor": "#506784",
                          "startlinecolor": "#A2B1C6"
                        },
                        "baxis": {
                          "endlinecolor": "#A2B1C6",
                          "gridcolor": "#506784",
                          "linecolor": "#506784",
                          "minorgridcolor": "#506784",
                          "startlinecolor": "#A2B1C6"
                        },
                        "type": "carpet"
                      }
                    ],
                    "choropleth": [
                      {
                        "colorbar": {
                          "outlinewidth": 0,
                          "ticks": ""
                        },
                        "type": "choropleth"
                      }
                    ],
                    "contour": [
                      {
                        "colorbar": {
                          "outlinewidth": 0,
                          "ticks": ""
                        },
                        "colorscale": [
                          [
                            0,
                            "#0d0887"
                          ],
                          [
                            0.1111111111111111,
                            "#46039f"
                          ],
                          [
                            0.2222222222222222,
                            "#7201a8"
                          ],
                          [
                            0.3333333333333333,
                            "#9c179e"
                          ],
                          [
                            0.4444444444444444,
                            "#bd3786"
                          ],
                          [
                            0.5555555555555556,
                            "#d8576b"
                          ],
                          [
                            0.6666666666666666,
                            "#ed7953"
                          ],
                          [
                            0.7777777777777778,
                            "#fb9f3a"
                          ],
                          [
                            0.8888888888888888,
                            "#fdca26"
                          ],
                          [
                            1,
                            "#f0f921"
                          ]
                        ],
                        "type": "contour"
                      }
                    ],
                    "contourcarpet": [
                      {
                        "colorbar": {
                          "outlinewidth": 0,
                          "ticks": ""
                        },
                        "type": "contourcarpet"
                      }
                    ],
                    "heatmap": [
                      {
                        "colorbar": {
                          "outlinewidth": 0,
                          "ticks": ""
                        },
                        "colorscale": [
                          [
                            0,
                            "#0d0887"
                          ],
                          [
                            0.1111111111111111,
                            "#46039f"
                          ],
                          [
                            0.2222222222222222,
                            "#7201a8"
                          ],
                          [
                            0.3333333333333333,
                            "#9c179e"
                          ],
                          [
                            0.4444444444444444,
                            "#bd3786"
                          ],
                          [
                            0.5555555555555556,
                            "#d8576b"
                          ],
                          [
                            0.6666666666666666,
                            "#ed7953"
                          ],
                          [
                            0.7777777777777778,
                            "#fb9f3a"
                          ],
                          [
                            0.8888888888888888,
                            "#fdca26"
                          ],
                          [
                            1,
                            "#f0f921"
                          ]
                        ],
                        "type": "heatmap"
                      }
                    ],
                    "heatmapgl": [
                      {
                        "colorbar": {
                          "outlinewidth": 0,
                          "ticks": ""
                        },
                        "colorscale": [
                          [
                            0,
                            "#0d0887"
                          ],
                          [
                            0.1111111111111111,
                            "#46039f"
                          ],
                          [
                            0.2222222222222222,
                            "#7201a8"
                          ],
                          [
                            0.3333333333333333,
                            "#9c179e"
                          ],
                          [
                            0.4444444444444444,
                            "#bd3786"
                          ],
                          [
                            0.5555555555555556,
                            "#d8576b"
                          ],
                          [
                            0.6666666666666666,
                            "#ed7953"
                          ],
                          [
                            0.7777777777777778,
                            "#fb9f3a"
                          ],
                          [
                            0.8888888888888888,
                            "#fdca26"
                          ],
                          [
                            1,
                            "#f0f921"
                          ]
                        ],
                        "type": "heatmapgl"
                      }
                    ],
                    "histogram": [
                      {
                        "marker": {
                          "colorbar": {
                            "outlinewidth": 0,
                            "ticks": ""
                          }
                        },
                        "type": "histogram"
                      }
                    ],
                    "histogram2d": [
                      {
                        "colorbar": {
                          "outlinewidth": 0,
                          "ticks": ""
                        },
                        "colorscale": [
                          [
                            0,
                            "#0d0887"
                          ],
                          [
                            0.1111111111111111,
                            "#46039f"
                          ],
                          [
                            0.2222222222222222,
                            "#7201a8"
                          ],
                          [
                            0.3333333333333333,
                            "#9c179e"
                          ],
                          [
                            0.4444444444444444,
                            "#bd3786"
                          ],
                          [
                            0.5555555555555556,
                            "#d8576b"
                          ],
                          [
                            0.6666666666666666,
                            "#ed7953"
                          ],
                          [
                            0.7777777777777778,
                            "#fb9f3a"
                          ],
                          [
                            0.8888888888888888,
                            "#fdca26"
                          ],
                          [
                            1,
                            "#f0f921"
                          ]
                        ],
                        "type": "histogram2d"
                      }
                    ],
                    "histogram2dcontour": [
                      {
                        "colorbar": {
                          "outlinewidth": 0,
                          "ticks": ""
                        },
                        "colorscale": [
                          [
                            0,
                            "#0d0887"
                          ],
                          [
                            0.1111111111111111,
                            "#46039f"
                          ],
                          [
                            0.2222222222222222,
                            "#7201a8"
                          ],
                          [
                            0.3333333333333333,
                            "#9c179e"
                          ],
                          [
                            0.4444444444444444,
                            "#bd3786"
                          ],
                          [
                            0.5555555555555556,
                            "#d8576b"
                          ],
                          [
                            0.6666666666666666,
                            "#ed7953"
                          ],
                          [
                            0.7777777777777778,
                            "#fb9f3a"
                          ],
                          [
                            0.8888888888888888,
                            "#fdca26"
                          ],
                          [
                            1,
                            "#f0f921"
                          ]
                        ],
                        "type": "histogram2dcontour"
                      }
                    ],
                    "mesh3d": [
                      {
                        "colorbar": {
                          "outlinewidth": 0,
                          "ticks": ""
                        },
                        "type": "mesh3d"
                      }
                    ],
                    "parcoords": [
                      {
                        "line": {
                          "colorbar": {
                            "outlinewidth": 0,
                            "ticks": ""
                          }
                        },
                        "type": "parcoords"
                      }
                    ],
                    "pie": [
                      {
                        "automargin": true,
                        "type": "pie"
                      }
                    ],
                    "scatter": [
                      {
                        "marker": {
                          "line": {
                            "color": "#283442"
                          }
                        },
                        "type": "scatter"
                      }
                    ],
                    "scatter3d": [
                      {
                        "line": {
                          "colorbar": {
                            "outlinewidth": 0,
                            "ticks": ""
                          }
                        },
                        "marker": {
                          "colorbar": {
                            "outlinewidth": 0,
                            "ticks": ""
                          }
                        },
                        "type": "scatter3d"
                      }
                    ],
                    "scattercarpet": [
                      {
                        "marker": {
                          "colorbar": {
                            "outlinewidth": 0,
                            "ticks": ""
                          }
                        },
                        "type": "scattercarpet"
                      }
                    ],
                    "scattergeo": [
                      {
                        "marker": {
                          "colorbar": {
                            "outlinewidth": 0,
                            "ticks": ""
                          }
                        },
                        "type": "scattergeo"
                      }
                    ],
                    "scattergl": [
                      {
                        "marker": {
                          "line": {
                            "color": "#283442"
                          }
                        },
                        "type": "scattergl"
                      }
                    ],
                    "scattermapbox": [
                      {
                        "marker": {
                          "colorbar": {
                            "outlinewidth": 0,
                            "ticks": ""
                          }
                        },
                        "type": "scattermapbox"
                      }
                    ],
                    "scatterpolar": [
                      {
                        "marker": {
                          "colorbar": {
                            "outlinewidth": 0,
                            "ticks": ""
                          }
                        },
                        "type": "scatterpolar"
                      }
                    ],
                    "scatterpolargl": [
                      {
                        "marker": {
                          "colorbar": {
                            "outlinewidth": 0,
                            "ticks": ""
                          }
                        },
                        "type": "scatterpolargl"
                      }
                    ],
                    "scatterternary": [
                      {
                        "marker": {
                          "colorbar": {
                            "outlinewidth": 0,
                            "ticks": ""
                          }
                        },
                        "type": "scatterternary"
                      }
                    ],
                    "surface": [
                      {
                        "colorbar": {
                          "outlinewidth": 0,
                          "ticks": ""
                        },
                        "colorscale": [
                          [
                            0,
                            "#0d0887"
                          ],
                          [
                            0.1111111111111111,
                            "#46039f"
                          ],
                          [
                            0.2222222222222222,
                            "#7201a8"
                          ],
                          [
                            0.3333333333333333,
                            "#9c179e"
                          ],
                          [
                            0.4444444444444444,
                            "#bd3786"
                          ],
                          [
                            0.5555555555555556,
                            "#d8576b"
                          ],
                          [
                            0.6666666666666666,
                            "#ed7953"
                          ],
                          [
                            0.7777777777777778,
                            "#fb9f3a"
                          ],
                          [
                            0.8888888888888888,
                            "#fdca26"
                          ],
                          [
                            1,
                            "#f0f921"
                          ]
                        ],
                        "type": "surface"
                      }
                    ],
                    "table": [
                      {
                        "cells": {
                          "fill": {
                            "color": "#506784"
                          },
                          "line": {
                            "color": "rgb(17,17,17)"
                          }
                        },
                        "header": {
                          "fill": {
                            "color": "#2a3f5f"
                          },
                          "line": {
                            "color": "rgb(17,17,17)"
                          }
                        },
                        "type": "table"
                      }
                    ]
                  },
                  "layout": {
                    "annotationdefaults": {
                      "arrowcolor": "#f2f5fa",
                      "arrowhead": 0,
                      "arrowwidth": 1
                    },
                    "coloraxis": {
                      "colorbar": {
                        "outlinewidth": 0,
                        "ticks": ""
                      }
                    },
                    "colorscale": {
                      "diverging": [
                        [
                          0,
                          "#8e0152"
                        ],
                        [
                          0.1,
                          "#c51b7d"
                        ],
                        [
                          0.2,
                          "#de77ae"
                        ],
                        [
                          0.3,
                          "#f1b6da"
                        ],
                        [
                          0.4,
                          "#fde0ef"
                        ],
                        [
                          0.5,
                          "#f7f7f7"
                        ],
                        [
                          0.6,
                          "#e6f5d0"
                        ],
                        [
                          0.7,
                          "#b8e186"
                        ],
                        [
                          0.8,
                          "#7fbc41"
                        ],
                        [
                          0.9,
                          "#4d9221"
                        ],
                        [
                          1,
                          "#276419"
                        ]
                      ],
                      "sequential": [
                        [
                          0,
                          "#0d0887"
                        ],
                        [
                          0.1111111111111111,
                          "#46039f"
                        ],
                        [
                          0.2222222222222222,
                          "#7201a8"
                        ],
                        [
                          0.3333333333333333,
                          "#9c179e"
                        ],
                        [
                          0.4444444444444444,
                          "#bd3786"
                        ],
                        [
                          0.5555555555555556,
                          "#d8576b"
                        ],
                        [
                          0.6666666666666666,
                          "#ed7953"
                        ],
                        [
                          0.7777777777777778,
                          "#fb9f3a"
                        ],
                        [
                          0.8888888888888888,
                          "#fdca26"
                        ],
                        [
                          1,
                          "#f0f921"
                        ]
                      ],
                      "sequentialminus": [
                        [
                          0,
                          "#0d0887"
                        ],
                        [
                          0.1111111111111111,
                          "#46039f"
                        ],
                        [
                          0.2222222222222222,
                          "#7201a8"
                        ],
                        [
                          0.3333333333333333,
                          "#9c179e"
                        ],
                        [
                          0.4444444444444444,
                          "#bd3786"
                        ],
                        [
                          0.5555555555555556,
                          "#d8576b"
                        ],
                        [
                          0.6666666666666666,
                          "#ed7953"
                        ],
                        [
                          0.7777777777777778,
                          "#fb9f3a"
                        ],
                        [
                          0.8888888888888888,
                          "#fdca26"
                        ],
                        [
                          1,
                          "#f0f921"
                        ]
                      ]
                    },
                    "colorway": [
                      "#636efa",
                      "#EF553B",
                      "#00cc96",
                      "#ab63fa",
                      "#FFA15A",
                      "#19d3f3",
                      "#FF6692",
                      "#B6E880",
                      "#FF97FF",
                      "#FECB52"
                    ],
                    "font": {
                      "color": "#f2f5fa"
                    },
                    "geo": {
                      "bgcolor": "rgb(17,17,17)",
                      "lakecolor": "rgb(17,17,17)",
                      "landcolor": "rgb(17,17,17)",
                      "showlakes": true,
                      "showland": true,
                      "subunitcolor": "#506784"
                    },
                    "hoverlabel": {
                      "align": "left"
                    },
                    "hovermode": "closest",
                    "mapbox": {
                      "style": "dark"
                    },
                    "paper_bgcolor": "rgb(17,17,17)",
                    "plot_bgcolor": "rgb(17,17,17)",
                    "polar": {
                      "angularaxis": {
                        "gridcolor": "#506784",
                        "linecolor": "#506784",
                        "ticks": ""
                      },
                      "bgcolor": "rgb(17,17,17)",
                      "radialaxis": {
                        "gridcolor": "#506784",
                        "linecolor": "#506784",
                        "ticks": ""
                      }
                    },
                    "scene": {
                      "xaxis": {
                        "backgroundcolor": "rgb(17,17,17)",
                        "gridcolor": "#506784",
                        "gridwidth": 2,
                        "linecolor": "#506784",
                        "showbackground": true,
                        "ticks": "",
                        "zerolinecolor": "#C8D4E3"
                      },
                      "yaxis": {
                        "backgroundcolor": "rgb(17,17,17)",
                        "gridcolor": "#506784",
                        "gridwidth": 2,
                        "linecolor": "#506784",
                        "showbackground": true,
                        "ticks": "",
                        "zerolinecolor": "#C8D4E3"
                      },
                      "zaxis": {
                        "backgroundcolor": "rgb(17,17,17)",
                        "gridcolor": "#506784",
                        "gridwidth": 2,
                        "linecolor": "#506784",
                        "showbackground": true,
                        "ticks": "",
                        "zerolinecolor": "#C8D4E3"
                      }
                    },
                    "shapedefaults": {
                      "line": {
                        "color": "#f2f5fa"
                      }
                    },
                    "sliderdefaults": {
                      "bgcolor": "#C8D4E3",
                      "bordercolor": "rgb(17,17,17)",
                      "borderwidth": 1,
                      "tickwidth": 0
                    },
                    "ternary": {
                      "aaxis": {
                        "gridcolor": "#506784",
                        "linecolor": "#506784",
                        "ticks": ""
                      },
                      "baxis": {
                        "gridcolor": "#506784",
                        "linecolor": "#506784",
                        "ticks": ""
                      },
                      "bgcolor": "rgb(17,17,17)",
                      "caxis": {
                        "gridcolor": "#506784",
                        "linecolor": "#506784",
                        "ticks": ""
                      }
                    },
                    "title": {
                      "x": 0.05
                    },
                    "updatemenudefaults": {
                      "bgcolor": "#506784",
                      "borderwidth": 0
                    },
                    "xaxis": {
                      "automargin": true,
                      "gridcolor": "#283442",
                      "linecolor": "#506784",
                      "ticks": "",
                      "title": {
                        "standoff": 15
                      },
                      "zerolinecolor": "#283442",
                      "zerolinewidth": 2
                    },
                    "yaxis": {
                      "automargin": true,
                      "gridcolor": "#283442",
                      "linecolor": "#506784",
                      "ticks": "",
                      "title": {
                        "standoff": 15
                      },
                      "zerolinecolor": "#283442",
                      "zerolinewidth": 2
                    }
                  }
                },
                "xaxis": {
                  "anchor": "y",
                  "domain": [
                    0,
                    1
                  ],
                  "title": {
                    "text": "x"
                  }
                },
                "yaxis": {
                  "anchor": "x",
                  "domain": [
                    0,
                    1
                  ],
                  "title": {
                    "text": "count"
                  }
                }
              }
            },
            "text/html": [
              "<div>\n",
              "        \n",
              "        \n",
              "            <div id=\"b291d930-51a0-4b60-8490-bb4dec6bc13f\" class=\"plotly-graph-div\" style=\"height:525px; width:100%;\"></div>\n",
              "            <script type=\"text/javascript\">\n",
              "                require([\"plotly\"], function(Plotly) {\n",
              "                    window.PLOTLYENV=window.PLOTLYENV || {};\n",
              "                    \n",
              "                if (document.getElementById(\"b291d930-51a0-4b60-8490-bb4dec6bc13f\")) {\n",
              "                    Plotly.newPlot(\n",
              "                        'b291d930-51a0-4b60-8490-bb4dec6bc13f',\n",
              "                        [{\"alignmentgroup\": \"True\", \"bingroup\": \"x\", \"hoverlabel\": {\"namelength\": 0}, \"hovertemplate\": \"x=%{x}<br>count=%{y}\", \"legendgroup\": \"\", \"marker\": {\"color\": \"#636efa\"}, \"name\": \"\", \"offsetgroup\": \"\", \"orientation\": \"v\", \"showlegend\": false, \"type\": \"histogram\", \"x\": [1.6916806366647068, 1.1294647069167092, 0.914661052726308, 0.3264201121364282, 0.05712731510866515, 1.7539862744012316, 1.1686650748882756, 1.3036518697856947, 0.4429006524350173, 1.208339343456738, 0.08400027939097612, 1.3027450095911683, 1.267970953044769, 1.769293927572244, 2.2068965436732952, 0.39613320007315245, 1.0122201375844264, 0.06442759831030437, 0.07099358614807799, 0.38650851286620824, 0.05384354468084124, 0.4348930520901541, 0.3543022766142268, 0.4652719304652106, 0.2773247052297912, 3.761965096911233, 0.21727497956461098, 0.18877506539532266, 0.39676577880288194, 0.07350199904233139, 3.5651743352949645, 0.6256700507782148, 0.5268061855154762, 0.21803409922366387, 2.1328675543755717, 1.297154353380315, 0.2607371282898707, 0.523374446799446, 3.6120854990989004, 0.8152509091648531, 1.1732527276987819, 0.30446244282733864, 0.11114861146143604, 0.9119904925589334, 0.24005914112663562, 3.55605604862984, 0.637682238491729, 3.098273802485106, 2.162406413275479, 3.148337007795239, 0.5350141838378965, 3.2642765449935722, 1.7426321816436579, 0.4137935052597322, 0.2054169319699026, 0.011894149009404784, 1.4226675052279423, 2.109396486367042, 1.8230209552174335, 0.4856937729436181, 0.05779675047789659, 0.84301248741663, 0.26584223744663005, 2.75070027703305, 0.4207353630436095, 0.5693386075371138, 2.8441214243102935, 0.5930613424650524, 0.7913025561405037, 0.5394065049956827, 3.2814375265342774, 1.554973559346428, 1.3335059137402518, 0.26718615665131157, 1.6119827990443896, 2.468510813913764, 0.5622450964919135, 0.8462973062720484, 0.7435010903857281, 2.9579959133649374, 0.10191413868835421, 3.5141627090330054, 0.6904415733127907, 1.6115948581298798, 2.8320804400993427, 1.6909174164086955, 5.372543533780538, 1.168889720834079, 2.7058693090052186, 0.39951977180753834, 0.05294009937843145, 2.67429153574414, 3.645741163546214, 3.6187496241816546, 0.992585201959586, 0.6241816091270626, 2.20549142127918, 0.41420222340762713, 0.3389603376081603, 1.4844901546947131, 1.1118800698921014, 0.7056883255307871, 2.3531089749645, 0.14662007575644273, 1.3172547913699275, 0.2626812672216398, 0.257137657891826, 0.4055774252305723, 0.3430976721226405, 0.44963232836199307, 0.5310360720974904, 1.0087482597734754, 0.643153155843896, 0.5553576554263951, 1.1464375277519043, 1.6697782067636562, 0.7291887283166387, 0.32675748845752295, 0.2289055127157658, 0.4523979380333686, 0.21339262272763257, 0.6490440555870579, 0.561621644131267, 0.29188279199078265, 0.35308219920048456, 0.2858661329887329, 1.3424366342009013, 0.4842636487895619, 0.348242274552098, 0.1783046098469703, 2.501429518252391, 0.1978236872585802, 0.18451512497139613, 2.8981916706852378, 0.16934183351536508, 1.5697122658490401, 0.023924922227405825, 0.9648284449852751, 1.5218182302660155, 0.3726572407821347, 2.078628111302534, 1.7806034164149953, 1.2194046972254942, 0.2365632062849981, 0.18811825580114305, 1.7228230938516231, 1.9241849903871433, 0.9608315309598018, 0.13856849742816427, 0.5655356657814885, 0.48824097973231323, 0.8965731357409708, 1.3691631972092362, 0.43818155417019783, 0.40667686027484384, 0.616274381903002, 0.04102702300944083, 2.623788880749689, 0.8745841108781074, 2.0946694280178835, 0.4179167020012666, 1.5219748980910124, 1.1111367669109942, 0.4672512541706383, 0.9417366622288987, 0.8332521937231208, 0.4564441580407277, 0.35143170636374316, 2.0421682962036827, 0.6916226129770247, 0.9436783635983421, 0.25636865138345066, 0.9795752082413957, 2.5019357146905987, 0.12007777989179665, 0.599432178540716, 0.5851329126832244, 0.4252008543787736, 0.03153816890499468, 1.3134976425028744, 1.960120682375454, 0.15570906204566967, 1.6465445078894938, 0.6503144018667867, 0.2983735946412427, 0.12149480940255215, 1.115723550647462, 0.19285628574685904, 0.20476835190224615, 1.7076288155537218, 0.3641592127022545, 0.9999469961364685, 0.056926284631934124, 0.7363680028664642, 0.10120458878920588, 0.3129687992167607, 0.0786986276039679, 3.690608385060545, 0.9706397918536915, 0.49544102529884165, 0.4384549713823019, 0.004236015056943301, 0.2307644276905509, 0.5182995651038329, 0.2058365446917411, 2.2480881853346064, 0.829040717006475, 2.264622423605553, 0.8917014577918784, 0.6607606982611453, 1.3147997496426858, 0.03433614153439289, 1.061111278034168, 0.9186391345043533, 0.5117247534579642, 0.8438242853090527, 0.2768428626288901, 0.6603362158518523, 0.29578882158305936, 0.5566143574973634, 2.88166383481326, 0.7401341270718452, 0.11577181383084276, 0.5276266917629017, 0.3254882377379859, 0.32064392517290335, 0.10556525722434323, 0.9399269713595093, 0.8286083762254124, 0.19964909501978811, 0.31261774242368, 0.3441603454020364, 0.32552705906150226, 1.4648342003198485, 0.8265420449447359, 0.5396104795573178, 0.7967396217237774, 1.5124537619604064, 0.7081137383500699, 0.25427309174077123, 1.0975492374504168, 0.4887099505174795, 0.2790460966462526, 0.3118583145527366, 0.7541935568379373, 0.3445581427382964, 0.4091442375301008, 0.7406708807088355, 0.7269895267762397, 0.45129094932219616, 0.0157286837328698, 0.37112334838888883, 0.3259228415743918, 0.8915080127803524, 0.02992313724231167, 0.7626465035481956, 0.8796836251286583, 0.8255592297434765, 1.3942459481716314, 2.945865727162687, 1.8645753026705514, 1.101234363687382, 0.29016035260291806, 0.5967323615953216, 0.8105686512881805, 0.6057445967837963, 0.6729032634088156, 0.9612558123101314, 1.6560197384208324, 0.3589459767083541, 1.8621743353019116, 0.4885682721909508, 1.7651229187801292, 0.143500033118148, 0.10271657183820937, 0.8022945660522561, 0.19812360334798432, 1.1088879293778247, 0.8726167354522295, 2.4498247683934187, 2.5402197856684636, 0.7667919021527888, 0.7312527568567907, 1.491212552007404, 4.180364334122388, 2.501915746540793, 0.018452882163054712, 3.8868383213392663, 3.9605806947329953, 1.7218177052890813, 1.2855287800011492, 0.3160879160824758, 0.41332364254444526, 0.028545333760862074, 0.3065662736283847, 0.23594870139135107, 0.8086075158335052, 0.42764747621893673, 1.4368307288987179, 2.4115984400044956, 1.425841971242085, 0.6725230346310396, 0.617202082922185, 1.0907709964365553, 3.2948444433705752, 1.6408228706329067, 3.2639549044235716, 0.06852958061324634, 0.16008742924322625, 0.09608249063049949, 0.21802152424371748, 3.224423485795836, 0.4113601174642981, 0.0410967729243673, 1.9565147435333277, 0.1319134885411177, 0.17085496714770693, 0.6143186449045915, 0.15649287568571923, 0.46530256649961294, 0.722556801849101, 1.121136409376868, 0.06797538797289483, 1.3936398535968804, 0.6663939904692936, 0.9156805234518015, 0.014539166996647906, 0.09617703004996403, 0.02946941542070624, 0.12949893171333204, 0.7555630635448822, 2.9527574595129322, 1.7866507660196675, 3.1210361901619725, 0.5009373208636064, 0.5423028485663209, 0.46698290150177724, 1.491102417163507, 1.8030060284347655, 5.008263175490723, 1.5140579082053274, 1.086077873753668, 0.012424374056040438, 0.05429732536634561, 0.07563055811813191, 0.41747746564008326, 4.01675437674596, 0.8483421668238244, 0.12587160803576783, 0.29330029447945044, 0.9864860178721256, 0.5951687636868578, 0.7922537379198218, 0.2911344940326592, 0.36148566961629147, 2.7955742469295335, 0.6041616304597031, 0.3676512965379161, 0.46075608356999204, 0.6629849076193116, 0.7666338372054489, 0.9423530420942791, 2.159231141194253, 0.2363671139689199, 0.5723567611675174, 0.09346041143815474, 0.7594041532228998, 1.046703327526475, 1.4232638994727558, 0.39518091362018676, 0.6867225379611486, 0.04269233068244308, 1.0194854492722756, 0.9646609092630544, 1.4617399131557214, 0.5263491560453426, 2.7699503547817024, 0.16480212144140266, 0.5531191400200851, 0.026038893513375662, 0.6917825493020431, 1.109441610203553, 0.6541173283591963, 0.4693156687521477, 0.5968572950181068, 0.6575642941278708, 1.3893759458924981, 1.9248645161767577, 0.39551579445441665, 1.5615493574743227, 3.2917694448843946, 1.1778051656188464, 4.048498315443086, 1.0477899541067448, 1.8198952034009315, 0.6391544305143603, 2.602663648901243, 0.4069522881359538, 1.4178998689823898, 0.9580915733419515, 0.506164089431196, 2.80986447900393, 2.6825707160306775, 0.8179363133045143, 2.8919875309560905, 1.2996328960805408, 0.6122699456307349, 0.17070161512824564, 0.023009110107456723, 1.241294919665126, 2.0527392321604743, 2.8245624085399768, 0.7271596441871847, 1.1879934925263171, 1.0404224568403502, 0.29997348707238863, 0.565841095655193, 1.13006042956359, 0.5282734304302011, 0.7766735218743397, 1.7657054334152396, 0.7617810684754488, 0.5016778001401432, 0.19877828064384717, 1.5448784625412453, 0.31617036381723507, 0.21011236414593695, 0.4245270688468348, 3.9218760671972785, 0.1887437494255777, 0.7551987311464293, 0.31539006861894503, 0.7641736319277898, 2.0132483350193886, 0.10033597980232072, 0.20001002112818508, 0.002406097751159454, 0.8951137307165319, 1.2357766454334196, 0.6551243642037967, 0.021439047717334344, 0.530805537426212, 1.9262247775733745, 0.6739837700054522, 0.9552552074031071, 0.2582425418194489, 0.22904579710279593, 1.444669134581001, 0.2303548170831961, 0.7966214895673795, 0.5289971078990275, 0.6307918360721868, 0.36480684126788004, 0.6641136406995783, 0.8470787800714931, 3.3808508342652677, 0.12062255283154986, 1.1057900068694189, 0.6170431075224869, 0.346320047341845, 0.3721693735841575, 0.30516678826829974, 0.3116289470221163, 0.06375172537865915, 2.0798059292817666, 0.8202276010223726, 2.667446264625866, 0.45348327839887315, 0.009227460986909243, 0.057361718758802825, 4.330414232934676, 0.9848857455949342, 0.4628690657091316, 0.044256608915894335, 1.5354716132291228, 0.24986994996242406, 0.008541963098581662, 1.2197517383253906, 1.167469922384238, 0.5945266204862147, 0.582186787045859, 0.8439038630937211, 0.5633377298991806, 0.8185652671448571, 0.2367086634275352, 0.32815401231632074, 0.8071203109072151, 4.340342756609632, 0.6795384114029863, 0.15742707738079018, 1.786347388248353, 0.12179287960876144, 0.018425981281027952, 1.9568066862128828, 2.9036714272640722, 0.35394737084177286, 0.4385261845527547, 4.080206714550195, 4.7002209571285185, 1.274001470756957, 0.011432586891656566, 0.3858236859681978, 0.037608185415752456, 1.2053909905750602, 1.8508329304174946, 0.25782567363686765, 1.3890247985133037, 0.620345552916498, 1.5155416094009986, 0.5834187277975812, 0.9418876304408738, 0.1824835428226703, 0.0010178941865540022, 0.41919733392927516, 1.7609692535679595, 0.25304876462854137, 0.7330859414509737, 0.44116925406307395, 0.08801070959508321, 0.05946158175841343, 0.5722567402998338, 1.574303169918613, 2.635326926751814, 0.8038212559134668, 1.4153920912619846, 2.41310111157825, 0.9012215824332558, 0.946535185974204, 0.3587407169176156, 0.4646452672271406, 0.019580702697452785, 2.3998537183982016, 1.3800817639470098, 0.824025438411181, 0.48886015577503933, 0.15799558141148007, 0.29598342323799304, 0.19093774735403587, 0.19270410521378054, 0.3448210475612969, 0.014569731628466986, 1.0533244295750517, 1.746284144779195, 1.529800971012688, 1.5741121974229162, 0.14615910721129527, 1.3508216125834478, 5.720808693207984, 0.10452307146225111, 0.4479639323046048, 0.5848923917414498, 0.6370566617370507, 0.49727473457287896, 0.21436477684436409, 0.017141812033523596, 1.208573971241355, 1.2148221903735448, 1.3934383075780665, 2.64410791636242, 1.740296311650814, 1.2734282850160914, 0.12014670468838112, 0.07032062058116574, 0.08560974377363396, 1.3907639595474817, 0.029284549950232962, 0.7852149746867255, 0.5693458099587017, 0.8313644651005504, 2.0012945076208184, 1.3708032046124938, 0.23369057291100084, 0.23133517585307445, 3.710916373122001, 0.4243574253037939, 0.12018512850136695, 0.48186189032608984, 1.7836001270983857, 0.7161118666259418, 0.4206535260329518, 0.7163926272862837, 1.1436125985753183, 0.4965050057268386, 1.9343332149942774, 0.2507763792674632, 0.6344985098076977, 0.932104281983767, 0.9412397057901359, 1.4938584327590283, 1.3471777333583537, 4.664381023081501, 2.503948399897284, 0.24811335973695073, 0.5200601727673304, 0.29211428937978207, 0.6931541030111671, 0.5231452991304356, 0.2117134135917129, 0.5281422746067523, 0.4086494047336075, 0.628356274217602, 1.0606925484169174, 1.324983501998649, 2.885220983814458, 0.21098743602252537, 0.43371394736650587, 0.9049733172769657, 2.2418763370213806, 0.8959558485315443, 0.4242143461139123, 0.18967014245689373, 0.1281535401502488, 0.8981690343964174, 0.17408841453039506, 2.108030297579643, 0.9974188528866352, 1.059640840202894, 0.8918796744977557, 0.26769634185869984, 0.012789302941474694, 0.557464555444571, 1.8030722684009926, 5.135257811485771, 0.01619528274273341, 0.3376528908788294, 0.9950417783321112, 3.800693655054273, 0.4635444428176683, 0.03433271437739157, 0.3366937460870216, 1.060839720997704, 0.3630535531052661, 0.05473276298200229, 0.5551433242778179, 0.1954932350533127, 0.39484141817518537, 0.25291912423116325, 0.4132272221666786, 1.3948054526031246, 0.803754341482738, 0.2805915203685173, 0.78250581426353, 1.0698667520483263, 0.774308336110709, 0.20290525029850584, 0.5170819232827308, 0.7055355675541908, 0.5757896948463405, 2.959781912481767, 1.1003509105324116, 0.1950416471986107, 0.3580371057595249, 0.30489329599279125, 0.1675577965296515, 0.9408807427330126, 0.6508544375745248, 0.13015342099326507, 0.18721407982643734, 1.248017734674458, 3.0133941202553074, 3.8825299825254445, 4.460202820860151, 0.23854293116172992, 1.5284889538189372, 0.4844845743708218, 0.9120888821823204, 2.1803251187272816, 0.3292372383519146, 1.110252646708088, 0.14415800389764394, 2.4696006594975657, 0.15839241410170138, 0.15067288071947274, 2.6927391587205163, 0.5955069398624615, 0.2549674114866006, 1.4345750369870798, 0.5877441337401654, 0.008921700004392056, 0.048201875466569635, 2.2020055875800497, 0.589582752222538, 0.5953732175892231, 0.9485004654701066, 2.354719421608381, 0.1279868444045675, 0.6218257883649706, 0.09075249997588071, 0.9752098185893421, 0.08062587954708866, 0.7669038647014054, 0.5361027698692313, 0.38575742801843477, 2.160533502198403, 0.3403957122426901, 0.5588549289593222, 0.6471749929803469, 0.17408712591420147, 3.1353346915705576, 0.08925853666774061, 0.23094018399536625, 1.682686718018583, 0.3622055411876867, 1.8815147157969903, 0.969683660300207, 0.8176437581712419, 0.10982706754824405, 0.25749836400262155, 1.2248669204931284, 0.8832477146488428, 3.4338426337826764, 3.6704939596191193, 0.13148400616691736, 0.8156033085637595, 0.7515048287559937, 0.04001758985358061, 1.0299833945418007, 0.36319576229231143, 0.592481376816886, 0.2128750937550988, 2.1242844651823725, 1.4501382279158408, 1.052193673834436, 0.687293191148102, 1.2404885330309559, 1.593752550294256, 0.03134293415182633, 0.5670404285704674, 0.29624929059112587, 0.291990330447096, 2.0928167203871433, 0.4882535885689735, 0.161614877240423, 1.300662932531092, 1.6427417877234771, 0.8127784647157162, 0.48227652460347703, 1.1913510679926556, 0.29254848931653404, 3.6287955861570174, 0.9992873170370048, 1.6552791633718806, 1.0303686553670373, 0.04045449961825638, 0.2685404331372957, 0.7140966518361386, 1.0561644777545034, 0.2887075514737418, 0.33309206105944694, 1.7731636219794655, 0.966306846072981, 3.4493946131089035, 2.176553538299332, 2.3973357094327037, 0.2657456185893585, 5.5072198521630815, 0.6179642428166561, 0.5526622241152319, 1.513077677713355, 0.2885035157903067, 0.5894196953914811, 2.986456526925943, 0.16959275925166914, 1.4159929519785295, 2.174047280093856, 2.1544707180603186, 0.6206610135027, 1.9259129279356857, 1.908787293861015, 0.21783237673771752, 2.7285723125204107, 3.3851090894007716, 0.7365655463070218, 4.133980712921019, 0.2639413314551724, 0.13280134831900278, 1.4254862505075772, 0.72542016049982, 0.5721924066705668, 0.06792062765821132, 1.4138446942680816, 0.3125302338953492, 0.47697334349343373, 0.23630659828934236, 0.33928893897005896, 1.6739829869043006, 0.6068314348771324, 0.5655789134267861, 0.6508832218903964, 2.323047616976497, 0.02236804682390528, 0.6209938397398568, 0.09335627702827883, 0.6067456196516782, 1.0746965238292228, 1.0128203607078357, 1.7852292283507087, 3.217889651958438, 1.5784753673102097, 0.898517119330662, 1.8973514104380682, 0.03551508215422342, 1.1509577942487867, 0.9728180219216054, 2.3642706671339093, 0.2529550229606536, 1.3336528143646724, 3.4297744919253037, 0.6905691861567365, 0.2776192724331766, 0.7839832936091825, 0.7828639817826539, 0.3969187419045334, 1.4086598613519428, 2.8953250904097563, 0.4497876271558713, 0.08304456645638204, 0.5527479201383191, 1.3492227681713778, 0.22399536480252866, 1.5664260318502412, 0.30661883521197447, 0.2294468796334667, 0.13029510054586987, 0.3910731908903076, 0.8835023010729277, 0.8385940095789622, 0.8441970716125923, 2.1665284865017735, 0.3123578169930662, 2.8473257803404404, 0.1762979807789653, 0.00469238715146074, 0.510221860069819, 0.668990060933106, 1.4980028703919883, 0.8028605080207305, 4.292973479741315, 1.7234758633781024, 2.2420531766012224, 0.6206571106877078, 0.40533149749460734, 0.31884208018755933, 0.9514039134563954, 0.7256707705063079, 1.4305451836956036, 0.440326992582996, 0.02499132820397373, 0.6816977523956462, 0.5475777653939751, 1.016376213561131, 4.1146923302751786, 3.0203842839134896, 0.3780343011770431, 1.4026763983302672, 0.029530574458493598, 6.316776313180346, 0.6613110348723535, 3.9928309826482065, 0.6353451041147588, 0.3412803914098628, 0.7179514749905515, 0.10727489173156474, 0.1970616681775811, 0.7875834415486438, 0.6129830721716488, 1.3392377403464626, 0.8538263512275143, 0.507581154183612, 1.963167376731948, 2.357814457591534, 0.7734421262620269, 2.295845770511729, 1.7459461186124312, 2.1531605383036694, 0.09969456906241735, 0.706310191757399, 1.7151328681246145, 0.04347988416735615, 0.5521042822734408, 1.8955228341222978, 0.9064076947288439, 0.7738216731920827, 2.4711511919973375, 0.3684620661963425, 0.38837584695141353, 0.5472856714468334, 0.4072551691177036, 0.6054835826724668, 0.3687646885343305, 0.46031840701208304, 0.975349254308334, 0.34149701121016224, 0.5307800350034532, 0.45907110607220947, 3.7774575538993993, 0.6801570134307922, 0.1147116669428663, 1.2735237442008653, 0.5558946484144193, 1.7680921704269723, 1.3025974408277312, 1.095265961522082, 0.46310512268588544, 0.45440529954797654, 0.7331245522662752, 0.15421461118680818, 1.5860407253567694, 0.5457049866330618, 0.9092704104941168, 1.7164434774361486, 0.4072328626657374, 0.11171904583134544, 0.6141960803512495, 0.10939938106503458, 0.33889627624319096, 1.6133520367351395, 1.682507585827455, 1.9242039713653178, 0.16528068077750122, 0.2461092887604024, 0.2272862178024241, 0.1929447814297684, 1.8537980539995014, 0.8118413677102749, 0.3410320190248439, 0.27001881331085403, 0.845657100989006, 1.3816925729892833, 0.09691462761026351, 4.00516418715028, 0.6766525020363411, 1.6252738199538321, 0.40737239671733955, 0.5281576837871597, 0.8655145365798941, 0.45195332266603216, 0.16219970255494742, 0.8691305517441335, 0.7979037907995185, 0.2802756768147099, 0.8722896260612988, 0.5454992294182399, 2.0895265238341802, 0.4152603383306317, 0.2728662436323848, 6.537341242727629, 0.1417770514748955, 0.5863376628208956, 0.36224781840864756, 0.9945408218115159, 0.4188116232996552, 1.7119443277000186, 0.5225859018642369, 0.4740789314462261, 0.6952776509813738, 2.3808286911260064, 2.027896726992475, 0.34122066228497, 2.98819042807286, 0.16754397630425288, 0.7262413985434706, 0.006404006212454609, 2.6561895451074053, 0.4192121739640292, 0.6572627410569855, 0.7890902385501525, 0.2617941213299443, 1.2395857113067925, 0.8672951724951149, 0.3164603421839957, 0.6070165385387006, 0.2860607144735922, 0.10315201918603437, 0.5717583979247609, 0.008196244184325078, 2.184342659809529, 0.20135175584536372, 1.770363043444217, 0.9174091802132611, 1.436670378228829, 0.7595654001734393, 0.12142998818032777, 0.6207607356758016, 1.0528612759470397, 1.2672588809270116, 0.008743013330994443, 1.0721675591333264, 1.1976779292613713, 0.15981633757561434, 0.5199715209604375, 2.2553791651637165, 1.070853684307588, 0.19337390142800745, 0.7242987381166821, 0.3519375177160678, 2.949152648210372, 0.481449655285223, 0.7200406847143046, 0.2777810930970417], \"xaxis\": \"x\", \"yaxis\": \"y\"}],\n",
              "                        {\"barmode\": \"relative\", \"legend\": {\"tracegroupgap\": 0}, \"margin\": {\"t\": 60}, \"template\": {\"data\": {\"bar\": [{\"error_x\": {\"color\": \"#f2f5fa\"}, \"error_y\": {\"color\": \"#f2f5fa\"}, \"marker\": {\"line\": {\"color\": \"rgb(17,17,17)\", \"width\": 0.5}}, \"type\": \"bar\"}], \"barpolar\": [{\"marker\": {\"line\": {\"color\": \"rgb(17,17,17)\", \"width\": 0.5}}, \"type\": \"barpolar\"}], \"carpet\": [{\"aaxis\": {\"endlinecolor\": \"#A2B1C6\", \"gridcolor\": \"#506784\", \"linecolor\": \"#506784\", \"minorgridcolor\": \"#506784\", \"startlinecolor\": \"#A2B1C6\"}, \"baxis\": {\"endlinecolor\": \"#A2B1C6\", \"gridcolor\": \"#506784\", \"linecolor\": \"#506784\", \"minorgridcolor\": \"#506784\", \"startlinecolor\": \"#A2B1C6\"}, \"type\": \"carpet\"}], \"choropleth\": [{\"colorbar\": {\"outlinewidth\": 0, \"ticks\": \"\"}, \"type\": \"choropleth\"}], \"contour\": [{\"colorbar\": {\"outlinewidth\": 0, \"ticks\": \"\"}, \"colorscale\": [[0.0, \"#0d0887\"], [0.1111111111111111, \"#46039f\"], [0.2222222222222222, \"#7201a8\"], [0.3333333333333333, \"#9c179e\"], [0.4444444444444444, \"#bd3786\"], [0.5555555555555556, \"#d8576b\"], [0.6666666666666666, \"#ed7953\"], [0.7777777777777778, \"#fb9f3a\"], [0.8888888888888888, \"#fdca26\"], [1.0, \"#f0f921\"]], \"type\": \"contour\"}], \"contourcarpet\": [{\"colorbar\": {\"outlinewidth\": 0, \"ticks\": \"\"}, \"type\": \"contourcarpet\"}], \"heatmap\": [{\"colorbar\": {\"outlinewidth\": 0, \"ticks\": \"\"}, \"colorscale\": [[0.0, \"#0d0887\"], [0.1111111111111111, \"#46039f\"], [0.2222222222222222, \"#7201a8\"], [0.3333333333333333, \"#9c179e\"], [0.4444444444444444, \"#bd3786\"], [0.5555555555555556, \"#d8576b\"], [0.6666666666666666, \"#ed7953\"], [0.7777777777777778, \"#fb9f3a\"], [0.8888888888888888, \"#fdca26\"], [1.0, \"#f0f921\"]], \"type\": \"heatmap\"}], \"heatmapgl\": [{\"colorbar\": {\"outlinewidth\": 0, \"ticks\": \"\"}, \"colorscale\": [[0.0, \"#0d0887\"], [0.1111111111111111, \"#46039f\"], [0.2222222222222222, \"#7201a8\"], [0.3333333333333333, \"#9c179e\"], [0.4444444444444444, \"#bd3786\"], [0.5555555555555556, \"#d8576b\"], [0.6666666666666666, \"#ed7953\"], [0.7777777777777778, \"#fb9f3a\"], [0.8888888888888888, \"#fdca26\"], [1.0, \"#f0f921\"]], \"type\": \"heatmapgl\"}], \"histogram\": [{\"marker\": {\"colorbar\": {\"outlinewidth\": 0, \"ticks\": \"\"}}, \"type\": \"histogram\"}], \"histogram2d\": [{\"colorbar\": {\"outlinewidth\": 0, \"ticks\": \"\"}, \"colorscale\": [[0.0, \"#0d0887\"], [0.1111111111111111, \"#46039f\"], [0.2222222222222222, \"#7201a8\"], [0.3333333333333333, \"#9c179e\"], [0.4444444444444444, \"#bd3786\"], [0.5555555555555556, \"#d8576b\"], [0.6666666666666666, \"#ed7953\"], [0.7777777777777778, \"#fb9f3a\"], [0.8888888888888888, \"#fdca26\"], [1.0, \"#f0f921\"]], \"type\": \"histogram2d\"}], \"histogram2dcontour\": [{\"colorbar\": {\"outlinewidth\": 0, \"ticks\": \"\"}, \"colorscale\": [[0.0, \"#0d0887\"], [0.1111111111111111, \"#46039f\"], [0.2222222222222222, \"#7201a8\"], [0.3333333333333333, \"#9c179e\"], [0.4444444444444444, \"#bd3786\"], [0.5555555555555556, \"#d8576b\"], [0.6666666666666666, \"#ed7953\"], [0.7777777777777778, \"#fb9f3a\"], [0.8888888888888888, \"#fdca26\"], [1.0, \"#f0f921\"]], \"type\": \"histogram2dcontour\"}], \"mesh3d\": [{\"colorbar\": {\"outlinewidth\": 0, \"ticks\": \"\"}, \"type\": \"mesh3d\"}], \"parcoords\": [{\"line\": {\"colorbar\": {\"outlinewidth\": 0, \"ticks\": \"\"}}, \"type\": \"parcoords\"}], \"pie\": [{\"automargin\": true, \"type\": \"pie\"}], \"scatter\": [{\"marker\": {\"line\": {\"color\": \"#283442\"}}, \"type\": \"scatter\"}], \"scatter3d\": [{\"line\": {\"colorbar\": {\"outlinewidth\": 0, \"ticks\": \"\"}}, \"marker\": {\"colorbar\": {\"outlinewidth\": 0, \"ticks\": \"\"}}, \"type\": \"scatter3d\"}], \"scattercarpet\": [{\"marker\": {\"colorbar\": {\"outlinewidth\": 0, \"ticks\": \"\"}}, \"type\": \"scattercarpet\"}], \"scattergeo\": [{\"marker\": {\"colorbar\": {\"outlinewidth\": 0, \"ticks\": \"\"}}, \"type\": \"scattergeo\"}], \"scattergl\": [{\"marker\": {\"line\": {\"color\": \"#283442\"}}, \"type\": \"scattergl\"}], \"scattermapbox\": [{\"marker\": {\"colorbar\": {\"outlinewidth\": 0, \"ticks\": \"\"}}, \"type\": \"scattermapbox\"}], \"scatterpolar\": [{\"marker\": {\"colorbar\": {\"outlinewidth\": 0, \"ticks\": \"\"}}, \"type\": \"scatterpolar\"}], \"scatterpolargl\": [{\"marker\": {\"colorbar\": {\"outlinewidth\": 0, \"ticks\": \"\"}}, \"type\": \"scatterpolargl\"}], \"scatterternary\": [{\"marker\": {\"colorbar\": {\"outlinewidth\": 0, \"ticks\": \"\"}}, \"type\": \"scatterternary\"}], \"surface\": [{\"colorbar\": {\"outlinewidth\": 0, \"ticks\": \"\"}, \"colorscale\": [[0.0, \"#0d0887\"], [0.1111111111111111, \"#46039f\"], [0.2222222222222222, \"#7201a8\"], [0.3333333333333333, \"#9c179e\"], [0.4444444444444444, \"#bd3786\"], [0.5555555555555556, \"#d8576b\"], [0.6666666666666666, \"#ed7953\"], [0.7777777777777778, \"#fb9f3a\"], [0.8888888888888888, \"#fdca26\"], [1.0, \"#f0f921\"]], \"type\": \"surface\"}], \"table\": [{\"cells\": {\"fill\": {\"color\": \"#506784\"}, \"line\": {\"color\": \"rgb(17,17,17)\"}}, \"header\": {\"fill\": {\"color\": \"#2a3f5f\"}, \"line\": {\"color\": \"rgb(17,17,17)\"}}, \"type\": \"table\"}]}, \"layout\": {\"annotationdefaults\": {\"arrowcolor\": \"#f2f5fa\", \"arrowhead\": 0, \"arrowwidth\": 1}, \"coloraxis\": {\"colorbar\": {\"outlinewidth\": 0, \"ticks\": \"\"}}, \"colorscale\": {\"diverging\": [[0, \"#8e0152\"], [0.1, \"#c51b7d\"], [0.2, \"#de77ae\"], [0.3, \"#f1b6da\"], [0.4, \"#fde0ef\"], [0.5, \"#f7f7f7\"], [0.6, \"#e6f5d0\"], [0.7, \"#b8e186\"], [0.8, \"#7fbc41\"], [0.9, \"#4d9221\"], [1, \"#276419\"]], \"sequential\": [[0.0, \"#0d0887\"], [0.1111111111111111, \"#46039f\"], [0.2222222222222222, \"#7201a8\"], [0.3333333333333333, \"#9c179e\"], [0.4444444444444444, \"#bd3786\"], [0.5555555555555556, \"#d8576b\"], [0.6666666666666666, \"#ed7953\"], [0.7777777777777778, \"#fb9f3a\"], [0.8888888888888888, \"#fdca26\"], [1.0, \"#f0f921\"]], \"sequentialminus\": [[0.0, \"#0d0887\"], [0.1111111111111111, \"#46039f\"], [0.2222222222222222, \"#7201a8\"], [0.3333333333333333, \"#9c179e\"], [0.4444444444444444, \"#bd3786\"], [0.5555555555555556, \"#d8576b\"], [0.6666666666666666, \"#ed7953\"], [0.7777777777777778, \"#fb9f3a\"], [0.8888888888888888, \"#fdca26\"], [1.0, \"#f0f921\"]]}, \"colorway\": [\"#636efa\", \"#EF553B\", \"#00cc96\", \"#ab63fa\", \"#FFA15A\", \"#19d3f3\", \"#FF6692\", \"#B6E880\", \"#FF97FF\", \"#FECB52\"], \"font\": {\"color\": \"#f2f5fa\"}, \"geo\": {\"bgcolor\": \"rgb(17,17,17)\", \"lakecolor\": \"rgb(17,17,17)\", \"landcolor\": \"rgb(17,17,17)\", \"showlakes\": true, \"showland\": true, \"subunitcolor\": \"#506784\"}, \"hoverlabel\": {\"align\": \"left\"}, \"hovermode\": \"closest\", \"mapbox\": {\"style\": \"dark\"}, \"paper_bgcolor\": \"rgb(17,17,17)\", \"plot_bgcolor\": \"rgb(17,17,17)\", \"polar\": {\"angularaxis\": {\"gridcolor\": \"#506784\", \"linecolor\": \"#506784\", \"ticks\": \"\"}, \"bgcolor\": \"rgb(17,17,17)\", \"radialaxis\": {\"gridcolor\": \"#506784\", \"linecolor\": \"#506784\", \"ticks\": \"\"}}, \"scene\": {\"xaxis\": {\"backgroundcolor\": \"rgb(17,17,17)\", \"gridcolor\": \"#506784\", \"gridwidth\": 2, \"linecolor\": \"#506784\", \"showbackground\": true, \"ticks\": \"\", \"zerolinecolor\": \"#C8D4E3\"}, \"yaxis\": {\"backgroundcolor\": \"rgb(17,17,17)\", \"gridcolor\": \"#506784\", \"gridwidth\": 2, \"linecolor\": \"#506784\", \"showbackground\": true, \"ticks\": \"\", \"zerolinecolor\": \"#C8D4E3\"}, \"zaxis\": {\"backgroundcolor\": \"rgb(17,17,17)\", \"gridcolor\": \"#506784\", \"gridwidth\": 2, \"linecolor\": \"#506784\", \"showbackground\": true, \"ticks\": \"\", \"zerolinecolor\": \"#C8D4E3\"}}, \"shapedefaults\": {\"line\": {\"color\": \"#f2f5fa\"}}, \"sliderdefaults\": {\"bgcolor\": \"#C8D4E3\", \"bordercolor\": \"rgb(17,17,17)\", \"borderwidth\": 1, \"tickwidth\": 0}, \"ternary\": {\"aaxis\": {\"gridcolor\": \"#506784\", \"linecolor\": \"#506784\", \"ticks\": \"\"}, \"baxis\": {\"gridcolor\": \"#506784\", \"linecolor\": \"#506784\", \"ticks\": \"\"}, \"bgcolor\": \"rgb(17,17,17)\", \"caxis\": {\"gridcolor\": \"#506784\", \"linecolor\": \"#506784\", \"ticks\": \"\"}}, \"title\": {\"x\": 0.05}, \"updatemenudefaults\": {\"bgcolor\": \"#506784\", \"borderwidth\": 0}, \"xaxis\": {\"automargin\": true, \"gridcolor\": \"#283442\", \"linecolor\": \"#506784\", \"ticks\": \"\", \"title\": {\"standoff\": 15}, \"zerolinecolor\": \"#283442\", \"zerolinewidth\": 2}, \"yaxis\": {\"automargin\": true, \"gridcolor\": \"#283442\", \"linecolor\": \"#506784\", \"ticks\": \"\", \"title\": {\"standoff\": 15}, \"zerolinecolor\": \"#283442\", \"zerolinewidth\": 2}}}, \"xaxis\": {\"anchor\": \"y\", \"domain\": [0.0, 1.0], \"title\": {\"text\": \"x\"}}, \"yaxis\": {\"anchor\": \"x\", \"domain\": [0.0, 1.0], \"title\": {\"text\": \"count\"}}},\n",
              "                        {\"responsive\": true}\n",
              "                    ).then(function(){\n",
              "                            \n",
              "var gd = document.getElementById('b291d930-51a0-4b60-8490-bb4dec6bc13f');\n",
              "var x = new MutationObserver(function (mutations, observer) {{\n",
              "        var display = window.getComputedStyle(gd).display;\n",
              "        if (!display || display === 'none') {{\n",
              "            console.log([gd, 'removed!']);\n",
              "            Plotly.purge(gd);\n",
              "            observer.disconnect();\n",
              "        }}\n",
              "}});\n",
              "\n",
              "// Listen for the removal of the full notebook cells\n",
              "var notebookContainer = gd.closest('#notebook-container');\n",
              "if (notebookContainer) {{\n",
              "    x.observe(notebookContainer, {childList: true});\n",
              "}}\n",
              "\n",
              "// Listen for the clearing of the current output cell\n",
              "var outputEl = gd.closest('.output');\n",
              "if (outputEl) {{\n",
              "    x.observe(outputEl, {childList: true});\n",
              "}}\n",
              "\n",
              "                        })\n",
              "                };\n",
              "                });\n",
              "            </script>\n",
              "        </div>"
            ]
          },
          "metadata": {
            "tags": []
          }
        }
      ]
    },
    {
      "cell_type": "code",
      "metadata": {
        "id": "IyyALtQ1EUjM",
        "outputId": "cb883d31-c99f-44be-91a0-e59b2b754577"
      },
      "source": [
        "px.histogram(scaled_exp_df, x=\"x\")"
      ],
      "execution_count": null,
      "outputs": [
        {
          "output_type": "display_data",
          "data": {
            "application/vnd.plotly.v1+json": {
              "config": {
                "plotlyServerURL": "https://plot.ly"
              },
              "data": [
                {
                  "alignmentgroup": "True",
                  "bingroup": "x",
                  "hoverlabel": {
                    "namelength": 0
                  },
                  "hovertemplate": "x=%{x}<br>count=%{y}",
                  "legendgroup": "",
                  "marker": {
                    "color": "#636efa"
                  },
                  "name": "",
                  "offsetgroup": "",
                  "orientation": "v",
                  "showlegend": false,
                  "type": "histogram",
                  "x": [
                    0.25865653400631006,
                    0.17264244018497457,
                    0.1397793698109629,
                    0.049783678162510864,
                    0.008584248044374201,
                    0.2681887487414381,
                    0.178639751805171,
                    0.19929154451789663,
                    0.06760417664268288,
                    0.18470956604979794,
                    0.012695575292024686,
                    0.19915280288193873,
                    0.19383267799029594,
                    0.27053068508007244,
                    0.3374800376084668,
                    0.06044916764633274,
                    0.15470505198057186,
                    0.009701127184582077,
                    0.010705665590601904,
                    0.058976675131241295,
                    0.008081860042324569,
                    0.06637908419883208,
                    0.05404940416641518,
                    0.07102678547600913,
                    0.04227251258995772,
                    0.5753918529082764,
                    0.033085432566050475,
                    0.028725196291073417,
                    0.06054594662986799,
                    0.011089430707548463,
                    0.5452845967150539,
                    0.09556628754161693,
                    0.08044098544272286,
                    0.033201571199128095,
                    0.3261542531650997,
                    0.19829748163898014,
                    0.03973475916874381,
                    0.07991595959362742,
                    0.5524615922984206,
                    0.12457049193565954,
                    0.1793416223470453,
                    0.04642434782675099,
                    0.016849031390018903,
                    0.13937079758695092,
                    0.03657120894936085,
                    0.5438895790302021,
                    0.09740404664149306,
                    0.4738529205397815,
                    0.3306734388486691,
                    0.4815121507584497,
                    0.08169673701508844,
                    0.4992498805211934,
                    0.26645167238334944,
                    0.0631510390570428,
                    0.03127125554903446,
                    0.001663971355590661,
                    0.21749989026456357,
                    0.322563386135278,
                    0.2787504479008915,
                    0.07415114781083237,
                    0.008686665769681634,
                    0.12881776930726838,
                    0.04051579598172504,
                    0.4206772272764371,
                    0.06421308225988201,
                    0.0869480720346264,
                    0.434969841380067,
                    0.09057744189027063,
                    0.12090660449507036,
                    0.08236872353160106,
                    0.5018753598045179,
                    0.23774155320922447,
                    0.20385895074348073,
                    0.0407214038032814,
                    0.24646346561441265,
                    0.3775047206435957,
                    0.08586282721625559,
                    0.12932031770952138,
                    0.11359340054143716,
                    0.45239163693430023,
                    0.015436238252246277,
                    0.5374802664299947,
                    0.10547576096891197,
                    0.24640411406556426,
                    0.43312767666928376,
                    0.25853976801795336,
                    0.8217961923185645,
                    0.17867412065962085,
                    0.4138184833561508,
                    0.06096728334437907,
                    0.007943640854834183,
                    0.40898736170300815,
                    0.5576106130326574,
                    0.5534811448400251,
                    0.15170107947526076,
                    0.09533856905650183,
                    0.33726506623707203,
                    0.06321356933990988,
                    0.05170222239648471,
                    0.22695821204121952,
                    0.16995214533771422,
                    0.10780837999722236,
                    0.3598492539851076,
                    0.022275853535059207,
                    0.20137267191305053,
                    0.040032195330956165,
                    0.03918407184712468,
                    0.06189405105460657,
                    0.05233519819860803,
                    0.06863406386949493,
                    0.08108812089739072,
                    0.15417388520288697,
                    0.09824104889190775,
                    0.08480910929285211,
                    0.17523913253480816,
                    0.25530565481427325,
                    0.11140373499004061,
                    0.049835293773169115,
                    0.03486480187368285,
                    0.06905717783187147,
                    0.03249146610662723,
                    0.09914230475534004,
                    0.08576744448694407,
                    0.04449977185861689,
                    0.0538627430499613,
                    0.043579275934345844,
                    0.20522527244827257,
                    0.07393235139000118,
                    0.05312227713505719,
                    0.02712330865638512,
                    0.3825409929611172,
                    0.0301095558737855,
                    0.028073462862849223,
                    0.44324211364869837,
                    0.02575208268519663,
                    0.23999644571020542,
                    0.003504573874235389,
                    0.14745453971671188,
                    0.23266907938679446,
                    0.05685755229329828,
                    0.31785609528936604,
                    0.27226093743138485,
                    0.18640246788141035,
                    0.03603636165750864,
                    0.028624710198333497,
                    0.2634210561277359,
                    0.2942276557707087,
                    0.14684304701472287,
                    0.021044032846433757,
                    0.08636625538437238,
                    0.07454084805252309,
                    0.1370120775549311,
                    0.20931420158827607,
                    0.06688219610206707,
                    0.06206225494931092,
                    0.09412883281757702,
                    0.006121044919207826,
                    0.4012608995466151,
                    0.13364795009514574,
                    0.320310275699356,
                    0.06378185190421548,
                    0.23269304818647632,
                    0.16983842651729,
                    0.07132960459921996,
                    0.14392169999550525,
                    0.12732453019208786,
                    0.06967621391555331,
                    0.053610232158328344,
                    0.3122780641616696,
                    0.10565644965294067,
                    0.14421876323211466,
                    0.03906642061303341,
                    0.14971066483013856,
                    0.3826184365652988,
                    0.0182151156478232,
                    0.09155212379261037,
                    0.08936446184643641,
                    0.06489626317016559,
                    0.00466933367445062,
                    0.20079786117210213,
                    0.2997255006709815,
                    0.023666388520029866,
                    0.2517511031748798,
                    0.09933665656628775,
                    0.045492807592063096,
                    0.01843190870336746,
                    0.17054016409847803,
                    0.02934958711966474,
                    0.031172028501492328,
                    0.26109646514780943,
                    0.05555742871820358,
                    0.1528273692538296,
                    0.008553492149047222,
                    0.1125021008705211,
                    0.01532768335657902,
                    0.047725745559976766,
                    0.01188446918476768,
                    0.5644749034176098,
                    0.1483436246897975,
                    0.07564239171592456,
                    0.06692402653142689,
                    0.0004923441970029822,
                    0.035149199519830504,
                    0.07913954731641873,
                    0.031335452605921514,
                    0.3437819965944012,
                    0.12668021128494783,
                    0.3463115896682562,
                    0.1362667536642182,
                    0.10093484806284066,
                    0.20099707211537685,
                    0.00509739888484489,
                    0.1621849665812861,
                    0.14038798134468286,
                    0.07813365894534599,
                    0.1289419672468645,
                    0.04219879490874651,
                    0.10086990598659107,
                    0.0450973600414519,
                    0.08500137365982974,
                    0.4407135000855908,
                    0.11307828475931564,
                    0.017556340701826226,
                    0.08056651568406391,
                    0.04964110957329774,
                    0.04889997234572105,
                    0.015994827284841178,
                    0.14364483320466734,
                    0.12661406694691427,
                    0.03038882721087676,
                    0.04767203695739378,
                    0.0524977778665238,
                    0.04964704889444914,
                    0.22395102385196752,
                    0.12629793642972717,
                    0.08239992984603173,
                    0.1217384277224949,
                    0.23123639807556476,
                    0.10817944683249821,
                    0.038745818413457846,
                    0.16775965398171613,
                    0.07461259645910567,
                    0.04253587034089359,
                    0.04755585117060695,
                    0.11522925389232681,
                    0.05255863736123481,
                    0.06243974197430757,
                    0.11316040334622889,
                    0.11106727649141235,
                    0.06888781829254888,
                    0.002250621452134752,
                    0.05662288024428035,
                    0.049707600138900326,
                    0.1362371582783704,
                    0.004422248030646983,
                    0.11652248041425907,
                    0.13442813093667175,
                    0.1261475743455933,
                    0.2131516419388967,
                    0.4505358251031799,
                    0.2851078976837871,
                    0.16832344589353881,
                    0.04423625377727089,
                    0.09113907553880925,
                    0.12385414765050147,
                    0.09251786828021888,
                    0.1027925537637651,
                    0.14690795833071893,
                    0.25320073013274036,
                    0.054759849449873166,
                    0.28474057078751663,
                    0.07459092092089038,
                    0.26989255740956086,
                    0.021798514445188273,
                    0.015559003468571486,
                    0.12258828536145619,
                    0.030155440398373937,
                    0.16949437414820526,
                    0.13334695895364768,
                    0.37464591998090874,
                    0.38847556280223905,
                    0.11715668995126406,
                    0.11171951320817491,
                    0.22798667972163061,
                    0.6394032573172311,
                    0.3826153816139537,
                    0.0026673998587282634,
                    0.5944963582653906,
                    0.6057782929955916,
                    0.26326724051780803,
                    0.19651887113285202,
                    0.04820294301478311,
                    0.0630791541929943,
                    0.004211456212681441,
                    0.04674621544083034,
                    0.0359423478119751,
                    0.12355411116973082,
                    0.06527057479915029,
                    0.21966673895235633,
                    0.3687976278523598,
                    0.2179855556524075,
                    0.10273438210402601,
                    0.094270762916459,
                    0.16672264270604625,
                    0.5039265001966606,
                    0.25087574298360893,
                    0.49920067234209187,
                    0.010328694409183586,
                    0.024336240203321185,
                    0.014544047375680118,
                    0.033199647337765086,
                    0.49315271288235074,
                    0.06277875212053786,
                    0.006131716042897268,
                    0.29917382373429335,
                    0.02002587500261595,
                    0.025983578826323062,
                    0.09382962225314755,
                    0.023786305115071713,
                    0.07103147251989737,
                    0.11038910855344947,
                    0.17136828389010586,
                    0.01024390780809305,
                    0.21305891479820432,
                    0.10179669223849724,
                    0.1399353398680013,
                    0.002068635850628762,
                    0.014558511075595703,
                    0.0043528325814087354,
                    0.019656469038585027,
                    0.1154387763767447,
                    0.4515901995554144,
                    0.273186128748002,
                    0.4773353657101152,
                    0.07648327660972216,
                    0.08281183863105292,
                    0.07128854900044501,
                    0.22796983005890367,
                    0.2756883400896041,
                    0.7660645005302255,
                    0.2314818183461637,
                    0.16600463620106898,
                    0.0017450911255839864,
                    0.00815128449722178,
                    0.011415081530235443,
                    0.06371465260305462,
                    0.6143723724218341,
                    0.1296331633939737,
                    0.019101520410106626,
                    0.044716637275622945,
                    0.1507679579385452,
                    0.09089985880715645,
                    0.1210521269437923,
                    0.04438528885062885,
                    0.055148400133875695,
                    0.427542550104522,
                    0.09227568835127663,
                    0.056091686840002444,
                    0.07033590060780161,
                    0.10127513253769957,
                    0.1171325074041483,
                    0.1440160006952278,
                    0.3301876501396489,
                    0.03600636125734148,
                    0.08740982300217565,
                    0.014142892314566134,
                    0.11602642932369918,
                    0.15998067683926942,
                    0.21759113334006816,
                    0.06030347619225585,
                    0.10490678126069845,
                    0.00637582235052538,
                    0.15581658078666602,
                    0.14742890822431362,
                    0.22347762512318253,
                    0.08037106395234317,
                    0.42362231991065463,
                    0.025057546654482104,
                    0.08446663611841687,
                    0.003827992893345219,
                    0.10568091850438667,
                    0.16957908244615869,
                    0.09991847088140397,
                    0.07164544187828759,
                    0.0911581892539857,
                    0.10044582633566616,
                    0.21240657441095376,
                    0.29433161724161205,
                    0.060354710015366,
                    0.23874759250337327,
                    0.5034560524660007,
                    0.18003810532031814,
                    0.619228915925639,
                    0.16014692115160326,
                    0.2782722353569543,
                    0.09762927907632356,
                    0.39802892482291036,
                    0.06210439299028948,
                    0.21677048383967845,
                    0.14642385759098334,
                    0.07728292624283833,
                    0.42972882996131434,
                    0.41025400348999774,
                    0.12498133515691183,
                    0.4422929348216546,
                    0.19867667687888196,
                    0.09351618927796986,
                    0.02596011731573309,
                    0.003364462672399954,
                    0.18975147943918735,
                    0.3138953244153489,
                    0.4319774839449529,
                    0.11109330295948525,
                    0.18159682975364116,
                    0.159019758850485,
                    0.0457375770665572,
                    0.08641298346947739,
                    0.17273358051190071,
                    0.08066546101354242,
                    0.11866849088194423,
                    0.269981677026821,
                    0.11639007645769225,
                    0.07659656342817524,
                    0.030255600268220183,
                    0.23619709216180151,
                    0.048215556793258084,
                    0.031989615386156404,
                    0.06479317990821387,
                    0.5998568253031532,
                    0.028720405223056265,
                    0.11538303672326898,
                    0.04809617848886863,
                    0.11675611762866263,
                    0.30785356438676953,
                    0.015194793819056517,
                    0.03044404573192461,
                    0.00021238293924294652,
                    0.13678880141839106,
                    0.18890723200260084,
                    0.10007253851100269,
                    0.0031242569318940443,
                    0.0810528511197213,
                    0.29453972527484157,
                    0.1029578617724146,
                    0.14598991854182697,
                    0.039353109373071044,
                    0.03488626415141142,
                    0.22086594610052057,
                    0.03508653269851326,
                    0.12172035454127379,
                    0.08077617730315008,
                    0.09634987565696242,
                    0.05565651019430132,
                    0.10144781877430056,
                    0.12943987632952433,
                    0.5170847217699384,
                    0.018298461117547366,
                    0.1690204192437103,
                    0.09424644107813782,
                    0.05282819327357227,
                    0.056782912901707276,
                    0.04653210648607716,
                    0.04752075995519584,
                    0.009597724568829282,
                    0.31803629108391707,
                    0.12533188203099965,
                    0.40794009541074283,
                    0.0692232253646556,
                    0.0012559915356983736,
                    0.008620109741790073,
                    0.6623595724826642,
                    0.15052313035094605,
                    0.07065916829614374,
                    0.006615143165919313,
                    0.23475792692922134,
                    0.03807217643714253,
                    0.001151116386203117,
                    0.18645556211824518,
                    0.17845690398074315,
                    0.09080161654366954,
                    0.0889137305284971,
                    0.12895414194821034,
                    0.08602999052030343,
                    0.1250775595642437,
                    0.03605861532134698,
                    0.05004894964426514,
                    0.1233265818926454,
                    0.6638785493058001,
                    0.10380767306560498,
                    0.02392922976020566,
                    0.273139714616519,
                    0.018477510824057495,
                    0.002663284260311186,
                    0.2992184883972832,
                    0.444080468223072,
                    0.05399510670383124,
                    0.0669349215203458,
                    0.6240800221846624,
                    0.7189367496623067,
                    0.1947552941753618,
                    0.0015933564099804137,
                    0.058871902637364706,
                    0.005597992828394193,
                    0.18425849398306246,
                    0.2830054355624595,
                    0.03928933220655827,
                    0.21235285194949188,
                    0.09475168618580958,
                    0.2317088115832719,
                    0.08910220663135043,
                    0.14394479680451006,
                    0.02776264865730976,
                    0,
                    0.06397777732891075,
                    0.269257083154283,
                    0.03855850713050194,
                    0.11199997433233154,
                    0.06733928791554704,
                    0.013309135850500151,
                    0.008941370317137726,
                    0.0873945206888796,
                    0.24069881366612939,
                    0.40302611913366326,
                    0.12282185548640287,
                    0.21638681589874573,
                    0.36902752339051276,
                    0.13772324902617153,
                    0.14465583193626616,
                    0.054728446506690384,
                    0.07093091151068429,
                    0.0028399464838351446,
                    0.3670007887151229,
                    0.2109846462948114,
                    0.12591291775801217,
                    0.07463557654279344,
                    0.024016205878181335,
                    0.045127132383570974,
                    0.0290560676148117,
                    0.029326304836190736,
                    0.05259885948749471,
                    0.002073311970549589,
                    0.16099364723493606,
                    0.26701039063224885,
                    0.2338903685307066,
                    0.24066959655346323,
                    0.022205329400837734,
                    0.20650810041369416,
                    0.8750776994987715,
                    0.01583538202693105,
                    0.06837881394252174,
                    0.08932766425718798,
                    0.09730833889857396,
                    0.0759229331114855,
                    0.03264019713856869,
                    0.0024668176568358566,
                    0.1847454620378184,
                    0.18570138462594807,
                    0.2130280800294717,
                    0.404369533334946,
                    0.26609430481319013,
                    0.19466760179689443,
                    0.01822566053566138,
                    0.010602707776089489,
                    0.012941809190936232,
                    0.21261892829569437,
                    0.00432454978990416,
                    0.119975258059289,
                    0.08694917394180017,
                    0.12703572431118054,
                    0.3060247339019315,
                    0.20956510830078193,
                    0.035596874009664776,
                    0.03523651897024462,
                    0.5675818470277341,
                    0.06476722593776368,
                    0.01823153904119682,
                    0.07356490346317728,
                    0.27271940781658377,
                    0.10940309013307899,
                    0.06420056191682463,
                    0.10944604404545,
                    0.1748069432097166,
                    0.07580517136608284,
                    0.2957802449046901,
                    0.038210852150797586,
                    0.0969169641466006,
                    0.14244803051321414,
                    0.14384567002999357,
                    0.22839147621203296,
                    0.20595061893201264,
                    0.713453554885075,
                    0.3829263597048624,
                    0.037803433577922534,
                    0.07940890480833206,
                    0.04453518892363267,
                    0.10589075416213914,
                    0.07988090201510943,
                    0.032234561873715546,
                    0.08064539532577653,
                    0.06236403690739045,
                    0.0959772561085234,
                    0.16212090463163603,
                    0.20255509668254215,
                    0.44125771260561425,
                    0.032123493688976865,
                    0.06619869154369953,
                    0.13829723146915263,
                    0.34283163842177306,
                    0.13691763803954757,
                    0.06474533607977287,
                    0.02886213521129542,
                    0.019450635959139297,
                    0.13725623601685955,
                    0.026478267844945412,
                    0.322354371263377,
                    0.15244058556596357,
                    0.16196000252230908,
                    0.1362940192532006,
                    0.04079945765407539,
                    0.001800922036323081,
                    0.08513144647016543,
                    0.27569847422200466,
                    0.7854935632040287,
                    0.0023220069979504676,
                    0.051502194542963245,
                    0.15207691406016902,
                    0.5813169817732192,
                    0.07076249505532059,
                    0.005096874559957858,
                    0.05135545382334724,
                    0.16214342074244312,
                    0.05538827252166456,
                    0.008217902623718515,
                    0.08477631851168228,
                    0.029753017177488034,
                    0.06025153637427283,
                    0.038538673289600076,
                    0.0630644027229973,
                    0.21323724119732662,
                    0.12281161816686395,
                    0.04277230658185919,
                    0.11956078033553928,
                    0.16352447712066484,
                    0.11830663825662106,
                    0.030886990337926544,
                    0.07895325882422322,
                    0.10778500936996745,
                    0.08793503167007138,
                    0.4526648790953124,
                    0.1681882853288205,
                    0.02968392820642255,
                    0.05462080018618702,
                    0.04649026457267648,
                    0.025479140712992673,
                    0.14379075183852993,
                    0.09941927728116695,
                    0.01975660014364719,
                    0.02848637922440646,
                    0.19078001102351186,
                    0.46086707548535283,
                    0.5938372203090679,
                    0.6822160852352721,
                    0.0363392421564016,
                    0.23368964143631588,
                    0.07396615106138818,
                    0.13938585033421275,
                    0.33341484322790654,
                    0.05021467370316373,
                    0.1697031639001027,
                    0.02189917818907157,
                    0.37767145743516595,
                    0.02407691779053033,
                    0.022895897059058767,
                    0.4118096858128602,
                    0.09095159678852165,
                    0.0388520432295824,
                    0.21932163792363482,
                    0.08976395570830661,
                    0.0012092127938563818,
                    0.0072187342583881235,
                    0.3367317643312065,
                    0.09004524816957736,
                    0.09093113845650412,
                    0.144956502418907,
                    0.3600956381613495,
                    0.01942513297576585,
                    0.09497814919406987,
                    0.013728605670855577,
                    0.14904279859720074,
                    0.012179321786200095,
                    0.1171738192367425,
                    0.08186328110620625,
                    0.05886176575364125,
                    0.33038689992193526,
                    0.05192182209466215,
                    0.08534416139270083,
                    0.0988563546107334,
                    0.026478070697998287,
                    0.47952291070232805,
                    0.013500042420771942,
                    0.03517608868908414,
                    0.25728054353482716,
                    0.055258534154640736,
                    0.28769947894792697,
                    0.14819734496915027,
                    0.12493657679388843,
                    0.016646846791319857,
                    0.03923925671047389,
                    0.18723814001333655,
                    0.13497340529507387,
                    0.525192001151892,
                    0.5613975731864004,
                    0.019960167975699022,
                    0.12462440594512865,
                    0.11481790213713194,
                    0.005966610522065351,
                    0.15742267410698318,
                    0.05541002927687115,
                    0.0904887122456003,
                    0.032412288724337955,
                    0.3248411159875892,
                    0.22170266929232235,
                    0.16082065154908642,
                    0.10499408618068543,
                    0.189628109374524,
                    0.2436743978498562,
                    0.004639464473868319,
                    0.08659647086006711,
                    0.0451678077508923,
                    0.04451622429687292,
                    0.32002682772226754,
                    0.07454277709366564,
                    0.02456992631640763,
                    0.19883426339895233,
                    0.2511693204258875,
                    0.12419222967455387,
                    0.07362833886183756,
                    0.18211050927763348,
                    0.0446016176961396,
                    0.5550180886905164,
                    0.15272644415201206,
                    0.2530874286619499,
                    0.15748161562573817,
                    0.006033453874417755,
                    0.04092859619780797,
                    0.1090947799895404,
                    0.16142814963452826,
                    0.044013987978639535,
                    0.05080442768288273,
                    0.2711227142990806,
                    0.14768072208390398,
                    0.5275713172439728,
                    0.33283782458503425,
                    0.3666155554836519,
                    0.04050101414610898,
                    0.8424004848544598,
                    0.09438736667882353,
                    0.08439673200252654,
                    0.23133185169982404,
                    0.043982772313110895,
                    0.09002030190814535,
                    0.45674586056177086,
                    0.02579047211652121,
                    0.21647874230515263,
                    0.332454389116525,
                    0.32945934725741827,
                    0.09479994888172906,
                    0.2944920150222944,
                    0.2918719435904713,
                    0.03317070943247584,
                    0.4172918432718991,
                    0.5177361973638522,
                    0.1125323232799742,
                    0.6323069711135013,
                    0.040224974079243435,
                    0.020161709741893845,
                    0.21793113350779508,
                    0.11082717725018218,
                    0.08738467820927197,
                    0.010235529961440814,
                    0.21615007776456996,
                    0.04765864892200071,
                    0.07281699878160316,
                    0.035997102890466,
                    0.05175249551554208,
                    0.25594894920416644,
                    0.09268414495219207,
                    0.08637287189383672,
                    0.09942368102840171,
                    0.35525013053526894,
                    0.003266385626732602,
                    0.0948508683695526,
                    0.014126960665484061,
                    0.0926710159772503,
                    0.1642633897361147,
                    0.1547968808408352,
                    0.2729686459838918,
                    0.49215309375566596,
                    0.2413371231819106,
                    0.13730948995117145,
                    0.2901223539797463,
                    0.005277766433536261,
                    0.17593069356320976,
                    0.14867687473753266,
                    0.3615568947449394,
                    0.03854416547956316,
                    0.20388142524735503,
                    0.5245696112179116,
                    0.10549528461196647,
                    0.042317578782016765,
                    0.11978682168430185,
                    0.11961557681668397,
                    0.06056934863945272,
                    0.2153568439173956,
                    0.44280355207170397,
                    0.06865782321945317,
                    0.012549359616386882,
                    0.08440984274055424,
                    0.2062634912769037,
                    0.034113592416712954,
                    0.2394936808034582,
                    0.046754256900958156,
                    0.03494762625198134,
                    0.01977827586944133,
                    0.05967503073280715,
                    0.13501235477944137,
                    0.1281417810487233,
                    0.1289990002734853,
                    0.3313040798078889,
                    0.04763227065197197,
                    0.43546007967754385,
                    0.02681631205278948,
                    0.0005621651146935524,
                    0.07790372947154162,
                    0.10219386819283431,
                    0.22902553872882767,
                    0.12267486950644049,
                    0.6566314664516616,
                    0.26352092412564104,
                    0.34285869332258073,
                    0.09479935178535177,
                    0.06185642627338766,
                    0.04862430590615511,
                    0.14540070443148598,
                    0.11086551837762103,
                    0.21870510580357444,
                    0.06721042931489872,
                    0.0036677246119977626,
                    0.10413803325091342,
                    0.08361885452460284,
                    0.15534089506162632,
                    0.6293560181668197,
                    0.46193650906221867,
                    0.05768019525451418,
                    0.2144414266862375,
                    0.00436218937643342,
                    0.9662555051539007,
                    0.10101904472537741,
                    0.6107123034775561,
                    0.09704648563167982,
                    0.052057170228467405,
                    0.10968453403762819,
                    0.016256386332039033,
                    0.029992973654644033,
                    0.12033761266380026,
                    0.09362529136837869,
                    0.20473586981565148,
                    0.1304721953866174,
                    0.07749972469004679,
                    0.30019161811867084,
                    0.3605691514528612,
                    0.11817411576614859,
                    0.35108848720548486,
                    0.26695867560091713,
                    0.32925890127474794,
                    0.01509666361562242,
                    0.10790352006197308,
                    0.26224451920981784,
                    0.0064963111089477825,
                    0.08431137180658156,
                    0.28984259788166733,
                    0.13851667860715236,
                    0.11823218310918181,
                    0.3779086752741699,
                    0.05621572746883812,
                    0.05926236082725603,
                    0.08357416671900234,
                    0.06215073111733722,
                    0.09247793541622007,
                    0.0562620260256645,
                    0.07026893994282675,
                    0.1490641310361816,
                    0.05209031115322715,
                    0.08104894947327591,
                    0.07007811386624473,
                    0.5777620626059996,
                    0.1039023137366397,
                    0.017394147549583676,
                    0.19468220621281507,
                    0.08489126449836899,
                    0.27034682680360883,
                    0.19913022615866968,
                    0.1674103328409797,
                    0.07069528293799458,
                    0.06936428649335713,
                    0.112005881447577,
                    0.023437750678972778,
                    0.24249455644265167,
                    0.08333233584107852,
                    0.13895464894806456,
                    0.26244503091060856,
                    0.06214731842632168,
                    0.01693630283292216,
                    0.093810870954167,
                    0.016581414519933693,
                    0.05169242157092065,
                    0.24667294694171807,
                    0.25725313788465104,
                    0.2942305596934742,
                    0.02513076202504748,
                    0.03749682833982707,
                    0.03461706399001417,
                    0.029363126181028515,
                    0.28345907339888454,
                    0.12404886207239103,
                    0.05201917143743845,
                    0.04115477536531937,
                    0.12922237193038774,
                    0.21123108591482087,
                    0.014671357016802715,
                    0.612599175323458,
                    0.1033661543076186,
                    0.2484968749487916,
                    0.06216866590932729,
                    0.0806477527948896,
                    0.13226038497411519,
                    0.0689891555900655,
                    0.02465939944730085,
                    0.13281360349948793,
                    0.12191653535482322,
                    0.042723985295263424,
                    0.13329691409302985,
                    0.08330085679638471,
                    0.319523456579575,
                    0.0633754516193783,
                    0.04159040716774027,
                    1,
                    0.021534913403535846,
                    0.0895487780244205,
                    0.05526500219771426,
                    0.15200027211730874,
                    0.06391876699404014,
                    0.2617567005609274,
                    0.07979531915202731,
                    0.07237417918825277,
                    0.10621563832973173,
                    0.36409012682498837,
                    0.3100946395588471,
                    0.0520480321975427,
                    0.45701113219147144,
                    0.02547702634002462,
                    0.11095281944991116,
                    0.000824027781168874,
                    0.4062179163020589,
                    0.06398004772374324,
                    0.10039969136730469,
                    0.1205681393561257,
                    0.03989646980998825,
                    0.18948998558902236,
                    0.13253280661243855,
                    0.04825992093366209,
                    0.09271246418483982,
                    0.04360904519062089,
                    0.015625623084004402,
                    0.08731827868729869,
                    0.0010982244321455276,
                    0.3340294916882132,
                    0.03064931934610071,
                    0.2706942504080043,
                    0.14019980915283944,
                    0.2196422067097884,
                    0.1160510986893259,
                    0.01842199162632462,
                    0.0948152054973804,
                    0.16092278880224922,
                    0.19372373721735875,
                    0.0011818753039756988,
                    0.16387648037422384,
                    0.18307846342117012,
                    0.02429476556182071,
                    0.07939534186137157,
                    0.3448974524004144,
                    0.16367546907847275,
                    0.029428777767609653,
                    0.11065560948596069,
                    0.05368761684775586,
                    0.45103869512236566,
                    0.0735018351266087,
                    0.11000416475544136,
                    0.04234233592073776
                  ],
                  "xaxis": "x",
                  "yaxis": "y"
                }
              ],
              "layout": {
                "barmode": "relative",
                "legend": {
                  "tracegroupgap": 0
                },
                "margin": {
                  "t": 60
                },
                "template": {
                  "data": {
                    "bar": [
                      {
                        "error_x": {
                          "color": "#f2f5fa"
                        },
                        "error_y": {
                          "color": "#f2f5fa"
                        },
                        "marker": {
                          "line": {
                            "color": "rgb(17,17,17)",
                            "width": 0.5
                          }
                        },
                        "type": "bar"
                      }
                    ],
                    "barpolar": [
                      {
                        "marker": {
                          "line": {
                            "color": "rgb(17,17,17)",
                            "width": 0.5
                          }
                        },
                        "type": "barpolar"
                      }
                    ],
                    "carpet": [
                      {
                        "aaxis": {
                          "endlinecolor": "#A2B1C6",
                          "gridcolor": "#506784",
                          "linecolor": "#506784",
                          "minorgridcolor": "#506784",
                          "startlinecolor": "#A2B1C6"
                        },
                        "baxis": {
                          "endlinecolor": "#A2B1C6",
                          "gridcolor": "#506784",
                          "linecolor": "#506784",
                          "minorgridcolor": "#506784",
                          "startlinecolor": "#A2B1C6"
                        },
                        "type": "carpet"
                      }
                    ],
                    "choropleth": [
                      {
                        "colorbar": {
                          "outlinewidth": 0,
                          "ticks": ""
                        },
                        "type": "choropleth"
                      }
                    ],
                    "contour": [
                      {
                        "colorbar": {
                          "outlinewidth": 0,
                          "ticks": ""
                        },
                        "colorscale": [
                          [
                            0,
                            "#0d0887"
                          ],
                          [
                            0.1111111111111111,
                            "#46039f"
                          ],
                          [
                            0.2222222222222222,
                            "#7201a8"
                          ],
                          [
                            0.3333333333333333,
                            "#9c179e"
                          ],
                          [
                            0.4444444444444444,
                            "#bd3786"
                          ],
                          [
                            0.5555555555555556,
                            "#d8576b"
                          ],
                          [
                            0.6666666666666666,
                            "#ed7953"
                          ],
                          [
                            0.7777777777777778,
                            "#fb9f3a"
                          ],
                          [
                            0.8888888888888888,
                            "#fdca26"
                          ],
                          [
                            1,
                            "#f0f921"
                          ]
                        ],
                        "type": "contour"
                      }
                    ],
                    "contourcarpet": [
                      {
                        "colorbar": {
                          "outlinewidth": 0,
                          "ticks": ""
                        },
                        "type": "contourcarpet"
                      }
                    ],
                    "heatmap": [
                      {
                        "colorbar": {
                          "outlinewidth": 0,
                          "ticks": ""
                        },
                        "colorscale": [
                          [
                            0,
                            "#0d0887"
                          ],
                          [
                            0.1111111111111111,
                            "#46039f"
                          ],
                          [
                            0.2222222222222222,
                            "#7201a8"
                          ],
                          [
                            0.3333333333333333,
                            "#9c179e"
                          ],
                          [
                            0.4444444444444444,
                            "#bd3786"
                          ],
                          [
                            0.5555555555555556,
                            "#d8576b"
                          ],
                          [
                            0.6666666666666666,
                            "#ed7953"
                          ],
                          [
                            0.7777777777777778,
                            "#fb9f3a"
                          ],
                          [
                            0.8888888888888888,
                            "#fdca26"
                          ],
                          [
                            1,
                            "#f0f921"
                          ]
                        ],
                        "type": "heatmap"
                      }
                    ],
                    "heatmapgl": [
                      {
                        "colorbar": {
                          "outlinewidth": 0,
                          "ticks": ""
                        },
                        "colorscale": [
                          [
                            0,
                            "#0d0887"
                          ],
                          [
                            0.1111111111111111,
                            "#46039f"
                          ],
                          [
                            0.2222222222222222,
                            "#7201a8"
                          ],
                          [
                            0.3333333333333333,
                            "#9c179e"
                          ],
                          [
                            0.4444444444444444,
                            "#bd3786"
                          ],
                          [
                            0.5555555555555556,
                            "#d8576b"
                          ],
                          [
                            0.6666666666666666,
                            "#ed7953"
                          ],
                          [
                            0.7777777777777778,
                            "#fb9f3a"
                          ],
                          [
                            0.8888888888888888,
                            "#fdca26"
                          ],
                          [
                            1,
                            "#f0f921"
                          ]
                        ],
                        "type": "heatmapgl"
                      }
                    ],
                    "histogram": [
                      {
                        "marker": {
                          "colorbar": {
                            "outlinewidth": 0,
                            "ticks": ""
                          }
                        },
                        "type": "histogram"
                      }
                    ],
                    "histogram2d": [
                      {
                        "colorbar": {
                          "outlinewidth": 0,
                          "ticks": ""
                        },
                        "colorscale": [
                          [
                            0,
                            "#0d0887"
                          ],
                          [
                            0.1111111111111111,
                            "#46039f"
                          ],
                          [
                            0.2222222222222222,
                            "#7201a8"
                          ],
                          [
                            0.3333333333333333,
                            "#9c179e"
                          ],
                          [
                            0.4444444444444444,
                            "#bd3786"
                          ],
                          [
                            0.5555555555555556,
                            "#d8576b"
                          ],
                          [
                            0.6666666666666666,
                            "#ed7953"
                          ],
                          [
                            0.7777777777777778,
                            "#fb9f3a"
                          ],
                          [
                            0.8888888888888888,
                            "#fdca26"
                          ],
                          [
                            1,
                            "#f0f921"
                          ]
                        ],
                        "type": "histogram2d"
                      }
                    ],
                    "histogram2dcontour": [
                      {
                        "colorbar": {
                          "outlinewidth": 0,
                          "ticks": ""
                        },
                        "colorscale": [
                          [
                            0,
                            "#0d0887"
                          ],
                          [
                            0.1111111111111111,
                            "#46039f"
                          ],
                          [
                            0.2222222222222222,
                            "#7201a8"
                          ],
                          [
                            0.3333333333333333,
                            "#9c179e"
                          ],
                          [
                            0.4444444444444444,
                            "#bd3786"
                          ],
                          [
                            0.5555555555555556,
                            "#d8576b"
                          ],
                          [
                            0.6666666666666666,
                            "#ed7953"
                          ],
                          [
                            0.7777777777777778,
                            "#fb9f3a"
                          ],
                          [
                            0.8888888888888888,
                            "#fdca26"
                          ],
                          [
                            1,
                            "#f0f921"
                          ]
                        ],
                        "type": "histogram2dcontour"
                      }
                    ],
                    "mesh3d": [
                      {
                        "colorbar": {
                          "outlinewidth": 0,
                          "ticks": ""
                        },
                        "type": "mesh3d"
                      }
                    ],
                    "parcoords": [
                      {
                        "line": {
                          "colorbar": {
                            "outlinewidth": 0,
                            "ticks": ""
                          }
                        },
                        "type": "parcoords"
                      }
                    ],
                    "pie": [
                      {
                        "automargin": true,
                        "type": "pie"
                      }
                    ],
                    "scatter": [
                      {
                        "marker": {
                          "line": {
                            "color": "#283442"
                          }
                        },
                        "type": "scatter"
                      }
                    ],
                    "scatter3d": [
                      {
                        "line": {
                          "colorbar": {
                            "outlinewidth": 0,
                            "ticks": ""
                          }
                        },
                        "marker": {
                          "colorbar": {
                            "outlinewidth": 0,
                            "ticks": ""
                          }
                        },
                        "type": "scatter3d"
                      }
                    ],
                    "scattercarpet": [
                      {
                        "marker": {
                          "colorbar": {
                            "outlinewidth": 0,
                            "ticks": ""
                          }
                        },
                        "type": "scattercarpet"
                      }
                    ],
                    "scattergeo": [
                      {
                        "marker": {
                          "colorbar": {
                            "outlinewidth": 0,
                            "ticks": ""
                          }
                        },
                        "type": "scattergeo"
                      }
                    ],
                    "scattergl": [
                      {
                        "marker": {
                          "line": {
                            "color": "#283442"
                          }
                        },
                        "type": "scattergl"
                      }
                    ],
                    "scattermapbox": [
                      {
                        "marker": {
                          "colorbar": {
                            "outlinewidth": 0,
                            "ticks": ""
                          }
                        },
                        "type": "scattermapbox"
                      }
                    ],
                    "scatterpolar": [
                      {
                        "marker": {
                          "colorbar": {
                            "outlinewidth": 0,
                            "ticks": ""
                          }
                        },
                        "type": "scatterpolar"
                      }
                    ],
                    "scatterpolargl": [
                      {
                        "marker": {
                          "colorbar": {
                            "outlinewidth": 0,
                            "ticks": ""
                          }
                        },
                        "type": "scatterpolargl"
                      }
                    ],
                    "scatterternary": [
                      {
                        "marker": {
                          "colorbar": {
                            "outlinewidth": 0,
                            "ticks": ""
                          }
                        },
                        "type": "scatterternary"
                      }
                    ],
                    "surface": [
                      {
                        "colorbar": {
                          "outlinewidth": 0,
                          "ticks": ""
                        },
                        "colorscale": [
                          [
                            0,
                            "#0d0887"
                          ],
                          [
                            0.1111111111111111,
                            "#46039f"
                          ],
                          [
                            0.2222222222222222,
                            "#7201a8"
                          ],
                          [
                            0.3333333333333333,
                            "#9c179e"
                          ],
                          [
                            0.4444444444444444,
                            "#bd3786"
                          ],
                          [
                            0.5555555555555556,
                            "#d8576b"
                          ],
                          [
                            0.6666666666666666,
                            "#ed7953"
                          ],
                          [
                            0.7777777777777778,
                            "#fb9f3a"
                          ],
                          [
                            0.8888888888888888,
                            "#fdca26"
                          ],
                          [
                            1,
                            "#f0f921"
                          ]
                        ],
                        "type": "surface"
                      }
                    ],
                    "table": [
                      {
                        "cells": {
                          "fill": {
                            "color": "#506784"
                          },
                          "line": {
                            "color": "rgb(17,17,17)"
                          }
                        },
                        "header": {
                          "fill": {
                            "color": "#2a3f5f"
                          },
                          "line": {
                            "color": "rgb(17,17,17)"
                          }
                        },
                        "type": "table"
                      }
                    ]
                  },
                  "layout": {
                    "annotationdefaults": {
                      "arrowcolor": "#f2f5fa",
                      "arrowhead": 0,
                      "arrowwidth": 1
                    },
                    "coloraxis": {
                      "colorbar": {
                        "outlinewidth": 0,
                        "ticks": ""
                      }
                    },
                    "colorscale": {
                      "diverging": [
                        [
                          0,
                          "#8e0152"
                        ],
                        [
                          0.1,
                          "#c51b7d"
                        ],
                        [
                          0.2,
                          "#de77ae"
                        ],
                        [
                          0.3,
                          "#f1b6da"
                        ],
                        [
                          0.4,
                          "#fde0ef"
                        ],
                        [
                          0.5,
                          "#f7f7f7"
                        ],
                        [
                          0.6,
                          "#e6f5d0"
                        ],
                        [
                          0.7,
                          "#b8e186"
                        ],
                        [
                          0.8,
                          "#7fbc41"
                        ],
                        [
                          0.9,
                          "#4d9221"
                        ],
                        [
                          1,
                          "#276419"
                        ]
                      ],
                      "sequential": [
                        [
                          0,
                          "#0d0887"
                        ],
                        [
                          0.1111111111111111,
                          "#46039f"
                        ],
                        [
                          0.2222222222222222,
                          "#7201a8"
                        ],
                        [
                          0.3333333333333333,
                          "#9c179e"
                        ],
                        [
                          0.4444444444444444,
                          "#bd3786"
                        ],
                        [
                          0.5555555555555556,
                          "#d8576b"
                        ],
                        [
                          0.6666666666666666,
                          "#ed7953"
                        ],
                        [
                          0.7777777777777778,
                          "#fb9f3a"
                        ],
                        [
                          0.8888888888888888,
                          "#fdca26"
                        ],
                        [
                          1,
                          "#f0f921"
                        ]
                      ],
                      "sequentialminus": [
                        [
                          0,
                          "#0d0887"
                        ],
                        [
                          0.1111111111111111,
                          "#46039f"
                        ],
                        [
                          0.2222222222222222,
                          "#7201a8"
                        ],
                        [
                          0.3333333333333333,
                          "#9c179e"
                        ],
                        [
                          0.4444444444444444,
                          "#bd3786"
                        ],
                        [
                          0.5555555555555556,
                          "#d8576b"
                        ],
                        [
                          0.6666666666666666,
                          "#ed7953"
                        ],
                        [
                          0.7777777777777778,
                          "#fb9f3a"
                        ],
                        [
                          0.8888888888888888,
                          "#fdca26"
                        ],
                        [
                          1,
                          "#f0f921"
                        ]
                      ]
                    },
                    "colorway": [
                      "#636efa",
                      "#EF553B",
                      "#00cc96",
                      "#ab63fa",
                      "#FFA15A",
                      "#19d3f3",
                      "#FF6692",
                      "#B6E880",
                      "#FF97FF",
                      "#FECB52"
                    ],
                    "font": {
                      "color": "#f2f5fa"
                    },
                    "geo": {
                      "bgcolor": "rgb(17,17,17)",
                      "lakecolor": "rgb(17,17,17)",
                      "landcolor": "rgb(17,17,17)",
                      "showlakes": true,
                      "showland": true,
                      "subunitcolor": "#506784"
                    },
                    "hoverlabel": {
                      "align": "left"
                    },
                    "hovermode": "closest",
                    "mapbox": {
                      "style": "dark"
                    },
                    "paper_bgcolor": "rgb(17,17,17)",
                    "plot_bgcolor": "rgb(17,17,17)",
                    "polar": {
                      "angularaxis": {
                        "gridcolor": "#506784",
                        "linecolor": "#506784",
                        "ticks": ""
                      },
                      "bgcolor": "rgb(17,17,17)",
                      "radialaxis": {
                        "gridcolor": "#506784",
                        "linecolor": "#506784",
                        "ticks": ""
                      }
                    },
                    "scene": {
                      "xaxis": {
                        "backgroundcolor": "rgb(17,17,17)",
                        "gridcolor": "#506784",
                        "gridwidth": 2,
                        "linecolor": "#506784",
                        "showbackground": true,
                        "ticks": "",
                        "zerolinecolor": "#C8D4E3"
                      },
                      "yaxis": {
                        "backgroundcolor": "rgb(17,17,17)",
                        "gridcolor": "#506784",
                        "gridwidth": 2,
                        "linecolor": "#506784",
                        "showbackground": true,
                        "ticks": "",
                        "zerolinecolor": "#C8D4E3"
                      },
                      "zaxis": {
                        "backgroundcolor": "rgb(17,17,17)",
                        "gridcolor": "#506784",
                        "gridwidth": 2,
                        "linecolor": "#506784",
                        "showbackground": true,
                        "ticks": "",
                        "zerolinecolor": "#C8D4E3"
                      }
                    },
                    "shapedefaults": {
                      "line": {
                        "color": "#f2f5fa"
                      }
                    },
                    "sliderdefaults": {
                      "bgcolor": "#C8D4E3",
                      "bordercolor": "rgb(17,17,17)",
                      "borderwidth": 1,
                      "tickwidth": 0
                    },
                    "ternary": {
                      "aaxis": {
                        "gridcolor": "#506784",
                        "linecolor": "#506784",
                        "ticks": ""
                      },
                      "baxis": {
                        "gridcolor": "#506784",
                        "linecolor": "#506784",
                        "ticks": ""
                      },
                      "bgcolor": "rgb(17,17,17)",
                      "caxis": {
                        "gridcolor": "#506784",
                        "linecolor": "#506784",
                        "ticks": ""
                      }
                    },
                    "title": {
                      "x": 0.05
                    },
                    "updatemenudefaults": {
                      "bgcolor": "#506784",
                      "borderwidth": 0
                    },
                    "xaxis": {
                      "automargin": true,
                      "gridcolor": "#283442",
                      "linecolor": "#506784",
                      "ticks": "",
                      "title": {
                        "standoff": 15
                      },
                      "zerolinecolor": "#283442",
                      "zerolinewidth": 2
                    },
                    "yaxis": {
                      "automargin": true,
                      "gridcolor": "#283442",
                      "linecolor": "#506784",
                      "ticks": "",
                      "title": {
                        "standoff": 15
                      },
                      "zerolinecolor": "#283442",
                      "zerolinewidth": 2
                    }
                  }
                },
                "xaxis": {
                  "anchor": "y",
                  "domain": [
                    0,
                    1
                  ],
                  "title": {
                    "text": "x"
                  }
                },
                "yaxis": {
                  "anchor": "x",
                  "domain": [
                    0,
                    1
                  ],
                  "title": {
                    "text": "count"
                  }
                }
              }
            },
            "text/html": [
              "<div>\n",
              "        \n",
              "        \n",
              "            <div id=\"537cf166-45e5-40c0-beae-c9f294770759\" class=\"plotly-graph-div\" style=\"height:525px; width:100%;\"></div>\n",
              "            <script type=\"text/javascript\">\n",
              "                require([\"plotly\"], function(Plotly) {\n",
              "                    window.PLOTLYENV=window.PLOTLYENV || {};\n",
              "                    \n",
              "                if (document.getElementById(\"537cf166-45e5-40c0-beae-c9f294770759\")) {\n",
              "                    Plotly.newPlot(\n",
              "                        '537cf166-45e5-40c0-beae-c9f294770759',\n",
              "                        [{\"alignmentgroup\": \"True\", \"bingroup\": \"x\", \"hoverlabel\": {\"namelength\": 0}, \"hovertemplate\": \"x=%{x}<br>count=%{y}\", \"legendgroup\": \"\", \"marker\": {\"color\": \"#636efa\"}, \"name\": \"\", \"offsetgroup\": \"\", \"orientation\": \"v\", \"showlegend\": false, \"type\": \"histogram\", \"x\": [0.25865653400631006, 0.17264244018497457, 0.1397793698109629, 0.049783678162510864, 0.008584248044374201, 0.2681887487414381, 0.178639751805171, 0.19929154451789663, 0.06760417664268288, 0.18470956604979794, 0.012695575292024686, 0.19915280288193873, 0.19383267799029594, 0.27053068508007244, 0.3374800376084668, 0.06044916764633274, 0.15470505198057186, 0.009701127184582077, 0.010705665590601904, 0.058976675131241295, 0.008081860042324569, 0.06637908419883208, 0.05404940416641518, 0.07102678547600913, 0.04227251258995772, 0.5753918529082764, 0.033085432566050475, 0.028725196291073417, 0.06054594662986799, 0.011089430707548463, 0.5452845967150539, 0.09556628754161693, 0.08044098544272286, 0.033201571199128095, 0.3261542531650997, 0.19829748163898014, 0.03973475916874381, 0.07991595959362742, 0.5524615922984206, 0.12457049193565954, 0.1793416223470453, 0.04642434782675099, 0.016849031390018903, 0.13937079758695092, 0.03657120894936085, 0.5438895790302021, 0.09740404664149306, 0.4738529205397815, 0.3306734388486691, 0.4815121507584497, 0.08169673701508844, 0.4992498805211934, 0.26645167238334944, 0.0631510390570428, 0.03127125554903446, 0.001663971355590661, 0.21749989026456357, 0.322563386135278, 0.2787504479008915, 0.07415114781083237, 0.008686665769681634, 0.12881776930726838, 0.04051579598172504, 0.4206772272764371, 0.06421308225988201, 0.0869480720346264, 0.434969841380067, 0.09057744189027063, 0.12090660449507036, 0.08236872353160106, 0.5018753598045179, 0.23774155320922447, 0.20385895074348073, 0.0407214038032814, 0.24646346561441265, 0.3775047206435957, 0.08586282721625559, 0.12932031770952138, 0.11359340054143716, 0.45239163693430023, 0.015436238252246277, 0.5374802664299947, 0.10547576096891197, 0.24640411406556426, 0.43312767666928376, 0.25853976801795336, 0.8217961923185645, 0.17867412065962085, 0.4138184833561508, 0.06096728334437907, 0.007943640854834183, 0.40898736170300815, 0.5576106130326574, 0.5534811448400251, 0.15170107947526076, 0.09533856905650183, 0.33726506623707203, 0.06321356933990988, 0.05170222239648471, 0.22695821204121952, 0.16995214533771422, 0.10780837999722236, 0.3598492539851076, 0.022275853535059207, 0.20137267191305053, 0.040032195330956165, 0.03918407184712468, 0.06189405105460657, 0.05233519819860803, 0.06863406386949493, 0.08108812089739072, 0.15417388520288697, 0.09824104889190775, 0.08480910929285211, 0.17523913253480816, 0.25530565481427325, 0.11140373499004061, 0.049835293773169115, 0.03486480187368285, 0.06905717783187147, 0.03249146610662723, 0.09914230475534004, 0.08576744448694407, 0.04449977185861689, 0.0538627430499613, 0.043579275934345844, 0.20522527244827257, 0.07393235139000118, 0.05312227713505719, 0.02712330865638512, 0.3825409929611172, 0.0301095558737855, 0.028073462862849223, 0.44324211364869837, 0.02575208268519663, 0.23999644571020542, 0.003504573874235389, 0.14745453971671188, 0.23266907938679446, 0.05685755229329828, 0.31785609528936604, 0.27226093743138485, 0.18640246788141035, 0.03603636165750864, 0.028624710198333497, 0.2634210561277359, 0.2942276557707087, 0.14684304701472287, 0.021044032846433757, 0.08636625538437238, 0.07454084805252309, 0.1370120775549311, 0.20931420158827607, 0.06688219610206707, 0.06206225494931092, 0.09412883281757702, 0.006121044919207826, 0.4012608995466151, 0.13364795009514574, 0.320310275699356, 0.06378185190421548, 0.23269304818647632, 0.16983842651729, 0.07132960459921996, 0.14392169999550525, 0.12732453019208786, 0.06967621391555331, 0.053610232158328344, 0.3122780641616696, 0.10565644965294067, 0.14421876323211466, 0.03906642061303341, 0.14971066483013856, 0.3826184365652988, 0.0182151156478232, 0.09155212379261037, 0.08936446184643641, 0.06489626317016559, 0.00466933367445062, 0.20079786117210213, 0.2997255006709815, 0.023666388520029866, 0.2517511031748798, 0.09933665656628775, 0.045492807592063096, 0.01843190870336746, 0.17054016409847803, 0.02934958711966474, 0.031172028501492328, 0.26109646514780943, 0.05555742871820358, 0.1528273692538296, 0.008553492149047222, 0.1125021008705211, 0.01532768335657902, 0.047725745559976766, 0.01188446918476768, 0.5644749034176098, 0.1483436246897975, 0.07564239171592456, 0.06692402653142689, 0.0004923441970029822, 0.035149199519830504, 0.07913954731641873, 0.031335452605921514, 0.3437819965944012, 0.12668021128494783, 0.3463115896682562, 0.1362667536642182, 0.10093484806284066, 0.20099707211537685, 0.00509739888484489, 0.1621849665812861, 0.14038798134468286, 0.07813365894534599, 0.1289419672468645, 0.04219879490874651, 0.10086990598659107, 0.0450973600414519, 0.08500137365982974, 0.4407135000855908, 0.11307828475931564, 0.017556340701826226, 0.08056651568406391, 0.04964110957329774, 0.04889997234572105, 0.015994827284841178, 0.14364483320466734, 0.12661406694691427, 0.03038882721087676, 0.04767203695739378, 0.0524977778665238, 0.04964704889444914, 0.22395102385196752, 0.12629793642972717, 0.08239992984603173, 0.1217384277224949, 0.23123639807556476, 0.10817944683249821, 0.038745818413457846, 0.16775965398171613, 0.07461259645910567, 0.04253587034089359, 0.04755585117060695, 0.11522925389232681, 0.05255863736123481, 0.06243974197430757, 0.11316040334622889, 0.11106727649141235, 0.06888781829254888, 0.002250621452134752, 0.05662288024428035, 0.049707600138900326, 0.1362371582783704, 0.004422248030646983, 0.11652248041425907, 0.13442813093667175, 0.1261475743455933, 0.2131516419388967, 0.4505358251031799, 0.2851078976837871, 0.16832344589353881, 0.04423625377727089, 0.09113907553880925, 0.12385414765050147, 0.09251786828021888, 0.1027925537637651, 0.14690795833071893, 0.25320073013274036, 0.054759849449873166, 0.28474057078751663, 0.07459092092089038, 0.26989255740956086, 0.021798514445188273, 0.015559003468571486, 0.12258828536145619, 0.030155440398373937, 0.16949437414820526, 0.13334695895364768, 0.37464591998090874, 0.38847556280223905, 0.11715668995126406, 0.11171951320817491, 0.22798667972163061, 0.6394032573172311, 0.3826153816139537, 0.0026673998587282634, 0.5944963582653906, 0.6057782929955916, 0.26326724051780803, 0.19651887113285202, 0.04820294301478311, 0.0630791541929943, 0.004211456212681441, 0.04674621544083034, 0.0359423478119751, 0.12355411116973082, 0.06527057479915029, 0.21966673895235633, 0.3687976278523598, 0.2179855556524075, 0.10273438210402601, 0.094270762916459, 0.16672264270604625, 0.5039265001966606, 0.25087574298360893, 0.49920067234209187, 0.010328694409183586, 0.024336240203321185, 0.014544047375680118, 0.033199647337765086, 0.49315271288235074, 0.06277875212053786, 0.006131716042897268, 0.29917382373429335, 0.02002587500261595, 0.025983578826323062, 0.09382962225314755, 0.023786305115071713, 0.07103147251989737, 0.11038910855344947, 0.17136828389010586, 0.01024390780809305, 0.21305891479820432, 0.10179669223849724, 0.1399353398680013, 0.002068635850628762, 0.014558511075595703, 0.0043528325814087354, 0.019656469038585027, 0.1154387763767447, 0.4515901995554144, 0.273186128748002, 0.4773353657101152, 0.07648327660972216, 0.08281183863105292, 0.07128854900044501, 0.22796983005890367, 0.2756883400896041, 0.7660645005302255, 0.2314818183461637, 0.16600463620106898, 0.0017450911255839864, 0.00815128449722178, 0.011415081530235443, 0.06371465260305462, 0.6143723724218341, 0.1296331633939737, 0.019101520410106626, 0.044716637275622945, 0.1507679579385452, 0.09089985880715645, 0.1210521269437923, 0.04438528885062885, 0.055148400133875695, 0.427542550104522, 0.09227568835127663, 0.056091686840002444, 0.07033590060780161, 0.10127513253769957, 0.1171325074041483, 0.1440160006952278, 0.3301876501396489, 0.03600636125734148, 0.08740982300217565, 0.014142892314566134, 0.11602642932369918, 0.15998067683926942, 0.21759113334006816, 0.06030347619225585, 0.10490678126069845, 0.00637582235052538, 0.15581658078666602, 0.14742890822431362, 0.22347762512318253, 0.08037106395234317, 0.42362231991065463, 0.025057546654482104, 0.08446663611841687, 0.003827992893345219, 0.10568091850438667, 0.16957908244615869, 0.09991847088140397, 0.07164544187828759, 0.0911581892539857, 0.10044582633566616, 0.21240657441095376, 0.29433161724161205, 0.060354710015366, 0.23874759250337327, 0.5034560524660007, 0.18003810532031814, 0.619228915925639, 0.16014692115160326, 0.2782722353569543, 0.09762927907632356, 0.39802892482291036, 0.06210439299028948, 0.21677048383967845, 0.14642385759098334, 0.07728292624283833, 0.42972882996131434, 0.41025400348999774, 0.12498133515691183, 0.4422929348216546, 0.19867667687888196, 0.09351618927796986, 0.02596011731573309, 0.003364462672399954, 0.18975147943918735, 0.3138953244153489, 0.4319774839449529, 0.11109330295948525, 0.18159682975364116, 0.159019758850485, 0.0457375770665572, 0.08641298346947739, 0.17273358051190071, 0.08066546101354242, 0.11866849088194423, 0.269981677026821, 0.11639007645769225, 0.07659656342817524, 0.030255600268220183, 0.23619709216180151, 0.048215556793258084, 0.031989615386156404, 0.06479317990821387, 0.5998568253031532, 0.028720405223056265, 0.11538303672326898, 0.04809617848886863, 0.11675611762866263, 0.30785356438676953, 0.015194793819056517, 0.03044404573192461, 0.00021238293924294652, 0.13678880141839106, 0.18890723200260084, 0.10007253851100269, 0.0031242569318940443, 0.0810528511197213, 0.29453972527484157, 0.1029578617724146, 0.14598991854182697, 0.039353109373071044, 0.03488626415141142, 0.22086594610052057, 0.03508653269851326, 0.12172035454127379, 0.08077617730315008, 0.09634987565696242, 0.05565651019430132, 0.10144781877430056, 0.12943987632952433, 0.5170847217699384, 0.018298461117547366, 0.1690204192437103, 0.09424644107813782, 0.05282819327357227, 0.056782912901707276, 0.04653210648607716, 0.04752075995519584, 0.009597724568829282, 0.31803629108391707, 0.12533188203099965, 0.40794009541074283, 0.0692232253646556, 0.0012559915356983736, 0.008620109741790073, 0.6623595724826642, 0.15052313035094605, 0.07065916829614374, 0.006615143165919313, 0.23475792692922134, 0.03807217643714253, 0.001151116386203117, 0.18645556211824518, 0.17845690398074315, 0.09080161654366954, 0.0889137305284971, 0.12895414194821034, 0.08602999052030343, 0.1250775595642437, 0.03605861532134698, 0.05004894964426514, 0.1233265818926454, 0.6638785493058001, 0.10380767306560498, 0.02392922976020566, 0.273139714616519, 0.018477510824057495, 0.002663284260311186, 0.2992184883972832, 0.444080468223072, 0.05399510670383124, 0.0669349215203458, 0.6240800221846624, 0.7189367496623067, 0.1947552941753618, 0.0015933564099804137, 0.058871902637364706, 0.005597992828394193, 0.18425849398306246, 0.2830054355624595, 0.03928933220655827, 0.21235285194949188, 0.09475168618580958, 0.2317088115832719, 0.08910220663135043, 0.14394479680451006, 0.02776264865730976, 0.0, 0.06397777732891075, 0.269257083154283, 0.03855850713050194, 0.11199997433233154, 0.06733928791554704, 0.013309135850500151, 0.008941370317137726, 0.0873945206888796, 0.24069881366612939, 0.40302611913366326, 0.12282185548640287, 0.21638681589874573, 0.36902752339051276, 0.13772324902617153, 0.14465583193626616, 0.054728446506690384, 0.07093091151068429, 0.0028399464838351446, 0.3670007887151229, 0.2109846462948114, 0.12591291775801217, 0.07463557654279344, 0.024016205878181335, 0.045127132383570974, 0.0290560676148117, 0.029326304836190736, 0.05259885948749471, 0.002073311970549589, 0.16099364723493606, 0.26701039063224885, 0.2338903685307066, 0.24066959655346323, 0.022205329400837734, 0.20650810041369416, 0.8750776994987715, 0.01583538202693105, 0.06837881394252174, 0.08932766425718798, 0.09730833889857396, 0.0759229331114855, 0.03264019713856869, 0.0024668176568358566, 0.1847454620378184, 0.18570138462594807, 0.2130280800294717, 0.404369533334946, 0.26609430481319013, 0.19466760179689443, 0.01822566053566138, 0.010602707776089489, 0.012941809190936232, 0.21261892829569437, 0.00432454978990416, 0.119975258059289, 0.08694917394180017, 0.12703572431118054, 0.3060247339019315, 0.20956510830078193, 0.035596874009664776, 0.03523651897024462, 0.5675818470277341, 0.06476722593776368, 0.01823153904119682, 0.07356490346317728, 0.27271940781658377, 0.10940309013307899, 0.06420056191682463, 0.10944604404545, 0.1748069432097166, 0.07580517136608284, 0.2957802449046901, 0.038210852150797586, 0.0969169641466006, 0.14244803051321414, 0.14384567002999357, 0.22839147621203296, 0.20595061893201264, 0.713453554885075, 0.3829263597048624, 0.037803433577922534, 0.07940890480833206, 0.04453518892363267, 0.10589075416213914, 0.07988090201510943, 0.032234561873715546, 0.08064539532577653, 0.06236403690739045, 0.0959772561085234, 0.16212090463163603, 0.20255509668254215, 0.44125771260561425, 0.032123493688976865, 0.06619869154369953, 0.13829723146915263, 0.34283163842177306, 0.13691763803954757, 0.06474533607977287, 0.02886213521129542, 0.019450635959139297, 0.13725623601685955, 0.026478267844945412, 0.322354371263377, 0.15244058556596357, 0.16196000252230908, 0.1362940192532006, 0.04079945765407539, 0.001800922036323081, 0.08513144647016543, 0.27569847422200466, 0.7854935632040287, 0.0023220069979504676, 0.051502194542963245, 0.15207691406016902, 0.5813169817732192, 0.07076249505532059, 0.005096874559957858, 0.05135545382334724, 0.16214342074244312, 0.05538827252166456, 0.008217902623718515, 0.08477631851168228, 0.029753017177488034, 0.06025153637427283, 0.038538673289600076, 0.0630644027229973, 0.21323724119732662, 0.12281161816686395, 0.04277230658185919, 0.11956078033553928, 0.16352447712066484, 0.11830663825662106, 0.030886990337926544, 0.07895325882422322, 0.10778500936996745, 0.08793503167007138, 0.4526648790953124, 0.1681882853288205, 0.02968392820642255, 0.05462080018618702, 0.04649026457267648, 0.025479140712992673, 0.14379075183852993, 0.09941927728116695, 0.01975660014364719, 0.02848637922440646, 0.19078001102351186, 0.46086707548535283, 0.5938372203090679, 0.6822160852352721, 0.0363392421564016, 0.23368964143631588, 0.07396615106138818, 0.13938585033421275, 0.33341484322790654, 0.05021467370316373, 0.1697031639001027, 0.02189917818907157, 0.37767145743516595, 0.02407691779053033, 0.022895897059058767, 0.4118096858128602, 0.09095159678852165, 0.0388520432295824, 0.21932163792363482, 0.08976395570830661, 0.0012092127938563818, 0.0072187342583881235, 0.3367317643312065, 0.09004524816957736, 0.09093113845650412, 0.144956502418907, 0.3600956381613495, 0.01942513297576585, 0.09497814919406987, 0.013728605670855577, 0.14904279859720074, 0.012179321786200095, 0.1171738192367425, 0.08186328110620625, 0.05886176575364125, 0.33038689992193526, 0.05192182209466215, 0.08534416139270083, 0.0988563546107334, 0.026478070697998287, 0.47952291070232805, 0.013500042420771942, 0.03517608868908414, 0.25728054353482716, 0.055258534154640736, 0.28769947894792697, 0.14819734496915027, 0.12493657679388843, 0.016646846791319857, 0.03923925671047389, 0.18723814001333655, 0.13497340529507387, 0.525192001151892, 0.5613975731864004, 0.019960167975699022, 0.12462440594512865, 0.11481790213713194, 0.005966610522065351, 0.15742267410698318, 0.05541002927687115, 0.0904887122456003, 0.032412288724337955, 0.3248411159875892, 0.22170266929232235, 0.16082065154908642, 0.10499408618068543, 0.189628109374524, 0.2436743978498562, 0.004639464473868319, 0.08659647086006711, 0.0451678077508923, 0.04451622429687292, 0.32002682772226754, 0.07454277709366564, 0.02456992631640763, 0.19883426339895233, 0.2511693204258875, 0.12419222967455387, 0.07362833886183756, 0.18211050927763348, 0.0446016176961396, 0.5550180886905164, 0.15272644415201206, 0.2530874286619499, 0.15748161562573817, 0.006033453874417755, 0.04092859619780797, 0.1090947799895404, 0.16142814963452826, 0.044013987978639535, 0.05080442768288273, 0.2711227142990806, 0.14768072208390398, 0.5275713172439728, 0.33283782458503425, 0.3666155554836519, 0.04050101414610898, 0.8424004848544598, 0.09438736667882353, 0.08439673200252654, 0.23133185169982404, 0.043982772313110895, 0.09002030190814535, 0.45674586056177086, 0.02579047211652121, 0.21647874230515263, 0.332454389116525, 0.32945934725741827, 0.09479994888172906, 0.2944920150222944, 0.2918719435904713, 0.03317070943247584, 0.4172918432718991, 0.5177361973638522, 0.1125323232799742, 0.6323069711135013, 0.040224974079243435, 0.020161709741893845, 0.21793113350779508, 0.11082717725018218, 0.08738467820927197, 0.010235529961440814, 0.21615007776456996, 0.04765864892200071, 0.07281699878160316, 0.035997102890466, 0.05175249551554208, 0.25594894920416644, 0.09268414495219207, 0.08637287189383672, 0.09942368102840171, 0.35525013053526894, 0.003266385626732602, 0.0948508683695526, 0.014126960665484061, 0.0926710159772503, 0.1642633897361147, 0.1547968808408352, 0.2729686459838918, 0.49215309375566596, 0.2413371231819106, 0.13730948995117145, 0.2901223539797463, 0.005277766433536261, 0.17593069356320976, 0.14867687473753266, 0.3615568947449394, 0.03854416547956316, 0.20388142524735503, 0.5245696112179116, 0.10549528461196647, 0.042317578782016765, 0.11978682168430185, 0.11961557681668397, 0.06056934863945272, 0.2153568439173956, 0.44280355207170397, 0.06865782321945317, 0.012549359616386882, 0.08440984274055424, 0.2062634912769037, 0.034113592416712954, 0.2394936808034582, 0.046754256900958156, 0.03494762625198134, 0.01977827586944133, 0.05967503073280715, 0.13501235477944137, 0.1281417810487233, 0.1289990002734853, 0.3313040798078889, 0.04763227065197197, 0.43546007967754385, 0.02681631205278948, 0.0005621651146935524, 0.07790372947154162, 0.10219386819283431, 0.22902553872882767, 0.12267486950644049, 0.6566314664516616, 0.26352092412564104, 0.34285869332258073, 0.09479935178535177, 0.06185642627338766, 0.04862430590615511, 0.14540070443148598, 0.11086551837762103, 0.21870510580357444, 0.06721042931489872, 0.0036677246119977626, 0.10413803325091342, 0.08361885452460284, 0.15534089506162632, 0.6293560181668197, 0.46193650906221867, 0.05768019525451418, 0.2144414266862375, 0.00436218937643342, 0.9662555051539007, 0.10101904472537741, 0.6107123034775561, 0.09704648563167982, 0.052057170228467405, 0.10968453403762819, 0.016256386332039033, 0.029992973654644033, 0.12033761266380026, 0.09362529136837869, 0.20473586981565148, 0.1304721953866174, 0.07749972469004679, 0.30019161811867084, 0.3605691514528612, 0.11817411576614859, 0.35108848720548486, 0.26695867560091713, 0.32925890127474794, 0.01509666361562242, 0.10790352006197308, 0.26224451920981784, 0.0064963111089477825, 0.08431137180658156, 0.28984259788166733, 0.13851667860715236, 0.11823218310918181, 0.3779086752741699, 0.05621572746883812, 0.05926236082725603, 0.08357416671900234, 0.06215073111733722, 0.09247793541622007, 0.0562620260256645, 0.07026893994282675, 0.1490641310361816, 0.05209031115322715, 0.08104894947327591, 0.07007811386624473, 0.5777620626059996, 0.1039023137366397, 0.017394147549583676, 0.19468220621281507, 0.08489126449836899, 0.27034682680360883, 0.19913022615866968, 0.1674103328409797, 0.07069528293799458, 0.06936428649335713, 0.112005881447577, 0.023437750678972778, 0.24249455644265167, 0.08333233584107852, 0.13895464894806456, 0.26244503091060856, 0.06214731842632168, 0.01693630283292216, 0.093810870954167, 0.016581414519933693, 0.05169242157092065, 0.24667294694171807, 0.25725313788465104, 0.2942305596934742, 0.02513076202504748, 0.03749682833982707, 0.03461706399001417, 0.029363126181028515, 0.28345907339888454, 0.12404886207239103, 0.05201917143743845, 0.04115477536531937, 0.12922237193038774, 0.21123108591482087, 0.014671357016802715, 0.612599175323458, 0.1033661543076186, 0.2484968749487916, 0.06216866590932729, 0.0806477527948896, 0.13226038497411519, 0.0689891555900655, 0.02465939944730085, 0.13281360349948793, 0.12191653535482322, 0.042723985295263424, 0.13329691409302985, 0.08330085679638471, 0.319523456579575, 0.0633754516193783, 0.04159040716774027, 1.0, 0.021534913403535846, 0.0895487780244205, 0.05526500219771426, 0.15200027211730874, 0.06391876699404014, 0.2617567005609274, 0.07979531915202731, 0.07237417918825277, 0.10621563832973173, 0.36409012682498837, 0.3100946395588471, 0.0520480321975427, 0.45701113219147144, 0.02547702634002462, 0.11095281944991116, 0.000824027781168874, 0.4062179163020589, 0.06398004772374324, 0.10039969136730469, 0.1205681393561257, 0.03989646980998825, 0.18948998558902236, 0.13253280661243855, 0.04825992093366209, 0.09271246418483982, 0.04360904519062089, 0.015625623084004402, 0.08731827868729869, 0.0010982244321455276, 0.3340294916882132, 0.03064931934610071, 0.2706942504080043, 0.14019980915283944, 0.2196422067097884, 0.1160510986893259, 0.01842199162632462, 0.0948152054973804, 0.16092278880224922, 0.19372373721735875, 0.0011818753039756988, 0.16387648037422384, 0.18307846342117012, 0.02429476556182071, 0.07939534186137157, 0.3448974524004144, 0.16367546907847275, 0.029428777767609653, 0.11065560948596069, 0.05368761684775586, 0.45103869512236566, 0.0735018351266087, 0.11000416475544136, 0.04234233592073776], \"xaxis\": \"x\", \"yaxis\": \"y\"}],\n",
              "                        {\"barmode\": \"relative\", \"legend\": {\"tracegroupgap\": 0}, \"margin\": {\"t\": 60}, \"template\": {\"data\": {\"bar\": [{\"error_x\": {\"color\": \"#f2f5fa\"}, \"error_y\": {\"color\": \"#f2f5fa\"}, \"marker\": {\"line\": {\"color\": \"rgb(17,17,17)\", \"width\": 0.5}}, \"type\": \"bar\"}], \"barpolar\": [{\"marker\": {\"line\": {\"color\": \"rgb(17,17,17)\", \"width\": 0.5}}, \"type\": \"barpolar\"}], \"carpet\": [{\"aaxis\": {\"endlinecolor\": \"#A2B1C6\", \"gridcolor\": \"#506784\", \"linecolor\": \"#506784\", \"minorgridcolor\": \"#506784\", \"startlinecolor\": \"#A2B1C6\"}, \"baxis\": {\"endlinecolor\": \"#A2B1C6\", \"gridcolor\": \"#506784\", \"linecolor\": \"#506784\", \"minorgridcolor\": \"#506784\", \"startlinecolor\": \"#A2B1C6\"}, \"type\": \"carpet\"}], \"choropleth\": [{\"colorbar\": {\"outlinewidth\": 0, \"ticks\": \"\"}, \"type\": \"choropleth\"}], \"contour\": [{\"colorbar\": {\"outlinewidth\": 0, \"ticks\": \"\"}, \"colorscale\": [[0.0, \"#0d0887\"], [0.1111111111111111, \"#46039f\"], [0.2222222222222222, \"#7201a8\"], [0.3333333333333333, \"#9c179e\"], [0.4444444444444444, \"#bd3786\"], [0.5555555555555556, \"#d8576b\"], [0.6666666666666666, \"#ed7953\"], [0.7777777777777778, \"#fb9f3a\"], [0.8888888888888888, \"#fdca26\"], [1.0, \"#f0f921\"]], \"type\": \"contour\"}], \"contourcarpet\": [{\"colorbar\": {\"outlinewidth\": 0, \"ticks\": \"\"}, \"type\": \"contourcarpet\"}], \"heatmap\": [{\"colorbar\": {\"outlinewidth\": 0, \"ticks\": \"\"}, \"colorscale\": [[0.0, \"#0d0887\"], [0.1111111111111111, \"#46039f\"], [0.2222222222222222, \"#7201a8\"], [0.3333333333333333, \"#9c179e\"], [0.4444444444444444, \"#bd3786\"], [0.5555555555555556, \"#d8576b\"], [0.6666666666666666, \"#ed7953\"], [0.7777777777777778, \"#fb9f3a\"], [0.8888888888888888, \"#fdca26\"], [1.0, \"#f0f921\"]], \"type\": \"heatmap\"}], \"heatmapgl\": [{\"colorbar\": {\"outlinewidth\": 0, \"ticks\": \"\"}, \"colorscale\": [[0.0, \"#0d0887\"], [0.1111111111111111, \"#46039f\"], [0.2222222222222222, \"#7201a8\"], [0.3333333333333333, \"#9c179e\"], [0.4444444444444444, \"#bd3786\"], [0.5555555555555556, \"#d8576b\"], [0.6666666666666666, \"#ed7953\"], [0.7777777777777778, \"#fb9f3a\"], [0.8888888888888888, \"#fdca26\"], [1.0, \"#f0f921\"]], \"type\": \"heatmapgl\"}], \"histogram\": [{\"marker\": {\"colorbar\": {\"outlinewidth\": 0, \"ticks\": \"\"}}, \"type\": \"histogram\"}], \"histogram2d\": [{\"colorbar\": {\"outlinewidth\": 0, \"ticks\": \"\"}, \"colorscale\": [[0.0, \"#0d0887\"], [0.1111111111111111, \"#46039f\"], [0.2222222222222222, \"#7201a8\"], [0.3333333333333333, \"#9c179e\"], [0.4444444444444444, \"#bd3786\"], [0.5555555555555556, \"#d8576b\"], [0.6666666666666666, \"#ed7953\"], [0.7777777777777778, \"#fb9f3a\"], [0.8888888888888888, \"#fdca26\"], [1.0, \"#f0f921\"]], \"type\": \"histogram2d\"}], \"histogram2dcontour\": [{\"colorbar\": {\"outlinewidth\": 0, \"ticks\": \"\"}, \"colorscale\": [[0.0, \"#0d0887\"], [0.1111111111111111, \"#46039f\"], [0.2222222222222222, \"#7201a8\"], [0.3333333333333333, \"#9c179e\"], [0.4444444444444444, \"#bd3786\"], [0.5555555555555556, \"#d8576b\"], [0.6666666666666666, \"#ed7953\"], [0.7777777777777778, \"#fb9f3a\"], [0.8888888888888888, \"#fdca26\"], [1.0, \"#f0f921\"]], \"type\": \"histogram2dcontour\"}], \"mesh3d\": [{\"colorbar\": {\"outlinewidth\": 0, \"ticks\": \"\"}, \"type\": \"mesh3d\"}], \"parcoords\": [{\"line\": {\"colorbar\": {\"outlinewidth\": 0, \"ticks\": \"\"}}, \"type\": \"parcoords\"}], \"pie\": [{\"automargin\": true, \"type\": \"pie\"}], \"scatter\": [{\"marker\": {\"line\": {\"color\": \"#283442\"}}, \"type\": \"scatter\"}], \"scatter3d\": [{\"line\": {\"colorbar\": {\"outlinewidth\": 0, \"ticks\": \"\"}}, \"marker\": {\"colorbar\": {\"outlinewidth\": 0, \"ticks\": \"\"}}, \"type\": \"scatter3d\"}], \"scattercarpet\": [{\"marker\": {\"colorbar\": {\"outlinewidth\": 0, \"ticks\": \"\"}}, \"type\": \"scattercarpet\"}], \"scattergeo\": [{\"marker\": {\"colorbar\": {\"outlinewidth\": 0, \"ticks\": \"\"}}, \"type\": \"scattergeo\"}], \"scattergl\": [{\"marker\": {\"line\": {\"color\": \"#283442\"}}, \"type\": \"scattergl\"}], \"scattermapbox\": [{\"marker\": {\"colorbar\": {\"outlinewidth\": 0, \"ticks\": \"\"}}, \"type\": \"scattermapbox\"}], \"scatterpolar\": [{\"marker\": {\"colorbar\": {\"outlinewidth\": 0, \"ticks\": \"\"}}, \"type\": \"scatterpolar\"}], \"scatterpolargl\": [{\"marker\": {\"colorbar\": {\"outlinewidth\": 0, \"ticks\": \"\"}}, \"type\": \"scatterpolargl\"}], \"scatterternary\": [{\"marker\": {\"colorbar\": {\"outlinewidth\": 0, \"ticks\": \"\"}}, \"type\": \"scatterternary\"}], \"surface\": [{\"colorbar\": {\"outlinewidth\": 0, \"ticks\": \"\"}, \"colorscale\": [[0.0, \"#0d0887\"], [0.1111111111111111, \"#46039f\"], [0.2222222222222222, \"#7201a8\"], [0.3333333333333333, \"#9c179e\"], [0.4444444444444444, \"#bd3786\"], [0.5555555555555556, \"#d8576b\"], [0.6666666666666666, \"#ed7953\"], [0.7777777777777778, \"#fb9f3a\"], [0.8888888888888888, \"#fdca26\"], [1.0, \"#f0f921\"]], \"type\": \"surface\"}], \"table\": [{\"cells\": {\"fill\": {\"color\": \"#506784\"}, \"line\": {\"color\": \"rgb(17,17,17)\"}}, \"header\": {\"fill\": {\"color\": \"#2a3f5f\"}, \"line\": {\"color\": \"rgb(17,17,17)\"}}, \"type\": \"table\"}]}, \"layout\": {\"annotationdefaults\": {\"arrowcolor\": \"#f2f5fa\", \"arrowhead\": 0, \"arrowwidth\": 1}, \"coloraxis\": {\"colorbar\": {\"outlinewidth\": 0, \"ticks\": \"\"}}, \"colorscale\": {\"diverging\": [[0, \"#8e0152\"], [0.1, \"#c51b7d\"], [0.2, \"#de77ae\"], [0.3, \"#f1b6da\"], [0.4, \"#fde0ef\"], [0.5, \"#f7f7f7\"], [0.6, \"#e6f5d0\"], [0.7, \"#b8e186\"], [0.8, \"#7fbc41\"], [0.9, \"#4d9221\"], [1, \"#276419\"]], \"sequential\": [[0.0, \"#0d0887\"], [0.1111111111111111, \"#46039f\"], [0.2222222222222222, \"#7201a8\"], [0.3333333333333333, \"#9c179e\"], [0.4444444444444444, \"#bd3786\"], [0.5555555555555556, \"#d8576b\"], [0.6666666666666666, \"#ed7953\"], [0.7777777777777778, \"#fb9f3a\"], [0.8888888888888888, \"#fdca26\"], [1.0, \"#f0f921\"]], \"sequentialminus\": [[0.0, \"#0d0887\"], [0.1111111111111111, \"#46039f\"], [0.2222222222222222, \"#7201a8\"], [0.3333333333333333, \"#9c179e\"], [0.4444444444444444, \"#bd3786\"], [0.5555555555555556, \"#d8576b\"], [0.6666666666666666, \"#ed7953\"], [0.7777777777777778, \"#fb9f3a\"], [0.8888888888888888, \"#fdca26\"], [1.0, \"#f0f921\"]]}, \"colorway\": [\"#636efa\", \"#EF553B\", \"#00cc96\", \"#ab63fa\", \"#FFA15A\", \"#19d3f3\", \"#FF6692\", \"#B6E880\", \"#FF97FF\", \"#FECB52\"], \"font\": {\"color\": \"#f2f5fa\"}, \"geo\": {\"bgcolor\": \"rgb(17,17,17)\", \"lakecolor\": \"rgb(17,17,17)\", \"landcolor\": \"rgb(17,17,17)\", \"showlakes\": true, \"showland\": true, \"subunitcolor\": \"#506784\"}, \"hoverlabel\": {\"align\": \"left\"}, \"hovermode\": \"closest\", \"mapbox\": {\"style\": \"dark\"}, \"paper_bgcolor\": \"rgb(17,17,17)\", \"plot_bgcolor\": \"rgb(17,17,17)\", \"polar\": {\"angularaxis\": {\"gridcolor\": \"#506784\", \"linecolor\": \"#506784\", \"ticks\": \"\"}, \"bgcolor\": \"rgb(17,17,17)\", \"radialaxis\": {\"gridcolor\": \"#506784\", \"linecolor\": \"#506784\", \"ticks\": \"\"}}, \"scene\": {\"xaxis\": {\"backgroundcolor\": \"rgb(17,17,17)\", \"gridcolor\": \"#506784\", \"gridwidth\": 2, \"linecolor\": \"#506784\", \"showbackground\": true, \"ticks\": \"\", \"zerolinecolor\": \"#C8D4E3\"}, \"yaxis\": {\"backgroundcolor\": \"rgb(17,17,17)\", \"gridcolor\": \"#506784\", \"gridwidth\": 2, \"linecolor\": \"#506784\", \"showbackground\": true, \"ticks\": \"\", \"zerolinecolor\": \"#C8D4E3\"}, \"zaxis\": {\"backgroundcolor\": \"rgb(17,17,17)\", \"gridcolor\": \"#506784\", \"gridwidth\": 2, \"linecolor\": \"#506784\", \"showbackground\": true, \"ticks\": \"\", \"zerolinecolor\": \"#C8D4E3\"}}, \"shapedefaults\": {\"line\": {\"color\": \"#f2f5fa\"}}, \"sliderdefaults\": {\"bgcolor\": \"#C8D4E3\", \"bordercolor\": \"rgb(17,17,17)\", \"borderwidth\": 1, \"tickwidth\": 0}, \"ternary\": {\"aaxis\": {\"gridcolor\": \"#506784\", \"linecolor\": \"#506784\", \"ticks\": \"\"}, \"baxis\": {\"gridcolor\": \"#506784\", \"linecolor\": \"#506784\", \"ticks\": \"\"}, \"bgcolor\": \"rgb(17,17,17)\", \"caxis\": {\"gridcolor\": \"#506784\", \"linecolor\": \"#506784\", \"ticks\": \"\"}}, \"title\": {\"x\": 0.05}, \"updatemenudefaults\": {\"bgcolor\": \"#506784\", \"borderwidth\": 0}, \"xaxis\": {\"automargin\": true, \"gridcolor\": \"#283442\", \"linecolor\": \"#506784\", \"ticks\": \"\", \"title\": {\"standoff\": 15}, \"zerolinecolor\": \"#283442\", \"zerolinewidth\": 2}, \"yaxis\": {\"automargin\": true, \"gridcolor\": \"#283442\", \"linecolor\": \"#506784\", \"ticks\": \"\", \"title\": {\"standoff\": 15}, \"zerolinecolor\": \"#283442\", \"zerolinewidth\": 2}}}, \"xaxis\": {\"anchor\": \"y\", \"domain\": [0.0, 1.0], \"title\": {\"text\": \"x\"}}, \"yaxis\": {\"anchor\": \"x\", \"domain\": [0.0, 1.0], \"title\": {\"text\": \"count\"}}},\n",
              "                        {\"responsive\": true}\n",
              "                    ).then(function(){\n",
              "                            \n",
              "var gd = document.getElementById('537cf166-45e5-40c0-beae-c9f294770759');\n",
              "var x = new MutationObserver(function (mutations, observer) {{\n",
              "        var display = window.getComputedStyle(gd).display;\n",
              "        if (!display || display === 'none') {{\n",
              "            console.log([gd, 'removed!']);\n",
              "            Plotly.purge(gd);\n",
              "            observer.disconnect();\n",
              "        }}\n",
              "}});\n",
              "\n",
              "// Listen for the removal of the full notebook cells\n",
              "var notebookContainer = gd.closest('#notebook-container');\n",
              "if (notebookContainer) {{\n",
              "    x.observe(notebookContainer, {childList: true});\n",
              "}}\n",
              "\n",
              "// Listen for the clearing of the current output cell\n",
              "var outputEl = gd.closest('.output');\n",
              "if (outputEl) {{\n",
              "    x.observe(outputEl, {childList: true});\n",
              "}}\n",
              "\n",
              "                        })\n",
              "                };\n",
              "                });\n",
              "            </script>\n",
              "        </div>"
            ]
          },
          "metadata": {
            "tags": []
          }
        }
      ]
    },
    {
      "cell_type": "markdown",
      "metadata": {
        "id": "lanodFODEUjM"
      },
      "source": [
        "# Exploratory Data Analysis\n",
        "## Basic Statistics\n",
        "https://www.kaggle.com/rtatman/lego-database?select=colors.csv"
      ]
    },
    {
      "cell_type": "code",
      "metadata": {
        "id": "rBCg9yK8EUjM",
        "outputId": "2eedfffe-573c-4719-c969-dfeb435aa7d8"
      },
      "source": [
        "# import cereals dataset\n",
        "cereal_df = pd.read_csv('Data/cereal.csv')\n",
        "cereal_df.head(4)"
      ],
      "execution_count": null,
      "outputs": [
        {
          "output_type": "execute_result",
          "data": {
            "text/html": [
              "<div>\n",
              "<style scoped>\n",
              "    .dataframe tbody tr th:only-of-type {\n",
              "        vertical-align: middle;\n",
              "    }\n",
              "\n",
              "    .dataframe tbody tr th {\n",
              "        vertical-align: top;\n",
              "    }\n",
              "\n",
              "    .dataframe thead th {\n",
              "        text-align: right;\n",
              "    }\n",
              "</style>\n",
              "<table border=\"1\" class=\"dataframe\">\n",
              "  <thead>\n",
              "    <tr style=\"text-align: right;\">\n",
              "      <th></th>\n",
              "      <th>name</th>\n",
              "      <th>mfr</th>\n",
              "      <th>type</th>\n",
              "      <th>calories</th>\n",
              "      <th>protein</th>\n",
              "      <th>fat</th>\n",
              "      <th>sodium</th>\n",
              "      <th>fiber</th>\n",
              "      <th>carbo</th>\n",
              "      <th>sugars</th>\n",
              "      <th>potass</th>\n",
              "      <th>vitamins</th>\n",
              "      <th>shelf</th>\n",
              "      <th>weight</th>\n",
              "      <th>cups</th>\n",
              "      <th>rating</th>\n",
              "    </tr>\n",
              "  </thead>\n",
              "  <tbody>\n",
              "    <tr>\n",
              "      <td>0</td>\n",
              "      <td>100% Bran</td>\n",
              "      <td>N</td>\n",
              "      <td>C</td>\n",
              "      <td>70</td>\n",
              "      <td>4</td>\n",
              "      <td>1</td>\n",
              "      <td>130</td>\n",
              "      <td>10.0</td>\n",
              "      <td>5.0</td>\n",
              "      <td>6</td>\n",
              "      <td>280</td>\n",
              "      <td>25</td>\n",
              "      <td>3</td>\n",
              "      <td>1.0</td>\n",
              "      <td>0.33</td>\n",
              "      <td>68.402973</td>\n",
              "    </tr>\n",
              "    <tr>\n",
              "      <td>1</td>\n",
              "      <td>100% Natural Bran</td>\n",
              "      <td>Q</td>\n",
              "      <td>C</td>\n",
              "      <td>120</td>\n",
              "      <td>3</td>\n",
              "      <td>5</td>\n",
              "      <td>15</td>\n",
              "      <td>2.0</td>\n",
              "      <td>8.0</td>\n",
              "      <td>8</td>\n",
              "      <td>135</td>\n",
              "      <td>0</td>\n",
              "      <td>3</td>\n",
              "      <td>1.0</td>\n",
              "      <td>1.00</td>\n",
              "      <td>33.983679</td>\n",
              "    </tr>\n",
              "    <tr>\n",
              "      <td>2</td>\n",
              "      <td>All-Bran</td>\n",
              "      <td>K</td>\n",
              "      <td>C</td>\n",
              "      <td>70</td>\n",
              "      <td>4</td>\n",
              "      <td>1</td>\n",
              "      <td>260</td>\n",
              "      <td>9.0</td>\n",
              "      <td>7.0</td>\n",
              "      <td>5</td>\n",
              "      <td>320</td>\n",
              "      <td>25</td>\n",
              "      <td>3</td>\n",
              "      <td>1.0</td>\n",
              "      <td>0.33</td>\n",
              "      <td>59.425505</td>\n",
              "    </tr>\n",
              "    <tr>\n",
              "      <td>3</td>\n",
              "      <td>All-Bran with Extra Fiber</td>\n",
              "      <td>K</td>\n",
              "      <td>C</td>\n",
              "      <td>50</td>\n",
              "      <td>4</td>\n",
              "      <td>0</td>\n",
              "      <td>140</td>\n",
              "      <td>14.0</td>\n",
              "      <td>8.0</td>\n",
              "      <td>0</td>\n",
              "      <td>330</td>\n",
              "      <td>25</td>\n",
              "      <td>3</td>\n",
              "      <td>1.0</td>\n",
              "      <td>0.50</td>\n",
              "      <td>93.704912</td>\n",
              "    </tr>\n",
              "  </tbody>\n",
              "</table>\n",
              "</div>"
            ],
            "text/plain": [
              "                        name mfr type  calories  protein  fat  sodium  fiber  \\\n",
              "0                  100% Bran   N    C        70        4    1     130   10.0   \n",
              "1          100% Natural Bran   Q    C       120        3    5      15    2.0   \n",
              "2                   All-Bran   K    C        70        4    1     260    9.0   \n",
              "3  All-Bran with Extra Fiber   K    C        50        4    0     140   14.0   \n",
              "\n",
              "   carbo  sugars  potass  vitamins  shelf  weight  cups     rating  \n",
              "0    5.0       6     280        25      3     1.0  0.33  68.402973  \n",
              "1    8.0       8     135         0      3     1.0  1.00  33.983679  \n",
              "2    7.0       5     320        25      3     1.0  0.33  59.425505  \n",
              "3    8.0       0     330        25      3     1.0  0.50  93.704912  "
            ]
          },
          "metadata": {
            "tags": []
          },
          "execution_count": 57
        }
      ]
    },
    {
      "cell_type": "code",
      "metadata": {
        "id": "2vfeLkEMEUjM",
        "outputId": "2f5bb221-960a-4ae2-c1e3-612abbb232bf"
      },
      "source": [
        "print(cereal_df.describe())"
      ],
      "execution_count": null,
      "outputs": [
        {
          "output_type": "stream",
          "text": [
            "         calories    protein        fat      sodium      fiber      carbo  \\\n",
            "count   77.000000  77.000000  77.000000   77.000000  77.000000  77.000000   \n",
            "mean   106.883117   2.545455   1.012987  159.675325   2.151948  14.597403   \n",
            "std     19.484119   1.094790   1.006473   83.832295   2.383364   4.278956   \n",
            "min     50.000000   1.000000   0.000000    0.000000   0.000000  -1.000000   \n",
            "25%    100.000000   2.000000   0.000000  130.000000   1.000000  12.000000   \n",
            "50%    110.000000   3.000000   1.000000  180.000000   2.000000  14.000000   \n",
            "75%    110.000000   3.000000   2.000000  210.000000   3.000000  17.000000   \n",
            "max    160.000000   6.000000   5.000000  320.000000  14.000000  23.000000   \n",
            "\n",
            "          sugars      potass    vitamins      shelf     weight       cups  \\\n",
            "count  77.000000   77.000000   77.000000  77.000000  77.000000  77.000000   \n",
            "mean    6.922078   96.077922   28.246753   2.207792   1.029610   0.821039   \n",
            "std     4.444885   71.286813   22.342523   0.832524   0.150477   0.232716   \n",
            "min    -1.000000   -1.000000    0.000000   1.000000   0.500000   0.250000   \n",
            "25%     3.000000   40.000000   25.000000   1.000000   1.000000   0.670000   \n",
            "50%     7.000000   90.000000   25.000000   2.000000   1.000000   0.750000   \n",
            "75%    11.000000  120.000000   25.000000   3.000000   1.000000   1.000000   \n",
            "max    15.000000  330.000000  100.000000   3.000000   1.500000   1.500000   \n",
            "\n",
            "          rating  \n",
            "count  77.000000  \n",
            "mean   42.665705  \n",
            "std    14.047289  \n",
            "min    18.042851  \n",
            "25%    33.174094  \n",
            "50%    40.400208  \n",
            "75%    50.828392  \n",
            "max    93.704912  \n"
          ],
          "name": "stdout"
        }
      ]
    },
    {
      "cell_type": "code",
      "metadata": {
        "id": "OPGMmac-EUjN",
        "outputId": "ac18a991-4ad6-4e25-a761-396c7b9c78f4"
      },
      "source": [
        "display(cereal_df.mean())"
      ],
      "execution_count": null,
      "outputs": [
        {
          "output_type": "display_data",
          "data": {
            "text/plain": [
              "calories    106.883117\n",
              "protein       2.545455\n",
              "fat           1.012987\n",
              "sodium      159.675325\n",
              "fiber         2.151948\n",
              "carbo        14.597403\n",
              "sugars        6.922078\n",
              "potass       96.077922\n",
              "vitamins     28.246753\n",
              "shelf         2.207792\n",
              "weight        1.029610\n",
              "cups          0.821039\n",
              "rating       42.665705\n",
              "dtype: float64"
            ]
          },
          "metadata": {
            "tags": []
          }
        }
      ]
    },
    {
      "cell_type": "code",
      "metadata": {
        "id": "6ppCTxDuEUjN",
        "outputId": "b1e4fc53-2011-46e6-80ad-99390bfc165d"
      },
      "source": [
        "cereal_df.select_dtypes(include='float').agg(['mean','std','sum']) "
      ],
      "execution_count": null,
      "outputs": [
        {
          "output_type": "execute_result",
          "data": {
            "text/html": [
              "<div>\n",
              "<style scoped>\n",
              "    .dataframe tbody tr th:only-of-type {\n",
              "        vertical-align: middle;\n",
              "    }\n",
              "\n",
              "    .dataframe tbody tr th {\n",
              "        vertical-align: top;\n",
              "    }\n",
              "\n",
              "    .dataframe thead th {\n",
              "        text-align: right;\n",
              "    }\n",
              "</style>\n",
              "<table border=\"1\" class=\"dataframe\">\n",
              "  <thead>\n",
              "    <tr style=\"text-align: right;\">\n",
              "      <th></th>\n",
              "      <th>fiber</th>\n",
              "      <th>carbo</th>\n",
              "      <th>weight</th>\n",
              "      <th>cups</th>\n",
              "      <th>rating</th>\n",
              "    </tr>\n",
              "  </thead>\n",
              "  <tbody>\n",
              "    <tr>\n",
              "      <td>mean</td>\n",
              "      <td>2.151948</td>\n",
              "      <td>14.597403</td>\n",
              "      <td>1.029610</td>\n",
              "      <td>0.821039</td>\n",
              "      <td>42.665705</td>\n",
              "    </tr>\n",
              "    <tr>\n",
              "      <td>std</td>\n",
              "      <td>2.383364</td>\n",
              "      <td>4.278956</td>\n",
              "      <td>0.150477</td>\n",
              "      <td>0.232716</td>\n",
              "      <td>14.047289</td>\n",
              "    </tr>\n",
              "    <tr>\n",
              "      <td>sum</td>\n",
              "      <td>165.700000</td>\n",
              "      <td>1124.000000</td>\n",
              "      <td>79.280000</td>\n",
              "      <td>63.220000</td>\n",
              "      <td>3285.259284</td>\n",
              "    </tr>\n",
              "  </tbody>\n",
              "</table>\n",
              "</div>"
            ],
            "text/plain": [
              "           fiber        carbo     weight       cups       rating\n",
              "mean    2.151948    14.597403   1.029610   0.821039    42.665705\n",
              "std     2.383364     4.278956   0.150477   0.232716    14.047289\n",
              "sum   165.700000  1124.000000  79.280000  63.220000  3285.259284"
            ]
          },
          "metadata": {
            "tags": []
          },
          "execution_count": 119
        }
      ]
    },
    {
      "cell_type": "code",
      "metadata": {
        "id": "3ghLk3kbEUjN",
        "outputId": "23892a74-e9b6-4e34-a7a1-76f30d377486"
      },
      "source": [
        "cereal_df.corr()"
      ],
      "execution_count": null,
      "outputs": [
        {
          "output_type": "execute_result",
          "data": {
            "text/html": [
              "<div>\n",
              "<style scoped>\n",
              "    .dataframe tbody tr th:only-of-type {\n",
              "        vertical-align: middle;\n",
              "    }\n",
              "\n",
              "    .dataframe tbody tr th {\n",
              "        vertical-align: top;\n",
              "    }\n",
              "\n",
              "    .dataframe thead th {\n",
              "        text-align: right;\n",
              "    }\n",
              "</style>\n",
              "<table border=\"1\" class=\"dataframe\">\n",
              "  <thead>\n",
              "    <tr style=\"text-align: right;\">\n",
              "      <th></th>\n",
              "      <th>calories</th>\n",
              "      <th>protein</th>\n",
              "      <th>fat</th>\n",
              "      <th>sodium</th>\n",
              "      <th>fiber</th>\n",
              "      <th>carbo</th>\n",
              "      <th>sugars</th>\n",
              "      <th>potass</th>\n",
              "      <th>vitamins</th>\n",
              "      <th>shelf</th>\n",
              "      <th>weight</th>\n",
              "      <th>cups</th>\n",
              "      <th>rating</th>\n",
              "    </tr>\n",
              "  </thead>\n",
              "  <tbody>\n",
              "    <tr>\n",
              "      <td>calories</td>\n",
              "      <td>1.000000</td>\n",
              "      <td>0.019066</td>\n",
              "      <td>0.498610</td>\n",
              "      <td>0.300649</td>\n",
              "      <td>-0.293413</td>\n",
              "      <td>0.250681</td>\n",
              "      <td>0.562340</td>\n",
              "      <td>-0.066609</td>\n",
              "      <td>0.265356</td>\n",
              "      <td>0.097234</td>\n",
              "      <td>0.696091</td>\n",
              "      <td>0.087200</td>\n",
              "      <td>-0.689376</td>\n",
              "    </tr>\n",
              "    <tr>\n",
              "      <td>protein</td>\n",
              "      <td>0.019066</td>\n",
              "      <td>1.000000</td>\n",
              "      <td>0.208431</td>\n",
              "      <td>-0.054674</td>\n",
              "      <td>0.500330</td>\n",
              "      <td>-0.130864</td>\n",
              "      <td>-0.329142</td>\n",
              "      <td>0.549407</td>\n",
              "      <td>0.007335</td>\n",
              "      <td>0.133865</td>\n",
              "      <td>0.216158</td>\n",
              "      <td>-0.244469</td>\n",
              "      <td>0.470618</td>\n",
              "    </tr>\n",
              "    <tr>\n",
              "      <td>fat</td>\n",
              "      <td>0.498610</td>\n",
              "      <td>0.208431</td>\n",
              "      <td>1.000000</td>\n",
              "      <td>-0.005407</td>\n",
              "      <td>0.016719</td>\n",
              "      <td>-0.318043</td>\n",
              "      <td>0.270819</td>\n",
              "      <td>0.193279</td>\n",
              "      <td>-0.031156</td>\n",
              "      <td>0.263691</td>\n",
              "      <td>0.214625</td>\n",
              "      <td>-0.175892</td>\n",
              "      <td>-0.409284</td>\n",
              "    </tr>\n",
              "    <tr>\n",
              "      <td>sodium</td>\n",
              "      <td>0.300649</td>\n",
              "      <td>-0.054674</td>\n",
              "      <td>-0.005407</td>\n",
              "      <td>1.000000</td>\n",
              "      <td>-0.070675</td>\n",
              "      <td>0.355983</td>\n",
              "      <td>0.101451</td>\n",
              "      <td>-0.032603</td>\n",
              "      <td>0.361477</td>\n",
              "      <td>-0.069719</td>\n",
              "      <td>0.308576</td>\n",
              "      <td>0.119665</td>\n",
              "      <td>-0.401295</td>\n",
              "    </tr>\n",
              "    <tr>\n",
              "      <td>fiber</td>\n",
              "      <td>-0.293413</td>\n",
              "      <td>0.500330</td>\n",
              "      <td>0.016719</td>\n",
              "      <td>-0.070675</td>\n",
              "      <td>1.000000</td>\n",
              "      <td>-0.356083</td>\n",
              "      <td>-0.141205</td>\n",
              "      <td>0.903374</td>\n",
              "      <td>-0.032243</td>\n",
              "      <td>0.297539</td>\n",
              "      <td>0.247226</td>\n",
              "      <td>-0.513061</td>\n",
              "      <td>0.584160</td>\n",
              "    </tr>\n",
              "    <tr>\n",
              "      <td>carbo</td>\n",
              "      <td>0.250681</td>\n",
              "      <td>-0.130864</td>\n",
              "      <td>-0.318043</td>\n",
              "      <td>0.355983</td>\n",
              "      <td>-0.356083</td>\n",
              "      <td>1.000000</td>\n",
              "      <td>-0.331665</td>\n",
              "      <td>-0.349685</td>\n",
              "      <td>0.258148</td>\n",
              "      <td>-0.101790</td>\n",
              "      <td>0.135136</td>\n",
              "      <td>0.363932</td>\n",
              "      <td>0.052055</td>\n",
              "    </tr>\n",
              "    <tr>\n",
              "      <td>sugars</td>\n",
              "      <td>0.562340</td>\n",
              "      <td>-0.329142</td>\n",
              "      <td>0.270819</td>\n",
              "      <td>0.101451</td>\n",
              "      <td>-0.141205</td>\n",
              "      <td>-0.331665</td>\n",
              "      <td>1.000000</td>\n",
              "      <td>0.021696</td>\n",
              "      <td>0.125137</td>\n",
              "      <td>0.100438</td>\n",
              "      <td>0.450648</td>\n",
              "      <td>-0.032358</td>\n",
              "      <td>-0.759675</td>\n",
              "    </tr>\n",
              "    <tr>\n",
              "      <td>potass</td>\n",
              "      <td>-0.066609</td>\n",
              "      <td>0.549407</td>\n",
              "      <td>0.193279</td>\n",
              "      <td>-0.032603</td>\n",
              "      <td>0.903374</td>\n",
              "      <td>-0.349685</td>\n",
              "      <td>0.021696</td>\n",
              "      <td>1.000000</td>\n",
              "      <td>0.020699</td>\n",
              "      <td>0.360663</td>\n",
              "      <td>0.416303</td>\n",
              "      <td>-0.495195</td>\n",
              "      <td>0.380165</td>\n",
              "    </tr>\n",
              "    <tr>\n",
              "      <td>vitamins</td>\n",
              "      <td>0.265356</td>\n",
              "      <td>0.007335</td>\n",
              "      <td>-0.031156</td>\n",
              "      <td>0.361477</td>\n",
              "      <td>-0.032243</td>\n",
              "      <td>0.258148</td>\n",
              "      <td>0.125137</td>\n",
              "      <td>0.020699</td>\n",
              "      <td>1.000000</td>\n",
              "      <td>0.299262</td>\n",
              "      <td>0.320324</td>\n",
              "      <td>0.128405</td>\n",
              "      <td>-0.240544</td>\n",
              "    </tr>\n",
              "    <tr>\n",
              "      <td>shelf</td>\n",
              "      <td>0.097234</td>\n",
              "      <td>0.133865</td>\n",
              "      <td>0.263691</td>\n",
              "      <td>-0.069719</td>\n",
              "      <td>0.297539</td>\n",
              "      <td>-0.101790</td>\n",
              "      <td>0.100438</td>\n",
              "      <td>0.360663</td>\n",
              "      <td>0.299262</td>\n",
              "      <td>1.000000</td>\n",
              "      <td>0.190762</td>\n",
              "      <td>-0.335269</td>\n",
              "      <td>0.025159</td>\n",
              "    </tr>\n",
              "    <tr>\n",
              "      <td>weight</td>\n",
              "      <td>0.696091</td>\n",
              "      <td>0.216158</td>\n",
              "      <td>0.214625</td>\n",
              "      <td>0.308576</td>\n",
              "      <td>0.247226</td>\n",
              "      <td>0.135136</td>\n",
              "      <td>0.450648</td>\n",
              "      <td>0.416303</td>\n",
              "      <td>0.320324</td>\n",
              "      <td>0.190762</td>\n",
              "      <td>1.000000</td>\n",
              "      <td>-0.199583</td>\n",
              "      <td>-0.298124</td>\n",
              "    </tr>\n",
              "    <tr>\n",
              "      <td>cups</td>\n",
              "      <td>0.087200</td>\n",
              "      <td>-0.244469</td>\n",
              "      <td>-0.175892</td>\n",
              "      <td>0.119665</td>\n",
              "      <td>-0.513061</td>\n",
              "      <td>0.363932</td>\n",
              "      <td>-0.032358</td>\n",
              "      <td>-0.495195</td>\n",
              "      <td>0.128405</td>\n",
              "      <td>-0.335269</td>\n",
              "      <td>-0.199583</td>\n",
              "      <td>1.000000</td>\n",
              "      <td>-0.203160</td>\n",
              "    </tr>\n",
              "    <tr>\n",
              "      <td>rating</td>\n",
              "      <td>-0.689376</td>\n",
              "      <td>0.470618</td>\n",
              "      <td>-0.409284</td>\n",
              "      <td>-0.401295</td>\n",
              "      <td>0.584160</td>\n",
              "      <td>0.052055</td>\n",
              "      <td>-0.759675</td>\n",
              "      <td>0.380165</td>\n",
              "      <td>-0.240544</td>\n",
              "      <td>0.025159</td>\n",
              "      <td>-0.298124</td>\n",
              "      <td>-0.203160</td>\n",
              "      <td>1.000000</td>\n",
              "    </tr>\n",
              "  </tbody>\n",
              "</table>\n",
              "</div>"
            ],
            "text/plain": [
              "          calories   protein       fat    sodium     fiber     carbo  \\\n",
              "calories  1.000000  0.019066  0.498610  0.300649 -0.293413  0.250681   \n",
              "protein   0.019066  1.000000  0.208431 -0.054674  0.500330 -0.130864   \n",
              "fat       0.498610  0.208431  1.000000 -0.005407  0.016719 -0.318043   \n",
              "sodium    0.300649 -0.054674 -0.005407  1.000000 -0.070675  0.355983   \n",
              "fiber    -0.293413  0.500330  0.016719 -0.070675  1.000000 -0.356083   \n",
              "carbo     0.250681 -0.130864 -0.318043  0.355983 -0.356083  1.000000   \n",
              "sugars    0.562340 -0.329142  0.270819  0.101451 -0.141205 -0.331665   \n",
              "potass   -0.066609  0.549407  0.193279 -0.032603  0.903374 -0.349685   \n",
              "vitamins  0.265356  0.007335 -0.031156  0.361477 -0.032243  0.258148   \n",
              "shelf     0.097234  0.133865  0.263691 -0.069719  0.297539 -0.101790   \n",
              "weight    0.696091  0.216158  0.214625  0.308576  0.247226  0.135136   \n",
              "cups      0.087200 -0.244469 -0.175892  0.119665 -0.513061  0.363932   \n",
              "rating   -0.689376  0.470618 -0.409284 -0.401295  0.584160  0.052055   \n",
              "\n",
              "            sugars    potass  vitamins     shelf    weight      cups    rating  \n",
              "calories  0.562340 -0.066609  0.265356  0.097234  0.696091  0.087200 -0.689376  \n",
              "protein  -0.329142  0.549407  0.007335  0.133865  0.216158 -0.244469  0.470618  \n",
              "fat       0.270819  0.193279 -0.031156  0.263691  0.214625 -0.175892 -0.409284  \n",
              "sodium    0.101451 -0.032603  0.361477 -0.069719  0.308576  0.119665 -0.401295  \n",
              "fiber    -0.141205  0.903374 -0.032243  0.297539  0.247226 -0.513061  0.584160  \n",
              "carbo    -0.331665 -0.349685  0.258148 -0.101790  0.135136  0.363932  0.052055  \n",
              "sugars    1.000000  0.021696  0.125137  0.100438  0.450648 -0.032358 -0.759675  \n",
              "potass    0.021696  1.000000  0.020699  0.360663  0.416303 -0.495195  0.380165  \n",
              "vitamins  0.125137  0.020699  1.000000  0.299262  0.320324  0.128405 -0.240544  \n",
              "shelf     0.100438  0.360663  0.299262  1.000000  0.190762 -0.335269  0.025159  \n",
              "weight    0.450648  0.416303  0.320324  0.190762  1.000000 -0.199583 -0.298124  \n",
              "cups     -0.032358 -0.495195  0.128405 -0.335269 -0.199583  1.000000 -0.203160  \n",
              "rating   -0.759675  0.380165 -0.240544  0.025159 -0.298124 -0.203160  1.000000  "
            ]
          },
          "metadata": {
            "tags": []
          },
          "execution_count": 121
        }
      ]
    },
    {
      "cell_type": "code",
      "metadata": {
        "id": "bSAx_09GEUjO",
        "outputId": "3899aabc-58f5-493c-995b-bdca104feadc"
      },
      "source": [
        "plt.figure(figsize=(12, 9))\n",
        "sns.heatmap(cereal_df.corr(),cmap=\"YlGnBu\") "
      ],
      "execution_count": null,
      "outputs": [
        {
          "output_type": "execute_result",
          "data": {
            "text/plain": [
              "<matplotlib.axes._subplots.AxesSubplot at 0x7effc1df79d0>"
            ]
          },
          "metadata": {
            "tags": []
          },
          "execution_count": 143
        },
        {
          "output_type": "display_data",
          "data": {
            "image/png": "[encoded data removed]",
            "text/plain": [
              "<Figure size 864x648 with 2 Axes>"
            ]
          },
          "metadata": {
            "tags": []
          }
        }
      ]
    },
    {
      "cell_type": "markdown",
      "metadata": {
        "id": "S9Z454tcEUjO"
      },
      "source": [
        "# Visualization\n",
        "## Plotly\n",
        "https://plotly.com/graphing-libraries"
      ]
    },
    {
      "cell_type": "code",
      "metadata": {
        "id": "6FnooaSCEUjO",
        "outputId": "6fb086c0-03b1-42cb-b6e6-cb076e10f241"
      },
      "source": [
        "import plotly.express as px\n",
        "# and load a standar dataset like tips\n",
        "plotly_df_tips = px.data.tips()\n",
        "plotly_df_tips.head()"
      ],
      "execution_count": null,
      "outputs": [
        {
          "output_type": "execute_result",
          "data": {
            "text/html": [
              "<div>\n",
              "<style scoped>\n",
              "    .dataframe tbody tr th:only-of-type {\n",
              "        vertical-align: middle;\n",
              "    }\n",
              "\n",
              "    .dataframe tbody tr th {\n",
              "        vertical-align: top;\n",
              "    }\n",
              "\n",
              "    .dataframe thead th {\n",
              "        text-align: right;\n",
              "    }\n",
              "</style>\n",
              "<table border=\"1\" class=\"dataframe\">\n",
              "  <thead>\n",
              "    <tr style=\"text-align: right;\">\n",
              "      <th></th>\n",
              "      <th>total_bill</th>\n",
              "      <th>tip</th>\n",
              "      <th>sex</th>\n",
              "      <th>smoker</th>\n",
              "      <th>day</th>\n",
              "      <th>time</th>\n",
              "      <th>size</th>\n",
              "    </tr>\n",
              "  </thead>\n",
              "  <tbody>\n",
              "    <tr>\n",
              "      <td>0</td>\n",
              "      <td>16.99</td>\n",
              "      <td>1.01</td>\n",
              "      <td>Female</td>\n",
              "      <td>No</td>\n",
              "      <td>Sun</td>\n",
              "      <td>Dinner</td>\n",
              "      <td>2</td>\n",
              "    </tr>\n",
              "    <tr>\n",
              "      <td>1</td>\n",
              "      <td>10.34</td>\n",
              "      <td>1.66</td>\n",
              "      <td>Male</td>\n",
              "      <td>No</td>\n",
              "      <td>Sun</td>\n",
              "      <td>Dinner</td>\n",
              "      <td>3</td>\n",
              "    </tr>\n",
              "    <tr>\n",
              "      <td>2</td>\n",
              "      <td>21.01</td>\n",
              "      <td>3.50</td>\n",
              "      <td>Male</td>\n",
              "      <td>No</td>\n",
              "      <td>Sun</td>\n",
              "      <td>Dinner</td>\n",
              "      <td>3</td>\n",
              "    </tr>\n",
              "    <tr>\n",
              "      <td>3</td>\n",
              "      <td>23.68</td>\n",
              "      <td>3.31</td>\n",
              "      <td>Male</td>\n",
              "      <td>No</td>\n",
              "      <td>Sun</td>\n",
              "      <td>Dinner</td>\n",
              "      <td>2</td>\n",
              "    </tr>\n",
              "    <tr>\n",
              "      <td>4</td>\n",
              "      <td>24.59</td>\n",
              "      <td>3.61</td>\n",
              "      <td>Female</td>\n",
              "      <td>No</td>\n",
              "      <td>Sun</td>\n",
              "      <td>Dinner</td>\n",
              "      <td>4</td>\n",
              "    </tr>\n",
              "  </tbody>\n",
              "</table>\n",
              "</div>"
            ],
            "text/plain": [
              "   total_bill   tip     sex smoker  day    time  size\n",
              "0       16.99  1.01  Female     No  Sun  Dinner     2\n",
              "1       10.34  1.66    Male     No  Sun  Dinner     3\n",
              "2       21.01  3.50    Male     No  Sun  Dinner     3\n",
              "3       23.68  3.31    Male     No  Sun  Dinner     2\n",
              "4       24.59  3.61  Female     No  Sun  Dinner     4"
            ]
          },
          "metadata": {
            "tags": []
          },
          "execution_count": 20
        }
      ]
    },
    {
      "cell_type": "markdown",
      "metadata": {
        "id": "A0RpsQw1EUjO"
      },
      "source": [
        "**bar plot**\n",
        "- useful favourite for showing a set of discrete values, e.g. counts of categories"
      ]
    },
    {
      "cell_type": "code",
      "metadata": {
        "id": "jO7csgnoEUjO",
        "outputId": "97a6398f-965a-4e9c-e928-43d432aa326f"
      },
      "source": [
        "fig = px.bar(plotly_df_tips, x=\"day\", y=\"total_bill\", color=\"smoker\")\n",
        "fig.show()"
      ],
      "execution_count": null,
      "outputs": [
        {
          "output_type": "display_data",
          "data": {
            "application/vnd.plotly.v1+json": {
              "config": {
                "plotlyServerURL": "https://plot.ly"
              },
              "data": [
                {
                  "alignmentgroup": "True",
                  "hoverlabel": {
                    "namelength": 0
                  },
                  "hovertemplate": "smoker=No<br>day=%{x}<br>total_bill=%{y}",
                  "legendgroup": "No",
                  "marker": {
                    "color": "#636efa"
                  },
                  "name": "No",
                  "offsetgroup": "No",
                  "orientation": "v",
                  "showlegend": true,
                  "textposition": "auto",
                  "type": "bar",
                  "x": [
                    "Sun",
                    "Sun",
                    "Sun",
                    "Sun",
                    "Sun",
                    "Sun",
                    "Sun",
                    "Sun",
                    "Sun",
                    "Sun",
                    "Sun",
                    "Sun",
                    "Sun",
                    "Sun",
                    "Sun",
                    "Sun",
                    "Sun",
                    "Sun",
                    "Sun",
                    "Sat",
                    "Sat",
                    "Sat",
                    "Sat",
                    "Sat",
                    "Sat",
                    "Sat",
                    "Sat",
                    "Sat",
                    "Sat",
                    "Sat",
                    "Sat",
                    "Sat",
                    "Sat",
                    "Sat",
                    "Sat",
                    "Sat",
                    "Sat",
                    "Sat",
                    "Sat",
                    "Sat",
                    "Sat",
                    "Sun",
                    "Sun",
                    "Sun",
                    "Sun",
                    "Sun",
                    "Sun",
                    "Sun",
                    "Sun",
                    "Sun",
                    "Sun",
                    "Sun",
                    "Sun",
                    "Sun",
                    "Sun",
                    "Sun",
                    "Sat",
                    "Sat",
                    "Sat",
                    "Sat",
                    "Sat",
                    "Sat",
                    "Sat",
                    "Sat",
                    "Sat",
                    "Sat",
                    "Thur",
                    "Thur",
                    "Thur",
                    "Thur",
                    "Thur",
                    "Thur",
                    "Thur",
                    "Thur",
                    "Thur",
                    "Thur",
                    "Thur",
                    "Fri",
                    "Fri",
                    "Fri",
                    "Sat",
                    "Sat",
                    "Sat",
                    "Sat",
                    "Sun",
                    "Sun",
                    "Sun",
                    "Sun",
                    "Sun",
                    "Thur",
                    "Thur",
                    "Thur",
                    "Thur",
                    "Thur",
                    "Thur",
                    "Thur",
                    "Thur",
                    "Thur",
                    "Thur",
                    "Thur",
                    "Thur",
                    "Thur",
                    "Thur",
                    "Thur",
                    "Thur",
                    "Thur",
                    "Thur",
                    "Thur",
                    "Thur",
                    "Thur",
                    "Thur",
                    "Thur",
                    "Thur",
                    "Thur",
                    "Thur",
                    "Thur",
                    "Thur",
                    "Thur",
                    "Thur",
                    "Thur",
                    "Thur",
                    "Sun",
                    "Sun",
                    "Sun",
                    "Sun",
                    "Sun",
                    "Sun",
                    "Sun",
                    "Sun",
                    "Sun",
                    "Sun",
                    "Sun",
                    "Sun",
                    "Sun",
                    "Sun",
                    "Sun",
                    "Sun",
                    "Sun",
                    "Sun",
                    "Thur",
                    "Sat",
                    "Fri",
                    "Sat",
                    "Sat",
                    "Sat",
                    "Sat",
                    "Sat",
                    "Sat",
                    "Sat",
                    "Sat",
                    "Thur"
                  ],
                  "xaxis": "x",
                  "y": [
                    16.99,
                    10.34,
                    21.01,
                    23.68,
                    24.59,
                    25.29,
                    8.77,
                    26.88,
                    15.04,
                    14.78,
                    10.27,
                    35.26,
                    15.42,
                    18.43,
                    14.83,
                    21.58,
                    10.33,
                    16.29,
                    16.97,
                    20.65,
                    17.92,
                    20.29,
                    15.77,
                    39.42,
                    19.82,
                    17.81,
                    13.37,
                    12.69,
                    21.7,
                    19.65,
                    9.55,
                    18.35,
                    15.06,
                    20.69,
                    17.78,
                    24.06,
                    16.31,
                    16.93,
                    18.69,
                    31.27,
                    16.04,
                    17.46,
                    13.94,
                    9.68,
                    30.4,
                    18.29,
                    22.23,
                    32.4,
                    28.55,
                    18.04,
                    12.54,
                    10.29,
                    34.81,
                    9.94,
                    25.56,
                    19.49,
                    26.41,
                    48.27,
                    17.59,
                    20.08,
                    16.45,
                    20.23,
                    12.02,
                    17.07,
                    14.73,
                    10.51,
                    27.2,
                    22.76,
                    17.29,
                    16.66,
                    10.07,
                    15.98,
                    34.83,
                    13.03,
                    18.28,
                    24.71,
                    21.16,
                    22.49,
                    22.75,
                    12.46,
                    20.92,
                    18.24,
                    14,
                    7.25,
                    38.07,
                    23.95,
                    25.71,
                    17.31,
                    29.93,
                    10.65,
                    12.43,
                    24.08,
                    11.69,
                    13.42,
                    14.26,
                    15.95,
                    12.48,
                    29.8,
                    8.52,
                    14.52,
                    11.38,
                    22.82,
                    19.08,
                    20.27,
                    11.17,
                    12.26,
                    18.26,
                    8.51,
                    10.33,
                    14.15,
                    13.16,
                    17.47,
                    34.3,
                    41.19,
                    27.05,
                    16.43,
                    8.35,
                    18.64,
                    11.87,
                    9.78,
                    7.51,
                    14.07,
                    13.13,
                    17.26,
                    24.55,
                    19.77,
                    29.85,
                    48.17,
                    25,
                    13.39,
                    16.49,
                    21.5,
                    12.66,
                    16.21,
                    13.81,
                    24.52,
                    20.76,
                    31.71,
                    20.69,
                    7.56,
                    48.33,
                    15.98,
                    20.45,
                    13.28,
                    11.61,
                    10.77,
                    10.07,
                    35.83,
                    29.03,
                    17.82,
                    18.78
                  ],
                  "yaxis": "y"
                },
                {
                  "alignmentgroup": "True",
                  "hoverlabel": {
                    "namelength": 0
                  },
                  "hovertemplate": "smoker=Yes<br>day=%{x}<br>total_bill=%{y}",
                  "legendgroup": "Yes",
                  "marker": {
                    "color": "#EF553B"
                  },
                  "name": "Yes",
                  "offsetgroup": "Yes",
                  "orientation": "v",
                  "showlegend": true,
                  "textposition": "auto",
                  "type": "bar",
                  "x": [
                    "Sat",
                    "Sat",
                    "Sat",
                    "Sat",
                    "Sat",
                    "Sat",
                    "Sat",
                    "Sat",
                    "Sat",
                    "Sat",
                    "Sat",
                    "Thur",
                    "Thur",
                    "Fri",
                    "Fri",
                    "Fri",
                    "Fri",
                    "Fri",
                    "Fri",
                    "Fri",
                    "Fri",
                    "Fri",
                    "Sat",
                    "Sat",
                    "Sat",
                    "Sat",
                    "Sat",
                    "Sat",
                    "Thur",
                    "Sun",
                    "Sat",
                    "Sat",
                    "Sat",
                    "Sat",
                    "Sun",
                    "Sun",
                    "Sun",
                    "Sun",
                    "Sun",
                    "Sun",
                    "Sun",
                    "Sun",
                    "Sun",
                    "Sun",
                    "Sun",
                    "Sun",
                    "Sun",
                    "Sun",
                    "Sun",
                    "Sun",
                    "Sun",
                    "Sun",
                    "Thur",
                    "Thur",
                    "Thur",
                    "Thur",
                    "Thur",
                    "Thur",
                    "Thur",
                    "Thur",
                    "Thur",
                    "Thur",
                    "Thur",
                    "Thur",
                    "Thur",
                    "Thur",
                    "Sat",
                    "Sat",
                    "Sat",
                    "Sat",
                    "Sat",
                    "Sat",
                    "Sat",
                    "Sat",
                    "Sat",
                    "Sat",
                    "Sat",
                    "Sat",
                    "Sat",
                    "Fri",
                    "Fri",
                    "Fri",
                    "Fri",
                    "Fri",
                    "Fri",
                    "Sat",
                    "Sat",
                    "Sat",
                    "Sat",
                    "Sat",
                    "Sat",
                    "Sat",
                    "Sat"
                  ],
                  "xaxis": "x",
                  "y": [
                    38.01,
                    11.24,
                    20.29,
                    13.81,
                    11.02,
                    18.29,
                    3.07,
                    15.01,
                    26.86,
                    25.28,
                    17.92,
                    19.44,
                    32.68,
                    28.97,
                    5.75,
                    16.32,
                    40.17,
                    27.28,
                    12.03,
                    21.01,
                    11.35,
                    15.38,
                    44.3,
                    22.42,
                    15.36,
                    20.49,
                    25.21,
                    14.31,
                    16,
                    17.51,
                    10.59,
                    10.63,
                    50.81,
                    15.81,
                    7.25,
                    31.85,
                    16.82,
                    32.9,
                    17.89,
                    14.48,
                    9.6,
                    34.63,
                    34.65,
                    23.33,
                    45.35,
                    23.17,
                    40.55,
                    20.9,
                    30.46,
                    18.15,
                    23.1,
                    15.69,
                    19.81,
                    28.44,
                    15.48,
                    16.58,
                    10.34,
                    43.11,
                    13,
                    13.51,
                    18.71,
                    12.74,
                    13,
                    16.4,
                    20.53,
                    16.47,
                    26.59,
                    38.73,
                    24.27,
                    12.76,
                    30.06,
                    25.89,
                    13.27,
                    28.17,
                    12.9,
                    28.15,
                    11.59,
                    7.74,
                    30.14,
                    12.16,
                    13.42,
                    8.58,
                    13.42,
                    16.27,
                    10.09,
                    22.12,
                    24.01,
                    15.69,
                    15.53,
                    12.6,
                    32.83,
                    27.18,
                    22.67
                  ],
                  "yaxis": "y"
                }
              ],
              "layout": {
                "barmode": "relative",
                "legend": {
                  "title": {
                    "text": "smoker"
                  },
                  "tracegroupgap": 0
                },
                "margin": {
                  "t": 60
                },
                "template": {
                  "data": {
                    "bar": [
                      {
                        "error_x": {
                          "color": "#f2f5fa"
                        },
                        "error_y": {
                          "color": "#f2f5fa"
                        },
                        "marker": {
                          "line": {
                            "color": "rgb(17,17,17)",
                            "width": 0.5
                          }
                        },
                        "type": "bar"
                      }
                    ],
                    "barpolar": [
                      {
                        "marker": {
                          "line": {
                            "color": "rgb(17,17,17)",
                            "width": 0.5
                          }
                        },
                        "type": "barpolar"
                      }
                    ],
                    "carpet": [
                      {
                        "aaxis": {
                          "endlinecolor": "#A2B1C6",
                          "gridcolor": "#506784",
                          "linecolor": "#506784",
                          "minorgridcolor": "#506784",
                          "startlinecolor": "#A2B1C6"
                        },
                        "baxis": {
                          "endlinecolor": "#A2B1C6",
                          "gridcolor": "#506784",
                          "linecolor": "#506784",
                          "minorgridcolor": "#506784",
                          "startlinecolor": "#A2B1C6"
                        },
                        "type": "carpet"
                      }
                    ],
                    "choropleth": [
                      {
                        "colorbar": {
                          "outlinewidth": 0,
                          "ticks": ""
                        },
                        "type": "choropleth"
                      }
                    ],
                    "contour": [
                      {
                        "colorbar": {
                          "outlinewidth": 0,
                          "ticks": ""
                        },
                        "colorscale": [
                          [
                            0,
                            "#0d0887"
                          ],
                          [
                            0.1111111111111111,
                            "#46039f"
                          ],
                          [
                            0.2222222222222222,
                            "#7201a8"
                          ],
                          [
                            0.3333333333333333,
                            "#9c179e"
                          ],
                          [
                            0.4444444444444444,
                            "#bd3786"
                          ],
                          [
                            0.5555555555555556,
                            "#d8576b"
                          ],
                          [
                            0.6666666666666666,
                            "#ed7953"
                          ],
                          [
                            0.7777777777777778,
                            "#fb9f3a"
                          ],
                          [
                            0.8888888888888888,
                            "#fdca26"
                          ],
                          [
                            1,
                            "#f0f921"
                          ]
                        ],
                        "type": "contour"
                      }
                    ],
                    "contourcarpet": [
                      {
                        "colorbar": {
                          "outlinewidth": 0,
                          "ticks": ""
                        },
                        "type": "contourcarpet"
                      }
                    ],
                    "heatmap": [
                      {
                        "colorbar": {
                          "outlinewidth": 0,
                          "ticks": ""
                        },
                        "colorscale": [
                          [
                            0,
                            "#0d0887"
                          ],
                          [
                            0.1111111111111111,
                            "#46039f"
                          ],
                          [
                            0.2222222222222222,
                            "#7201a8"
                          ],
                          [
                            0.3333333333333333,
                            "#9c179e"
                          ],
                          [
                            0.4444444444444444,
                            "#bd3786"
                          ],
                          [
                            0.5555555555555556,
                            "#d8576b"
                          ],
                          [
                            0.6666666666666666,
                            "#ed7953"
                          ],
                          [
                            0.7777777777777778,
                            "#fb9f3a"
                          ],
                          [
                            0.8888888888888888,
                            "#fdca26"
                          ],
                          [
                            1,
                            "#f0f921"
                          ]
                        ],
                        "type": "heatmap"
                      }
                    ],
                    "heatmapgl": [
                      {
                        "colorbar": {
                          "outlinewidth": 0,
                          "ticks": ""
                        },
                        "colorscale": [
                          [
                            0,
                            "#0d0887"
                          ],
                          [
                            0.1111111111111111,
                            "#46039f"
                          ],
                          [
                            0.2222222222222222,
                            "#7201a8"
                          ],
                          [
                            0.3333333333333333,
                            "#9c179e"
                          ],
                          [
                            0.4444444444444444,
                            "#bd3786"
                          ],
                          [
                            0.5555555555555556,
                            "#d8576b"
                          ],
                          [
                            0.6666666666666666,
                            "#ed7953"
                          ],
                          [
                            0.7777777777777778,
                            "#fb9f3a"
                          ],
                          [
                            0.8888888888888888,
                            "#fdca26"
                          ],
                          [
                            1,
                            "#f0f921"
                          ]
                        ],
                        "type": "heatmapgl"
                      }
                    ],
                    "histogram": [
                      {
                        "marker": {
                          "colorbar": {
                            "outlinewidth": 0,
                            "ticks": ""
                          }
                        },
                        "type": "histogram"
                      }
                    ],
                    "histogram2d": [
                      {
                        "colorbar": {
                          "outlinewidth": 0,
                          "ticks": ""
                        },
                        "colorscale": [
                          [
                            0,
                            "#0d0887"
                          ],
                          [
                            0.1111111111111111,
                            "#46039f"
                          ],
                          [
                            0.2222222222222222,
                            "#7201a8"
                          ],
                          [
                            0.3333333333333333,
                            "#9c179e"
                          ],
                          [
                            0.4444444444444444,
                            "#bd3786"
                          ],
                          [
                            0.5555555555555556,
                            "#d8576b"
                          ],
                          [
                            0.6666666666666666,
                            "#ed7953"
                          ],
                          [
                            0.7777777777777778,
                            "#fb9f3a"
                          ],
                          [
                            0.8888888888888888,
                            "#fdca26"
                          ],
                          [
                            1,
                            "#f0f921"
                          ]
                        ],
                        "type": "histogram2d"
                      }
                    ],
                    "histogram2dcontour": [
                      {
                        "colorbar": {
                          "outlinewidth": 0,
                          "ticks": ""
                        },
                        "colorscale": [
                          [
                            0,
                            "#0d0887"
                          ],
                          [
                            0.1111111111111111,
                            "#46039f"
                          ],
                          [
                            0.2222222222222222,
                            "#7201a8"
                          ],
                          [
                            0.3333333333333333,
                            "#9c179e"
                          ],
                          [
                            0.4444444444444444,
                            "#bd3786"
                          ],
                          [
                            0.5555555555555556,
                            "#d8576b"
                          ],
                          [
                            0.6666666666666666,
                            "#ed7953"
                          ],
                          [
                            0.7777777777777778,
                            "#fb9f3a"
                          ],
                          [
                            0.8888888888888888,
                            "#fdca26"
                          ],
                          [
                            1,
                            "#f0f921"
                          ]
                        ],
                        "type": "histogram2dcontour"
                      }
                    ],
                    "mesh3d": [
                      {
                        "colorbar": {
                          "outlinewidth": 0,
                          "ticks": ""
                        },
                        "type": "mesh3d"
                      }
                    ],
                    "parcoords": [
                      {
                        "line": {
                          "colorbar": {
                            "outlinewidth": 0,
                            "ticks": ""
                          }
                        },
                        "type": "parcoords"
                      }
                    ],
                    "pie": [
                      {
                        "automargin": true,
                        "type": "pie"
                      }
                    ],
                    "scatter": [
                      {
                        "marker": {
                          "line": {
                            "color": "#283442"
                          }
                        },
                        "type": "scatter"
                      }
                    ],
                    "scatter3d": [
                      {
                        "line": {
                          "colorbar": {
                            "outlinewidth": 0,
                            "ticks": ""
                          }
                        },
                        "marker": {
                          "colorbar": {
                            "outlinewidth": 0,
                            "ticks": ""
                          }
                        },
                        "type": "scatter3d"
                      }
                    ],
                    "scattercarpet": [
                      {
                        "marker": {
                          "colorbar": {
                            "outlinewidth": 0,
                            "ticks": ""
                          }
                        },
                        "type": "scattercarpet"
                      }
                    ],
                    "scattergeo": [
                      {
                        "marker": {
                          "colorbar": {
                            "outlinewidth": 0,
                            "ticks": ""
                          }
                        },
                        "type": "scattergeo"
                      }
                    ],
                    "scattergl": [
                      {
                        "marker": {
                          "line": {
                            "color": "#283442"
                          }
                        },
                        "type": "scattergl"
                      }
                    ],
                    "scattermapbox": [
                      {
                        "marker": {
                          "colorbar": {
                            "outlinewidth": 0,
                            "ticks": ""
                          }
                        },
                        "type": "scattermapbox"
                      }
                    ],
                    "scatterpolar": [
                      {
                        "marker": {
                          "colorbar": {
                            "outlinewidth": 0,
                            "ticks": ""
                          }
                        },
                        "type": "scatterpolar"
                      }
                    ],
                    "scatterpolargl": [
                      {
                        "marker": {
                          "colorbar": {
                            "outlinewidth": 0,
                            "ticks": ""
                          }
                        },
                        "type": "scatterpolargl"
                      }
                    ],
                    "scatterternary": [
                      {
                        "marker": {
                          "colorbar": {
                            "outlinewidth": 0,
                            "ticks": ""
                          }
                        },
                        "type": "scatterternary"
                      }
                    ],
                    "surface": [
                      {
                        "colorbar": {
                          "outlinewidth": 0,
                          "ticks": ""
                        },
                        "colorscale": [
                          [
                            0,
                            "#0d0887"
                          ],
                          [
                            0.1111111111111111,
                            "#46039f"
                          ],
                          [
                            0.2222222222222222,
                            "#7201a8"
                          ],
                          [
                            0.3333333333333333,
                            "#9c179e"
                          ],
                          [
                            0.4444444444444444,
                            "#bd3786"
                          ],
                          [
                            0.5555555555555556,
                            "#d8576b"
                          ],
                          [
                            0.6666666666666666,
                            "#ed7953"
                          ],
                          [
                            0.7777777777777778,
                            "#fb9f3a"
                          ],
                          [
                            0.8888888888888888,
                            "#fdca26"
                          ],
                          [
                            1,
                            "#f0f921"
                          ]
                        ],
                        "type": "surface"
                      }
                    ],
                    "table": [
                      {
                        "cells": {
                          "fill": {
                            "color": "#506784"
                          },
                          "line": {
                            "color": "rgb(17,17,17)"
                          }
                        },
                        "header": {
                          "fill": {
                            "color": "#2a3f5f"
                          },
                          "line": {
                            "color": "rgb(17,17,17)"
                          }
                        },
                        "type": "table"
                      }
                    ]
                  },
                  "layout": {
                    "annotationdefaults": {
                      "arrowcolor": "#f2f5fa",
                      "arrowhead": 0,
                      "arrowwidth": 1
                    },
                    "coloraxis": {
                      "colorbar": {
                        "outlinewidth": 0,
                        "ticks": ""
                      }
                    },
                    "colorscale": {
                      "diverging": [
                        [
                          0,
                          "#8e0152"
                        ],
                        [
                          0.1,
                          "#c51b7d"
                        ],
                        [
                          0.2,
                          "#de77ae"
                        ],
                        [
                          0.3,
                          "#f1b6da"
                        ],
                        [
                          0.4,
                          "#fde0ef"
                        ],
                        [
                          0.5,
                          "#f7f7f7"
                        ],
                        [
                          0.6,
                          "#e6f5d0"
                        ],
                        [
                          0.7,
                          "#b8e186"
                        ],
                        [
                          0.8,
                          "#7fbc41"
                        ],
                        [
                          0.9,
                          "#4d9221"
                        ],
                        [
                          1,
                          "#276419"
                        ]
                      ],
                      "sequential": [
                        [
                          0,
                          "#0d0887"
                        ],
                        [
                          0.1111111111111111,
                          "#46039f"
                        ],
                        [
                          0.2222222222222222,
                          "#7201a8"
                        ],
                        [
                          0.3333333333333333,
                          "#9c179e"
                        ],
                        [
                          0.4444444444444444,
                          "#bd3786"
                        ],
                        [
                          0.5555555555555556,
                          "#d8576b"
                        ],
                        [
                          0.6666666666666666,
                          "#ed7953"
                        ],
                        [
                          0.7777777777777778,
                          "#fb9f3a"
                        ],
                        [
                          0.8888888888888888,
                          "#fdca26"
                        ],
                        [
                          1,
                          "#f0f921"
                        ]
                      ],
                      "sequentialminus": [
                        [
                          0,
                          "#0d0887"
                        ],
                        [
                          0.1111111111111111,
                          "#46039f"
                        ],
                        [
                          0.2222222222222222,
                          "#7201a8"
                        ],
                        [
                          0.3333333333333333,
                          "#9c179e"
                        ],
                        [
                          0.4444444444444444,
                          "#bd3786"
                        ],
                        [
                          0.5555555555555556,
                          "#d8576b"
                        ],
                        [
                          0.6666666666666666,
                          "#ed7953"
                        ],
                        [
                          0.7777777777777778,
                          "#fb9f3a"
                        ],
                        [
                          0.8888888888888888,
                          "#fdca26"
                        ],
                        [
                          1,
                          "#f0f921"
                        ]
                      ]
                    },
                    "colorway": [
                      "#636efa",
                      "#EF553B",
                      "#00cc96",
                      "#ab63fa",
                      "#FFA15A",
                      "#19d3f3",
                      "#FF6692",
                      "#B6E880",
                      "#FF97FF",
                      "#FECB52"
                    ],
                    "font": {
                      "color": "#f2f5fa"
                    },
                    "geo": {
                      "bgcolor": "rgb(17,17,17)",
                      "lakecolor": "rgb(17,17,17)",
                      "landcolor": "rgb(17,17,17)",
                      "showlakes": true,
                      "showland": true,
                      "subunitcolor": "#506784"
                    },
                    "hoverlabel": {
                      "align": "left"
                    },
                    "hovermode": "closest",
                    "mapbox": {
                      "style": "dark"
                    },
                    "paper_bgcolor": "rgb(17,17,17)",
                    "plot_bgcolor": "rgb(17,17,17)",
                    "polar": {
                      "angularaxis": {
                        "gridcolor": "#506784",
                        "linecolor": "#506784",
                        "ticks": ""
                      },
                      "bgcolor": "rgb(17,17,17)",
                      "radialaxis": {
                        "gridcolor": "#506784",
                        "linecolor": "#506784",
                        "ticks": ""
                      }
                    },
                    "scene": {
                      "xaxis": {
                        "backgroundcolor": "rgb(17,17,17)",
                        "gridcolor": "#506784",
                        "gridwidth": 2,
                        "linecolor": "#506784",
                        "showbackground": true,
                        "ticks": "",
                        "zerolinecolor": "#C8D4E3"
                      },
                      "yaxis": {
                        "backgroundcolor": "rgb(17,17,17)",
                        "gridcolor": "#506784",
                        "gridwidth": 2,
                        "linecolor": "#506784",
                        "showbackground": true,
                        "ticks": "",
                        "zerolinecolor": "#C8D4E3"
                      },
                      "zaxis": {
                        "backgroundcolor": "rgb(17,17,17)",
                        "gridcolor": "#506784",
                        "gridwidth": 2,
                        "linecolor": "#506784",
                        "showbackground": true,
                        "ticks": "",
                        "zerolinecolor": "#C8D4E3"
                      }
                    },
                    "shapedefaults": {
                      "line": {
                        "color": "#f2f5fa"
                      }
                    },
                    "sliderdefaults": {
                      "bgcolor": "#C8D4E3",
                      "bordercolor": "rgb(17,17,17)",
                      "borderwidth": 1,
                      "tickwidth": 0
                    },
                    "ternary": {
                      "aaxis": {
                        "gridcolor": "#506784",
                        "linecolor": "#506784",
                        "ticks": ""
                      },
                      "baxis": {
                        "gridcolor": "#506784",
                        "linecolor": "#506784",
                        "ticks": ""
                      },
                      "bgcolor": "rgb(17,17,17)",
                      "caxis": {
                        "gridcolor": "#506784",
                        "linecolor": "#506784",
                        "ticks": ""
                      }
                    },
                    "title": {
                      "x": 0.05
                    },
                    "updatemenudefaults": {
                      "bgcolor": "#506784",
                      "borderwidth": 0
                    },
                    "xaxis": {
                      "automargin": true,
                      "gridcolor": "#283442",
                      "linecolor": "#506784",
                      "ticks": "",
                      "title": {
                        "standoff": 15
                      },
                      "zerolinecolor": "#283442",
                      "zerolinewidth": 2
                    },
                    "yaxis": {
                      "automargin": true,
                      "gridcolor": "#283442",
                      "linecolor": "#506784",
                      "ticks": "",
                      "title": {
                        "standoff": 15
                      },
                      "zerolinecolor": "#283442",
                      "zerolinewidth": 2
                    }
                  }
                },
                "xaxis": {
                  "anchor": "y",
                  "domain": [
                    0,
                    1
                  ],
                  "title": {
                    "text": "day"
                  }
                },
                "yaxis": {
                  "anchor": "x",
                  "domain": [
                    0,
                    1
                  ],
                  "title": {
                    "text": "total_bill"
                  }
                }
              }
            },
            "text/html": [
              "<div>\n",
              "        \n",
              "        \n",
              "            <div id=\"4d4fd2f8-5d40-4c95-9501-f09de25bf6c4\" class=\"plotly-graph-div\" style=\"height:525px; width:100%;\"></div>\n",
              "            <script type=\"text/javascript\">\n",
              "                require([\"plotly\"], function(Plotly) {\n",
              "                    window.PLOTLYENV=window.PLOTLYENV || {};\n",
              "                    \n",
              "                if (document.getElementById(\"4d4fd2f8-5d40-4c95-9501-f09de25bf6c4\")) {\n",
              "                    Plotly.newPlot(\n",
              "                        '4d4fd2f8-5d40-4c95-9501-f09de25bf6c4',\n",
              "                        [{\"alignmentgroup\": \"True\", \"hoverlabel\": {\"namelength\": 0}, \"hovertemplate\": \"smoker=No<br>day=%{x}<br>total_bill=%{y}\", \"legendgroup\": \"No\", \"marker\": {\"color\": \"#636efa\"}, \"name\": \"No\", \"offsetgroup\": \"No\", \"orientation\": \"v\", \"showlegend\": true, \"textposition\": \"auto\", \"type\": \"bar\", \"x\": [\"Sun\", \"Sun\", \"Sun\", \"Sun\", \"Sun\", \"Sun\", \"Sun\", \"Sun\", \"Sun\", \"Sun\", \"Sun\", \"Sun\", \"Sun\", \"Sun\", \"Sun\", \"Sun\", \"Sun\", \"Sun\", \"Sun\", \"Sat\", \"Sat\", \"Sat\", \"Sat\", \"Sat\", \"Sat\", \"Sat\", \"Sat\", \"Sat\", \"Sat\", \"Sat\", \"Sat\", \"Sat\", \"Sat\", \"Sat\", \"Sat\", \"Sat\", \"Sat\", \"Sat\", \"Sat\", \"Sat\", \"Sat\", \"Sun\", \"Sun\", \"Sun\", \"Sun\", \"Sun\", \"Sun\", \"Sun\", \"Sun\", \"Sun\", \"Sun\", \"Sun\", \"Sun\", \"Sun\", \"Sun\", \"Sun\", \"Sat\", \"Sat\", \"Sat\", \"Sat\", \"Sat\", \"Sat\", \"Sat\", \"Sat\", \"Sat\", \"Sat\", \"Thur\", \"Thur\", \"Thur\", \"Thur\", \"Thur\", \"Thur\", \"Thur\", \"Thur\", \"Thur\", \"Thur\", \"Thur\", \"Fri\", \"Fri\", \"Fri\", \"Sat\", \"Sat\", \"Sat\", \"Sat\", \"Sun\", \"Sun\", \"Sun\", \"Sun\", \"Sun\", \"Thur\", \"Thur\", \"Thur\", \"Thur\", \"Thur\", \"Thur\", \"Thur\", \"Thur\", \"Thur\", \"Thur\", \"Thur\", \"Thur\", \"Thur\", \"Thur\", \"Thur\", \"Thur\", \"Thur\", \"Thur\", \"Thur\", \"Thur\", \"Thur\", \"Thur\", \"Thur\", \"Thur\", \"Thur\", \"Thur\", \"Thur\", \"Thur\", \"Thur\", \"Thur\", \"Thur\", \"Thur\", \"Sun\", \"Sun\", \"Sun\", \"Sun\", \"Sun\", \"Sun\", \"Sun\", \"Sun\", \"Sun\", \"Sun\", \"Sun\", \"Sun\", \"Sun\", \"Sun\", \"Sun\", \"Sun\", \"Sun\", \"Sun\", \"Thur\", \"Sat\", \"Fri\", \"Sat\", \"Sat\", \"Sat\", \"Sat\", \"Sat\", \"Sat\", \"Sat\", \"Sat\", \"Thur\"], \"xaxis\": \"x\", \"y\": [16.99, 10.34, 21.01, 23.68, 24.59, 25.29, 8.77, 26.88, 15.04, 14.78, 10.27, 35.26, 15.42, 18.43, 14.83, 21.58, 10.33, 16.29, 16.97, 20.65, 17.92, 20.29, 15.77, 39.42, 19.82, 17.81, 13.37, 12.69, 21.7, 19.65, 9.55, 18.35, 15.06, 20.69, 17.78, 24.06, 16.31, 16.93, 18.69, 31.27, 16.04, 17.46, 13.94, 9.68, 30.4, 18.29, 22.23, 32.4, 28.55, 18.04, 12.54, 10.29, 34.81, 9.94, 25.56, 19.49, 26.41, 48.27, 17.59, 20.08, 16.45, 20.23, 12.02, 17.07, 14.73, 10.51, 27.2, 22.76, 17.29, 16.66, 10.07, 15.98, 34.83, 13.03, 18.28, 24.71, 21.16, 22.49, 22.75, 12.46, 20.92, 18.24, 14.0, 7.25, 38.07, 23.95, 25.71, 17.31, 29.93, 10.65, 12.43, 24.08, 11.69, 13.42, 14.26, 15.95, 12.48, 29.8, 8.52, 14.52, 11.38, 22.82, 19.08, 20.27, 11.17, 12.26, 18.26, 8.51, 10.33, 14.15, 13.16, 17.47, 34.3, 41.19, 27.05, 16.43, 8.35, 18.64, 11.87, 9.78, 7.51, 14.07, 13.13, 17.26, 24.55, 19.77, 29.85, 48.17, 25.0, 13.39, 16.49, 21.5, 12.66, 16.21, 13.81, 24.52, 20.76, 31.71, 20.69, 7.56, 48.33, 15.98, 20.45, 13.28, 11.61, 10.77, 10.07, 35.83, 29.03, 17.82, 18.78], \"yaxis\": \"y\"}, {\"alignmentgroup\": \"True\", \"hoverlabel\": {\"namelength\": 0}, \"hovertemplate\": \"smoker=Yes<br>day=%{x}<br>total_bill=%{y}\", \"legendgroup\": \"Yes\", \"marker\": {\"color\": \"#EF553B\"}, \"name\": \"Yes\", \"offsetgroup\": \"Yes\", \"orientation\": \"v\", \"showlegend\": true, \"textposition\": \"auto\", \"type\": \"bar\", \"x\": [\"Sat\", \"Sat\", \"Sat\", \"Sat\", \"Sat\", \"Sat\", \"Sat\", \"Sat\", \"Sat\", \"Sat\", \"Sat\", \"Thur\", \"Thur\", \"Fri\", \"Fri\", \"Fri\", \"Fri\", \"Fri\", \"Fri\", \"Fri\", \"Fri\", \"Fri\", \"Sat\", \"Sat\", \"Sat\", \"Sat\", \"Sat\", \"Sat\", \"Thur\", \"Sun\", \"Sat\", \"Sat\", \"Sat\", \"Sat\", \"Sun\", \"Sun\", \"Sun\", \"Sun\", \"Sun\", \"Sun\", \"Sun\", \"Sun\", \"Sun\", \"Sun\", \"Sun\", \"Sun\", \"Sun\", \"Sun\", \"Sun\", \"Sun\", \"Sun\", \"Sun\", \"Thur\", \"Thur\", \"Thur\", \"Thur\", \"Thur\", \"Thur\", \"Thur\", \"Thur\", \"Thur\", \"Thur\", \"Thur\", \"Thur\", \"Thur\", \"Thur\", \"Sat\", \"Sat\", \"Sat\", \"Sat\", \"Sat\", \"Sat\", \"Sat\", \"Sat\", \"Sat\", \"Sat\", \"Sat\", \"Sat\", \"Sat\", \"Fri\", \"Fri\", \"Fri\", \"Fri\", \"Fri\", \"Fri\", \"Sat\", \"Sat\", \"Sat\", \"Sat\", \"Sat\", \"Sat\", \"Sat\", \"Sat\"], \"xaxis\": \"x\", \"y\": [38.01, 11.24, 20.29, 13.81, 11.02, 18.29, 3.07, 15.01, 26.86, 25.28, 17.92, 19.44, 32.68, 28.97, 5.75, 16.32, 40.17, 27.28, 12.03, 21.01, 11.35, 15.38, 44.3, 22.42, 15.36, 20.49, 25.21, 14.31, 16.0, 17.51, 10.59, 10.63, 50.81, 15.81, 7.25, 31.85, 16.82, 32.9, 17.89, 14.48, 9.6, 34.63, 34.65, 23.33, 45.35, 23.17, 40.55, 20.9, 30.46, 18.15, 23.1, 15.69, 19.81, 28.44, 15.48, 16.58, 10.34, 43.11, 13.0, 13.51, 18.71, 12.74, 13.0, 16.4, 20.53, 16.47, 26.59, 38.73, 24.27, 12.76, 30.06, 25.89, 13.27, 28.17, 12.9, 28.15, 11.59, 7.74, 30.14, 12.16, 13.42, 8.58, 13.42, 16.27, 10.09, 22.12, 24.01, 15.69, 15.53, 12.6, 32.83, 27.18, 22.67], \"yaxis\": \"y\"}],\n",
              "                        {\"barmode\": \"relative\", \"legend\": {\"title\": {\"text\": \"smoker\"}, \"tracegroupgap\": 0}, \"margin\": {\"t\": 60}, \"template\": {\"data\": {\"bar\": [{\"error_x\": {\"color\": \"#f2f5fa\"}, \"error_y\": {\"color\": \"#f2f5fa\"}, \"marker\": {\"line\": {\"color\": \"rgb(17,17,17)\", \"width\": 0.5}}, \"type\": \"bar\"}], \"barpolar\": [{\"marker\": {\"line\": {\"color\": \"rgb(17,17,17)\", \"width\": 0.5}}, \"type\": \"barpolar\"}], \"carpet\": [{\"aaxis\": {\"endlinecolor\": \"#A2B1C6\", \"gridcolor\": \"#506784\", \"linecolor\": \"#506784\", \"minorgridcolor\": \"#506784\", \"startlinecolor\": \"#A2B1C6\"}, \"baxis\": {\"endlinecolor\": \"#A2B1C6\", \"gridcolor\": \"#506784\", \"linecolor\": \"#506784\", \"minorgridcolor\": \"#506784\", \"startlinecolor\": \"#A2B1C6\"}, \"type\": \"carpet\"}], \"choropleth\": [{\"colorbar\": {\"outlinewidth\": 0, \"ticks\": \"\"}, \"type\": \"choropleth\"}], \"contour\": [{\"colorbar\": {\"outlinewidth\": 0, \"ticks\": \"\"}, \"colorscale\": [[0.0, \"#0d0887\"], [0.1111111111111111, \"#46039f\"], [0.2222222222222222, \"#7201a8\"], [0.3333333333333333, \"#9c179e\"], [0.4444444444444444, \"#bd3786\"], [0.5555555555555556, \"#d8576b\"], [0.6666666666666666, \"#ed7953\"], [0.7777777777777778, \"#fb9f3a\"], [0.8888888888888888, \"#fdca26\"], [1.0, \"#f0f921\"]], \"type\": \"contour\"}], \"contourcarpet\": [{\"colorbar\": {\"outlinewidth\": 0, \"ticks\": \"\"}, \"type\": \"contourcarpet\"}], \"heatmap\": [{\"colorbar\": {\"outlinewidth\": 0, \"ticks\": \"\"}, \"colorscale\": [[0.0, \"#0d0887\"], [0.1111111111111111, \"#46039f\"], [0.2222222222222222, \"#7201a8\"], [0.3333333333333333, \"#9c179e\"], [0.4444444444444444, \"#bd3786\"], [0.5555555555555556, \"#d8576b\"], [0.6666666666666666, \"#ed7953\"], [0.7777777777777778, \"#fb9f3a\"], [0.8888888888888888, \"#fdca26\"], [1.0, \"#f0f921\"]], \"type\": \"heatmap\"}], \"heatmapgl\": [{\"colorbar\": {\"outlinewidth\": 0, \"ticks\": \"\"}, \"colorscale\": [[0.0, \"#0d0887\"], [0.1111111111111111, \"#46039f\"], [0.2222222222222222, \"#7201a8\"], [0.3333333333333333, \"#9c179e\"], [0.4444444444444444, \"#bd3786\"], [0.5555555555555556, \"#d8576b\"], [0.6666666666666666, \"#ed7953\"], [0.7777777777777778, \"#fb9f3a\"], [0.8888888888888888, \"#fdca26\"], [1.0, \"#f0f921\"]], \"type\": \"heatmapgl\"}], \"histogram\": [{\"marker\": {\"colorbar\": {\"outlinewidth\": 0, \"ticks\": \"\"}}, \"type\": \"histogram\"}], \"histogram2d\": [{\"colorbar\": {\"outlinewidth\": 0, \"ticks\": \"\"}, \"colorscale\": [[0.0, \"#0d0887\"], [0.1111111111111111, \"#46039f\"], [0.2222222222222222, \"#7201a8\"], [0.3333333333333333, \"#9c179e\"], [0.4444444444444444, \"#bd3786\"], [0.5555555555555556, \"#d8576b\"], [0.6666666666666666, \"#ed7953\"], [0.7777777777777778, \"#fb9f3a\"], [0.8888888888888888, \"#fdca26\"], [1.0, \"#f0f921\"]], \"type\": \"histogram2d\"}], \"histogram2dcontour\": [{\"colorbar\": {\"outlinewidth\": 0, \"ticks\": \"\"}, \"colorscale\": [[0.0, \"#0d0887\"], [0.1111111111111111, \"#46039f\"], [0.2222222222222222, \"#7201a8\"], [0.3333333333333333, \"#9c179e\"], [0.4444444444444444, \"#bd3786\"], [0.5555555555555556, \"#d8576b\"], [0.6666666666666666, \"#ed7953\"], [0.7777777777777778, \"#fb9f3a\"], [0.8888888888888888, \"#fdca26\"], [1.0, \"#f0f921\"]], \"type\": \"histogram2dcontour\"}], \"mesh3d\": [{\"colorbar\": {\"outlinewidth\": 0, \"ticks\": \"\"}, \"type\": \"mesh3d\"}], \"parcoords\": [{\"line\": {\"colorbar\": {\"outlinewidth\": 0, \"ticks\": \"\"}}, \"type\": \"parcoords\"}], \"pie\": [{\"automargin\": true, \"type\": \"pie\"}], \"scatter\": [{\"marker\": {\"line\": {\"color\": \"#283442\"}}, \"type\": \"scatter\"}], \"scatter3d\": [{\"line\": {\"colorbar\": {\"outlinewidth\": 0, \"ticks\": \"\"}}, \"marker\": {\"colorbar\": {\"outlinewidth\": 0, \"ticks\": \"\"}}, \"type\": \"scatter3d\"}], \"scattercarpet\": [{\"marker\": {\"colorbar\": {\"outlinewidth\": 0, \"ticks\": \"\"}}, \"type\": \"scattercarpet\"}], \"scattergeo\": [{\"marker\": {\"colorbar\": {\"outlinewidth\": 0, \"ticks\": \"\"}}, \"type\": \"scattergeo\"}], \"scattergl\": [{\"marker\": {\"line\": {\"color\": \"#283442\"}}, \"type\": \"scattergl\"}], \"scattermapbox\": [{\"marker\": {\"colorbar\": {\"outlinewidth\": 0, \"ticks\": \"\"}}, \"type\": \"scattermapbox\"}], \"scatterpolar\": [{\"marker\": {\"colorbar\": {\"outlinewidth\": 0, \"ticks\": \"\"}}, \"type\": \"scatterpolar\"}], \"scatterpolargl\": [{\"marker\": {\"colorbar\": {\"outlinewidth\": 0, \"ticks\": \"\"}}, \"type\": \"scatterpolargl\"}], \"scatterternary\": [{\"marker\": {\"colorbar\": {\"outlinewidth\": 0, \"ticks\": \"\"}}, \"type\": \"scatterternary\"}], \"surface\": [{\"colorbar\": {\"outlinewidth\": 0, \"ticks\": \"\"}, \"colorscale\": [[0.0, \"#0d0887\"], [0.1111111111111111, \"#46039f\"], [0.2222222222222222, \"#7201a8\"], [0.3333333333333333, \"#9c179e\"], [0.4444444444444444, \"#bd3786\"], [0.5555555555555556, \"#d8576b\"], [0.6666666666666666, \"#ed7953\"], [0.7777777777777778, \"#fb9f3a\"], [0.8888888888888888, \"#fdca26\"], [1.0, \"#f0f921\"]], \"type\": \"surface\"}], \"table\": [{\"cells\": {\"fill\": {\"color\": \"#506784\"}, \"line\": {\"color\": \"rgb(17,17,17)\"}}, \"header\": {\"fill\": {\"color\": \"#2a3f5f\"}, \"line\": {\"color\": \"rgb(17,17,17)\"}}, \"type\": \"table\"}]}, \"layout\": {\"annotationdefaults\": {\"arrowcolor\": \"#f2f5fa\", \"arrowhead\": 0, \"arrowwidth\": 1}, \"coloraxis\": {\"colorbar\": {\"outlinewidth\": 0, \"ticks\": \"\"}}, \"colorscale\": {\"diverging\": [[0, \"#8e0152\"], [0.1, \"#c51b7d\"], [0.2, \"#de77ae\"], [0.3, \"#f1b6da\"], [0.4, \"#fde0ef\"], [0.5, \"#f7f7f7\"], [0.6, \"#e6f5d0\"], [0.7, \"#b8e186\"], [0.8, \"#7fbc41\"], [0.9, \"#4d9221\"], [1, \"#276419\"]], \"sequential\": [[0.0, \"#0d0887\"], [0.1111111111111111, \"#46039f\"], [0.2222222222222222, \"#7201a8\"], [0.3333333333333333, \"#9c179e\"], [0.4444444444444444, \"#bd3786\"], [0.5555555555555556, \"#d8576b\"], [0.6666666666666666, \"#ed7953\"], [0.7777777777777778, \"#fb9f3a\"], [0.8888888888888888, \"#fdca26\"], [1.0, \"#f0f921\"]], \"sequentialminus\": [[0.0, \"#0d0887\"], [0.1111111111111111, \"#46039f\"], [0.2222222222222222, \"#7201a8\"], [0.3333333333333333, \"#9c179e\"], [0.4444444444444444, \"#bd3786\"], [0.5555555555555556, \"#d8576b\"], [0.6666666666666666, \"#ed7953\"], [0.7777777777777778, \"#fb9f3a\"], [0.8888888888888888, \"#fdca26\"], [1.0, \"#f0f921\"]]}, \"colorway\": [\"#636efa\", \"#EF553B\", \"#00cc96\", \"#ab63fa\", \"#FFA15A\", \"#19d3f3\", \"#FF6692\", \"#B6E880\", \"#FF97FF\", \"#FECB52\"], \"font\": {\"color\": \"#f2f5fa\"}, \"geo\": {\"bgcolor\": \"rgb(17,17,17)\", \"lakecolor\": \"rgb(17,17,17)\", \"landcolor\": \"rgb(17,17,17)\", \"showlakes\": true, \"showland\": true, \"subunitcolor\": \"#506784\"}, \"hoverlabel\": {\"align\": \"left\"}, \"hovermode\": \"closest\", \"mapbox\": {\"style\": \"dark\"}, \"paper_bgcolor\": \"rgb(17,17,17)\", \"plot_bgcolor\": \"rgb(17,17,17)\", \"polar\": {\"angularaxis\": {\"gridcolor\": \"#506784\", \"linecolor\": \"#506784\", \"ticks\": \"\"}, \"bgcolor\": \"rgb(17,17,17)\", \"radialaxis\": {\"gridcolor\": \"#506784\", \"linecolor\": \"#506784\", \"ticks\": \"\"}}, \"scene\": {\"xaxis\": {\"backgroundcolor\": \"rgb(17,17,17)\", \"gridcolor\": \"#506784\", \"gridwidth\": 2, \"linecolor\": \"#506784\", \"showbackground\": true, \"ticks\": \"\", \"zerolinecolor\": \"#C8D4E3\"}, \"yaxis\": {\"backgroundcolor\": \"rgb(17,17,17)\", \"gridcolor\": \"#506784\", \"gridwidth\": 2, \"linecolor\": \"#506784\", \"showbackground\": true, \"ticks\": \"\", \"zerolinecolor\": \"#C8D4E3\"}, \"zaxis\": {\"backgroundcolor\": \"rgb(17,17,17)\", \"gridcolor\": \"#506784\", \"gridwidth\": 2, \"linecolor\": \"#506784\", \"showbackground\": true, \"ticks\": \"\", \"zerolinecolor\": \"#C8D4E3\"}}, \"shapedefaults\": {\"line\": {\"color\": \"#f2f5fa\"}}, \"sliderdefaults\": {\"bgcolor\": \"#C8D4E3\", \"bordercolor\": \"rgb(17,17,17)\", \"borderwidth\": 1, \"tickwidth\": 0}, \"ternary\": {\"aaxis\": {\"gridcolor\": \"#506784\", \"linecolor\": \"#506784\", \"ticks\": \"\"}, \"baxis\": {\"gridcolor\": \"#506784\", \"linecolor\": \"#506784\", \"ticks\": \"\"}, \"bgcolor\": \"rgb(17,17,17)\", \"caxis\": {\"gridcolor\": \"#506784\", \"linecolor\": \"#506784\", \"ticks\": \"\"}}, \"title\": {\"x\": 0.05}, \"updatemenudefaults\": {\"bgcolor\": \"#506784\", \"borderwidth\": 0}, \"xaxis\": {\"automargin\": true, \"gridcolor\": \"#283442\", \"linecolor\": \"#506784\", \"ticks\": \"\", \"title\": {\"standoff\": 15}, \"zerolinecolor\": \"#283442\", \"zerolinewidth\": 2}, \"yaxis\": {\"automargin\": true, \"gridcolor\": \"#283442\", \"linecolor\": \"#506784\", \"ticks\": \"\", \"title\": {\"standoff\": 15}, \"zerolinecolor\": \"#283442\", \"zerolinewidth\": 2}}}, \"xaxis\": {\"anchor\": \"y\", \"domain\": [0.0, 1.0], \"title\": {\"text\": \"day\"}}, \"yaxis\": {\"anchor\": \"x\", \"domain\": [0.0, 1.0], \"title\": {\"text\": \"total_bill\"}}},\n",
              "                        {\"responsive\": true}\n",
              "                    ).then(function(){\n",
              "                            \n",
              "var gd = document.getElementById('4d4fd2f8-5d40-4c95-9501-f09de25bf6c4');\n",
              "var x = new MutationObserver(function (mutations, observer) {{\n",
              "        var display = window.getComputedStyle(gd).display;\n",
              "        if (!display || display === 'none') {{\n",
              "            console.log([gd, 'removed!']);\n",
              "            Plotly.purge(gd);\n",
              "            observer.disconnect();\n",
              "        }}\n",
              "}});\n",
              "\n",
              "// Listen for the removal of the full notebook cells\n",
              "var notebookContainer = gd.closest('#notebook-container');\n",
              "if (notebookContainer) {{\n",
              "    x.observe(notebookContainer, {childList: true});\n",
              "}}\n",
              "\n",
              "// Listen for the clearing of the current output cell\n",
              "var outputEl = gd.closest('.output');\n",
              "if (outputEl) {{\n",
              "    x.observe(outputEl, {childList: true});\n",
              "}}\n",
              "\n",
              "                        })\n",
              "                };\n",
              "                });\n",
              "            </script>\n",
              "        </div>"
            ]
          },
          "metadata": {
            "tags": []
          }
        }
      ]
    },
    {
      "cell_type": "markdown",
      "metadata": {
        "id": "JAMDqOUaEUjU"
      },
      "source": [
        "**scatter  plots**\n",
        "- useful for showing relationships between two variables\n",
        "- effective use can be made of point colour, size and shape\n",
        "- give some consideration to which features you map \n",
        "- distinct colours can be informative for discrete (categorical) features\n",
        "\n",
        "**line plots**\n",
        "- great for plotting a continuous sequence of values"
      ]
    },
    {
      "cell_type": "code",
      "metadata": {
        "id": "LTms7KwbEUjU",
        "outputId": "606b3f10-9124-4a37-aedd-98ed87df15c8"
      },
      "source": [
        "fig = px.scatter(plotly_df_tips, x=\"tip\", y=\"total_bill\", color=\"smoker\", marginal_y=\"violin\",\n",
        "           marginal_x=\"box\", trendline=\"ols\", template=\"simple_white\")\n",
        "fig.show()"
      ],
      "execution_count": null,
      "outputs": [
        {
          "output_type": "display_data",
          "data": {
            "application/vnd.plotly.v1+json": {
              "config": {
                "plotlyServerURL": "https://plot.ly"
              },
              "data": [
                {
                  "hoverlabel": {
                    "namelength": 0
                  },
                  "hovertemplate": "smoker=No<br>tip=%{x}<br>total_bill=%{y}",
                  "legendgroup": "No",
                  "marker": {
                    "color": "#1F77B4",
                    "symbol": "circle"
                  },
                  "mode": "markers",
                  "name": "No",
                  "showlegend": true,
                  "type": "scatter",
                  "x": [
                    1.01,
                    1.66,
                    3.5,
                    3.31,
                    3.61,
                    4.71,
                    2,
                    3.12,
                    1.96,
                    3.23,
                    1.71,
                    5,
                    1.57,
                    3,
                    3.02,
                    3.92,
                    1.67,
                    3.71,
                    3.5,
                    3.35,
                    4.08,
                    2.75,
                    2.23,
                    7.58,
                    3.18,
                    2.34,
                    2,
                    2,
                    4.3,
                    3,
                    1.45,
                    2.5,
                    3,
                    2.45,
                    3.27,
                    3.6,
                    2,
                    3.07,
                    2.31,
                    5,
                    2.24,
                    2.54,
                    3.06,
                    1.32,
                    5.6,
                    3,
                    5,
                    6,
                    2.05,
                    3,
                    2.5,
                    2.6,
                    5.2,
                    1.56,
                    4.34,
                    3.51,
                    1.5,
                    6.73,
                    2.64,
                    3.15,
                    2.47,
                    2.01,
                    1.97,
                    3,
                    2.2,
                    1.25,
                    4,
                    3,
                    2.71,
                    3.4,
                    1.83,
                    2.03,
                    5.17,
                    2,
                    4,
                    5.85,
                    3,
                    3.5,
                    3.25,
                    1.5,
                    4.08,
                    3.76,
                    3,
                    1,
                    4,
                    2.55,
                    4,
                    3.5,
                    5.07,
                    1.5,
                    1.8,
                    2.92,
                    2.31,
                    1.68,
                    2.5,
                    2,
                    2.52,
                    4.2,
                    1.48,
                    2,
                    2,
                    2.18,
                    1.5,
                    2.83,
                    1.5,
                    2,
                    3.25,
                    1.25,
                    2,
                    2,
                    2.75,
                    3.5,
                    6.7,
                    5,
                    5,
                    2.3,
                    1.5,
                    1.36,
                    1.63,
                    1.73,
                    2,
                    2.5,
                    2,
                    2.74,
                    2,
                    2,
                    5.14,
                    5,
                    3.75,
                    2.61,
                    2,
                    3.5,
                    2.5,
                    2,
                    2,
                    3.48,
                    2.24,
                    4.5,
                    5,
                    1.44,
                    9,
                    3,
                    3,
                    2.72,
                    3.39,
                    1.47,
                    1.25,
                    4.67,
                    5.92,
                    1.75,
                    3
                  ],
                  "xaxis": "x",
                  "y": [
                    16.99,
                    10.34,
                    21.01,
                    23.68,
                    24.59,
                    25.29,
                    8.77,
                    26.88,
                    15.04,
                    14.78,
                    10.27,
                    35.26,
                    15.42,
                    18.43,
                    14.83,
                    21.58,
                    10.33,
                    16.29,
                    16.97,
                    20.65,
                    17.92,
                    20.29,
                    15.77,
                    39.42,
                    19.82,
                    17.81,
                    13.37,
                    12.69,
                    21.7,
                    19.65,
                    9.55,
                    18.35,
                    15.06,
                    20.69,
                    17.78,
                    24.06,
                    16.31,
                    16.93,
                    18.69,
                    31.27,
                    16.04,
                    17.46,
                    13.94,
                    9.68,
                    30.4,
                    18.29,
                    22.23,
                    32.4,
                    28.55,
                    18.04,
                    12.54,
                    10.29,
                    34.81,
                    9.94,
                    25.56,
                    19.49,
                    26.41,
                    48.27,
                    17.59,
                    20.08,
                    16.45,
                    20.23,
                    12.02,
                    17.07,
                    14.73,
                    10.51,
                    27.2,
                    22.76,
                    17.29,
                    16.66,
                    10.07,
                    15.98,
                    34.83,
                    13.03,
                    18.28,
                    24.71,
                    21.16,
                    22.49,
                    22.75,
                    12.46,
                    20.92,
                    18.24,
                    14,
                    7.25,
                    38.07,
                    23.95,
                    25.71,
                    17.31,
                    29.93,
                    10.65,
                    12.43,
                    24.08,
                    11.69,
                    13.42,
                    14.26,
                    15.95,
                    12.48,
                    29.8,
                    8.52,
                    14.52,
                    11.38,
                    22.82,
                    19.08,
                    20.27,
                    11.17,
                    12.26,
                    18.26,
                    8.51,
                    10.33,
                    14.15,
                    13.16,
                    17.47,
                    34.3,
                    41.19,
                    27.05,
                    16.43,
                    8.35,
                    18.64,
                    11.87,
                    9.78,
                    7.51,
                    14.07,
                    13.13,
                    17.26,
                    24.55,
                    19.77,
                    29.85,
                    48.17,
                    25,
                    13.39,
                    16.49,
                    21.5,
                    12.66,
                    16.21,
                    13.81,
                    24.52,
                    20.76,
                    31.71,
                    20.69,
                    7.56,
                    48.33,
                    15.98,
                    20.45,
                    13.28,
                    11.61,
                    10.77,
                    10.07,
                    35.83,
                    29.03,
                    17.82,
                    18.78
                  ],
                  "yaxis": "y"
                },
                {
                  "alignmentgroup": "True",
                  "hoverlabel": {
                    "namelength": 0
                  },
                  "hovertemplate": "smoker=No<br>tip=%{x}",
                  "legendgroup": "No",
                  "marker": {
                    "color": "#1F77B4",
                    "symbol": "circle"
                  },
                  "name": "No",
                  "notched": true,
                  "offsetgroup": "No",
                  "showlegend": false,
                  "type": "box",
                  "x": [
                    1.01,
                    1.66,
                    3.5,
                    3.31,
                    3.61,
                    4.71,
                    2,
                    3.12,
                    1.96,
                    3.23,
                    1.71,
                    5,
                    1.57,
                    3,
                    3.02,
                    3.92,
                    1.67,
                    3.71,
                    3.5,
                    3.35,
                    4.08,
                    2.75,
                    2.23,
                    7.58,
                    3.18,
                    2.34,
                    2,
                    2,
                    4.3,
                    3,
                    1.45,
                    2.5,
                    3,
                    2.45,
                    3.27,
                    3.6,
                    2,
                    3.07,
                    2.31,
                    5,
                    2.24,
                    2.54,
                    3.06,
                    1.32,
                    5.6,
                    3,
                    5,
                    6,
                    2.05,
                    3,
                    2.5,
                    2.6,
                    5.2,
                    1.56,
                    4.34,
                    3.51,
                    1.5,
                    6.73,
                    2.64,
                    3.15,
                    2.47,
                    2.01,
                    1.97,
                    3,
                    2.2,
                    1.25,
                    4,
                    3,
                    2.71,
                    3.4,
                    1.83,
                    2.03,
                    5.17,
                    2,
                    4,
                    5.85,
                    3,
                    3.5,
                    3.25,
                    1.5,
                    4.08,
                    3.76,
                    3,
                    1,
                    4,
                    2.55,
                    4,
                    3.5,
                    5.07,
                    1.5,
                    1.8,
                    2.92,
                    2.31,
                    1.68,
                    2.5,
                    2,
                    2.52,
                    4.2,
                    1.48,
                    2,
                    2,
                    2.18,
                    1.5,
                    2.83,
                    1.5,
                    2,
                    3.25,
                    1.25,
                    2,
                    2,
                    2.75,
                    3.5,
                    6.7,
                    5,
                    5,
                    2.3,
                    1.5,
                    1.36,
                    1.63,
                    1.73,
                    2,
                    2.5,
                    2,
                    2.74,
                    2,
                    2,
                    5.14,
                    5,
                    3.75,
                    2.61,
                    2,
                    3.5,
                    2.5,
                    2,
                    2,
                    3.48,
                    2.24,
                    4.5,
                    5,
                    1.44,
                    9,
                    3,
                    3,
                    2.72,
                    3.39,
                    1.47,
                    1.25,
                    4.67,
                    5.92,
                    1.75,
                    3
                  ],
                  "xaxis": "x3",
                  "yaxis": "y3"
                },
                {
                  "alignmentgroup": "True",
                  "hoverlabel": {
                    "namelength": 0
                  },
                  "hovertemplate": "smoker=No<br>total_bill=%{y}",
                  "legendgroup": "No",
                  "marker": {
                    "color": "#1F77B4",
                    "symbol": "circle"
                  },
                  "name": "No",
                  "offsetgroup": "No",
                  "scalegroup": "y",
                  "showlegend": false,
                  "type": "violin",
                  "xaxis": "x2",
                  "y": [
                    16.99,
                    10.34,
                    21.01,
                    23.68,
                    24.59,
                    25.29,
                    8.77,
                    26.88,
                    15.04,
                    14.78,
                    10.27,
                    35.26,
                    15.42,
                    18.43,
                    14.83,
                    21.58,
                    10.33,
                    16.29,
                    16.97,
                    20.65,
                    17.92,
                    20.29,
                    15.77,
                    39.42,
                    19.82,
                    17.81,
                    13.37,
                    12.69,
                    21.7,
                    19.65,
                    9.55,
                    18.35,
                    15.06,
                    20.69,
                    17.78,
                    24.06,
                    16.31,
                    16.93,
                    18.69,
                    31.27,
                    16.04,
                    17.46,
                    13.94,
                    9.68,
                    30.4,
                    18.29,
                    22.23,
                    32.4,
                    28.55,
                    18.04,
                    12.54,
                    10.29,
                    34.81,
                    9.94,
                    25.56,
                    19.49,
                    26.41,
                    48.27,
                    17.59,
                    20.08,
                    16.45,
                    20.23,
                    12.02,
                    17.07,
                    14.73,
                    10.51,
                    27.2,
                    22.76,
                    17.29,
                    16.66,
                    10.07,
                    15.98,
                    34.83,
                    13.03,
                    18.28,
                    24.71,
                    21.16,
                    22.49,
                    22.75,
                    12.46,
                    20.92,
                    18.24,
                    14,
                    7.25,
                    38.07,
                    23.95,
                    25.71,
                    17.31,
                    29.93,
                    10.65,
                    12.43,
                    24.08,
                    11.69,
                    13.42,
                    14.26,
                    15.95,
                    12.48,
                    29.8,
                    8.52,
                    14.52,
                    11.38,
                    22.82,
                    19.08,
                    20.27,
                    11.17,
                    12.26,
                    18.26,
                    8.51,
                    10.33,
                    14.15,
                    13.16,
                    17.47,
                    34.3,
                    41.19,
                    27.05,
                    16.43,
                    8.35,
                    18.64,
                    11.87,
                    9.78,
                    7.51,
                    14.07,
                    13.13,
                    17.26,
                    24.55,
                    19.77,
                    29.85,
                    48.17,
                    25,
                    13.39,
                    16.49,
                    21.5,
                    12.66,
                    16.21,
                    13.81,
                    24.52,
                    20.76,
                    31.71,
                    20.69,
                    7.56,
                    48.33,
                    15.98,
                    20.45,
                    13.28,
                    11.61,
                    10.77,
                    10.07,
                    35.83,
                    29.03,
                    17.82,
                    18.78
                  ],
                  "yaxis": "y2"
                },
                {
                  "hoverlabel": {
                    "namelength": 0
                  },
                  "hovertemplate": "<b>OLS trendline</b><br>total_bill = 4.92858 * tip + 4.44268<br>R<sup>2</sup>=0.675984<br><br>smoker=No<br>tip=%{x}<br>total_bill=%{y} <b>(trend)</b>",
                  "legendgroup": "No",
                  "marker": {
                    "color": "#1F77B4",
                    "symbol": "circle"
                  },
                  "mode": "lines",
                  "name": "No",
                  "showlegend": false,
                  "type": "scatter",
                  "x": [
                    1,
                    1.01,
                    1.25,
                    1.25,
                    1.25,
                    1.32,
                    1.36,
                    1.44,
                    1.45,
                    1.47,
                    1.48,
                    1.5,
                    1.5,
                    1.5,
                    1.5,
                    1.5,
                    1.5,
                    1.56,
                    1.57,
                    1.63,
                    1.66,
                    1.67,
                    1.68,
                    1.71,
                    1.73,
                    1.75,
                    1.8,
                    1.83,
                    1.96,
                    1.97,
                    2,
                    2,
                    2,
                    2,
                    2,
                    2,
                    2,
                    2,
                    2,
                    2,
                    2,
                    2,
                    2,
                    2,
                    2,
                    2,
                    2,
                    2,
                    2.01,
                    2.03,
                    2.05,
                    2.18,
                    2.2,
                    2.23,
                    2.24,
                    2.24,
                    2.3,
                    2.31,
                    2.31,
                    2.34,
                    2.45,
                    2.47,
                    2.5,
                    2.5,
                    2.5,
                    2.5,
                    2.5,
                    2.52,
                    2.54,
                    2.55,
                    2.6,
                    2.61,
                    2.64,
                    2.71,
                    2.72,
                    2.74,
                    2.75,
                    2.75,
                    2.83,
                    2.92,
                    3,
                    3,
                    3,
                    3,
                    3,
                    3,
                    3,
                    3,
                    3,
                    3,
                    3,
                    3,
                    3.02,
                    3.06,
                    3.07,
                    3.12,
                    3.15,
                    3.18,
                    3.23,
                    3.25,
                    3.25,
                    3.27,
                    3.31,
                    3.35,
                    3.39,
                    3.4,
                    3.48,
                    3.5,
                    3.5,
                    3.5,
                    3.5,
                    3.5,
                    3.5,
                    3.51,
                    3.6,
                    3.61,
                    3.71,
                    3.75,
                    3.76,
                    3.92,
                    4,
                    4,
                    4,
                    4,
                    4.08,
                    4.08,
                    4.2,
                    4.3,
                    4.34,
                    4.5,
                    4.67,
                    4.71,
                    5,
                    5,
                    5,
                    5,
                    5,
                    5,
                    5,
                    5.07,
                    5.14,
                    5.17,
                    5.2,
                    5.6,
                    5.85,
                    5.92,
                    6,
                    6.7,
                    6.73,
                    7.58,
                    9
                  ],
                  "xaxis": "x",
                  "y": [
                    9.37125843821972,
                    9.420544270444637,
                    10.603404243842638,
                    10.603404243842638,
                    10.603404243842638,
                    10.948405069417056,
                    11.145548398316723,
                    11.539835056116058,
                    11.589120888340974,
                    11.687692552790807,
                    11.736978385015725,
                    11.835550049465557,
                    11.835550049465557,
                    11.835550049465557,
                    11.835550049465557,
                    11.835550049465557,
                    11.835550049465557,
                    12.131265042815059,
                    12.180550875039975,
                    12.476265868389476,
                    12.624123365064225,
                    12.673409197289143,
                    12.722695029514059,
                    12.87055252618881,
                    12.969124190638643,
                    13.067695855088477,
                    13.31412501621306,
                    13.461982512887811,
                    14.102698331811728,
                    14.151984164036644,
                    14.299841660711396,
                    14.299841660711396,
                    14.299841660711396,
                    14.299841660711396,
                    14.299841660711396,
                    14.299841660711396,
                    14.299841660711396,
                    14.299841660711396,
                    14.299841660711396,
                    14.299841660711396,
                    14.299841660711396,
                    14.299841660711396,
                    14.299841660711396,
                    14.299841660711396,
                    14.299841660711396,
                    14.299841660711396,
                    14.299841660711396,
                    14.299841660711396,
                    14.349127492936312,
                    14.447699157386145,
                    14.546270821835979,
                    15.186986640759898,
                    15.285558305209731,
                    15.43341580188448,
                    15.482701634109398,
                    15.482701634109398,
                    15.778416627458897,
                    15.827702459683815,
                    15.827702459683815,
                    15.975559956358564,
                    16.517704110832653,
                    16.616275775282485,
                    16.764133271957235,
                    16.764133271957235,
                    16.764133271957235,
                    16.764133271957235,
                    16.764133271957235,
                    16.86270493640707,
                    16.961276600856902,
                    17.010562433081816,
                    17.256991594206404,
                    17.30627742643132,
                    17.454134923106068,
                    17.799135748680484,
                    17.848421580905402,
                    17.946993245355237,
                    17.996279077580155,
                    17.996279077580155,
                    18.39056573537949,
                    18.834138225403738,
                    19.228424883203072,
                    19.228424883203072,
                    19.228424883203072,
                    19.228424883203072,
                    19.228424883203072,
                    19.228424883203072,
                    19.228424883203072,
                    19.228424883203072,
                    19.228424883203072,
                    19.228424883203072,
                    19.228424883203072,
                    19.228424883203072,
                    19.326996547652904,
                    19.524139876552574,
                    19.57342570877749,
                    19.819854869902073,
                    19.967712366576823,
                    20.115569863251572,
                    20.361999024376157,
                    20.46057068882599,
                    20.46057068882599,
                    20.559142353275824,
                    20.756285682175495,
                    20.95342901107516,
                    21.15057233997483,
                    21.19985817219974,
                    21.594144829999074,
                    21.69271649444891,
                    21.69271649444891,
                    21.69271649444891,
                    21.69271649444891,
                    21.69271649444891,
                    21.69271649444891,
                    21.742002326673827,
                    22.18557481669808,
                    22.234860648922997,
                    22.72771897117216,
                    22.92486230007183,
                    22.974148132296747,
                    23.762721447895416,
                    24.15700810569475,
                    24.15700810569475,
                    24.15700810569475,
                    24.15700810569475,
                    24.551294763494084,
                    24.551294763494084,
                    25.142724750193082,
                    25.63558307244225,
                    25.832726401341915,
                    26.621299716940584,
                    27.45915886476417,
                    27.65630219366384,
                    29.085591328186425,
                    29.085591328186425,
                    29.085591328186425,
                    29.085591328186425,
                    29.085591328186425,
                    29.085591328186425,
                    29.085591328186425,
                    29.43059215376084,
                    29.775592979335258,
                    29.92345047601001,
                    30.071307972684764,
                    32.04274126168143,
                    33.27488706730435,
                    33.619887892878765,
                    34.0141745506781,
                    37.46418280642228,
                    37.612040303097025,
                    41.80133604221495,
                    48.79992421815313
                  ],
                  "yaxis": "y"
                },
                {
                  "hoverlabel": {
                    "namelength": 0
                  },
                  "hovertemplate": "smoker=Yes<br>tip=%{x}<br>total_bill=%{y}",
                  "legendgroup": "Yes",
                  "marker": {
                    "color": "#FF7F0E",
                    "symbol": "circle"
                  },
                  "mode": "markers",
                  "name": "Yes",
                  "showlegend": true,
                  "type": "scatter",
                  "x": [
                    3,
                    1.76,
                    3.21,
                    2,
                    1.98,
                    3.76,
                    1,
                    2.09,
                    3.14,
                    5,
                    3.08,
                    3,
                    5,
                    3,
                    1,
                    4.3,
                    4.73,
                    4,
                    1.5,
                    3,
                    2.5,
                    3,
                    2.5,
                    3.48,
                    1.64,
                    4.06,
                    4.29,
                    4,
                    2,
                    3,
                    1.61,
                    2,
                    10,
                    3.16,
                    5.15,
                    3.18,
                    4,
                    3.11,
                    2,
                    2,
                    4,
                    3.55,
                    3.68,
                    5.65,
                    3.5,
                    6.5,
                    3,
                    3.5,
                    2,
                    3.5,
                    4,
                    1.5,
                    4.19,
                    2.56,
                    2.02,
                    4,
                    2,
                    5,
                    2,
                    2,
                    4,
                    2.01,
                    2,
                    2.5,
                    4,
                    3.23,
                    3.41,
                    3,
                    2.03,
                    2.23,
                    2,
                    5.16,
                    2.5,
                    6.5,
                    1.1,
                    3,
                    1.5,
                    1.44,
                    3.09,
                    2.2,
                    3.48,
                    1.92,
                    1.58,
                    2.5,
                    2,
                    2.88,
                    2,
                    3,
                    3,
                    1,
                    1.17,
                    2,
                    2
                  ],
                  "xaxis": "x",
                  "y": [
                    38.01,
                    11.24,
                    20.29,
                    13.81,
                    11.02,
                    18.29,
                    3.07,
                    15.01,
                    26.86,
                    25.28,
                    17.92,
                    19.44,
                    32.68,
                    28.97,
                    5.75,
                    16.32,
                    40.17,
                    27.28,
                    12.03,
                    21.01,
                    11.35,
                    15.38,
                    44.3,
                    22.42,
                    15.36,
                    20.49,
                    25.21,
                    14.31,
                    16,
                    17.51,
                    10.59,
                    10.63,
                    50.81,
                    15.81,
                    7.25,
                    31.85,
                    16.82,
                    32.9,
                    17.89,
                    14.48,
                    9.6,
                    34.63,
                    34.65,
                    23.33,
                    45.35,
                    23.17,
                    40.55,
                    20.9,
                    30.46,
                    18.15,
                    23.1,
                    15.69,
                    19.81,
                    28.44,
                    15.48,
                    16.58,
                    10.34,
                    43.11,
                    13,
                    13.51,
                    18.71,
                    12.74,
                    13,
                    16.4,
                    20.53,
                    16.47,
                    26.59,
                    38.73,
                    24.27,
                    12.76,
                    30.06,
                    25.89,
                    13.27,
                    28.17,
                    12.9,
                    28.15,
                    11.59,
                    7.74,
                    30.14,
                    12.16,
                    13.42,
                    8.58,
                    13.42,
                    16.27,
                    10.09,
                    22.12,
                    24.01,
                    15.69,
                    15.53,
                    12.6,
                    32.83,
                    27.18,
                    22.67
                  ],
                  "yaxis": "y"
                },
                {
                  "alignmentgroup": "True",
                  "hoverlabel": {
                    "namelength": 0
                  },
                  "hovertemplate": "smoker=Yes<br>tip=%{x}",
                  "legendgroup": "Yes",
                  "marker": {
                    "color": "#FF7F0E",
                    "symbol": "circle"
                  },
                  "name": "Yes",
                  "notched": true,
                  "offsetgroup": "Yes",
                  "showlegend": false,
                  "type": "box",
                  "x": [
                    3,
                    1.76,
                    3.21,
                    2,
                    1.98,
                    3.76,
                    1,
                    2.09,
                    3.14,
                    5,
                    3.08,
                    3,
                    5,
                    3,
                    1,
                    4.3,
                    4.73,
                    4,
                    1.5,
                    3,
                    2.5,
                    3,
                    2.5,
                    3.48,
                    1.64,
                    4.06,
                    4.29,
                    4,
                    2,
                    3,
                    1.61,
                    2,
                    10,
                    3.16,
                    5.15,
                    3.18,
                    4,
                    3.11,
                    2,
                    2,
                    4,
                    3.55,
                    3.68,
                    5.65,
                    3.5,
                    6.5,
                    3,
                    3.5,
                    2,
                    3.5,
                    4,
                    1.5,
                    4.19,
                    2.56,
                    2.02,
                    4,
                    2,
                    5,
                    2,
                    2,
                    4,
                    2.01,
                    2,
                    2.5,
                    4,
                    3.23,
                    3.41,
                    3,
                    2.03,
                    2.23,
                    2,
                    5.16,
                    2.5,
                    6.5,
                    1.1,
                    3,
                    1.5,
                    1.44,
                    3.09,
                    2.2,
                    3.48,
                    1.92,
                    1.58,
                    2.5,
                    2,
                    2.88,
                    2,
                    3,
                    3,
                    1,
                    1.17,
                    2,
                    2
                  ],
                  "xaxis": "x3",
                  "yaxis": "y3"
                },
                {
                  "alignmentgroup": "True",
                  "hoverlabel": {
                    "namelength": 0
                  },
                  "hovertemplate": "smoker=Yes<br>total_bill=%{y}",
                  "legendgroup": "Yes",
                  "marker": {
                    "color": "#FF7F0E",
                    "symbol": "circle"
                  },
                  "name": "Yes",
                  "offsetgroup": "Yes",
                  "scalegroup": "y",
                  "showlegend": false,
                  "type": "violin",
                  "xaxis": "x2",
                  "y": [
                    38.01,
                    11.24,
                    20.29,
                    13.81,
                    11.02,
                    18.29,
                    3.07,
                    15.01,
                    26.86,
                    25.28,
                    17.92,
                    19.44,
                    32.68,
                    28.97,
                    5.75,
                    16.32,
                    40.17,
                    27.28,
                    12.03,
                    21.01,
                    11.35,
                    15.38,
                    44.3,
                    22.42,
                    15.36,
                    20.49,
                    25.21,
                    14.31,
                    16,
                    17.51,
                    10.59,
                    10.63,
                    50.81,
                    15.81,
                    7.25,
                    31.85,
                    16.82,
                    32.9,
                    17.89,
                    14.48,
                    9.6,
                    34.63,
                    34.65,
                    23.33,
                    45.35,
                    23.17,
                    40.55,
                    20.9,
                    30.46,
                    18.15,
                    23.1,
                    15.69,
                    19.81,
                    28.44,
                    15.48,
                    16.58,
                    10.34,
                    43.11,
                    13,
                    13.51,
                    18.71,
                    12.74,
                    13,
                    16.4,
                    20.53,
                    16.47,
                    26.59,
                    38.73,
                    24.27,
                    12.76,
                    30.06,
                    25.89,
                    13.27,
                    28.17,
                    12.9,
                    28.15,
                    11.59,
                    7.74,
                    30.14,
                    12.16,
                    13.42,
                    8.58,
                    13.42,
                    16.27,
                    10.09,
                    22.12,
                    24.01,
                    15.69,
                    15.53,
                    12.6,
                    32.83,
                    27.18,
                    22.67
                  ],
                  "yaxis": "y2"
                },
                {
                  "hoverlabel": {
                    "namelength": 0
                  },
                  "hovertemplate": "<b>OLS trendline</b><br>total_bill = 3.42515 * tip + 10.4511<br>R<sup>2</sup>=0.238357<br><br>smoker=Yes<br>tip=%{x}<br>total_bill=%{y} <b>(trend)</b>",
                  "legendgroup": "Yes",
                  "marker": {
                    "color": "#FF7F0E",
                    "symbol": "circle"
                  },
                  "mode": "lines",
                  "name": "Yes",
                  "showlegend": false,
                  "type": "scatter",
                  "x": [
                    1,
                    1,
                    1,
                    1.1,
                    1.17,
                    1.44,
                    1.5,
                    1.5,
                    1.5,
                    1.58,
                    1.61,
                    1.64,
                    1.76,
                    1.92,
                    1.98,
                    2,
                    2,
                    2,
                    2,
                    2,
                    2,
                    2,
                    2,
                    2,
                    2,
                    2,
                    2,
                    2,
                    2,
                    2,
                    2.01,
                    2.02,
                    2.03,
                    2.09,
                    2.2,
                    2.23,
                    2.5,
                    2.5,
                    2.5,
                    2.5,
                    2.5,
                    2.56,
                    2.88,
                    3,
                    3,
                    3,
                    3,
                    3,
                    3,
                    3,
                    3,
                    3,
                    3,
                    3,
                    3.08,
                    3.09,
                    3.11,
                    3.14,
                    3.16,
                    3.18,
                    3.21,
                    3.23,
                    3.41,
                    3.48,
                    3.48,
                    3.5,
                    3.5,
                    3.5,
                    3.55,
                    3.68,
                    3.76,
                    4,
                    4,
                    4,
                    4,
                    4,
                    4,
                    4,
                    4,
                    4.06,
                    4.19,
                    4.29,
                    4.3,
                    4.73,
                    5,
                    5,
                    5,
                    5.15,
                    5.16,
                    5.65,
                    6.5,
                    6.5,
                    10
                  ],
                  "xaxis": "x",
                  "y": [
                    13.87621583753888,
                    13.87621583753888,
                    13.87621583753888,
                    14.218730653185196,
                    14.458491024137617,
                    15.383281026382672,
                    15.588789915770462,
                    15.588789915770462,
                    15.588789915770462,
                    15.862801768287515,
                    15.965556212981411,
                    16.068310657675305,
                    16.479328436450885,
                    17.02735214148499,
                    17.232861030872783,
                    17.301363994002045,
                    17.301363994002045,
                    17.301363994002045,
                    17.301363994002045,
                    17.301363994002045,
                    17.301363994002045,
                    17.301363994002045,
                    17.301363994002045,
                    17.301363994002045,
                    17.301363994002045,
                    17.301363994002045,
                    17.301363994002045,
                    17.301363994002045,
                    17.301363994002045,
                    17.301363994002045,
                    17.335615475566676,
                    17.369866957131308,
                    17.40411843869594,
                    17.60962732808373,
                    17.986393625294678,
                    18.089148069988575,
                    19.01393807223363,
                    19.01393807223363,
                    19.01393807223363,
                    19.01393807223363,
                    19.01393807223363,
                    19.219446961621415,
                    20.31549437168963,
                    20.72651215046521,
                    20.72651215046521,
                    20.72651215046521,
                    20.72651215046521,
                    20.72651215046521,
                    20.72651215046521,
                    20.72651215046521,
                    20.72651215046521,
                    20.72651215046521,
                    20.72651215046521,
                    20.72651215046521,
                    21.000524002982264,
                    21.034775484546895,
                    21.10327844767616,
                    21.206032892370054,
                    21.274535855499316,
                    21.343038818628578,
                    21.445793263322475,
                    21.51429622645174,
                    22.130822894615108,
                    22.37058326556753,
                    22.37058326556753,
                    22.439086228696794,
                    22.439086228696794,
                    22.439086228696794,
                    22.61034363651995,
                    23.05561289686016,
                    23.329624749377217,
                    24.151660306928378,
                    24.151660306928378,
                    24.151660306928378,
                    24.151660306928378,
                    24.151660306928378,
                    24.151660306928378,
                    24.151660306928378,
                    24.151660306928378,
                    24.357169196316164,
                    24.80243845665638,
                    25.144953272302693,
                    25.179204753867324,
                    26.652018461146486,
                    27.57680846339154,
                    27.57680846339154,
                    27.57680846339154,
                    28.090580686861017,
                    28.124832168425648,
                    29.8031547650926,
                    32.71453069808629,
                    32.71453069808629,
                    44.70254924570737
                  ],
                  "yaxis": "y"
                }
              ],
              "layout": {
                "legend": {
                  "title": {
                    "text": "smoker"
                  },
                  "tracegroupgap": 0
                },
                "margin": {
                  "t": 60
                },
                "template": {
                  "data": {
                    "bar": [
                      {
                        "error_x": {
                          "color": "rgb(36,36,36)"
                        },
                        "error_y": {
                          "color": "rgb(36,36,36)"
                        },
                        "marker": {
                          "line": {
                            "color": "white",
                            "width": 0.5
                          }
                        },
                        "type": "bar"
                      }
                    ],
                    "barpolar": [
                      {
                        "marker": {
                          "line": {
                            "color": "white",
                            "width": 0.5
                          }
                        },
                        "type": "barpolar"
                      }
                    ],
                    "carpet": [
                      {
                        "aaxis": {
                          "endlinecolor": "rgb(36,36,36)",
                          "gridcolor": "white",
                          "linecolor": "white",
                          "minorgridcolor": "white",
                          "startlinecolor": "rgb(36,36,36)"
                        },
                        "baxis": {
                          "endlinecolor": "rgb(36,36,36)",
                          "gridcolor": "white",
                          "linecolor": "white",
                          "minorgridcolor": "white",
                          "startlinecolor": "rgb(36,36,36)"
                        },
                        "type": "carpet"
                      }
                    ],
                    "choropleth": [
                      {
                        "colorbar": {
                          "outlinewidth": 1,
                          "tickcolor": "rgb(36,36,36)",
                          "ticks": "outside"
                        },
                        "type": "choropleth"
                      }
                    ],
                    "contour": [
                      {
                        "colorbar": {
                          "outlinewidth": 1,
                          "tickcolor": "rgb(36,36,36)",
                          "ticks": "outside"
                        },
                        "colorscale": [
                          [
                            0,
                            "#440154"
                          ],
                          [
                            0.1111111111111111,
                            "#482878"
                          ],
                          [
                            0.2222222222222222,
                            "#3e4989"
                          ],
                          [
                            0.3333333333333333,
                            "#31688e"
                          ],
                          [
                            0.4444444444444444,
                            "#26828e"
                          ],
                          [
                            0.5555555555555556,
                            "#1f9e89"
                          ],
                          [
                            0.6666666666666666,
                            "#35b779"
                          ],
                          [
                            0.7777777777777778,
                            "#6ece58"
                          ],
                          [
                            0.8888888888888888,
                            "#b5de2b"
                          ],
                          [
                            1,
                            "#fde725"
                          ]
                        ],
                        "type": "contour"
                      }
                    ],
                    "contourcarpet": [
                      {
                        "colorbar": {
                          "outlinewidth": 1,
                          "tickcolor": "rgb(36,36,36)",
                          "ticks": "outside"
                        },
                        "type": "contourcarpet"
                      }
                    ],
                    "heatmap": [
                      {
                        "colorbar": {
                          "outlinewidth": 1,
                          "tickcolor": "rgb(36,36,36)",
                          "ticks": "outside"
                        },
                        "colorscale": [
                          [
                            0,
                            "#440154"
                          ],
                          [
                            0.1111111111111111,
                            "#482878"
                          ],
                          [
                            0.2222222222222222,
                            "#3e4989"
                          ],
                          [
                            0.3333333333333333,
                            "#31688e"
                          ],
                          [
                            0.4444444444444444,
                            "#26828e"
                          ],
                          [
                            0.5555555555555556,
                            "#1f9e89"
                          ],
                          [
                            0.6666666666666666,
                            "#35b779"
                          ],
                          [
                            0.7777777777777778,
                            "#6ece58"
                          ],
                          [
                            0.8888888888888888,
                            "#b5de2b"
                          ],
                          [
                            1,
                            "#fde725"
                          ]
                        ],
                        "type": "heatmap"
                      }
                    ],
                    "heatmapgl": [
                      {
                        "colorbar": {
                          "outlinewidth": 1,
                          "tickcolor": "rgb(36,36,36)",
                          "ticks": "outside"
                        },
                        "colorscale": [
                          [
                            0,
                            "#440154"
                          ],
                          [
                            0.1111111111111111,
                            "#482878"
                          ],
                          [
                            0.2222222222222222,
                            "#3e4989"
                          ],
                          [
                            0.3333333333333333,
                            "#31688e"
                          ],
                          [
                            0.4444444444444444,
                            "#26828e"
                          ],
                          [
                            0.5555555555555556,
                            "#1f9e89"
                          ],
                          [
                            0.6666666666666666,
                            "#35b779"
                          ],
                          [
                            0.7777777777777778,
                            "#6ece58"
                          ],
                          [
                            0.8888888888888888,
                            "#b5de2b"
                          ],
                          [
                            1,
                            "#fde725"
                          ]
                        ],
                        "type": "heatmapgl"
                      }
                    ],
                    "histogram": [
                      {
                        "marker": {
                          "line": {
                            "color": "white",
                            "width": 0.6
                          }
                        },
                        "type": "histogram"
                      }
                    ],
                    "histogram2d": [
                      {
                        "colorbar": {
                          "outlinewidth": 1,
                          "tickcolor": "rgb(36,36,36)",
                          "ticks": "outside"
                        },
                        "colorscale": [
                          [
                            0,
                            "#440154"
                          ],
                          [
                            0.1111111111111111,
                            "#482878"
                          ],
                          [
                            0.2222222222222222,
                            "#3e4989"
                          ],
                          [
                            0.3333333333333333,
                            "#31688e"
                          ],
                          [
                            0.4444444444444444,
                            "#26828e"
                          ],
                          [
                            0.5555555555555556,
                            "#1f9e89"
                          ],
                          [
                            0.6666666666666666,
                            "#35b779"
                          ],
                          [
                            0.7777777777777778,
                            "#6ece58"
                          ],
                          [
                            0.8888888888888888,
                            "#b5de2b"
                          ],
                          [
                            1,
                            "#fde725"
                          ]
                        ],
                        "type": "histogram2d"
                      }
                    ],
                    "histogram2dcontour": [
                      {
                        "colorbar": {
                          "outlinewidth": 1,
                          "tickcolor": "rgb(36,36,36)",
                          "ticks": "outside"
                        },
                        "colorscale": [
                          [
                            0,
                            "#440154"
                          ],
                          [
                            0.1111111111111111,
                            "#482878"
                          ],
                          [
                            0.2222222222222222,
                            "#3e4989"
                          ],
                          [
                            0.3333333333333333,
                            "#31688e"
                          ],
                          [
                            0.4444444444444444,
                            "#26828e"
                          ],
                          [
                            0.5555555555555556,
                            "#1f9e89"
                          ],
                          [
                            0.6666666666666666,
                            "#35b779"
                          ],
                          [
                            0.7777777777777778,
                            "#6ece58"
                          ],
                          [
                            0.8888888888888888,
                            "#b5de2b"
                          ],
                          [
                            1,
                            "#fde725"
                          ]
                        ],
                        "type": "histogram2dcontour"
                      }
                    ],
                    "mesh3d": [
                      {
                        "colorbar": {
                          "outlinewidth": 1,
                          "tickcolor": "rgb(36,36,36)",
                          "ticks": "outside"
                        },
                        "type": "mesh3d"
                      }
                    ],
                    "parcoords": [
                      {
                        "line": {
                          "colorbar": {
                            "outlinewidth": 1,
                            "tickcolor": "rgb(36,36,36)",
                            "ticks": "outside"
                          }
                        },
                        "type": "parcoords"
                      }
                    ],
                    "pie": [
                      {
                        "automargin": true,
                        "type": "pie"
                      }
                    ],
                    "scatter": [
                      {
                        "marker": {
                          "colorbar": {
                            "outlinewidth": 1,
                            "tickcolor": "rgb(36,36,36)",
                            "ticks": "outside"
                          }
                        },
                        "type": "scatter"
                      }
                    ],
                    "scatter3d": [
                      {
                        "line": {
                          "colorbar": {
                            "outlinewidth": 1,
                            "tickcolor": "rgb(36,36,36)",
                            "ticks": "outside"
                          }
                        },
                        "marker": {
                          "colorbar": {
                            "outlinewidth": 1,
                            "tickcolor": "rgb(36,36,36)",
                            "ticks": "outside"
                          }
                        },
                        "type": "scatter3d"
                      }
                    ],
                    "scattercarpet": [
                      {
                        "marker": {
                          "colorbar": {
                            "outlinewidth": 1,
                            "tickcolor": "rgb(36,36,36)",
                            "ticks": "outside"
                          }
                        },
                        "type": "scattercarpet"
                      }
                    ],
                    "scattergeo": [
                      {
                        "marker": {
                          "colorbar": {
                            "outlinewidth": 1,
                            "tickcolor": "rgb(36,36,36)",
                            "ticks": "outside"
                          }
                        },
                        "type": "scattergeo"
                      }
                    ],
                    "scattergl": [
                      {
                        "marker": {
                          "colorbar": {
                            "outlinewidth": 1,
                            "tickcolor": "rgb(36,36,36)",
                            "ticks": "outside"
                          }
                        },
                        "type": "scattergl"
                      }
                    ],
                    "scattermapbox": [
                      {
                        "marker": {
                          "colorbar": {
                            "outlinewidth": 1,
                            "tickcolor": "rgb(36,36,36)",
                            "ticks": "outside"
                          }
                        },
                        "type": "scattermapbox"
                      }
                    ],
                    "scatterpolar": [
                      {
                        "marker": {
                          "colorbar": {
                            "outlinewidth": 1,
                            "tickcolor": "rgb(36,36,36)",
                            "ticks": "outside"
                          }
                        },
                        "type": "scatterpolar"
                      }
                    ],
                    "scatterpolargl": [
                      {
                        "marker": {
                          "colorbar": {
                            "outlinewidth": 1,
                            "tickcolor": "rgb(36,36,36)",
                            "ticks": "outside"
                          }
                        },
                        "type": "scatterpolargl"
                      }
                    ],
                    "scatterternary": [
                      {
                        "marker": {
                          "colorbar": {
                            "outlinewidth": 1,
                            "tickcolor": "rgb(36,36,36)",
                            "ticks": "outside"
                          }
                        },
                        "type": "scatterternary"
                      }
                    ],
                    "surface": [
                      {
                        "colorbar": {
                          "outlinewidth": 1,
                          "tickcolor": "rgb(36,36,36)",
                          "ticks": "outside"
                        },
                        "colorscale": [
                          [
                            0,
                            "#440154"
                          ],
                          [
                            0.1111111111111111,
                            "#482878"
                          ],
                          [
                            0.2222222222222222,
                            "#3e4989"
                          ],
                          [
                            0.3333333333333333,
                            "#31688e"
                          ],
                          [
                            0.4444444444444444,
                            "#26828e"
                          ],
                          [
                            0.5555555555555556,
                            "#1f9e89"
                          ],
                          [
                            0.6666666666666666,
                            "#35b779"
                          ],
                          [
                            0.7777777777777778,
                            "#6ece58"
                          ],
                          [
                            0.8888888888888888,
                            "#b5de2b"
                          ],
                          [
                            1,
                            "#fde725"
                          ]
                        ],
                        "type": "surface"
                      }
                    ],
                    "table": [
                      {
                        "cells": {
                          "fill": {
                            "color": "rgb(237,237,237)"
                          },
                          "line": {
                            "color": "white"
                          }
                        },
                        "header": {
                          "fill": {
                            "color": "rgb(217,217,217)"
                          },
                          "line": {
                            "color": "white"
                          }
                        },
                        "type": "table"
                      }
                    ]
                  },
                  "layout": {
                    "annotationdefaults": {
                      "arrowhead": 0,
                      "arrowwidth": 1
                    },
                    "coloraxis": {
                      "colorbar": {
                        "outlinewidth": 1,
                        "tickcolor": "rgb(36,36,36)",
                        "ticks": "outside"
                      }
                    },
                    "colorscale": {
                      "diverging": [
                        [
                          0,
                          "rgb(103,0,31)"
                        ],
                        [
                          0.1,
                          "rgb(178,24,43)"
                        ],
                        [
                          0.2,
                          "rgb(214,96,77)"
                        ],
                        [
                          0.3,
                          "rgb(244,165,130)"
                        ],
                        [
                          0.4,
                          "rgb(253,219,199)"
                        ],
                        [
                          0.5,
                          "rgb(247,247,247)"
                        ],
                        [
                          0.6,
                          "rgb(209,229,240)"
                        ],
                        [
                          0.7,
                          "rgb(146,197,222)"
                        ],
                        [
                          0.8,
                          "rgb(67,147,195)"
                        ],
                        [
                          0.9,
                          "rgb(33,102,172)"
                        ],
                        [
                          1,
                          "rgb(5,48,97)"
                        ]
                      ],
                      "sequential": [
                        [
                          0,
                          "#440154"
                        ],
                        [
                          0.1111111111111111,
                          "#482878"
                        ],
                        [
                          0.2222222222222222,
                          "#3e4989"
                        ],
                        [
                          0.3333333333333333,
                          "#31688e"
                        ],
                        [
                          0.4444444444444444,
                          "#26828e"
                        ],
                        [
                          0.5555555555555556,
                          "#1f9e89"
                        ],
                        [
                          0.6666666666666666,
                          "#35b779"
                        ],
                        [
                          0.7777777777777778,
                          "#6ece58"
                        ],
                        [
                          0.8888888888888888,
                          "#b5de2b"
                        ],
                        [
                          1,
                          "#fde725"
                        ]
                      ],
                      "sequentialminus": [
                        [
                          0,
                          "#440154"
                        ],
                        [
                          0.1111111111111111,
                          "#482878"
                        ],
                        [
                          0.2222222222222222,
                          "#3e4989"
                        ],
                        [
                          0.3333333333333333,
                          "#31688e"
                        ],
                        [
                          0.4444444444444444,
                          "#26828e"
                        ],
                        [
                          0.5555555555555556,
                          "#1f9e89"
                        ],
                        [
                          0.6666666666666666,
                          "#35b779"
                        ],
                        [
                          0.7777777777777778,
                          "#6ece58"
                        ],
                        [
                          0.8888888888888888,
                          "#b5de2b"
                        ],
                        [
                          1,
                          "#fde725"
                        ]
                      ]
                    },
                    "colorway": [
                      "#1F77B4",
                      "#FF7F0E",
                      "#2CA02C",
                      "#D62728",
                      "#9467BD",
                      "#8C564B",
                      "#E377C2",
                      "#7F7F7F",
                      "#BCBD22",
                      "#17BECF"
                    ],
                    "font": {
                      "color": "rgb(36,36,36)"
                    },
                    "geo": {
                      "bgcolor": "white",
                      "lakecolor": "white",
                      "landcolor": "white",
                      "showlakes": true,
                      "showland": true,
                      "subunitcolor": "white"
                    },
                    "hoverlabel": {
                      "align": "left"
                    },
                    "hovermode": "closest",
                    "mapbox": {
                      "style": "light"
                    },
                    "paper_bgcolor": "white",
                    "plot_bgcolor": "white",
                    "polar": {
                      "angularaxis": {
                        "gridcolor": "rgb(232,232,232)",
                        "linecolor": "rgb(36,36,36)",
                        "showgrid": false,
                        "showline": true,
                        "ticks": "outside"
                      },
                      "bgcolor": "white",
                      "radialaxis": {
                        "gridcolor": "rgb(232,232,232)",
                        "linecolor": "rgb(36,36,36)",
                        "showgrid": false,
                        "showline": true,
                        "ticks": "outside"
                      }
                    },
                    "scene": {
                      "xaxis": {
                        "backgroundcolor": "white",
                        "gridcolor": "rgb(232,232,232)",
                        "gridwidth": 2,
                        "linecolor": "rgb(36,36,36)",
                        "showbackground": true,
                        "showgrid": false,
                        "showline": true,
                        "ticks": "outside",
                        "zeroline": false,
                        "zerolinecolor": "rgb(36,36,36)"
                      },
                      "yaxis": {
                        "backgroundcolor": "white",
                        "gridcolor": "rgb(232,232,232)",
                        "gridwidth": 2,
                        "linecolor": "rgb(36,36,36)",
                        "showbackground": true,
                        "showgrid": false,
                        "showline": true,
                        "ticks": "outside",
                        "zeroline": false,
                        "zerolinecolor": "rgb(36,36,36)"
                      },
                      "zaxis": {
                        "backgroundcolor": "white",
                        "gridcolor": "rgb(232,232,232)",
                        "gridwidth": 2,
                        "linecolor": "rgb(36,36,36)",
                        "showbackground": true,
                        "showgrid": false,
                        "showline": true,
                        "ticks": "outside",
                        "zeroline": false,
                        "zerolinecolor": "rgb(36,36,36)"
                      }
                    },
                    "shapedefaults": {
                      "fillcolor": "black",
                      "line": {
                        "width": 0
                      },
                      "opacity": 0.3
                    },
                    "ternary": {
                      "aaxis": {
                        "gridcolor": "rgb(232,232,232)",
                        "linecolor": "rgb(36,36,36)",
                        "showgrid": false,
                        "showline": true,
                        "ticks": "outside"
                      },
                      "baxis": {
                        "gridcolor": "rgb(232,232,232)",
                        "linecolor": "rgb(36,36,36)",
                        "showgrid": false,
                        "showline": true,
                        "ticks": "outside"
                      },
                      "bgcolor": "white",
                      "caxis": {
                        "gridcolor": "rgb(232,232,232)",
                        "linecolor": "rgb(36,36,36)",
                        "showgrid": false,
                        "showline": true,
                        "ticks": "outside"
                      }
                    },
                    "title": {
                      "x": 0.05
                    },
                    "xaxis": {
                      "automargin": true,
                      "gridcolor": "rgb(232,232,232)",
                      "linecolor": "rgb(36,36,36)",
                      "showgrid": false,
                      "showline": true,
                      "ticks": "outside",
                      "title": {
                        "standoff": 15
                      },
                      "zeroline": false,
                      "zerolinecolor": "rgb(36,36,36)"
                    },
                    "yaxis": {
                      "automargin": true,
                      "gridcolor": "rgb(232,232,232)",
                      "linecolor": "rgb(36,36,36)",
                      "showgrid": false,
                      "showline": true,
                      "ticks": "outside",
                      "title": {
                        "standoff": 15
                      },
                      "zeroline": false,
                      "zerolinecolor": "rgb(36,36,36)"
                    }
                  }
                },
                "xaxis": {
                  "anchor": "y",
                  "domain": [
                    0,
                    0.7363
                  ],
                  "title": {
                    "text": "tip"
                  }
                },
                "xaxis2": {
                  "anchor": "y2",
                  "domain": [
                    0.7413,
                    1
                  ],
                  "matches": "x2",
                  "showline": false,
                  "showticklabels": false,
                  "ticks": ""
                },
                "xaxis3": {
                  "anchor": "y3",
                  "domain": [
                    0,
                    0.7363
                  ],
                  "matches": "x",
                  "showticklabels": false
                },
                "xaxis4": {
                  "anchor": "y4",
                  "domain": [
                    0.7413,
                    1
                  ],
                  "matches": "x2",
                  "showline": false,
                  "showticklabels": false,
                  "ticks": ""
                },
                "yaxis": {
                  "anchor": "x",
                  "domain": [
                    0,
                    0.7326
                  ],
                  "title": {
                    "text": "total_bill"
                  }
                },
                "yaxis2": {
                  "anchor": "x2",
                  "domain": [
                    0,
                    0.7326
                  ],
                  "matches": "y",
                  "showticklabels": false
                },
                "yaxis3": {
                  "anchor": "x3",
                  "domain": [
                    0.7426,
                    1
                  ],
                  "matches": "y3",
                  "showline": false,
                  "showticklabels": false,
                  "ticks": ""
                },
                "yaxis4": {
                  "anchor": "x4",
                  "domain": [
                    0.7426,
                    1
                  ],
                  "matches": "y3",
                  "showline": false,
                  "showticklabels": false,
                  "ticks": ""
                }
              }
            },
            "text/html": [
              "<div>\n",
              "        \n",
              "        \n",
              "            <div id=\"78919276-f546-417e-a306-c6d2cd11240b\" class=\"plotly-graph-div\" style=\"height:525px; width:100%;\"></div>\n",
              "            <script type=\"text/javascript\">\n",
              "                require([\"plotly\"], function(Plotly) {\n",
              "                    window.PLOTLYENV=window.PLOTLYENV || {};\n",
              "                    \n",
              "                if (document.getElementById(\"78919276-f546-417e-a306-c6d2cd11240b\")) {\n",
              "                    Plotly.newPlot(\n",
              "                        '78919276-f546-417e-a306-c6d2cd11240b',\n",
              "                        [{\"hoverlabel\": {\"namelength\": 0}, \"hovertemplate\": \"smoker=No<br>tip=%{x}<br>total_bill=%{y}\", \"legendgroup\": \"No\", \"marker\": {\"color\": \"#1F77B4\", \"symbol\": \"circle\"}, \"mode\": \"markers\", \"name\": \"No\", \"showlegend\": true, \"type\": \"scatter\", \"x\": [1.01, 1.66, 3.5, 3.31, 3.61, 4.71, 2.0, 3.12, 1.96, 3.23, 1.71, 5.0, 1.57, 3.0, 3.02, 3.92, 1.67, 3.71, 3.5, 3.35, 4.08, 2.75, 2.23, 7.58, 3.18, 2.34, 2.0, 2.0, 4.3, 3.0, 1.45, 2.5, 3.0, 2.45, 3.27, 3.6, 2.0, 3.07, 2.31, 5.0, 2.24, 2.54, 3.06, 1.32, 5.6, 3.0, 5.0, 6.0, 2.05, 3.0, 2.5, 2.6, 5.2, 1.56, 4.34, 3.51, 1.5, 6.73, 2.64, 3.15, 2.47, 2.01, 1.97, 3.0, 2.2, 1.25, 4.0, 3.0, 2.71, 3.4, 1.83, 2.03, 5.17, 2.0, 4.0, 5.85, 3.0, 3.5, 3.25, 1.5, 4.08, 3.76, 3.0, 1.0, 4.0, 2.55, 4.0, 3.5, 5.07, 1.5, 1.8, 2.92, 2.31, 1.68, 2.5, 2.0, 2.52, 4.2, 1.48, 2.0, 2.0, 2.18, 1.5, 2.83, 1.5, 2.0, 3.25, 1.25, 2.0, 2.0, 2.75, 3.5, 6.7, 5.0, 5.0, 2.3, 1.5, 1.36, 1.63, 1.73, 2.0, 2.5, 2.0, 2.74, 2.0, 2.0, 5.14, 5.0, 3.75, 2.61, 2.0, 3.5, 2.5, 2.0, 2.0, 3.48, 2.24, 4.5, 5.0, 1.44, 9.0, 3.0, 3.0, 2.72, 3.39, 1.47, 1.25, 4.67, 5.92, 1.75, 3.0], \"xaxis\": \"x\", \"y\": [16.99, 10.34, 21.01, 23.68, 24.59, 25.29, 8.77, 26.88, 15.04, 14.78, 10.27, 35.26, 15.42, 18.43, 14.83, 21.58, 10.33, 16.29, 16.97, 20.65, 17.92, 20.29, 15.77, 39.42, 19.82, 17.81, 13.37, 12.69, 21.7, 19.65, 9.55, 18.35, 15.06, 20.69, 17.78, 24.06, 16.31, 16.93, 18.69, 31.27, 16.04, 17.46, 13.94, 9.68, 30.4, 18.29, 22.23, 32.4, 28.55, 18.04, 12.54, 10.29, 34.81, 9.94, 25.56, 19.49, 26.41, 48.27, 17.59, 20.08, 16.45, 20.23, 12.02, 17.07, 14.73, 10.51, 27.2, 22.76, 17.29, 16.66, 10.07, 15.98, 34.83, 13.03, 18.28, 24.71, 21.16, 22.49, 22.75, 12.46, 20.92, 18.24, 14.0, 7.25, 38.07, 23.95, 25.71, 17.31, 29.93, 10.65, 12.43, 24.08, 11.69, 13.42, 14.26, 15.95, 12.48, 29.8, 8.52, 14.52, 11.38, 22.82, 19.08, 20.27, 11.17, 12.26, 18.26, 8.51, 10.33, 14.15, 13.16, 17.47, 34.3, 41.19, 27.05, 16.43, 8.35, 18.64, 11.87, 9.78, 7.51, 14.07, 13.13, 17.26, 24.55, 19.77, 29.85, 48.17, 25.0, 13.39, 16.49, 21.5, 12.66, 16.21, 13.81, 24.52, 20.76, 31.71, 20.69, 7.56, 48.33, 15.98, 20.45, 13.28, 11.61, 10.77, 10.07, 35.83, 29.03, 17.82, 18.78], \"yaxis\": \"y\"}, {\"alignmentgroup\": \"True\", \"hoverlabel\": {\"namelength\": 0}, \"hovertemplate\": \"smoker=No<br>tip=%{x}\", \"legendgroup\": \"No\", \"marker\": {\"color\": \"#1F77B4\", \"symbol\": \"circle\"}, \"name\": \"No\", \"notched\": true, \"offsetgroup\": \"No\", \"showlegend\": false, \"type\": \"box\", \"x\": [1.01, 1.66, 3.5, 3.31, 3.61, 4.71, 2.0, 3.12, 1.96, 3.23, 1.71, 5.0, 1.57, 3.0, 3.02, 3.92, 1.67, 3.71, 3.5, 3.35, 4.08, 2.75, 2.23, 7.58, 3.18, 2.34, 2.0, 2.0, 4.3, 3.0, 1.45, 2.5, 3.0, 2.45, 3.27, 3.6, 2.0, 3.07, 2.31, 5.0, 2.24, 2.54, 3.06, 1.32, 5.6, 3.0, 5.0, 6.0, 2.05, 3.0, 2.5, 2.6, 5.2, 1.56, 4.34, 3.51, 1.5, 6.73, 2.64, 3.15, 2.47, 2.01, 1.97, 3.0, 2.2, 1.25, 4.0, 3.0, 2.71, 3.4, 1.83, 2.03, 5.17, 2.0, 4.0, 5.85, 3.0, 3.5, 3.25, 1.5, 4.08, 3.76, 3.0, 1.0, 4.0, 2.55, 4.0, 3.5, 5.07, 1.5, 1.8, 2.92, 2.31, 1.68, 2.5, 2.0, 2.52, 4.2, 1.48, 2.0, 2.0, 2.18, 1.5, 2.83, 1.5, 2.0, 3.25, 1.25, 2.0, 2.0, 2.75, 3.5, 6.7, 5.0, 5.0, 2.3, 1.5, 1.36, 1.63, 1.73, 2.0, 2.5, 2.0, 2.74, 2.0, 2.0, 5.14, 5.0, 3.75, 2.61, 2.0, 3.5, 2.5, 2.0, 2.0, 3.48, 2.24, 4.5, 5.0, 1.44, 9.0, 3.0, 3.0, 2.72, 3.39, 1.47, 1.25, 4.67, 5.92, 1.75, 3.0], \"xaxis\": \"x3\", \"yaxis\": \"y3\"}, {\"alignmentgroup\": \"True\", \"hoverlabel\": {\"namelength\": 0}, \"hovertemplate\": \"smoker=No<br>total_bill=%{y}\", \"legendgroup\": \"No\", \"marker\": {\"color\": \"#1F77B4\", \"symbol\": \"circle\"}, \"name\": \"No\", \"offsetgroup\": \"No\", \"scalegroup\": \"y\", \"showlegend\": false, \"type\": \"violin\", \"xaxis\": \"x2\", \"y\": [16.99, 10.34, 21.01, 23.68, 24.59, 25.29, 8.77, 26.88, 15.04, 14.78, 10.27, 35.26, 15.42, 18.43, 14.83, 21.58, 10.33, 16.29, 16.97, 20.65, 17.92, 20.29, 15.77, 39.42, 19.82, 17.81, 13.37, 12.69, 21.7, 19.65, 9.55, 18.35, 15.06, 20.69, 17.78, 24.06, 16.31, 16.93, 18.69, 31.27, 16.04, 17.46, 13.94, 9.68, 30.4, 18.29, 22.23, 32.4, 28.55, 18.04, 12.54, 10.29, 34.81, 9.94, 25.56, 19.49, 26.41, 48.27, 17.59, 20.08, 16.45, 20.23, 12.02, 17.07, 14.73, 10.51, 27.2, 22.76, 17.29, 16.66, 10.07, 15.98, 34.83, 13.03, 18.28, 24.71, 21.16, 22.49, 22.75, 12.46, 20.92, 18.24, 14.0, 7.25, 38.07, 23.95, 25.71, 17.31, 29.93, 10.65, 12.43, 24.08, 11.69, 13.42, 14.26, 15.95, 12.48, 29.8, 8.52, 14.52, 11.38, 22.82, 19.08, 20.27, 11.17, 12.26, 18.26, 8.51, 10.33, 14.15, 13.16, 17.47, 34.3, 41.19, 27.05, 16.43, 8.35, 18.64, 11.87, 9.78, 7.51, 14.07, 13.13, 17.26, 24.55, 19.77, 29.85, 48.17, 25.0, 13.39, 16.49, 21.5, 12.66, 16.21, 13.81, 24.52, 20.76, 31.71, 20.69, 7.56, 48.33, 15.98, 20.45, 13.28, 11.61, 10.77, 10.07, 35.83, 29.03, 17.82, 18.78], \"yaxis\": \"y2\"}, {\"hoverlabel\": {\"namelength\": 0}, \"hovertemplate\": \"<b>OLS trendline</b><br>total_bill = 4.92858 * tip + 4.44268<br>R<sup>2</sup>=0.675984<br><br>smoker=No<br>tip=%{x}<br>total_bill=%{y} <b>(trend)</b>\", \"legendgroup\": \"No\", \"marker\": {\"color\": \"#1F77B4\", \"symbol\": \"circle\"}, \"mode\": \"lines\", \"name\": \"No\", \"showlegend\": false, \"type\": \"scatter\", \"x\": [1.0, 1.01, 1.25, 1.25, 1.25, 1.32, 1.36, 1.44, 1.45, 1.47, 1.48, 1.5, 1.5, 1.5, 1.5, 1.5, 1.5, 1.56, 1.57, 1.63, 1.66, 1.67, 1.68, 1.71, 1.73, 1.75, 1.8, 1.83, 1.96, 1.97, 2.0, 2.0, 2.0, 2.0, 2.0, 2.0, 2.0, 2.0, 2.0, 2.0, 2.0, 2.0, 2.0, 2.0, 2.0, 2.0, 2.0, 2.0, 2.01, 2.03, 2.05, 2.18, 2.2, 2.23, 2.24, 2.24, 2.3, 2.31, 2.31, 2.34, 2.45, 2.47, 2.5, 2.5, 2.5, 2.5, 2.5, 2.52, 2.54, 2.55, 2.6, 2.61, 2.64, 2.71, 2.72, 2.74, 2.75, 2.75, 2.83, 2.92, 3.0, 3.0, 3.0, 3.0, 3.0, 3.0, 3.0, 3.0, 3.0, 3.0, 3.0, 3.0, 3.02, 3.06, 3.07, 3.12, 3.15, 3.18, 3.23, 3.25, 3.25, 3.27, 3.31, 3.35, 3.39, 3.4, 3.48, 3.5, 3.5, 3.5, 3.5, 3.5, 3.5, 3.51, 3.6, 3.61, 3.71, 3.75, 3.76, 3.92, 4.0, 4.0, 4.0, 4.0, 4.08, 4.08, 4.2, 4.3, 4.34, 4.5, 4.67, 4.71, 5.0, 5.0, 5.0, 5.0, 5.0, 5.0, 5.0, 5.07, 5.14, 5.17, 5.2, 5.6, 5.85, 5.92, 6.0, 6.7, 6.73, 7.58, 9.0], \"xaxis\": \"x\", \"y\": [9.37125843821972, 9.420544270444637, 10.603404243842638, 10.603404243842638, 10.603404243842638, 10.948405069417056, 11.145548398316723, 11.539835056116058, 11.589120888340974, 11.687692552790807, 11.736978385015725, 11.835550049465557, 11.835550049465557, 11.835550049465557, 11.835550049465557, 11.835550049465557, 11.835550049465557, 12.131265042815059, 12.180550875039975, 12.476265868389476, 12.624123365064225, 12.673409197289143, 12.722695029514059, 12.87055252618881, 12.969124190638643, 13.067695855088477, 13.31412501621306, 13.461982512887811, 14.102698331811728, 14.151984164036644, 14.299841660711396, 14.299841660711396, 14.299841660711396, 14.299841660711396, 14.299841660711396, 14.299841660711396, 14.299841660711396, 14.299841660711396, 14.299841660711396, 14.299841660711396, 14.299841660711396, 14.299841660711396, 14.299841660711396, 14.299841660711396, 14.299841660711396, 14.299841660711396, 14.299841660711396, 14.299841660711396, 14.349127492936312, 14.447699157386145, 14.546270821835979, 15.186986640759898, 15.285558305209731, 15.43341580188448, 15.482701634109398, 15.482701634109398, 15.778416627458897, 15.827702459683815, 15.827702459683815, 15.975559956358564, 16.517704110832653, 16.616275775282485, 16.764133271957235, 16.764133271957235, 16.764133271957235, 16.764133271957235, 16.764133271957235, 16.86270493640707, 16.961276600856902, 17.010562433081816, 17.256991594206404, 17.30627742643132, 17.454134923106068, 17.799135748680484, 17.848421580905402, 17.946993245355237, 17.996279077580155, 17.996279077580155, 18.39056573537949, 18.834138225403738, 19.228424883203072, 19.228424883203072, 19.228424883203072, 19.228424883203072, 19.228424883203072, 19.228424883203072, 19.228424883203072, 19.228424883203072, 19.228424883203072, 19.228424883203072, 19.228424883203072, 19.228424883203072, 19.326996547652904, 19.524139876552574, 19.57342570877749, 19.819854869902073, 19.967712366576823, 20.115569863251572, 20.361999024376157, 20.46057068882599, 20.46057068882599, 20.559142353275824, 20.756285682175495, 20.95342901107516, 21.15057233997483, 21.19985817219974, 21.594144829999074, 21.69271649444891, 21.69271649444891, 21.69271649444891, 21.69271649444891, 21.69271649444891, 21.69271649444891, 21.742002326673827, 22.18557481669808, 22.234860648922997, 22.72771897117216, 22.92486230007183, 22.974148132296747, 23.762721447895416, 24.15700810569475, 24.15700810569475, 24.15700810569475, 24.15700810569475, 24.551294763494084, 24.551294763494084, 25.142724750193082, 25.63558307244225, 25.832726401341915, 26.621299716940584, 27.45915886476417, 27.65630219366384, 29.085591328186425, 29.085591328186425, 29.085591328186425, 29.085591328186425, 29.085591328186425, 29.085591328186425, 29.085591328186425, 29.43059215376084, 29.775592979335258, 29.92345047601001, 30.071307972684764, 32.04274126168143, 33.27488706730435, 33.619887892878765, 34.0141745506781, 37.46418280642228, 37.612040303097025, 41.80133604221495, 48.79992421815313], \"yaxis\": \"y\"}, {\"hoverlabel\": {\"namelength\": 0}, \"hovertemplate\": \"smoker=Yes<br>tip=%{x}<br>total_bill=%{y}\", \"legendgroup\": \"Yes\", \"marker\": {\"color\": \"#FF7F0E\", \"symbol\": \"circle\"}, \"mode\": \"markers\", \"name\": \"Yes\", \"showlegend\": true, \"type\": \"scatter\", \"x\": [3.0, 1.76, 3.21, 2.0, 1.98, 3.76, 1.0, 2.09, 3.14, 5.0, 3.08, 3.0, 5.0, 3.0, 1.0, 4.3, 4.73, 4.0, 1.5, 3.0, 2.5, 3.0, 2.5, 3.48, 1.64, 4.06, 4.29, 4.0, 2.0, 3.0, 1.61, 2.0, 10.0, 3.16, 5.15, 3.18, 4.0, 3.11, 2.0, 2.0, 4.0, 3.55, 3.68, 5.65, 3.5, 6.5, 3.0, 3.5, 2.0, 3.5, 4.0, 1.5, 4.19, 2.56, 2.02, 4.0, 2.0, 5.0, 2.0, 2.0, 4.0, 2.01, 2.0, 2.5, 4.0, 3.23, 3.41, 3.0, 2.03, 2.23, 2.0, 5.16, 2.5, 6.5, 1.1, 3.0, 1.5, 1.44, 3.09, 2.2, 3.48, 1.92, 1.58, 2.5, 2.0, 2.88, 2.0, 3.0, 3.0, 1.0, 1.17, 2.0, 2.0], \"xaxis\": \"x\", \"y\": [38.01, 11.24, 20.29, 13.81, 11.02, 18.29, 3.07, 15.01, 26.86, 25.28, 17.92, 19.44, 32.68, 28.97, 5.75, 16.32, 40.17, 27.28, 12.03, 21.01, 11.35, 15.38, 44.3, 22.42, 15.36, 20.49, 25.21, 14.31, 16.0, 17.51, 10.59, 10.63, 50.81, 15.81, 7.25, 31.85, 16.82, 32.9, 17.89, 14.48, 9.6, 34.63, 34.65, 23.33, 45.35, 23.17, 40.55, 20.9, 30.46, 18.15, 23.1, 15.69, 19.81, 28.44, 15.48, 16.58, 10.34, 43.11, 13.0, 13.51, 18.71, 12.74, 13.0, 16.4, 20.53, 16.47, 26.59, 38.73, 24.27, 12.76, 30.06, 25.89, 13.27, 28.17, 12.9, 28.15, 11.59, 7.74, 30.14, 12.16, 13.42, 8.58, 13.42, 16.27, 10.09, 22.12, 24.01, 15.69, 15.53, 12.6, 32.83, 27.18, 22.67], \"yaxis\": \"y\"}, {\"alignmentgroup\": \"True\", \"hoverlabel\": {\"namelength\": 0}, \"hovertemplate\": \"smoker=Yes<br>tip=%{x}\", \"legendgroup\": \"Yes\", \"marker\": {\"color\": \"#FF7F0E\", \"symbol\": \"circle\"}, \"name\": \"Yes\", \"notched\": true, \"offsetgroup\": \"Yes\", \"showlegend\": false, \"type\": \"box\", \"x\": [3.0, 1.76, 3.21, 2.0, 1.98, 3.76, 1.0, 2.09, 3.14, 5.0, 3.08, 3.0, 5.0, 3.0, 1.0, 4.3, 4.73, 4.0, 1.5, 3.0, 2.5, 3.0, 2.5, 3.48, 1.64, 4.06, 4.29, 4.0, 2.0, 3.0, 1.61, 2.0, 10.0, 3.16, 5.15, 3.18, 4.0, 3.11, 2.0, 2.0, 4.0, 3.55, 3.68, 5.65, 3.5, 6.5, 3.0, 3.5, 2.0, 3.5, 4.0, 1.5, 4.19, 2.56, 2.02, 4.0, 2.0, 5.0, 2.0, 2.0, 4.0, 2.01, 2.0, 2.5, 4.0, 3.23, 3.41, 3.0, 2.03, 2.23, 2.0, 5.16, 2.5, 6.5, 1.1, 3.0, 1.5, 1.44, 3.09, 2.2, 3.48, 1.92, 1.58, 2.5, 2.0, 2.88, 2.0, 3.0, 3.0, 1.0, 1.17, 2.0, 2.0], \"xaxis\": \"x3\", \"yaxis\": \"y3\"}, {\"alignmentgroup\": \"True\", \"hoverlabel\": {\"namelength\": 0}, \"hovertemplate\": \"smoker=Yes<br>total_bill=%{y}\", \"legendgroup\": \"Yes\", \"marker\": {\"color\": \"#FF7F0E\", \"symbol\": \"circle\"}, \"name\": \"Yes\", \"offsetgroup\": \"Yes\", \"scalegroup\": \"y\", \"showlegend\": false, \"type\": \"violin\", \"xaxis\": \"x2\", \"y\": [38.01, 11.24, 20.29, 13.81, 11.02, 18.29, 3.07, 15.01, 26.86, 25.28, 17.92, 19.44, 32.68, 28.97, 5.75, 16.32, 40.17, 27.28, 12.03, 21.01, 11.35, 15.38, 44.3, 22.42, 15.36, 20.49, 25.21, 14.31, 16.0, 17.51, 10.59, 10.63, 50.81, 15.81, 7.25, 31.85, 16.82, 32.9, 17.89, 14.48, 9.6, 34.63, 34.65, 23.33, 45.35, 23.17, 40.55, 20.9, 30.46, 18.15, 23.1, 15.69, 19.81, 28.44, 15.48, 16.58, 10.34, 43.11, 13.0, 13.51, 18.71, 12.74, 13.0, 16.4, 20.53, 16.47, 26.59, 38.73, 24.27, 12.76, 30.06, 25.89, 13.27, 28.17, 12.9, 28.15, 11.59, 7.74, 30.14, 12.16, 13.42, 8.58, 13.42, 16.27, 10.09, 22.12, 24.01, 15.69, 15.53, 12.6, 32.83, 27.18, 22.67], \"yaxis\": \"y2\"}, {\"hoverlabel\": {\"namelength\": 0}, \"hovertemplate\": \"<b>OLS trendline</b><br>total_bill = 3.42515 * tip + 10.4511<br>R<sup>2</sup>=0.238357<br><br>smoker=Yes<br>tip=%{x}<br>total_bill=%{y} <b>(trend)</b>\", \"legendgroup\": \"Yes\", \"marker\": {\"color\": \"#FF7F0E\", \"symbol\": \"circle\"}, \"mode\": \"lines\", \"name\": \"Yes\", \"showlegend\": false, \"type\": \"scatter\", \"x\": [1.0, 1.0, 1.0, 1.1, 1.17, 1.44, 1.5, 1.5, 1.5, 1.58, 1.61, 1.64, 1.76, 1.92, 1.98, 2.0, 2.0, 2.0, 2.0, 2.0, 2.0, 2.0, 2.0, 2.0, 2.0, 2.0, 2.0, 2.0, 2.0, 2.0, 2.01, 2.02, 2.03, 2.09, 2.2, 2.23, 2.5, 2.5, 2.5, 2.5, 2.5, 2.56, 2.88, 3.0, 3.0, 3.0, 3.0, 3.0, 3.0, 3.0, 3.0, 3.0, 3.0, 3.0, 3.08, 3.09, 3.11, 3.14, 3.16, 3.18, 3.21, 3.23, 3.41, 3.48, 3.48, 3.5, 3.5, 3.5, 3.55, 3.68, 3.76, 4.0, 4.0, 4.0, 4.0, 4.0, 4.0, 4.0, 4.0, 4.06, 4.19, 4.29, 4.3, 4.73, 5.0, 5.0, 5.0, 5.15, 5.16, 5.65, 6.5, 6.5, 10.0], \"xaxis\": \"x\", \"y\": [13.87621583753888, 13.87621583753888, 13.87621583753888, 14.218730653185196, 14.458491024137617, 15.383281026382672, 15.588789915770462, 15.588789915770462, 15.588789915770462, 15.862801768287515, 15.965556212981411, 16.068310657675305, 16.479328436450885, 17.02735214148499, 17.232861030872783, 17.301363994002045, 17.301363994002045, 17.301363994002045, 17.301363994002045, 17.301363994002045, 17.301363994002045, 17.301363994002045, 17.301363994002045, 17.301363994002045, 17.301363994002045, 17.301363994002045, 17.301363994002045, 17.301363994002045, 17.301363994002045, 17.301363994002045, 17.335615475566676, 17.369866957131308, 17.40411843869594, 17.60962732808373, 17.986393625294678, 18.089148069988575, 19.01393807223363, 19.01393807223363, 19.01393807223363, 19.01393807223363, 19.01393807223363, 19.219446961621415, 20.31549437168963, 20.72651215046521, 20.72651215046521, 20.72651215046521, 20.72651215046521, 20.72651215046521, 20.72651215046521, 20.72651215046521, 20.72651215046521, 20.72651215046521, 20.72651215046521, 20.72651215046521, 21.000524002982264, 21.034775484546895, 21.10327844767616, 21.206032892370054, 21.274535855499316, 21.343038818628578, 21.445793263322475, 21.51429622645174, 22.130822894615108, 22.37058326556753, 22.37058326556753, 22.439086228696794, 22.439086228696794, 22.439086228696794, 22.61034363651995, 23.05561289686016, 23.329624749377217, 24.151660306928378, 24.151660306928378, 24.151660306928378, 24.151660306928378, 24.151660306928378, 24.151660306928378, 24.151660306928378, 24.151660306928378, 24.357169196316164, 24.80243845665638, 25.144953272302693, 25.179204753867324, 26.652018461146486, 27.57680846339154, 27.57680846339154, 27.57680846339154, 28.090580686861017, 28.124832168425648, 29.8031547650926, 32.71453069808629, 32.71453069808629, 44.70254924570737], \"yaxis\": \"y\"}],\n",
              "                        {\"legend\": {\"title\": {\"text\": \"smoker\"}, \"tracegroupgap\": 0}, \"margin\": {\"t\": 60}, \"template\": {\"data\": {\"bar\": [{\"error_x\": {\"color\": \"rgb(36,36,36)\"}, \"error_y\": {\"color\": \"rgb(36,36,36)\"}, \"marker\": {\"line\": {\"color\": \"white\", \"width\": 0.5}}, \"type\": \"bar\"}], \"barpolar\": [{\"marker\": {\"line\": {\"color\": \"white\", \"width\": 0.5}}, \"type\": \"barpolar\"}], \"carpet\": [{\"aaxis\": {\"endlinecolor\": \"rgb(36,36,36)\", \"gridcolor\": \"white\", \"linecolor\": \"white\", \"minorgridcolor\": \"white\", \"startlinecolor\": \"rgb(36,36,36)\"}, \"baxis\": {\"endlinecolor\": \"rgb(36,36,36)\", \"gridcolor\": \"white\", \"linecolor\": \"white\", \"minorgridcolor\": \"white\", \"startlinecolor\": \"rgb(36,36,36)\"}, \"type\": \"carpet\"}], \"choropleth\": [{\"colorbar\": {\"outlinewidth\": 1, \"tickcolor\": \"rgb(36,36,36)\", \"ticks\": \"outside\"}, \"type\": \"choropleth\"}], \"contour\": [{\"colorbar\": {\"outlinewidth\": 1, \"tickcolor\": \"rgb(36,36,36)\", \"ticks\": \"outside\"}, \"colorscale\": [[0.0, \"#440154\"], [0.1111111111111111, \"#482878\"], [0.2222222222222222, \"#3e4989\"], [0.3333333333333333, \"#31688e\"], [0.4444444444444444, \"#26828e\"], [0.5555555555555556, \"#1f9e89\"], [0.6666666666666666, \"#35b779\"], [0.7777777777777778, \"#6ece58\"], [0.8888888888888888, \"#b5de2b\"], [1.0, \"#fde725\"]], \"type\": \"contour\"}], \"contourcarpet\": [{\"colorbar\": {\"outlinewidth\": 1, \"tickcolor\": \"rgb(36,36,36)\", \"ticks\": \"outside\"}, \"type\": \"contourcarpet\"}], \"heatmap\": [{\"colorbar\": {\"outlinewidth\": 1, \"tickcolor\": \"rgb(36,36,36)\", \"ticks\": \"outside\"}, \"colorscale\": [[0.0, \"#440154\"], [0.1111111111111111, \"#482878\"], [0.2222222222222222, \"#3e4989\"], [0.3333333333333333, \"#31688e\"], [0.4444444444444444, \"#26828e\"], [0.5555555555555556, \"#1f9e89\"], [0.6666666666666666, \"#35b779\"], [0.7777777777777778, \"#6ece58\"], [0.8888888888888888, \"#b5de2b\"], [1.0, \"#fde725\"]], \"type\": \"heatmap\"}], \"heatmapgl\": [{\"colorbar\": {\"outlinewidth\": 1, \"tickcolor\": \"rgb(36,36,36)\", \"ticks\": \"outside\"}, \"colorscale\": [[0.0, \"#440154\"], [0.1111111111111111, \"#482878\"], [0.2222222222222222, \"#3e4989\"], [0.3333333333333333, \"#31688e\"], [0.4444444444444444, \"#26828e\"], [0.5555555555555556, \"#1f9e89\"], [0.6666666666666666, \"#35b779\"], [0.7777777777777778, \"#6ece58\"], [0.8888888888888888, \"#b5de2b\"], [1.0, \"#fde725\"]], \"type\": \"heatmapgl\"}], \"histogram\": [{\"marker\": {\"line\": {\"color\": \"white\", \"width\": 0.6}}, \"type\": \"histogram\"}], \"histogram2d\": [{\"colorbar\": {\"outlinewidth\": 1, \"tickcolor\": \"rgb(36,36,36)\", \"ticks\": \"outside\"}, \"colorscale\": [[0.0, \"#440154\"], [0.1111111111111111, \"#482878\"], [0.2222222222222222, \"#3e4989\"], [0.3333333333333333, \"#31688e\"], [0.4444444444444444, \"#26828e\"], [0.5555555555555556, \"#1f9e89\"], [0.6666666666666666, \"#35b779\"], [0.7777777777777778, \"#6ece58\"], [0.8888888888888888, \"#b5de2b\"], [1.0, \"#fde725\"]], \"type\": \"histogram2d\"}], \"histogram2dcontour\": [{\"colorbar\": {\"outlinewidth\": 1, \"tickcolor\": \"rgb(36,36,36)\", \"ticks\": \"outside\"}, \"colorscale\": [[0.0, \"#440154\"], [0.1111111111111111, \"#482878\"], [0.2222222222222222, \"#3e4989\"], [0.3333333333333333, \"#31688e\"], [0.4444444444444444, \"#26828e\"], [0.5555555555555556, \"#1f9e89\"], [0.6666666666666666, \"#35b779\"], [0.7777777777777778, \"#6ece58\"], [0.8888888888888888, \"#b5de2b\"], [1.0, \"#fde725\"]], \"type\": \"histogram2dcontour\"}], \"mesh3d\": [{\"colorbar\": {\"outlinewidth\": 1, \"tickcolor\": \"rgb(36,36,36)\", \"ticks\": \"outside\"}, \"type\": \"mesh3d\"}], \"parcoords\": [{\"line\": {\"colorbar\": {\"outlinewidth\": 1, \"tickcolor\": \"rgb(36,36,36)\", \"ticks\": \"outside\"}}, \"type\": \"parcoords\"}], \"pie\": [{\"automargin\": true, \"type\": \"pie\"}], \"scatter\": [{\"marker\": {\"colorbar\": {\"outlinewidth\": 1, \"tickcolor\": \"rgb(36,36,36)\", \"ticks\": \"outside\"}}, \"type\": \"scatter\"}], \"scatter3d\": [{\"line\": {\"colorbar\": {\"outlinewidth\": 1, \"tickcolor\": \"rgb(36,36,36)\", \"ticks\": \"outside\"}}, \"marker\": {\"colorbar\": {\"outlinewidth\": 1, \"tickcolor\": \"rgb(36,36,36)\", \"ticks\": \"outside\"}}, \"type\": \"scatter3d\"}], \"scattercarpet\": [{\"marker\": {\"colorbar\": {\"outlinewidth\": 1, \"tickcolor\": \"rgb(36,36,36)\", \"ticks\": \"outside\"}}, \"type\": \"scattercarpet\"}], \"scattergeo\": [{\"marker\": {\"colorbar\": {\"outlinewidth\": 1, \"tickcolor\": \"rgb(36,36,36)\", \"ticks\": \"outside\"}}, \"type\": \"scattergeo\"}], \"scattergl\": [{\"marker\": {\"colorbar\": {\"outlinewidth\": 1, \"tickcolor\": \"rgb(36,36,36)\", \"ticks\": \"outside\"}}, \"type\": \"scattergl\"}], \"scattermapbox\": [{\"marker\": {\"colorbar\": {\"outlinewidth\": 1, \"tickcolor\": \"rgb(36,36,36)\", \"ticks\": \"outside\"}}, \"type\": \"scattermapbox\"}], \"scatterpolar\": [{\"marker\": {\"colorbar\": {\"outlinewidth\": 1, \"tickcolor\": \"rgb(36,36,36)\", \"ticks\": \"outside\"}}, \"type\": \"scatterpolar\"}], \"scatterpolargl\": [{\"marker\": {\"colorbar\": {\"outlinewidth\": 1, \"tickcolor\": \"rgb(36,36,36)\", \"ticks\": \"outside\"}}, \"type\": \"scatterpolargl\"}], \"scatterternary\": [{\"marker\": {\"colorbar\": {\"outlinewidth\": 1, \"tickcolor\": \"rgb(36,36,36)\", \"ticks\": \"outside\"}}, \"type\": \"scatterternary\"}], \"surface\": [{\"colorbar\": {\"outlinewidth\": 1, \"tickcolor\": \"rgb(36,36,36)\", \"ticks\": \"outside\"}, \"colorscale\": [[0.0, \"#440154\"], [0.1111111111111111, \"#482878\"], [0.2222222222222222, \"#3e4989\"], [0.3333333333333333, \"#31688e\"], [0.4444444444444444, \"#26828e\"], [0.5555555555555556, \"#1f9e89\"], [0.6666666666666666, \"#35b779\"], [0.7777777777777778, \"#6ece58\"], [0.8888888888888888, \"#b5de2b\"], [1.0, \"#fde725\"]], \"type\": \"surface\"}], \"table\": [{\"cells\": {\"fill\": {\"color\": \"rgb(237,237,237)\"}, \"line\": {\"color\": \"white\"}}, \"header\": {\"fill\": {\"color\": \"rgb(217,217,217)\"}, \"line\": {\"color\": \"white\"}}, \"type\": \"table\"}]}, \"layout\": {\"annotationdefaults\": {\"arrowhead\": 0, \"arrowwidth\": 1}, \"coloraxis\": {\"colorbar\": {\"outlinewidth\": 1, \"tickcolor\": \"rgb(36,36,36)\", \"ticks\": \"outside\"}}, \"colorscale\": {\"diverging\": [[0.0, \"rgb(103,0,31)\"], [0.1, \"rgb(178,24,43)\"], [0.2, \"rgb(214,96,77)\"], [0.3, \"rgb(244,165,130)\"], [0.4, \"rgb(253,219,199)\"], [0.5, \"rgb(247,247,247)\"], [0.6, \"rgb(209,229,240)\"], [0.7, \"rgb(146,197,222)\"], [0.8, \"rgb(67,147,195)\"], [0.9, \"rgb(33,102,172)\"], [1.0, \"rgb(5,48,97)\"]], \"sequential\": [[0.0, \"#440154\"], [0.1111111111111111, \"#482878\"], [0.2222222222222222, \"#3e4989\"], [0.3333333333333333, \"#31688e\"], [0.4444444444444444, \"#26828e\"], [0.5555555555555556, \"#1f9e89\"], [0.6666666666666666, \"#35b779\"], [0.7777777777777778, \"#6ece58\"], [0.8888888888888888, \"#b5de2b\"], [1.0, \"#fde725\"]], \"sequentialminus\": [[0.0, \"#440154\"], [0.1111111111111111, \"#482878\"], [0.2222222222222222, \"#3e4989\"], [0.3333333333333333, \"#31688e\"], [0.4444444444444444, \"#26828e\"], [0.5555555555555556, \"#1f9e89\"], [0.6666666666666666, \"#35b779\"], [0.7777777777777778, \"#6ece58\"], [0.8888888888888888, \"#b5de2b\"], [1.0, \"#fde725\"]]}, \"colorway\": [\"#1F77B4\", \"#FF7F0E\", \"#2CA02C\", \"#D62728\", \"#9467BD\", \"#8C564B\", \"#E377C2\", \"#7F7F7F\", \"#BCBD22\", \"#17BECF\"], \"font\": {\"color\": \"rgb(36,36,36)\"}, \"geo\": {\"bgcolor\": \"white\", \"lakecolor\": \"white\", \"landcolor\": \"white\", \"showlakes\": true, \"showland\": true, \"subunitcolor\": \"white\"}, \"hoverlabel\": {\"align\": \"left\"}, \"hovermode\": \"closest\", \"mapbox\": {\"style\": \"light\"}, \"paper_bgcolor\": \"white\", \"plot_bgcolor\": \"white\", \"polar\": {\"angularaxis\": {\"gridcolor\": \"rgb(232,232,232)\", \"linecolor\": \"rgb(36,36,36)\", \"showgrid\": false, \"showline\": true, \"ticks\": \"outside\"}, \"bgcolor\": \"white\", \"radialaxis\": {\"gridcolor\": \"rgb(232,232,232)\", \"linecolor\": \"rgb(36,36,36)\", \"showgrid\": false, \"showline\": true, \"ticks\": \"outside\"}}, \"scene\": {\"xaxis\": {\"backgroundcolor\": \"white\", \"gridcolor\": \"rgb(232,232,232)\", \"gridwidth\": 2, \"linecolor\": \"rgb(36,36,36)\", \"showbackground\": true, \"showgrid\": false, \"showline\": true, \"ticks\": \"outside\", \"zeroline\": false, \"zerolinecolor\": \"rgb(36,36,36)\"}, \"yaxis\": {\"backgroundcolor\": \"white\", \"gridcolor\": \"rgb(232,232,232)\", \"gridwidth\": 2, \"linecolor\": \"rgb(36,36,36)\", \"showbackground\": true, \"showgrid\": false, \"showline\": true, \"ticks\": \"outside\", \"zeroline\": false, \"zerolinecolor\": \"rgb(36,36,36)\"}, \"zaxis\": {\"backgroundcolor\": \"white\", \"gridcolor\": \"rgb(232,232,232)\", \"gridwidth\": 2, \"linecolor\": \"rgb(36,36,36)\", \"showbackground\": true, \"showgrid\": false, \"showline\": true, \"ticks\": \"outside\", \"zeroline\": false, \"zerolinecolor\": \"rgb(36,36,36)\"}}, \"shapedefaults\": {\"fillcolor\": \"black\", \"line\": {\"width\": 0}, \"opacity\": 0.3}, \"ternary\": {\"aaxis\": {\"gridcolor\": \"rgb(232,232,232)\", \"linecolor\": \"rgb(36,36,36)\", \"showgrid\": false, \"showline\": true, \"ticks\": \"outside\"}, \"baxis\": {\"gridcolor\": \"rgb(232,232,232)\", \"linecolor\": \"rgb(36,36,36)\", \"showgrid\": false, \"showline\": true, \"ticks\": \"outside\"}, \"bgcolor\": \"white\", \"caxis\": {\"gridcolor\": \"rgb(232,232,232)\", \"linecolor\": \"rgb(36,36,36)\", \"showgrid\": false, \"showline\": true, \"ticks\": \"outside\"}}, \"title\": {\"x\": 0.05}, \"xaxis\": {\"automargin\": true, \"gridcolor\": \"rgb(232,232,232)\", \"linecolor\": \"rgb(36,36,36)\", \"showgrid\": false, \"showline\": true, \"ticks\": \"outside\", \"title\": {\"standoff\": 15}, \"zeroline\": false, \"zerolinecolor\": \"rgb(36,36,36)\"}, \"yaxis\": {\"automargin\": true, \"gridcolor\": \"rgb(232,232,232)\", \"linecolor\": \"rgb(36,36,36)\", \"showgrid\": false, \"showline\": true, \"ticks\": \"outside\", \"title\": {\"standoff\": 15}, \"zeroline\": false, \"zerolinecolor\": \"rgb(36,36,36)\"}}}, \"xaxis\": {\"anchor\": \"y\", \"domain\": [0.0, 0.7363], \"title\": {\"text\": \"tip\"}}, \"xaxis2\": {\"anchor\": \"y2\", \"domain\": [0.7413, 1.0], \"matches\": \"x2\", \"showline\": false, \"showticklabels\": false, \"ticks\": \"\"}, \"xaxis3\": {\"anchor\": \"y3\", \"domain\": [0.0, 0.7363], \"matches\": \"x\", \"showticklabels\": false}, \"xaxis4\": {\"anchor\": \"y4\", \"domain\": [0.7413, 1.0], \"matches\": \"x2\", \"showline\": false, \"showticklabels\": false, \"ticks\": \"\"}, \"yaxis\": {\"anchor\": \"x\", \"domain\": [0.0, 0.7326], \"title\": {\"text\": \"total_bill\"}}, \"yaxis2\": {\"anchor\": \"x2\", \"domain\": [0.0, 0.7326], \"matches\": \"y\", \"showticklabels\": false}, \"yaxis3\": {\"anchor\": \"x3\", \"domain\": [0.7426, 1.0], \"matches\": \"y3\", \"showline\": false, \"showticklabels\": false, \"ticks\": \"\"}, \"yaxis4\": {\"anchor\": \"x4\", \"domain\": [0.7426, 1.0], \"matches\": \"y3\", \"showline\": false, \"showticklabels\": false, \"ticks\": \"\"}},\n",
              "                        {\"responsive\": true}\n",
              "                    ).then(function(){\n",
              "                            \n",
              "var gd = document.getElementById('78919276-f546-417e-a306-c6d2cd11240b');\n",
              "var x = new MutationObserver(function (mutations, observer) {{\n",
              "        var display = window.getComputedStyle(gd).display;\n",
              "        if (!display || display === 'none') {{\n",
              "            console.log([gd, 'removed!']);\n",
              "            Plotly.purge(gd);\n",
              "            observer.disconnect();\n",
              "        }}\n",
              "}});\n",
              "\n",
              "// Listen for the removal of the full notebook cells\n",
              "var notebookContainer = gd.closest('#notebook-container');\n",
              "if (notebookContainer) {{\n",
              "    x.observe(notebookContainer, {childList: true});\n",
              "}}\n",
              "\n",
              "// Listen for the clearing of the current output cell\n",
              "var outputEl = gd.closest('.output');\n",
              "if (outputEl) {{\n",
              "    x.observe(outputEl, {childList: true});\n",
              "}}\n",
              "\n",
              "                        })\n",
              "                };\n",
              "                });\n",
              "            </script>\n",
              "        </div>"
            ]
          },
          "metadata": {
            "tags": []
          }
        }
      ]
    },
    {
      "cell_type": "code",
      "metadata": {
        "id": "ZFP2FPbjEUjU",
        "outputId": "49b24057-1a0f-420b-ef8f-164e63a435a2"
      },
      "source": [
        "fig = px.scatter(plotly_df_tips, x=\"total_bill\", y=\"tip\", hover_name=\"time\")\n",
        "fig.show()\n"
      ],
      "execution_count": null,
      "outputs": [
        {
          "output_type": "display_data",
          "data": {
            "application/vnd.plotly.v1+json": {
              "config": {
                "plotlyServerURL": "https://plot.ly"
              },
              "data": [
                {
                  "hoverlabel": {
                    "namelength": 0
                  },
                  "hovertemplate": "<b>%{hovertext}</b><br><br>total_bill=%{x}<br>tip=%{y}",
                  "hovertext": [
                    "Dinner",
                    "Dinner",
                    "Dinner",
                    "Dinner",
                    "Dinner",
                    "Dinner",
                    "Dinner",
                    "Dinner",
                    "Dinner",
                    "Dinner",
                    "Dinner",
                    "Dinner",
                    "Dinner",
                    "Dinner",
                    "Dinner",
                    "Dinner",
                    "Dinner",
                    "Dinner",
                    "Dinner",
                    "Dinner",
                    "Dinner",
                    "Dinner",
                    "Dinner",
                    "Dinner",
                    "Dinner",
                    "Dinner",
                    "Dinner",
                    "Dinner",
                    "Dinner",
                    "Dinner",
                    "Dinner",
                    "Dinner",
                    "Dinner",
                    "Dinner",
                    "Dinner",
                    "Dinner",
                    "Dinner",
                    "Dinner",
                    "Dinner",
                    "Dinner",
                    "Dinner",
                    "Dinner",
                    "Dinner",
                    "Dinner",
                    "Dinner",
                    "Dinner",
                    "Dinner",
                    "Dinner",
                    "Dinner",
                    "Dinner",
                    "Dinner",
                    "Dinner",
                    "Dinner",
                    "Dinner",
                    "Dinner",
                    "Dinner",
                    "Dinner",
                    "Dinner",
                    "Dinner",
                    "Dinner",
                    "Dinner",
                    "Dinner",
                    "Dinner",
                    "Dinner",
                    "Dinner",
                    "Dinner",
                    "Dinner",
                    "Dinner",
                    "Dinner",
                    "Dinner",
                    "Dinner",
                    "Dinner",
                    "Dinner",
                    "Dinner",
                    "Dinner",
                    "Dinner",
                    "Dinner",
                    "Lunch",
                    "Lunch",
                    "Lunch",
                    "Lunch",
                    "Lunch",
                    "Lunch",
                    "Lunch",
                    "Lunch",
                    "Lunch",
                    "Lunch",
                    "Lunch",
                    "Lunch",
                    "Lunch",
                    "Dinner",
                    "Dinner",
                    "Dinner",
                    "Dinner",
                    "Dinner",
                    "Dinner",
                    "Dinner",
                    "Dinner",
                    "Dinner",
                    "Dinner",
                    "Dinner",
                    "Dinner",
                    "Dinner",
                    "Dinner",
                    "Dinner",
                    "Dinner",
                    "Dinner",
                    "Dinner",
                    "Dinner",
                    "Dinner",
                    "Dinner",
                    "Dinner",
                    "Dinner",
                    "Dinner",
                    "Dinner",
                    "Dinner",
                    "Dinner",
                    "Lunch",
                    "Lunch",
                    "Lunch",
                    "Lunch",
                    "Lunch",
                    "Lunch",
                    "Lunch",
                    "Lunch",
                    "Lunch",
                    "Lunch",
                    "Lunch",
                    "Lunch",
                    "Lunch",
                    "Lunch",
                    "Lunch",
                    "Lunch",
                    "Lunch",
                    "Lunch",
                    "Lunch",
                    "Lunch",
                    "Lunch",
                    "Lunch",
                    "Lunch",
                    "Lunch",
                    "Lunch",
                    "Lunch",
                    "Lunch",
                    "Lunch",
                    "Lunch",
                    "Lunch",
                    "Lunch",
                    "Lunch",
                    "Lunch",
                    "Dinner",
                    "Dinner",
                    "Dinner",
                    "Dinner",
                    "Dinner",
                    "Dinner",
                    "Dinner",
                    "Dinner",
                    "Dinner",
                    "Dinner",
                    "Dinner",
                    "Dinner",
                    "Dinner",
                    "Dinner",
                    "Dinner",
                    "Dinner",
                    "Dinner",
                    "Dinner",
                    "Dinner",
                    "Dinner",
                    "Dinner",
                    "Dinner",
                    "Dinner",
                    "Dinner",
                    "Dinner",
                    "Dinner",
                    "Dinner",
                    "Dinner",
                    "Dinner",
                    "Dinner",
                    "Dinner",
                    "Dinner",
                    "Dinner",
                    "Dinner",
                    "Dinner",
                    "Dinner",
                    "Dinner",
                    "Dinner",
                    "Dinner",
                    "Dinner",
                    "Dinner",
                    "Lunch",
                    "Lunch",
                    "Lunch",
                    "Lunch",
                    "Lunch",
                    "Lunch",
                    "Lunch",
                    "Lunch",
                    "Lunch",
                    "Lunch",
                    "Lunch",
                    "Lunch",
                    "Lunch",
                    "Lunch",
                    "Lunch",
                    "Dinner",
                    "Dinner",
                    "Dinner",
                    "Dinner",
                    "Dinner",
                    "Dinner",
                    "Dinner",
                    "Dinner",
                    "Dinner",
                    "Dinner",
                    "Dinner",
                    "Dinner",
                    "Dinner",
                    "Dinner",
                    "Lunch",
                    "Lunch",
                    "Lunch",
                    "Lunch",
                    "Lunch",
                    "Lunch",
                    "Lunch",
                    "Dinner",
                    "Dinner",
                    "Dinner",
                    "Dinner",
                    "Dinner",
                    "Dinner",
                    "Dinner",
                    "Dinner",
                    "Dinner",
                    "Dinner",
                    "Dinner",
                    "Dinner",
                    "Dinner",
                    "Dinner",
                    "Dinner",
                    "Dinner",
                    "Dinner"
                  ],
                  "legendgroup": "",
                  "marker": {
                    "color": "#636efa",
                    "symbol": "circle"
                  },
                  "mode": "markers",
                  "name": "",
                  "showlegend": false,
                  "type": "scatter",
                  "x": [
                    16.99,
                    10.34,
                    21.01,
                    23.68,
                    24.59,
                    25.29,
                    8.77,
                    26.88,
                    15.04,
                    14.78,
                    10.27,
                    35.26,
                    15.42,
                    18.43,
                    14.83,
                    21.58,
                    10.33,
                    16.29,
                    16.97,
                    20.65,
                    17.92,
                    20.29,
                    15.77,
                    39.42,
                    19.82,
                    17.81,
                    13.37,
                    12.69,
                    21.7,
                    19.65,
                    9.55,
                    18.35,
                    15.06,
                    20.69,
                    17.78,
                    24.06,
                    16.31,
                    16.93,
                    18.69,
                    31.27,
                    16.04,
                    17.46,
                    13.94,
                    9.68,
                    30.4,
                    18.29,
                    22.23,
                    32.4,
                    28.55,
                    18.04,
                    12.54,
                    10.29,
                    34.81,
                    9.94,
                    25.56,
                    19.49,
                    38.01,
                    26.41,
                    11.24,
                    48.27,
                    20.29,
                    13.81,
                    11.02,
                    18.29,
                    17.59,
                    20.08,
                    16.45,
                    3.07,
                    20.23,
                    15.01,
                    12.02,
                    17.07,
                    26.86,
                    25.28,
                    14.73,
                    10.51,
                    17.92,
                    27.2,
                    22.76,
                    17.29,
                    19.44,
                    16.66,
                    10.07,
                    32.68,
                    15.98,
                    34.83,
                    13.03,
                    18.28,
                    24.71,
                    21.16,
                    28.97,
                    22.49,
                    5.75,
                    16.32,
                    22.75,
                    40.17,
                    27.28,
                    12.03,
                    21.01,
                    12.46,
                    11.35,
                    15.38,
                    44.3,
                    22.42,
                    20.92,
                    15.36,
                    20.49,
                    25.21,
                    18.24,
                    14.31,
                    14,
                    7.25,
                    38.07,
                    23.95,
                    25.71,
                    17.31,
                    29.93,
                    10.65,
                    12.43,
                    24.08,
                    11.69,
                    13.42,
                    14.26,
                    15.95,
                    12.48,
                    29.8,
                    8.52,
                    14.52,
                    11.38,
                    22.82,
                    19.08,
                    20.27,
                    11.17,
                    12.26,
                    18.26,
                    8.51,
                    10.33,
                    14.15,
                    16,
                    13.16,
                    17.47,
                    34.3,
                    41.19,
                    27.05,
                    16.43,
                    8.35,
                    18.64,
                    11.87,
                    9.78,
                    7.51,
                    14.07,
                    13.13,
                    17.26,
                    24.55,
                    19.77,
                    29.85,
                    48.17,
                    25,
                    13.39,
                    16.49,
                    21.5,
                    12.66,
                    16.21,
                    13.81,
                    17.51,
                    24.52,
                    20.76,
                    31.71,
                    10.59,
                    10.63,
                    50.81,
                    15.81,
                    7.25,
                    31.85,
                    16.82,
                    32.9,
                    17.89,
                    14.48,
                    9.6,
                    34.63,
                    34.65,
                    23.33,
                    45.35,
                    23.17,
                    40.55,
                    20.69,
                    20.9,
                    30.46,
                    18.15,
                    23.1,
                    15.69,
                    19.81,
                    28.44,
                    15.48,
                    16.58,
                    7.56,
                    10.34,
                    43.11,
                    13,
                    13.51,
                    18.71,
                    12.74,
                    13,
                    16.4,
                    20.53,
                    16.47,
                    26.59,
                    38.73,
                    24.27,
                    12.76,
                    30.06,
                    25.89,
                    48.33,
                    13.27,
                    28.17,
                    12.9,
                    28.15,
                    11.59,
                    7.74,
                    30.14,
                    12.16,
                    13.42,
                    8.58,
                    15.98,
                    13.42,
                    16.27,
                    10.09,
                    20.45,
                    13.28,
                    22.12,
                    24.01,
                    15.69,
                    11.61,
                    10.77,
                    15.53,
                    10.07,
                    12.6,
                    32.83,
                    35.83,
                    29.03,
                    27.18,
                    22.67,
                    17.82,
                    18.78
                  ],
                  "xaxis": "x",
                  "y": [
                    1.01,
                    1.66,
                    3.5,
                    3.31,
                    3.61,
                    4.71,
                    2,
                    3.12,
                    1.96,
                    3.23,
                    1.71,
                    5,
                    1.57,
                    3,
                    3.02,
                    3.92,
                    1.67,
                    3.71,
                    3.5,
                    3.35,
                    4.08,
                    2.75,
                    2.23,
                    7.58,
                    3.18,
                    2.34,
                    2,
                    2,
                    4.3,
                    3,
                    1.45,
                    2.5,
                    3,
                    2.45,
                    3.27,
                    3.6,
                    2,
                    3.07,
                    2.31,
                    5,
                    2.24,
                    2.54,
                    3.06,
                    1.32,
                    5.6,
                    3,
                    5,
                    6,
                    2.05,
                    3,
                    2.5,
                    2.6,
                    5.2,
                    1.56,
                    4.34,
                    3.51,
                    3,
                    1.5,
                    1.76,
                    6.73,
                    3.21,
                    2,
                    1.98,
                    3.76,
                    2.64,
                    3.15,
                    2.47,
                    1,
                    2.01,
                    2.09,
                    1.97,
                    3,
                    3.14,
                    5,
                    2.2,
                    1.25,
                    3.08,
                    4,
                    3,
                    2.71,
                    3,
                    3.4,
                    1.83,
                    5,
                    2.03,
                    5.17,
                    2,
                    4,
                    5.85,
                    3,
                    3,
                    3.5,
                    1,
                    4.3,
                    3.25,
                    4.73,
                    4,
                    1.5,
                    3,
                    1.5,
                    2.5,
                    3,
                    2.5,
                    3.48,
                    4.08,
                    1.64,
                    4.06,
                    4.29,
                    3.76,
                    4,
                    3,
                    1,
                    4,
                    2.55,
                    4,
                    3.5,
                    5.07,
                    1.5,
                    1.8,
                    2.92,
                    2.31,
                    1.68,
                    2.5,
                    2,
                    2.52,
                    4.2,
                    1.48,
                    2,
                    2,
                    2.18,
                    1.5,
                    2.83,
                    1.5,
                    2,
                    3.25,
                    1.25,
                    2,
                    2,
                    2,
                    2.75,
                    3.5,
                    6.7,
                    5,
                    5,
                    2.3,
                    1.5,
                    1.36,
                    1.63,
                    1.73,
                    2,
                    2.5,
                    2,
                    2.74,
                    2,
                    2,
                    5.14,
                    5,
                    3.75,
                    2.61,
                    2,
                    3.5,
                    2.5,
                    2,
                    2,
                    3,
                    3.48,
                    2.24,
                    4.5,
                    1.61,
                    2,
                    10,
                    3.16,
                    5.15,
                    3.18,
                    4,
                    3.11,
                    2,
                    2,
                    4,
                    3.55,
                    3.68,
                    5.65,
                    3.5,
                    6.5,
                    3,
                    5,
                    3.5,
                    2,
                    3.5,
                    4,
                    1.5,
                    4.19,
                    2.56,
                    2.02,
                    4,
                    1.44,
                    2,
                    5,
                    2,
                    2,
                    4,
                    2.01,
                    2,
                    2.5,
                    4,
                    3.23,
                    3.41,
                    3,
                    2.03,
                    2.23,
                    2,
                    5.16,
                    9,
                    2.5,
                    6.5,
                    1.1,
                    3,
                    1.5,
                    1.44,
                    3.09,
                    2.2,
                    3.48,
                    1.92,
                    3,
                    1.58,
                    2.5,
                    2,
                    3,
                    2.72,
                    2.88,
                    2,
                    3,
                    3.39,
                    1.47,
                    3,
                    1.25,
                    1,
                    1.17,
                    4.67,
                    5.92,
                    2,
                    2,
                    1.75,
                    3
                  ],
                  "yaxis": "y"
                }
              ],
              "layout": {
                "legend": {
                  "tracegroupgap": 0
                },
                "margin": {
                  "t": 60
                },
                "template": {
                  "data": {
                    "bar": [
                      {
                        "error_x": {
                          "color": "#f2f5fa"
                        },
                        "error_y": {
                          "color": "#f2f5fa"
                        },
                        "marker": {
                          "line": {
                            "color": "rgb(17,17,17)",
                            "width": 0.5
                          }
                        },
                        "type": "bar"
                      }
                    ],
                    "barpolar": [
                      {
                        "marker": {
                          "line": {
                            "color": "rgb(17,17,17)",
                            "width": 0.5
                          }
                        },
                        "type": "barpolar"
                      }
                    ],
                    "carpet": [
                      {
                        "aaxis": {
                          "endlinecolor": "#A2B1C6",
                          "gridcolor": "#506784",
                          "linecolor": "#506784",
                          "minorgridcolor": "#506784",
                          "startlinecolor": "#A2B1C6"
                        },
                        "baxis": {
                          "endlinecolor": "#A2B1C6",
                          "gridcolor": "#506784",
                          "linecolor": "#506784",
                          "minorgridcolor": "#506784",
                          "startlinecolor": "#A2B1C6"
                        },
                        "type": "carpet"
                      }
                    ],
                    "choropleth": [
                      {
                        "colorbar": {
                          "outlinewidth": 0,
                          "ticks": ""
                        },
                        "type": "choropleth"
                      }
                    ],
                    "contour": [
                      {
                        "colorbar": {
                          "outlinewidth": 0,
                          "ticks": ""
                        },
                        "colorscale": [
                          [
                            0,
                            "#0d0887"
                          ],
                          [
                            0.1111111111111111,
                            "#46039f"
                          ],
                          [
                            0.2222222222222222,
                            "#7201a8"
                          ],
                          [
                            0.3333333333333333,
                            "#9c179e"
                          ],
                          [
                            0.4444444444444444,
                            "#bd3786"
                          ],
                          [
                            0.5555555555555556,
                            "#d8576b"
                          ],
                          [
                            0.6666666666666666,
                            "#ed7953"
                          ],
                          [
                            0.7777777777777778,
                            "#fb9f3a"
                          ],
                          [
                            0.8888888888888888,
                            "#fdca26"
                          ],
                          [
                            1,
                            "#f0f921"
                          ]
                        ],
                        "type": "contour"
                      }
                    ],
                    "contourcarpet": [
                      {
                        "colorbar": {
                          "outlinewidth": 0,
                          "ticks": ""
                        },
                        "type": "contourcarpet"
                      }
                    ],
                    "heatmap": [
                      {
                        "colorbar": {
                          "outlinewidth": 0,
                          "ticks": ""
                        },
                        "colorscale": [
                          [
                            0,
                            "#0d0887"
                          ],
                          [
                            0.1111111111111111,
                            "#46039f"
                          ],
                          [
                            0.2222222222222222,
                            "#7201a8"
                          ],
                          [
                            0.3333333333333333,
                            "#9c179e"
                          ],
                          [
                            0.4444444444444444,
                            "#bd3786"
                          ],
                          [
                            0.5555555555555556,
                            "#d8576b"
                          ],
                          [
                            0.6666666666666666,
                            "#ed7953"
                          ],
                          [
                            0.7777777777777778,
                            "#fb9f3a"
                          ],
                          [
                            0.8888888888888888,
                            "#fdca26"
                          ],
                          [
                            1,
                            "#f0f921"
                          ]
                        ],
                        "type": "heatmap"
                      }
                    ],
                    "heatmapgl": [
                      {
                        "colorbar": {
                          "outlinewidth": 0,
                          "ticks": ""
                        },
                        "colorscale": [
                          [
                            0,
                            "#0d0887"
                          ],
                          [
                            0.1111111111111111,
                            "#46039f"
                          ],
                          [
                            0.2222222222222222,
                            "#7201a8"
                          ],
                          [
                            0.3333333333333333,
                            "#9c179e"
                          ],
                          [
                            0.4444444444444444,
                            "#bd3786"
                          ],
                          [
                            0.5555555555555556,
                            "#d8576b"
                          ],
                          [
                            0.6666666666666666,
                            "#ed7953"
                          ],
                          [
                            0.7777777777777778,
                            "#fb9f3a"
                          ],
                          [
                            0.8888888888888888,
                            "#fdca26"
                          ],
                          [
                            1,
                            "#f0f921"
                          ]
                        ],
                        "type": "heatmapgl"
                      }
                    ],
                    "histogram": [
                      {
                        "marker": {
                          "colorbar": {
                            "outlinewidth": 0,
                            "ticks": ""
                          }
                        },
                        "type": "histogram"
                      }
                    ],
                    "histogram2d": [
                      {
                        "colorbar": {
                          "outlinewidth": 0,
                          "ticks": ""
                        },
                        "colorscale": [
                          [
                            0,
                            "#0d0887"
                          ],
                          [
                            0.1111111111111111,
                            "#46039f"
                          ],
                          [
                            0.2222222222222222,
                            "#7201a8"
                          ],
                          [
                            0.3333333333333333,
                            "#9c179e"
                          ],
                          [
                            0.4444444444444444,
                            "#bd3786"
                          ],
                          [
                            0.5555555555555556,
                            "#d8576b"
                          ],
                          [
                            0.6666666666666666,
                            "#ed7953"
                          ],
                          [
                            0.7777777777777778,
                            "#fb9f3a"
                          ],
                          [
                            0.8888888888888888,
                            "#fdca26"
                          ],
                          [
                            1,
                            "#f0f921"
                          ]
                        ],
                        "type": "histogram2d"
                      }
                    ],
                    "histogram2dcontour": [
                      {
                        "colorbar": {
                          "outlinewidth": 0,
                          "ticks": ""
                        },
                        "colorscale": [
                          [
                            0,
                            "#0d0887"
                          ],
                          [
                            0.1111111111111111,
                            "#46039f"
                          ],
                          [
                            0.2222222222222222,
                            "#7201a8"
                          ],
                          [
                            0.3333333333333333,
                            "#9c179e"
                          ],
                          [
                            0.4444444444444444,
                            "#bd3786"
                          ],
                          [
                            0.5555555555555556,
                            "#d8576b"
                          ],
                          [
                            0.6666666666666666,
                            "#ed7953"
                          ],
                          [
                            0.7777777777777778,
                            "#fb9f3a"
                          ],
                          [
                            0.8888888888888888,
                            "#fdca26"
                          ],
                          [
                            1,
                            "#f0f921"
                          ]
                        ],
                        "type": "histogram2dcontour"
                      }
                    ],
                    "mesh3d": [
                      {
                        "colorbar": {
                          "outlinewidth": 0,
                          "ticks": ""
                        },
                        "type": "mesh3d"
                      }
                    ],
                    "parcoords": [
                      {
                        "line": {
                          "colorbar": {
                            "outlinewidth": 0,
                            "ticks": ""
                          }
                        },
                        "type": "parcoords"
                      }
                    ],
                    "pie": [
                      {
                        "automargin": true,
                        "type": "pie"
                      }
                    ],
                    "scatter": [
                      {
                        "marker": {
                          "line": {
                            "color": "#283442"
                          }
                        },
                        "type": "scatter"
                      }
                    ],
                    "scatter3d": [
                      {
                        "line": {
                          "colorbar": {
                            "outlinewidth": 0,
                            "ticks": ""
                          }
                        },
                        "marker": {
                          "colorbar": {
                            "outlinewidth": 0,
                            "ticks": ""
                          }
                        },
                        "type": "scatter3d"
                      }
                    ],
                    "scattercarpet": [
                      {
                        "marker": {
                          "colorbar": {
                            "outlinewidth": 0,
                            "ticks": ""
                          }
                        },
                        "type": "scattercarpet"
                      }
                    ],
                    "scattergeo": [
                      {
                        "marker": {
                          "colorbar": {
                            "outlinewidth": 0,
                            "ticks": ""
                          }
                        },
                        "type": "scattergeo"
                      }
                    ],
                    "scattergl": [
                      {
                        "marker": {
                          "line": {
                            "color": "#283442"
                          }
                        },
                        "type": "scattergl"
                      }
                    ],
                    "scattermapbox": [
                      {
                        "marker": {
                          "colorbar": {
                            "outlinewidth": 0,
                            "ticks": ""
                          }
                        },
                        "type": "scattermapbox"
                      }
                    ],
                    "scatterpolar": [
                      {
                        "marker": {
                          "colorbar": {
                            "outlinewidth": 0,
                            "ticks": ""
                          }
                        },
                        "type": "scatterpolar"
                      }
                    ],
                    "scatterpolargl": [
                      {
                        "marker": {
                          "colorbar": {
                            "outlinewidth": 0,
                            "ticks": ""
                          }
                        },
                        "type": "scatterpolargl"
                      }
                    ],
                    "scatterternary": [
                      {
                        "marker": {
                          "colorbar": {
                            "outlinewidth": 0,
                            "ticks": ""
                          }
                        },
                        "type": "scatterternary"
                      }
                    ],
                    "surface": [
                      {
                        "colorbar": {
                          "outlinewidth": 0,
                          "ticks": ""
                        },
                        "colorscale": [
                          [
                            0,
                            "#0d0887"
                          ],
                          [
                            0.1111111111111111,
                            "#46039f"
                          ],
                          [
                            0.2222222222222222,
                            "#7201a8"
                          ],
                          [
                            0.3333333333333333,
                            "#9c179e"
                          ],
                          [
                            0.4444444444444444,
                            "#bd3786"
                          ],
                          [
                            0.5555555555555556,
                            "#d8576b"
                          ],
                          [
                            0.6666666666666666,
                            "#ed7953"
                          ],
                          [
                            0.7777777777777778,
                            "#fb9f3a"
                          ],
                          [
                            0.8888888888888888,
                            "#fdca26"
                          ],
                          [
                            1,
                            "#f0f921"
                          ]
                        ],
                        "type": "surface"
                      }
                    ],
                    "table": [
                      {
                        "cells": {
                          "fill": {
                            "color": "#506784"
                          },
                          "line": {
                            "color": "rgb(17,17,17)"
                          }
                        },
                        "header": {
                          "fill": {
                            "color": "#2a3f5f"
                          },
                          "line": {
                            "color": "rgb(17,17,17)"
                          }
                        },
                        "type": "table"
                      }
                    ]
                  },
                  "layout": {
                    "annotationdefaults": {
                      "arrowcolor": "#f2f5fa",
                      "arrowhead": 0,
                      "arrowwidth": 1
                    },
                    "coloraxis": {
                      "colorbar": {
                        "outlinewidth": 0,
                        "ticks": ""
                      }
                    },
                    "colorscale": {
                      "diverging": [
                        [
                          0,
                          "#8e0152"
                        ],
                        [
                          0.1,
                          "#c51b7d"
                        ],
                        [
                          0.2,
                          "#de77ae"
                        ],
                        [
                          0.3,
                          "#f1b6da"
                        ],
                        [
                          0.4,
                          "#fde0ef"
                        ],
                        [
                          0.5,
                          "#f7f7f7"
                        ],
                        [
                          0.6,
                          "#e6f5d0"
                        ],
                        [
                          0.7,
                          "#b8e186"
                        ],
                        [
                          0.8,
                          "#7fbc41"
                        ],
                        [
                          0.9,
                          "#4d9221"
                        ],
                        [
                          1,
                          "#276419"
                        ]
                      ],
                      "sequential": [
                        [
                          0,
                          "#0d0887"
                        ],
                        [
                          0.1111111111111111,
                          "#46039f"
                        ],
                        [
                          0.2222222222222222,
                          "#7201a8"
                        ],
                        [
                          0.3333333333333333,
                          "#9c179e"
                        ],
                        [
                          0.4444444444444444,
                          "#bd3786"
                        ],
                        [
                          0.5555555555555556,
                          "#d8576b"
                        ],
                        [
                          0.6666666666666666,
                          "#ed7953"
                        ],
                        [
                          0.7777777777777778,
                          "#fb9f3a"
                        ],
                        [
                          0.8888888888888888,
                          "#fdca26"
                        ],
                        [
                          1,
                          "#f0f921"
                        ]
                      ],
                      "sequentialminus": [
                        [
                          0,
                          "#0d0887"
                        ],
                        [
                          0.1111111111111111,
                          "#46039f"
                        ],
                        [
                          0.2222222222222222,
                          "#7201a8"
                        ],
                        [
                          0.3333333333333333,
                          "#9c179e"
                        ],
                        [
                          0.4444444444444444,
                          "#bd3786"
                        ],
                        [
                          0.5555555555555556,
                          "#d8576b"
                        ],
                        [
                          0.6666666666666666,
                          "#ed7953"
                        ],
                        [
                          0.7777777777777778,
                          "#fb9f3a"
                        ],
                        [
                          0.8888888888888888,
                          "#fdca26"
                        ],
                        [
                          1,
                          "#f0f921"
                        ]
                      ]
                    },
                    "colorway": [
                      "#636efa",
                      "#EF553B",
                      "#00cc96",
                      "#ab63fa",
                      "#FFA15A",
                      "#19d3f3",
                      "#FF6692",
                      "#B6E880",
                      "#FF97FF",
                      "#FECB52"
                    ],
                    "font": {
                      "color": "#f2f5fa"
                    },
                    "geo": {
                      "bgcolor": "rgb(17,17,17)",
                      "lakecolor": "rgb(17,17,17)",
                      "landcolor": "rgb(17,17,17)",
                      "showlakes": true,
                      "showland": true,
                      "subunitcolor": "#506784"
                    },
                    "hoverlabel": {
                      "align": "left"
                    },
                    "hovermode": "closest",
                    "mapbox": {
                      "style": "dark"
                    },
                    "paper_bgcolor": "rgb(17,17,17)",
                    "plot_bgcolor": "rgb(17,17,17)",
                    "polar": {
                      "angularaxis": {
                        "gridcolor": "#506784",
                        "linecolor": "#506784",
                        "ticks": ""
                      },
                      "bgcolor": "rgb(17,17,17)",
                      "radialaxis": {
                        "gridcolor": "#506784",
                        "linecolor": "#506784",
                        "ticks": ""
                      }
                    },
                    "scene": {
                      "xaxis": {
                        "backgroundcolor": "rgb(17,17,17)",
                        "gridcolor": "#506784",
                        "gridwidth": 2,
                        "linecolor": "#506784",
                        "showbackground": true,
                        "ticks": "",
                        "zerolinecolor": "#C8D4E3"
                      },
                      "yaxis": {
                        "backgroundcolor": "rgb(17,17,17)",
                        "gridcolor": "#506784",
                        "gridwidth": 2,
                        "linecolor": "#506784",
                        "showbackground": true,
                        "ticks": "",
                        "zerolinecolor": "#C8D4E3"
                      },
                      "zaxis": {
                        "backgroundcolor": "rgb(17,17,17)",
                        "gridcolor": "#506784",
                        "gridwidth": 2,
                        "linecolor": "#506784",
                        "showbackground": true,
                        "ticks": "",
                        "zerolinecolor": "#C8D4E3"
                      }
                    },
                    "shapedefaults": {
                      "line": {
                        "color": "#f2f5fa"
                      }
                    },
                    "sliderdefaults": {
                      "bgcolor": "#C8D4E3",
                      "bordercolor": "rgb(17,17,17)",
                      "borderwidth": 1,
                      "tickwidth": 0
                    },
                    "ternary": {
                      "aaxis": {
                        "gridcolor": "#506784",
                        "linecolor": "#506784",
                        "ticks": ""
                      },
                      "baxis": {
                        "gridcolor": "#506784",
                        "linecolor": "#506784",
                        "ticks": ""
                      },
                      "bgcolor": "rgb(17,17,17)",
                      "caxis": {
                        "gridcolor": "#506784",
                        "linecolor": "#506784",
                        "ticks": ""
                      }
                    },
                    "title": {
                      "x": 0.05
                    },
                    "updatemenudefaults": {
                      "bgcolor": "#506784",
                      "borderwidth": 0
                    },
                    "xaxis": {
                      "automargin": true,
                      "gridcolor": "#283442",
                      "linecolor": "#506784",
                      "ticks": "",
                      "title": {
                        "standoff": 15
                      },
                      "zerolinecolor": "#283442",
                      "zerolinewidth": 2
                    },
                    "yaxis": {
                      "automargin": true,
                      "gridcolor": "#283442",
                      "linecolor": "#506784",
                      "ticks": "",
                      "title": {
                        "standoff": 15
                      },
                      "zerolinecolor": "#283442",
                      "zerolinewidth": 2
                    }
                  }
                },
                "xaxis": {
                  "anchor": "y",
                  "domain": [
                    0,
                    1
                  ],
                  "title": {
                    "text": "total_bill"
                  }
                },
                "yaxis": {
                  "anchor": "x",
                  "domain": [
                    0,
                    1
                  ],
                  "title": {
                    "text": "tip"
                  }
                }
              }
            },
            "text/html": [
              "<div>\n",
              "        \n",
              "        \n",
              "            <div id=\"26cd3cf4-f46e-4300-9752-0eb52c3ef22d\" class=\"plotly-graph-div\" style=\"height:525px; width:100%;\"></div>\n",
              "            <script type=\"text/javascript\">\n",
              "                require([\"plotly\"], function(Plotly) {\n",
              "                    window.PLOTLYENV=window.PLOTLYENV || {};\n",
              "                    \n",
              "                if (document.getElementById(\"26cd3cf4-f46e-4300-9752-0eb52c3ef22d\")) {\n",
              "                    Plotly.newPlot(\n",
              "                        '26cd3cf4-f46e-4300-9752-0eb52c3ef22d',\n",
              "                        [{\"hoverlabel\": {\"namelength\": 0}, \"hovertemplate\": \"<b>%{hovertext}</b><br><br>total_bill=%{x}<br>tip=%{y}\", \"hovertext\": [\"Dinner\", \"Dinner\", \"Dinner\", \"Dinner\", \"Dinner\", \"Dinner\", \"Dinner\", \"Dinner\", \"Dinner\", \"Dinner\", \"Dinner\", \"Dinner\", \"Dinner\", \"Dinner\", \"Dinner\", \"Dinner\", \"Dinner\", \"Dinner\", \"Dinner\", \"Dinner\", \"Dinner\", \"Dinner\", \"Dinner\", \"Dinner\", \"Dinner\", \"Dinner\", \"Dinner\", \"Dinner\", \"Dinner\", \"Dinner\", \"Dinner\", \"Dinner\", \"Dinner\", \"Dinner\", \"Dinner\", \"Dinner\", \"Dinner\", \"Dinner\", \"Dinner\", \"Dinner\", \"Dinner\", \"Dinner\", \"Dinner\", \"Dinner\", \"Dinner\", \"Dinner\", \"Dinner\", \"Dinner\", \"Dinner\", \"Dinner\", \"Dinner\", \"Dinner\", \"Dinner\", \"Dinner\", \"Dinner\", \"Dinner\", \"Dinner\", \"Dinner\", \"Dinner\", \"Dinner\", \"Dinner\", \"Dinner\", \"Dinner\", \"Dinner\", \"Dinner\", \"Dinner\", \"Dinner\", \"Dinner\", \"Dinner\", \"Dinner\", \"Dinner\", \"Dinner\", \"Dinner\", \"Dinner\", \"Dinner\", \"Dinner\", \"Dinner\", \"Lunch\", \"Lunch\", \"Lunch\", \"Lunch\", \"Lunch\", \"Lunch\", \"Lunch\", \"Lunch\", \"Lunch\", \"Lunch\", \"Lunch\", \"Lunch\", \"Lunch\", \"Dinner\", \"Dinner\", \"Dinner\", \"Dinner\", \"Dinner\", \"Dinner\", \"Dinner\", \"Dinner\", \"Dinner\", \"Dinner\", \"Dinner\", \"Dinner\", \"Dinner\", \"Dinner\", \"Dinner\", \"Dinner\", \"Dinner\", \"Dinner\", \"Dinner\", \"Dinner\", \"Dinner\", \"Dinner\", \"Dinner\", \"Dinner\", \"Dinner\", \"Dinner\", \"Dinner\", \"Lunch\", \"Lunch\", \"Lunch\", \"Lunch\", \"Lunch\", \"Lunch\", \"Lunch\", \"Lunch\", \"Lunch\", \"Lunch\", \"Lunch\", \"Lunch\", \"Lunch\", \"Lunch\", \"Lunch\", \"Lunch\", \"Lunch\", \"Lunch\", \"Lunch\", \"Lunch\", \"Lunch\", \"Lunch\", \"Lunch\", \"Lunch\", \"Lunch\", \"Lunch\", \"Lunch\", \"Lunch\", \"Lunch\", \"Lunch\", \"Lunch\", \"Lunch\", \"Lunch\", \"Dinner\", \"Dinner\", \"Dinner\", \"Dinner\", \"Dinner\", \"Dinner\", \"Dinner\", \"Dinner\", \"Dinner\", \"Dinner\", \"Dinner\", \"Dinner\", \"Dinner\", \"Dinner\", \"Dinner\", \"Dinner\", \"Dinner\", \"Dinner\", \"Dinner\", \"Dinner\", \"Dinner\", \"Dinner\", \"Dinner\", \"Dinner\", \"Dinner\", \"Dinner\", \"Dinner\", \"Dinner\", \"Dinner\", \"Dinner\", \"Dinner\", \"Dinner\", \"Dinner\", \"Dinner\", \"Dinner\", \"Dinner\", \"Dinner\", \"Dinner\", \"Dinner\", \"Dinner\", \"Dinner\", \"Lunch\", \"Lunch\", \"Lunch\", \"Lunch\", \"Lunch\", \"Lunch\", \"Lunch\", \"Lunch\", \"Lunch\", \"Lunch\", \"Lunch\", \"Lunch\", \"Lunch\", \"Lunch\", \"Lunch\", \"Dinner\", \"Dinner\", \"Dinner\", \"Dinner\", \"Dinner\", \"Dinner\", \"Dinner\", \"Dinner\", \"Dinner\", \"Dinner\", \"Dinner\", \"Dinner\", \"Dinner\", \"Dinner\", \"Lunch\", \"Lunch\", \"Lunch\", \"Lunch\", \"Lunch\", \"Lunch\", \"Lunch\", \"Dinner\", \"Dinner\", \"Dinner\", \"Dinner\", \"Dinner\", \"Dinner\", \"Dinner\", \"Dinner\", \"Dinner\", \"Dinner\", \"Dinner\", \"Dinner\", \"Dinner\", \"Dinner\", \"Dinner\", \"Dinner\", \"Dinner\"], \"legendgroup\": \"\", \"marker\": {\"color\": \"#636efa\", \"symbol\": \"circle\"}, \"mode\": \"markers\", \"name\": \"\", \"showlegend\": false, \"type\": \"scatter\", \"x\": [16.99, 10.34, 21.01, 23.68, 24.59, 25.29, 8.77, 26.88, 15.04, 14.78, 10.27, 35.26, 15.42, 18.43, 14.83, 21.58, 10.33, 16.29, 16.97, 20.65, 17.92, 20.29, 15.77, 39.42, 19.82, 17.81, 13.37, 12.69, 21.7, 19.65, 9.55, 18.35, 15.06, 20.69, 17.78, 24.06, 16.31, 16.93, 18.69, 31.27, 16.04, 17.46, 13.94, 9.68, 30.4, 18.29, 22.23, 32.4, 28.55, 18.04, 12.54, 10.29, 34.81, 9.94, 25.56, 19.49, 38.01, 26.41, 11.24, 48.27, 20.29, 13.81, 11.02, 18.29, 17.59, 20.08, 16.45, 3.07, 20.23, 15.01, 12.02, 17.07, 26.86, 25.28, 14.73, 10.51, 17.92, 27.2, 22.76, 17.29, 19.44, 16.66, 10.07, 32.68, 15.98, 34.83, 13.03, 18.28, 24.71, 21.16, 28.97, 22.49, 5.75, 16.32, 22.75, 40.17, 27.28, 12.03, 21.01, 12.46, 11.35, 15.38, 44.3, 22.42, 20.92, 15.36, 20.49, 25.21, 18.24, 14.31, 14.0, 7.25, 38.07, 23.95, 25.71, 17.31, 29.93, 10.65, 12.43, 24.08, 11.69, 13.42, 14.26, 15.95, 12.48, 29.8, 8.52, 14.52, 11.38, 22.82, 19.08, 20.27, 11.17, 12.26, 18.26, 8.51, 10.33, 14.15, 16.0, 13.16, 17.47, 34.3, 41.19, 27.05, 16.43, 8.35, 18.64, 11.87, 9.78, 7.51, 14.07, 13.13, 17.26, 24.55, 19.77, 29.85, 48.17, 25.0, 13.39, 16.49, 21.5, 12.66, 16.21, 13.81, 17.51, 24.52, 20.76, 31.71, 10.59, 10.63, 50.81, 15.81, 7.25, 31.85, 16.82, 32.9, 17.89, 14.48, 9.6, 34.63, 34.65, 23.33, 45.35, 23.17, 40.55, 20.69, 20.9, 30.46, 18.15, 23.1, 15.69, 19.81, 28.44, 15.48, 16.58, 7.56, 10.34, 43.11, 13.0, 13.51, 18.71, 12.74, 13.0, 16.4, 20.53, 16.47, 26.59, 38.73, 24.27, 12.76, 30.06, 25.89, 48.33, 13.27, 28.17, 12.9, 28.15, 11.59, 7.74, 30.14, 12.16, 13.42, 8.58, 15.98, 13.42, 16.27, 10.09, 20.45, 13.28, 22.12, 24.01, 15.69, 11.61, 10.77, 15.53, 10.07, 12.6, 32.83, 35.83, 29.03, 27.18, 22.67, 17.82, 18.78], \"xaxis\": \"x\", \"y\": [1.01, 1.66, 3.5, 3.31, 3.61, 4.71, 2.0, 3.12, 1.96, 3.23, 1.71, 5.0, 1.57, 3.0, 3.02, 3.92, 1.67, 3.71, 3.5, 3.35, 4.08, 2.75, 2.23, 7.58, 3.18, 2.34, 2.0, 2.0, 4.3, 3.0, 1.45, 2.5, 3.0, 2.45, 3.27, 3.6, 2.0, 3.07, 2.31, 5.0, 2.24, 2.54, 3.06, 1.32, 5.6, 3.0, 5.0, 6.0, 2.05, 3.0, 2.5, 2.6, 5.2, 1.56, 4.34, 3.51, 3.0, 1.5, 1.76, 6.73, 3.21, 2.0, 1.98, 3.76, 2.64, 3.15, 2.47, 1.0, 2.01, 2.09, 1.97, 3.0, 3.14, 5.0, 2.2, 1.25, 3.08, 4.0, 3.0, 2.71, 3.0, 3.4, 1.83, 5.0, 2.03, 5.17, 2.0, 4.0, 5.85, 3.0, 3.0, 3.5, 1.0, 4.3, 3.25, 4.73, 4.0, 1.5, 3.0, 1.5, 2.5, 3.0, 2.5, 3.48, 4.08, 1.64, 4.06, 4.29, 3.76, 4.0, 3.0, 1.0, 4.0, 2.55, 4.0, 3.5, 5.07, 1.5, 1.8, 2.92, 2.31, 1.68, 2.5, 2.0, 2.52, 4.2, 1.48, 2.0, 2.0, 2.18, 1.5, 2.83, 1.5, 2.0, 3.25, 1.25, 2.0, 2.0, 2.0, 2.75, 3.5, 6.7, 5.0, 5.0, 2.3, 1.5, 1.36, 1.63, 1.73, 2.0, 2.5, 2.0, 2.74, 2.0, 2.0, 5.14, 5.0, 3.75, 2.61, 2.0, 3.5, 2.5, 2.0, 2.0, 3.0, 3.48, 2.24, 4.5, 1.61, 2.0, 10.0, 3.16, 5.15, 3.18, 4.0, 3.11, 2.0, 2.0, 4.0, 3.55, 3.68, 5.65, 3.5, 6.5, 3.0, 5.0, 3.5, 2.0, 3.5, 4.0, 1.5, 4.19, 2.56, 2.02, 4.0, 1.44, 2.0, 5.0, 2.0, 2.0, 4.0, 2.01, 2.0, 2.5, 4.0, 3.23, 3.41, 3.0, 2.03, 2.23, 2.0, 5.16, 9.0, 2.5, 6.5, 1.1, 3.0, 1.5, 1.44, 3.09, 2.2, 3.48, 1.92, 3.0, 1.58, 2.5, 2.0, 3.0, 2.72, 2.88, 2.0, 3.0, 3.39, 1.47, 3.0, 1.25, 1.0, 1.17, 4.67, 5.92, 2.0, 2.0, 1.75, 3.0], \"yaxis\": \"y\"}],\n",
              "                        {\"legend\": {\"tracegroupgap\": 0}, \"margin\": {\"t\": 60}, \"template\": {\"data\": {\"bar\": [{\"error_x\": {\"color\": \"#f2f5fa\"}, \"error_y\": {\"color\": \"#f2f5fa\"}, \"marker\": {\"line\": {\"color\": \"rgb(17,17,17)\", \"width\": 0.5}}, \"type\": \"bar\"}], \"barpolar\": [{\"marker\": {\"line\": {\"color\": \"rgb(17,17,17)\", \"width\": 0.5}}, \"type\": \"barpolar\"}], \"carpet\": [{\"aaxis\": {\"endlinecolor\": \"#A2B1C6\", \"gridcolor\": \"#506784\", \"linecolor\": \"#506784\", \"minorgridcolor\": \"#506784\", \"startlinecolor\": \"#A2B1C6\"}, \"baxis\": {\"endlinecolor\": \"#A2B1C6\", \"gridcolor\": \"#506784\", \"linecolor\": \"#506784\", \"minorgridcolor\": \"#506784\", \"startlinecolor\": \"#A2B1C6\"}, \"type\": \"carpet\"}], \"choropleth\": [{\"colorbar\": {\"outlinewidth\": 0, \"ticks\": \"\"}, \"type\": \"choropleth\"}], \"contour\": [{\"colorbar\": {\"outlinewidth\": 0, \"ticks\": \"\"}, \"colorscale\": [[0.0, \"#0d0887\"], [0.1111111111111111, \"#46039f\"], [0.2222222222222222, \"#7201a8\"], [0.3333333333333333, \"#9c179e\"], [0.4444444444444444, \"#bd3786\"], [0.5555555555555556, \"#d8576b\"], [0.6666666666666666, \"#ed7953\"], [0.7777777777777778, \"#fb9f3a\"], [0.8888888888888888, \"#fdca26\"], [1.0, \"#f0f921\"]], \"type\": \"contour\"}], \"contourcarpet\": [{\"colorbar\": {\"outlinewidth\": 0, \"ticks\": \"\"}, \"type\": \"contourcarpet\"}], \"heatmap\": [{\"colorbar\": {\"outlinewidth\": 0, \"ticks\": \"\"}, \"colorscale\": [[0.0, \"#0d0887\"], [0.1111111111111111, \"#46039f\"], [0.2222222222222222, \"#7201a8\"], [0.3333333333333333, \"#9c179e\"], [0.4444444444444444, \"#bd3786\"], [0.5555555555555556, \"#d8576b\"], [0.6666666666666666, \"#ed7953\"], [0.7777777777777778, \"#fb9f3a\"], [0.8888888888888888, \"#fdca26\"], [1.0, \"#f0f921\"]], \"type\": \"heatmap\"}], \"heatmapgl\": [{\"colorbar\": {\"outlinewidth\": 0, \"ticks\": \"\"}, \"colorscale\": [[0.0, \"#0d0887\"], [0.1111111111111111, \"#46039f\"], [0.2222222222222222, \"#7201a8\"], [0.3333333333333333, \"#9c179e\"], [0.4444444444444444, \"#bd3786\"], [0.5555555555555556, \"#d8576b\"], [0.6666666666666666, \"#ed7953\"], [0.7777777777777778, \"#fb9f3a\"], [0.8888888888888888, \"#fdca26\"], [1.0, \"#f0f921\"]], \"type\": \"heatmapgl\"}], \"histogram\": [{\"marker\": {\"colorbar\": {\"outlinewidth\": 0, \"ticks\": \"\"}}, \"type\": \"histogram\"}], \"histogram2d\": [{\"colorbar\": {\"outlinewidth\": 0, \"ticks\": \"\"}, \"colorscale\": [[0.0, \"#0d0887\"], [0.1111111111111111, \"#46039f\"], [0.2222222222222222, \"#7201a8\"], [0.3333333333333333, \"#9c179e\"], [0.4444444444444444, \"#bd3786\"], [0.5555555555555556, \"#d8576b\"], [0.6666666666666666, \"#ed7953\"], [0.7777777777777778, \"#fb9f3a\"], [0.8888888888888888, \"#fdca26\"], [1.0, \"#f0f921\"]], \"type\": \"histogram2d\"}], \"histogram2dcontour\": [{\"colorbar\": {\"outlinewidth\": 0, \"ticks\": \"\"}, \"colorscale\": [[0.0, \"#0d0887\"], [0.1111111111111111, \"#46039f\"], [0.2222222222222222, \"#7201a8\"], [0.3333333333333333, \"#9c179e\"], [0.4444444444444444, \"#bd3786\"], [0.5555555555555556, \"#d8576b\"], [0.6666666666666666, \"#ed7953\"], [0.7777777777777778, \"#fb9f3a\"], [0.8888888888888888, \"#fdca26\"], [1.0, \"#f0f921\"]], \"type\": \"histogram2dcontour\"}], \"mesh3d\": [{\"colorbar\": {\"outlinewidth\": 0, \"ticks\": \"\"}, \"type\": \"mesh3d\"}], \"parcoords\": [{\"line\": {\"colorbar\": {\"outlinewidth\": 0, \"ticks\": \"\"}}, \"type\": \"parcoords\"}], \"pie\": [{\"automargin\": true, \"type\": \"pie\"}], \"scatter\": [{\"marker\": {\"line\": {\"color\": \"#283442\"}}, \"type\": \"scatter\"}], \"scatter3d\": [{\"line\": {\"colorbar\": {\"outlinewidth\": 0, \"ticks\": \"\"}}, \"marker\": {\"colorbar\": {\"outlinewidth\": 0, \"ticks\": \"\"}}, \"type\": \"scatter3d\"}], \"scattercarpet\": [{\"marker\": {\"colorbar\": {\"outlinewidth\": 0, \"ticks\": \"\"}}, \"type\": \"scattercarpet\"}], \"scattergeo\": [{\"marker\": {\"colorbar\": {\"outlinewidth\": 0, \"ticks\": \"\"}}, \"type\": \"scattergeo\"}], \"scattergl\": [{\"marker\": {\"line\": {\"color\": \"#283442\"}}, \"type\": \"scattergl\"}], \"scattermapbox\": [{\"marker\": {\"colorbar\": {\"outlinewidth\": 0, \"ticks\": \"\"}}, \"type\": \"scattermapbox\"}], \"scatterpolar\": [{\"marker\": {\"colorbar\": {\"outlinewidth\": 0, \"ticks\": \"\"}}, \"type\": \"scatterpolar\"}], \"scatterpolargl\": [{\"marker\": {\"colorbar\": {\"outlinewidth\": 0, \"ticks\": \"\"}}, \"type\": \"scatterpolargl\"}], \"scatterternary\": [{\"marker\": {\"colorbar\": {\"outlinewidth\": 0, \"ticks\": \"\"}}, \"type\": \"scatterternary\"}], \"surface\": [{\"colorbar\": {\"outlinewidth\": 0, \"ticks\": \"\"}, \"colorscale\": [[0.0, \"#0d0887\"], [0.1111111111111111, \"#46039f\"], [0.2222222222222222, \"#7201a8\"], [0.3333333333333333, \"#9c179e\"], [0.4444444444444444, \"#bd3786\"], [0.5555555555555556, \"#d8576b\"], [0.6666666666666666, \"#ed7953\"], [0.7777777777777778, \"#fb9f3a\"], [0.8888888888888888, \"#fdca26\"], [1.0, \"#f0f921\"]], \"type\": \"surface\"}], \"table\": [{\"cells\": {\"fill\": {\"color\": \"#506784\"}, \"line\": {\"color\": \"rgb(17,17,17)\"}}, \"header\": {\"fill\": {\"color\": \"#2a3f5f\"}, \"line\": {\"color\": \"rgb(17,17,17)\"}}, \"type\": \"table\"}]}, \"layout\": {\"annotationdefaults\": {\"arrowcolor\": \"#f2f5fa\", \"arrowhead\": 0, \"arrowwidth\": 1}, \"coloraxis\": {\"colorbar\": {\"outlinewidth\": 0, \"ticks\": \"\"}}, \"colorscale\": {\"diverging\": [[0, \"#8e0152\"], [0.1, \"#c51b7d\"], [0.2, \"#de77ae\"], [0.3, \"#f1b6da\"], [0.4, \"#fde0ef\"], [0.5, \"#f7f7f7\"], [0.6, \"#e6f5d0\"], [0.7, \"#b8e186\"], [0.8, \"#7fbc41\"], [0.9, \"#4d9221\"], [1, \"#276419\"]], \"sequential\": [[0.0, \"#0d0887\"], [0.1111111111111111, \"#46039f\"], [0.2222222222222222, \"#7201a8\"], [0.3333333333333333, \"#9c179e\"], [0.4444444444444444, \"#bd3786\"], [0.5555555555555556, \"#d8576b\"], [0.6666666666666666, \"#ed7953\"], [0.7777777777777778, \"#fb9f3a\"], [0.8888888888888888, \"#fdca26\"], [1.0, \"#f0f921\"]], \"sequentialminus\": [[0.0, \"#0d0887\"], [0.1111111111111111, \"#46039f\"], [0.2222222222222222, \"#7201a8\"], [0.3333333333333333, \"#9c179e\"], [0.4444444444444444, \"#bd3786\"], [0.5555555555555556, \"#d8576b\"], [0.6666666666666666, \"#ed7953\"], [0.7777777777777778, \"#fb9f3a\"], [0.8888888888888888, \"#fdca26\"], [1.0, \"#f0f921\"]]}, \"colorway\": [\"#636efa\", \"#EF553B\", \"#00cc96\", \"#ab63fa\", \"#FFA15A\", \"#19d3f3\", \"#FF6692\", \"#B6E880\", \"#FF97FF\", \"#FECB52\"], \"font\": {\"color\": \"#f2f5fa\"}, \"geo\": {\"bgcolor\": \"rgb(17,17,17)\", \"lakecolor\": \"rgb(17,17,17)\", \"landcolor\": \"rgb(17,17,17)\", \"showlakes\": true, \"showland\": true, \"subunitcolor\": \"#506784\"}, \"hoverlabel\": {\"align\": \"left\"}, \"hovermode\": \"closest\", \"mapbox\": {\"style\": \"dark\"}, \"paper_bgcolor\": \"rgb(17,17,17)\", \"plot_bgcolor\": \"rgb(17,17,17)\", \"polar\": {\"angularaxis\": {\"gridcolor\": \"#506784\", \"linecolor\": \"#506784\", \"ticks\": \"\"}, \"bgcolor\": \"rgb(17,17,17)\", \"radialaxis\": {\"gridcolor\": \"#506784\", \"linecolor\": \"#506784\", \"ticks\": \"\"}}, \"scene\": {\"xaxis\": {\"backgroundcolor\": \"rgb(17,17,17)\", \"gridcolor\": \"#506784\", \"gridwidth\": 2, \"linecolor\": \"#506784\", \"showbackground\": true, \"ticks\": \"\", \"zerolinecolor\": \"#C8D4E3\"}, \"yaxis\": {\"backgroundcolor\": \"rgb(17,17,17)\", \"gridcolor\": \"#506784\", \"gridwidth\": 2, \"linecolor\": \"#506784\", \"showbackground\": true, \"ticks\": \"\", \"zerolinecolor\": \"#C8D4E3\"}, \"zaxis\": {\"backgroundcolor\": \"rgb(17,17,17)\", \"gridcolor\": \"#506784\", \"gridwidth\": 2, \"linecolor\": \"#506784\", \"showbackground\": true, \"ticks\": \"\", \"zerolinecolor\": \"#C8D4E3\"}}, \"shapedefaults\": {\"line\": {\"color\": \"#f2f5fa\"}}, \"sliderdefaults\": {\"bgcolor\": \"#C8D4E3\", \"bordercolor\": \"rgb(17,17,17)\", \"borderwidth\": 1, \"tickwidth\": 0}, \"ternary\": {\"aaxis\": {\"gridcolor\": \"#506784\", \"linecolor\": \"#506784\", \"ticks\": \"\"}, \"baxis\": {\"gridcolor\": \"#506784\", \"linecolor\": \"#506784\", \"ticks\": \"\"}, \"bgcolor\": \"rgb(17,17,17)\", \"caxis\": {\"gridcolor\": \"#506784\", \"linecolor\": \"#506784\", \"ticks\": \"\"}}, \"title\": {\"x\": 0.05}, \"updatemenudefaults\": {\"bgcolor\": \"#506784\", \"borderwidth\": 0}, \"xaxis\": {\"automargin\": true, \"gridcolor\": \"#283442\", \"linecolor\": \"#506784\", \"ticks\": \"\", \"title\": {\"standoff\": 15}, \"zerolinecolor\": \"#283442\", \"zerolinewidth\": 2}, \"yaxis\": {\"automargin\": true, \"gridcolor\": \"#283442\", \"linecolor\": \"#506784\", \"ticks\": \"\", \"title\": {\"standoff\": 15}, \"zerolinecolor\": \"#283442\", \"zerolinewidth\": 2}}}, \"xaxis\": {\"anchor\": \"y\", \"domain\": [0.0, 1.0], \"title\": {\"text\": \"total_bill\"}}, \"yaxis\": {\"anchor\": \"x\", \"domain\": [0.0, 1.0], \"title\": {\"text\": \"tip\"}}},\n",
              "                        {\"responsive\": true}\n",
              "                    ).then(function(){\n",
              "                            \n",
              "var gd = document.getElementById('26cd3cf4-f46e-4300-9752-0eb52c3ef22d');\n",
              "var x = new MutationObserver(function (mutations, observer) {{\n",
              "        var display = window.getComputedStyle(gd).display;\n",
              "        if (!display || display === 'none') {{\n",
              "            console.log([gd, 'removed!']);\n",
              "            Plotly.purge(gd);\n",
              "            observer.disconnect();\n",
              "        }}\n",
              "}});\n",
              "\n",
              "// Listen for the removal of the full notebook cells\n",
              "var notebookContainer = gd.closest('#notebook-container');\n",
              "if (notebookContainer) {{\n",
              "    x.observe(notebookContainer, {childList: true});\n",
              "}}\n",
              "\n",
              "// Listen for the clearing of the current output cell\n",
              "var outputEl = gd.closest('.output');\n",
              "if (outputEl) {{\n",
              "    x.observe(outputEl, {childList: true});\n",
              "}}\n",
              "\n",
              "                        })\n",
              "                };\n",
              "                });\n",
              "            </script>\n",
              "        </div>"
            ]
          },
          "metadata": {
            "tags": []
          }
        }
      ]
    },
    {
      "cell_type": "markdown",
      "metadata": {
        "id": "BYUanWVoEUjV"
      },
      "source": [
        "# Feature Engineering\n",
        "\n",
        "## One Hot Encoding\n",
        "\n",
        "[https://pbpython.com/categorical-encoding.html](https://pbpython.com/categorical-encoding.html)"
      ]
    },
    {
      "cell_type": "code",
      "metadata": {
        "id": "H0GDo3v4EUjV",
        "outputId": "5e913c40-0672-47e9-83b4-3a42ef41c8a7"
      },
      "source": [
        "# Define the headers since the data does not have any\n",
        "headers = [\"symboling\", \"normalized_losses\", \"make\", \"fuel_type\", \"aspiration\",\n",
        "           \"num_doors\", \"body_style\", \"drive_wheels\", \"engine_location\",\n",
        "           \"wheel_base\", \"length\", \"width\", \"height\", \"curb_weight\",\n",
        "           \"engine_type\", \"num_cylinders\", \"engine_size\", \"fuel_system\",\n",
        "           \"bore\", \"stroke\", \"compression_ratio\", \"horsepower\", \"peak_rpm\",\n",
        "           \"city_mpg\", \"highway_mpg\", \"price\"]\n",
        "\n",
        "df_for_encoding = pd.read_csv(\"https://archive.ics.uci.edu/ml/machine-learning-databases/autos/imports-85.data\",\n",
        "                  header=None, names=headers, na_values=\"?\" )\n",
        "df_for_encoding.head()"
      ],
      "execution_count": null,
      "outputs": [
        {
          "output_type": "execute_result",
          "data": {
            "text/html": [
              "<div>\n",
              "<style scoped>\n",
              "    .dataframe tbody tr th:only-of-type {\n",
              "        vertical-align: middle;\n",
              "    }\n",
              "\n",
              "    .dataframe tbody tr th {\n",
              "        vertical-align: top;\n",
              "    }\n",
              "\n",
              "    .dataframe thead th {\n",
              "        text-align: right;\n",
              "    }\n",
              "</style>\n",
              "<table border=\"1\" class=\"dataframe\">\n",
              "  <thead>\n",
              "    <tr style=\"text-align: right;\">\n",
              "      <th></th>\n",
              "      <th>symboling</th>\n",
              "      <th>normalized_losses</th>\n",
              "      <th>make</th>\n",
              "      <th>fuel_type</th>\n",
              "      <th>aspiration</th>\n",
              "      <th>num_doors</th>\n",
              "      <th>body_style</th>\n",
              "      <th>drive_wheels</th>\n",
              "      <th>engine_location</th>\n",
              "      <th>wheel_base</th>\n",
              "      <th>...</th>\n",
              "      <th>engine_size</th>\n",
              "      <th>fuel_system</th>\n",
              "      <th>bore</th>\n",
              "      <th>stroke</th>\n",
              "      <th>compression_ratio</th>\n",
              "      <th>horsepower</th>\n",
              "      <th>peak_rpm</th>\n",
              "      <th>city_mpg</th>\n",
              "      <th>highway_mpg</th>\n",
              "      <th>price</th>\n",
              "    </tr>\n",
              "  </thead>\n",
              "  <tbody>\n",
              "    <tr>\n",
              "      <td>0</td>\n",
              "      <td>3</td>\n",
              "      <td>NaN</td>\n",
              "      <td>alfa-romero</td>\n",
              "      <td>gas</td>\n",
              "      <td>std</td>\n",
              "      <td>two</td>\n",
              "      <td>convertible</td>\n",
              "      <td>rwd</td>\n",
              "      <td>front</td>\n",
              "      <td>88.6</td>\n",
              "      <td>...</td>\n",
              "      <td>130</td>\n",
              "      <td>mpfi</td>\n",
              "      <td>3.47</td>\n",
              "      <td>2.68</td>\n",
              "      <td>9.0</td>\n",
              "      <td>111.0</td>\n",
              "      <td>5000.0</td>\n",
              "      <td>21</td>\n",
              "      <td>27</td>\n",
              "      <td>13495.0</td>\n",
              "    </tr>\n",
              "    <tr>\n",
              "      <td>1</td>\n",
              "      <td>3</td>\n",
              "      <td>NaN</td>\n",
              "      <td>alfa-romero</td>\n",
              "      <td>gas</td>\n",
              "      <td>std</td>\n",
              "      <td>two</td>\n",
              "      <td>convertible</td>\n",
              "      <td>rwd</td>\n",
              "      <td>front</td>\n",
              "      <td>88.6</td>\n",
              "      <td>...</td>\n",
              "      <td>130</td>\n",
              "      <td>mpfi</td>\n",
              "      <td>3.47</td>\n",
              "      <td>2.68</td>\n",
              "      <td>9.0</td>\n",
              "      <td>111.0</td>\n",
              "      <td>5000.0</td>\n",
              "      <td>21</td>\n",
              "      <td>27</td>\n",
              "      <td>16500.0</td>\n",
              "    </tr>\n",
              "    <tr>\n",
              "      <td>2</td>\n",
              "      <td>1</td>\n",
              "      <td>NaN</td>\n",
              "      <td>alfa-romero</td>\n",
              "      <td>gas</td>\n",
              "      <td>std</td>\n",
              "      <td>two</td>\n",
              "      <td>hatchback</td>\n",
              "      <td>rwd</td>\n",
              "      <td>front</td>\n",
              "      <td>94.5</td>\n",
              "      <td>...</td>\n",
              "      <td>152</td>\n",
              "      <td>mpfi</td>\n",
              "      <td>2.68</td>\n",
              "      <td>3.47</td>\n",
              "      <td>9.0</td>\n",
              "      <td>154.0</td>\n",
              "      <td>5000.0</td>\n",
              "      <td>19</td>\n",
              "      <td>26</td>\n",
              "      <td>16500.0</td>\n",
              "    </tr>\n",
              "    <tr>\n",
              "      <td>3</td>\n",
              "      <td>2</td>\n",
              "      <td>164.0</td>\n",
              "      <td>audi</td>\n",
              "      <td>gas</td>\n",
              "      <td>std</td>\n",
              "      <td>four</td>\n",
              "      <td>sedan</td>\n",
              "      <td>fwd</td>\n",
              "      <td>front</td>\n",
              "      <td>99.8</td>\n",
              "      <td>...</td>\n",
              "      <td>109</td>\n",
              "      <td>mpfi</td>\n",
              "      <td>3.19</td>\n",
              "      <td>3.40</td>\n",
              "      <td>10.0</td>\n",
              "      <td>102.0</td>\n",
              "      <td>5500.0</td>\n",
              "      <td>24</td>\n",
              "      <td>30</td>\n",
              "      <td>13950.0</td>\n",
              "    </tr>\n",
              "    <tr>\n",
              "      <td>4</td>\n",
              "      <td>2</td>\n",
              "      <td>164.0</td>\n",
              "      <td>audi</td>\n",
              "      <td>gas</td>\n",
              "      <td>std</td>\n",
              "      <td>four</td>\n",
              "      <td>sedan</td>\n",
              "      <td>4wd</td>\n",
              "      <td>front</td>\n",
              "      <td>99.4</td>\n",
              "      <td>...</td>\n",
              "      <td>136</td>\n",
              "      <td>mpfi</td>\n",
              "      <td>3.19</td>\n",
              "      <td>3.40</td>\n",
              "      <td>8.0</td>\n",
              "      <td>115.0</td>\n",
              "      <td>5500.0</td>\n",
              "      <td>18</td>\n",
              "      <td>22</td>\n",
              "      <td>17450.0</td>\n",
              "    </tr>\n",
              "  </tbody>\n",
              "</table>\n",
              "<p>5 rows × 26 columns</p>\n",
              "</div>"
            ],
            "text/plain": [
              "   symboling  normalized_losses         make fuel_type aspiration num_doors  \\\n",
              "0          3                NaN  alfa-romero       gas        std       two   \n",
              "1          3                NaN  alfa-romero       gas        std       two   \n",
              "2          1                NaN  alfa-romero       gas        std       two   \n",
              "3          2              164.0         audi       gas        std      four   \n",
              "4          2              164.0         audi       gas        std      four   \n",
              "\n",
              "    body_style drive_wheels engine_location  wheel_base  ...  engine_size  \\\n",
              "0  convertible          rwd           front        88.6  ...          130   \n",
              "1  convertible          rwd           front        88.6  ...          130   \n",
              "2    hatchback          rwd           front        94.5  ...          152   \n",
              "3        sedan          fwd           front        99.8  ...          109   \n",
              "4        sedan          4wd           front        99.4  ...          136   \n",
              "\n",
              "   fuel_system  bore  stroke compression_ratio horsepower  peak_rpm city_mpg  \\\n",
              "0         mpfi  3.47    2.68               9.0      111.0    5000.0       21   \n",
              "1         mpfi  3.47    2.68               9.0      111.0    5000.0       21   \n",
              "2         mpfi  2.68    3.47               9.0      154.0    5000.0       19   \n",
              "3         mpfi  3.19    3.40              10.0      102.0    5500.0       24   \n",
              "4         mpfi  3.19    3.40               8.0      115.0    5500.0       18   \n",
              "\n",
              "   highway_mpg    price  \n",
              "0           27  13495.0  \n",
              "1           27  16500.0  \n",
              "2           26  16500.0  \n",
              "3           30  13950.0  \n",
              "4           22  17450.0  \n",
              "\n",
              "[5 rows x 26 columns]"
            ]
          },
          "metadata": {
            "tags": []
          },
          "execution_count": 41
        }
      ]
    },
    {
      "cell_type": "code",
      "metadata": {
        "id": "iA669xPtEUjV",
        "outputId": "e8e2f393-eee2-4dec-d84a-61ed448d1c68"
      },
      "source": [
        "# get categorical columns\n",
        "obj_df_for_encoding = df_for_encoding.select_dtypes(include=['object']).copy()\n",
        "obj_df_for_encoding.head()"
      ],
      "execution_count": null,
      "outputs": [
        {
          "output_type": "execute_result",
          "data": {
            "text/html": [
              "<div>\n",
              "<style scoped>\n",
              "    .dataframe tbody tr th:only-of-type {\n",
              "        vertical-align: middle;\n",
              "    }\n",
              "\n",
              "    .dataframe tbody tr th {\n",
              "        vertical-align: top;\n",
              "    }\n",
              "\n",
              "    .dataframe thead th {\n",
              "        text-align: right;\n",
              "    }\n",
              "</style>\n",
              "<table border=\"1\" class=\"dataframe\">\n",
              "  <thead>\n",
              "    <tr style=\"text-align: right;\">\n",
              "      <th></th>\n",
              "      <th>make</th>\n",
              "      <th>fuel_type</th>\n",
              "      <th>aspiration</th>\n",
              "      <th>num_doors</th>\n",
              "      <th>body_style</th>\n",
              "      <th>drive_wheels</th>\n",
              "      <th>engine_location</th>\n",
              "      <th>engine_type</th>\n",
              "      <th>num_cylinders</th>\n",
              "      <th>fuel_system</th>\n",
              "    </tr>\n",
              "  </thead>\n",
              "  <tbody>\n",
              "    <tr>\n",
              "      <td>0</td>\n",
              "      <td>alfa-romero</td>\n",
              "      <td>gas</td>\n",
              "      <td>std</td>\n",
              "      <td>two</td>\n",
              "      <td>convertible</td>\n",
              "      <td>rwd</td>\n",
              "      <td>front</td>\n",
              "      <td>dohc</td>\n",
              "      <td>four</td>\n",
              "      <td>mpfi</td>\n",
              "    </tr>\n",
              "    <tr>\n",
              "      <td>1</td>\n",
              "      <td>alfa-romero</td>\n",
              "      <td>gas</td>\n",
              "      <td>std</td>\n",
              "      <td>two</td>\n",
              "      <td>convertible</td>\n",
              "      <td>rwd</td>\n",
              "      <td>front</td>\n",
              "      <td>dohc</td>\n",
              "      <td>four</td>\n",
              "      <td>mpfi</td>\n",
              "    </tr>\n",
              "    <tr>\n",
              "      <td>2</td>\n",
              "      <td>alfa-romero</td>\n",
              "      <td>gas</td>\n",
              "      <td>std</td>\n",
              "      <td>two</td>\n",
              "      <td>hatchback</td>\n",
              "      <td>rwd</td>\n",
              "      <td>front</td>\n",
              "      <td>ohcv</td>\n",
              "      <td>six</td>\n",
              "      <td>mpfi</td>\n",
              "    </tr>\n",
              "    <tr>\n",
              "      <td>3</td>\n",
              "      <td>audi</td>\n",
              "      <td>gas</td>\n",
              "      <td>std</td>\n",
              "      <td>four</td>\n",
              "      <td>sedan</td>\n",
              "      <td>fwd</td>\n",
              "      <td>front</td>\n",
              "      <td>ohc</td>\n",
              "      <td>four</td>\n",
              "      <td>mpfi</td>\n",
              "    </tr>\n",
              "    <tr>\n",
              "      <td>4</td>\n",
              "      <td>audi</td>\n",
              "      <td>gas</td>\n",
              "      <td>std</td>\n",
              "      <td>four</td>\n",
              "      <td>sedan</td>\n",
              "      <td>4wd</td>\n",
              "      <td>front</td>\n",
              "      <td>ohc</td>\n",
              "      <td>five</td>\n",
              "      <td>mpfi</td>\n",
              "    </tr>\n",
              "  </tbody>\n",
              "</table>\n",
              "</div>"
            ],
            "text/plain": [
              "          make fuel_type aspiration num_doors   body_style drive_wheels  \\\n",
              "0  alfa-romero       gas        std       two  convertible          rwd   \n",
              "1  alfa-romero       gas        std       two  convertible          rwd   \n",
              "2  alfa-romero       gas        std       two    hatchback          rwd   \n",
              "3         audi       gas        std      four        sedan          fwd   \n",
              "4         audi       gas        std      four        sedan          4wd   \n",
              "\n",
              "  engine_location engine_type num_cylinders fuel_system  \n",
              "0           front        dohc          four        mpfi  \n",
              "1           front        dohc          four        mpfi  \n",
              "2           front        ohcv           six        mpfi  \n",
              "3           front         ohc          four        mpfi  \n",
              "4           front         ohc          five        mpfi  "
            ]
          },
          "metadata": {
            "tags": []
          },
          "execution_count": 43
        }
      ]
    },
    {
      "cell_type": "code",
      "metadata": {
        "id": "JKiQAr_KEUjV",
        "outputId": "151899e1-5e66-43bd-caca-1cc182cb290b"
      },
      "source": [
        "pd.get_dummies(obj_df_for_encoding, columns=[\"drive_wheels\"]).head()\n"
      ],
      "execution_count": null,
      "outputs": [
        {
          "output_type": "execute_result",
          "data": {
            "text/html": [
              "<div>\n",
              "<style scoped>\n",
              "    .dataframe tbody tr th:only-of-type {\n",
              "        vertical-align: middle;\n",
              "    }\n",
              "\n",
              "    .dataframe tbody tr th {\n",
              "        vertical-align: top;\n",
              "    }\n",
              "\n",
              "    .dataframe thead th {\n",
              "        text-align: right;\n",
              "    }\n",
              "</style>\n",
              "<table border=\"1\" class=\"dataframe\">\n",
              "  <thead>\n",
              "    <tr style=\"text-align: right;\">\n",
              "      <th></th>\n",
              "      <th>make</th>\n",
              "      <th>fuel_type</th>\n",
              "      <th>aspiration</th>\n",
              "      <th>num_doors</th>\n",
              "      <th>body_style</th>\n",
              "      <th>engine_location</th>\n",
              "      <th>engine_type</th>\n",
              "      <th>num_cylinders</th>\n",
              "      <th>fuel_system</th>\n",
              "      <th>drive_wheels_4wd</th>\n",
              "      <th>drive_wheels_fwd</th>\n",
              "      <th>drive_wheels_rwd</th>\n",
              "    </tr>\n",
              "  </thead>\n",
              "  <tbody>\n",
              "    <tr>\n",
              "      <td>0</td>\n",
              "      <td>alfa-romero</td>\n",
              "      <td>gas</td>\n",
              "      <td>std</td>\n",
              "      <td>two</td>\n",
              "      <td>convertible</td>\n",
              "      <td>front</td>\n",
              "      <td>dohc</td>\n",
              "      <td>four</td>\n",
              "      <td>mpfi</td>\n",
              "      <td>0</td>\n",
              "      <td>0</td>\n",
              "      <td>1</td>\n",
              "    </tr>\n",
              "    <tr>\n",
              "      <td>1</td>\n",
              "      <td>alfa-romero</td>\n",
              "      <td>gas</td>\n",
              "      <td>std</td>\n",
              "      <td>two</td>\n",
              "      <td>convertible</td>\n",
              "      <td>front</td>\n",
              "      <td>dohc</td>\n",
              "      <td>four</td>\n",
              "      <td>mpfi</td>\n",
              "      <td>0</td>\n",
              "      <td>0</td>\n",
              "      <td>1</td>\n",
              "    </tr>\n",
              "    <tr>\n",
              "      <td>2</td>\n",
              "      <td>alfa-romero</td>\n",
              "      <td>gas</td>\n",
              "      <td>std</td>\n",
              "      <td>two</td>\n",
              "      <td>hatchback</td>\n",
              "      <td>front</td>\n",
              "      <td>ohcv</td>\n",
              "      <td>six</td>\n",
              "      <td>mpfi</td>\n",
              "      <td>0</td>\n",
              "      <td>0</td>\n",
              "      <td>1</td>\n",
              "    </tr>\n",
              "    <tr>\n",
              "      <td>3</td>\n",
              "      <td>audi</td>\n",
              "      <td>gas</td>\n",
              "      <td>std</td>\n",
              "      <td>four</td>\n",
              "      <td>sedan</td>\n",
              "      <td>front</td>\n",
              "      <td>ohc</td>\n",
              "      <td>four</td>\n",
              "      <td>mpfi</td>\n",
              "      <td>0</td>\n",
              "      <td>1</td>\n",
              "      <td>0</td>\n",
              "    </tr>\n",
              "    <tr>\n",
              "      <td>4</td>\n",
              "      <td>audi</td>\n",
              "      <td>gas</td>\n",
              "      <td>std</td>\n",
              "      <td>four</td>\n",
              "      <td>sedan</td>\n",
              "      <td>front</td>\n",
              "      <td>ohc</td>\n",
              "      <td>five</td>\n",
              "      <td>mpfi</td>\n",
              "      <td>1</td>\n",
              "      <td>0</td>\n",
              "      <td>0</td>\n",
              "    </tr>\n",
              "  </tbody>\n",
              "</table>\n",
              "</div>"
            ],
            "text/plain": [
              "          make fuel_type aspiration num_doors   body_style engine_location  \\\n",
              "0  alfa-romero       gas        std       two  convertible           front   \n",
              "1  alfa-romero       gas        std       two  convertible           front   \n",
              "2  alfa-romero       gas        std       two    hatchback           front   \n",
              "3         audi       gas        std      four        sedan           front   \n",
              "4         audi       gas        std      four        sedan           front   \n",
              "\n",
              "  engine_type num_cylinders fuel_system  drive_wheels_4wd  drive_wheels_fwd  \\\n",
              "0        dohc          four        mpfi                 0                 0   \n",
              "1        dohc          four        mpfi                 0                 0   \n",
              "2        ohcv           six        mpfi                 0                 0   \n",
              "3         ohc          four        mpfi                 0                 1   \n",
              "4         ohc          five        mpfi                 1                 0   \n",
              "\n",
              "   drive_wheels_rwd  \n",
              "0                 1  \n",
              "1                 1  \n",
              "2                 1  \n",
              "3                 0  \n",
              "4                 0  "
            ]
          },
          "metadata": {
            "tags": []
          },
          "execution_count": 44
        }
      ]
    },
    {
      "cell_type": "markdown",
      "metadata": {
        "id": "bb0JZpzeEUjV"
      },
      "source": [
        "# Modelling\n",
        "## Cross-validation Visualization\n",
        "\n",
        "[Sklearn Cross Validation](https://scikit-learn.org/stable/modules/cross_validation.html#permutation-test-score)\n",
        "\n",
        "[Sklearn Plot Cross Validation](https://scikit-learn.org/stable/auto_examples/model_selection/plot_cv_indices.html)"
      ]
    },
    {
      "cell_type": "markdown",
      "metadata": {
        "id": "PeeNoxoBEUjW"
      },
      "source": [
        "### K- fold cross validation"
      ]
    },
    {
      "cell_type": "code",
      "metadata": {
        "id": "eW1qKd4yEUjW"
      },
      "source": [
        "from sklearn.model_selection import KFold,ShuffleSplit, StratifiedKFold"
      ],
      "execution_count": null,
      "outputs": []
    },
    {
      "cell_type": "code",
      "metadata": {
        "id": "Wg1hx8wNEUjW"
      },
      "source": [
        "cmap_data = plt.cm.Paired\n",
        "cmap_cv = plt.cm.coolwarm"
      ],
      "execution_count": null,
      "outputs": []
    },
    {
      "cell_type": "code",
      "metadata": {
        "id": "PeMxRGE-EUjX"
      },
      "source": [
        "def plot_cv_indices(cv, X, y, group, ax, n_splits, lw=10):\n",
        "    \"\"\"Create a sample plot for indices of a cross-validation object.\"\"\"\n",
        "\n",
        "    # Generate the training/testing visualizations for each CV split\n",
        "    for ii, (tr, tt) in enumerate(cv.split(X=X, y=y, groups=group)):\n",
        "        # Fill in indices with the training/test groups\n",
        "        indices = np.array([np.nan] * len(X))\n",
        "        indices[tt] = 1\n",
        "        indices[tr] = 0\n",
        "\n",
        "        # Visualize the results\n",
        "        ax.scatter(range(len(indices)), [ii + .5] * len(indices),\n",
        "                   c=indices, marker='_', lw=lw, cmap=cmap_cv,\n",
        "                   vmin=-.2, vmax=1.2)\n",
        "\n",
        "    # Plot the data classes and groups at the end\n",
        "    ax.scatter(range(len(X)), [ii + 1.5] * len(X),\n",
        "               c=y, marker='_', lw=lw, cmap=cmap_data)\n",
        "\n",
        "    ax.scatter(range(len(X)), [ii + 2.5] * len(X),\n",
        "               c=group, marker='_', lw=lw, cmap=cmap_data)\n",
        "\n",
        "    # Formatting\n",
        "    yticklabels = list(range(n_splits)) + ['class', 'group']\n",
        "    ax.set(yticks=np.arange(n_splits+2) + .5, yticklabels=yticklabels,\n",
        "           xlabel='Sample index', ylabel=\"CV iteration\",\n",
        "           ylim=[n_splits+2.2, -.2], xlim=[0, 100])\n",
        "    ax.set_title('{}'.format(type(cv).__name__), fontsize=15)\n",
        "    return ax"
      ],
      "execution_count": null,
      "outputs": []
    },
    {
      "cell_type": "code",
      "metadata": {
        "id": "vb1wC_rQEUjY"
      },
      "source": [
        "# Generate the class/group data\n",
        "n_points = 100\n",
        "X = np.random.randn(100, 10)\n",
        "\n",
        "percentiles_classes = [.1, .3, .6]\n",
        "y = np.hstack([[ii] * int(100 * perc)\n",
        "               for ii, perc in enumerate(percentiles_classes)])\n",
        "\n",
        "# Evenly spaced groups repeated once\n",
        "groups = np.hstack([[ii] * 10 for ii in range(10)])\n",
        "n_splits = 4"
      ],
      "execution_count": null,
      "outputs": []
    },
    {
      "cell_type": "code",
      "metadata": {
        "id": "2aRJqLn9EUjY",
        "outputId": "805cb5e1-868d-46b0-b68b-70cbca3646d7"
      },
      "source": [
        "cvs = [KFold, ShuffleSplit, StratifiedKFold]\n",
        "\n",
        "\n",
        "for cv in cvs:\n",
        "    this_cv = cv(n_splits=n_splits)\n",
        "    fig, ax = plt.subplots(figsize=(6, 3))\n",
        "    plot_cv_indices(this_cv, X, y, groups, ax, n_splits)\n",
        "\n",
        "    ax.legend([Patch(color=cmap_cv(.8)), Patch(color=cmap_cv(.02))],\n",
        "              ['Testing set', 'Training set'], loc=(1.02, .8))\n",
        "    # Make the legend fit\n",
        "    plt.tight_layout()\n",
        "    fig.subplots_adjust(right=.7)\n",
        "plt.show()"
      ],
      "execution_count": null,
      "outputs": [
        {
          "output_type": "display_data",
          "data": {
            "image/png": "[encoded data removed]",
            "text/plain": [
              "<Figure size 432x216 with 1 Axes>"
            ]
          },
          "metadata": {
            "tags": []
          }
        },
        {
          "output_type": "display_data",
          "data": {
            "image/png": "[encoded data removed]",
            "text/plain": [
              "<Figure size 432x216 with 1 Axes>"
            ]
          },
          "metadata": {
            "tags": []
          }
        },
        {
          "output_type": "display_data",
          "data": {
            "image/png": "[encoded data removed]",
            "text/plain": [
              "<Figure size 432x216 with 1 Axes>"
            ]
          },
          "metadata": {
            "tags": []
          }
        }
      ]
    },
    {
      "cell_type": "markdown",
      "metadata": {
        "id": "Oo54j84QEUjY"
      },
      "source": [
        "# Modelling\n",
        "## Model Selection"
      ]
    },
    {
      "cell_type": "code",
      "metadata": {
        "id": "_-7zBkTrEUjY"
      },
      "source": [
        ""
      ],
      "execution_count": null,
      "outputs": []
    }
  ]
}