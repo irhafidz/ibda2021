{
  "nbformat": 4,
  "nbformat_minor": 0,
  "metadata": {
    "colab": {
      "name": "1.3-advent_of_code_2020_day1.ipynb",
      "provenance": [],
      "toc_visible": true
    },
    "kernelspec": {
      "name": "python3",
      "display_name": "Python 3"
    }
  },
  "cells": [
    {
      "cell_type": "markdown",
      "metadata": {
        "id": "cbVR3PB4wam9"
      },
      "source": [
        "# Advent of Code 2020\n",
        "  [https://adventofcode.com/](https://adventofcode.com/)\n",
        "\n",
        "  "
      ]
    },
    {
      "cell_type": "markdown",
      "metadata": {
        "id": "T89Mbmfmww5N"
      },
      "source": [
        "# Day 1\n",
        "\n"
      ]
    },
    {
      "cell_type": "markdown",
      "metadata": {
        "id": "UFYfpBFouvEt"
      },
      "source": [
        "- [Go to Advent of Code Day 1](https://adventofcode.com/2020/day/1)\n",
        "- Enter the game \n",
        "- Copy the data to a txt file\n",
        "- From Colab\n",
        "    - Go to Files and upload your input file"
      ]
    },
    {
      "cell_type": "markdown",
      "metadata": {
        "id": "w3gKzwer0K8I"
      },
      "source": [
        "## Import Libraries"
      ]
    },
    {
      "cell_type": "code",
      "metadata": {
        "id": "td2aSRE40N4O"
      },
      "source": [
        "from itertools import permutations\n",
        "from typing import Iterator"
      ],
      "execution_count": null,
      "outputs": []
    },
    {
      "cell_type": "markdown",
      "metadata": {
        "id": "Zx0DaU8c0SLi"
      },
      "source": [
        "## Read Data"
      ]
    },
    {
      "cell_type": "code",
      "metadata": {
        "id": "G5_S6N-60bax"
      },
      "source": [
        "with open(\"/content/input_01.txt\") as f:\n",
        "    RAW_TXT = f.read()"
      ],
      "execution_count": null,
      "outputs": []
    },
    {
      "cell_type": "markdown",
      "metadata": {
        "id": "bZciCYC_0eTP"
      },
      "source": [
        "## Parse Data"
      ]
    },
    {
      "cell_type": "code",
      "metadata": {
        "id": "L7hbV9K00gjz"
      },
      "source": [
        "def parser(RAW_TXT: str) -> Iterator[int]:\n",
        "    \"\"\"\n",
        "      Description\n",
        "\n",
        "      -----------------------------------\n",
        "      Args:\n",
        "      Returns:   \n",
        "    \"\"\"\n",
        "    numbers = (int(e) for e in RAW_TXT.split(\"\\n\"))\n",
        "    return numbers"
      ],
      "execution_count": null,
      "outputs": []
    },
    {
      "cell_type": "markdown",
      "metadata": {
        "id": "-zBJho9R0u7k"
      },
      "source": [
        "## Solve the game"
      ]
    },
    {
      "cell_type": "code",
      "metadata": {
        "id": "DmbPLsnc00Yg"
      },
      "source": [
        "def find_product(RAW_TXT: str, n: int) -> int:\n",
        "    \"\"\"\n",
        "      Description\n",
        "\n",
        "      -----------------------------------\n",
        "      Args:\n",
        "      Returns:   \n",
        "    \"\"\"\n",
        "    numbers = parser(RAW_TXT)\n",
        "    for a, b in permutations(numbers, n):\n",
        "        if a + b == 2020:\n",
        "            return a*b"
      ],
      "execution_count": null,
      "outputs": []
    },
    {
      "cell_type": "code",
      "metadata": {
        "colab": {
          "base_uri": "https://localhost:8080/"
        },
        "id": "ARU8D62A3fj2",
        "outputId": "a756bd82-d1f6-424c-fa9f-8f15ba91c154"
      },
      "source": [
        "find_product(RAW_TXT,2)"
      ],
      "execution_count": null,
      "outputs": [
        {
          "output_type": "execute_result",
          "data": {
            "text/plain": [
              "482811"
            ]
          },
          "metadata": {
            "tags": []
          },
          "execution_count": 34
        }
      ]
    },
    {
      "cell_type": "markdown",
      "metadata": {
        "id": "uh9zLcjZ1B1n"
      },
      "source": [
        "## Testing"
      ]
    },
    {
      "cell_type": "code",
      "metadata": {
        "id": "i00P7r5O1ECz"
      },
      "source": [
        "assert find_product(\n",
        "    \"\"\"1721\n",
        "        979\n",
        "        366\n",
        "        299\n",
        "        675\n",
        "        1456\"\"\",\n",
        "    2\n",
        ") == 514579"
      ],
      "execution_count": null,
      "outputs": []
    },
    {
      "cell_type": "markdown",
      "metadata": {
        "id": "SsMxhL2-xMh8"
      },
      "source": [
        "#Check this out!\n",
        "## Joel Grus' solution\n",
        "\n",
        "[YouTube video](https://www.youtube.com/watch?v=mRUtxd6WBJ0)"
      ]
    }
  ]
}